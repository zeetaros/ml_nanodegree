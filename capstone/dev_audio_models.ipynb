{
 "cells": [
  {
   "cell_type": "code",
   "execution_count": null,
   "metadata": {},
   "outputs": [],
   "source": []
  },
  {
   "cell_type": "markdown",
   "metadata": {},
   "source": [
    "Converting .mp4 to .wav  \n",
    "https://stackoverflow.com/questions/26741116/python-extract-wav-from-video-file"
   ]
  },
  {
   "cell_type": "code",
   "execution_count": null,
   "metadata": {},
   "outputs": [],
   "source": [
    "bucket_name = ''\n",
    "s3r = get_s3_resource(session_token)\n",
    "bucket = s3r.Bucket(bucket_name)\n",
    "s3 = get_s3_client(session_token)"
   ]
  },
  {
   "cell_type": "code",
   "execution_count": null,
   "metadata": {},
   "outputs": [],
   "source": [
    "def get_s3_client(session_token):\n",
    "    \n",
    "    sess = S3Session(aws_access_key_id=session_token['Credentials']['AccessKeyId'],\n",
    "                     aws_secret_access_key=session_token['Credentials']['SecretAccessKey'],\n",
    "                     aws_session_token=session_token['Credentials']['SessionToken'],\n",
    "                    )\n",
    "    return sess.client(\"s3\")\n",
    "\n",
    "def get_s3_resource(session_token):\n",
    "    sess = S3Session(aws_access_key_id=session_token['Credentials']['AccessKeyId'],\n",
    "                     aws_secret_access_key=session_token['Credentials']['SecretAccessKey'],\n",
    "                     aws_session_token=session_token['Credentials']['SessionToken'],\n",
    "                    )\n",
    "    return sess.resource(\"s3\")"
   ]
  }
 ],
 "metadata": {
  "kernelspec": {
   "display_name": "Python 3",
   "language": "python",
   "name": "python3"
  },
  "language_info": {
   "codemirror_mode": {
    "name": "ipython",
    "version": 3
   },
   "file_extension": ".py",
   "mimetype": "text/x-python",
   "name": "python",
   "nbconvert_exporter": "python",
   "pygments_lexer": "ipython3",
   "version": "3.7.1"
  }
 },
 "nbformat": 4,
 "nbformat_minor": 2
}
