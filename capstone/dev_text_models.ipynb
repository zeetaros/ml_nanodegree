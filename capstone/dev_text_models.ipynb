{
 "cells": [
  {
   "cell_type": "markdown",
   "metadata": {},
   "source": [
    "## Topic: Sentiment Analysis on Conversational Data\n",
    "Import required packages"
   ]
  },
  {
   "cell_type": "code",
   "execution_count": 4,
   "metadata": {},
   "outputs": [],
   "source": [
    "import os\n",
    "import re\n",
    "import json\n",
    "import pandas as pd\n",
    "import numpy as np\n",
    "import matplotlib.pyplot as plt\n",
    "import seaborn as sns\n",
    "from math import floor\n",
    "from collections import Counter\n",
    "from tqdm import tqdm, tqdm_notebook\n",
    "from nltk.tokenize import sent_tokenize, word_tokenize\n",
    "from nltk.stem import PorterStemmer, SnowballStemmer"
   ]
  },
  {
   "cell_type": "code",
   "execution_count": 5,
   "metadata": {},
   "outputs": [],
   "source": [
    "from sklearn.utils import shuffle\n",
    "from sklearn.preprocessing import Normalizer\n",
    "from sklearn.feature_extraction.text import TfidfVectorizer, ENGLISH_STOP_WORDS\n",
    "from sklearn.decomposition import PCA, TruncatedSVD\n",
    "from sklearn.svm import SVC, LinearSVC\n",
    "from sklearn.ensemble import RandomForestClassifier\n",
    "from sklearn.model_selection import GridSearchCV, train_test_split, StratifiedKFold\n",
    "from sklearn.metrics import confusion_matrix, f1_score, roc_curve\n",
    "from sklearn.utils.multiclass import unique_labels"
   ]
  },
  {
   "cell_type": "code",
   "execution_count": 6,
   "metadata": {},
   "outputs": [
    {
     "name": "stderr",
     "output_type": "stream",
     "text": [
      "Using TensorFlow backend.\n"
     ]
    }
   ],
   "source": [
    "from keras.layers import Input, Dense, Embedding, Conv1D, Conv2D, Lambda, LSTM, ConvLSTM2D, TimeDistributed, Masking, Bidirectional\n",
    "from keras.layers import Reshape, Flatten, Dropout, Concatenate, Activation, MaxPooling1D, GlobalAveragePooling1D, MaxPooling2D, GlobalAveragePooling2D\n",
    "from keras.callbacks import ModelCheckpoint, EarlyStopping\n",
    "from keras.layers.normalization import BatchNormalization\n",
    "from keras.preprocessing.text import Tokenizer\n",
    "from keras.preprocessing.sequence import pad_sequences\n",
    "from keras.preprocessing import sequence\n",
    "from keras.models import Model, load_model, Sequential\n",
    "from keras.optimizers import Adam\n",
    "from keras.regularizers import l2, l1\n",
    "from keras.utils import to_categorical\n",
    "from keras import optimizers\n",
    "import keras.backend as K"
   ]
  },
  {
   "cell_type": "markdown",
   "metadata": {},
   "source": [
    "## Data Import"
   ]
  },
  {
   "cell_type": "code",
   "execution_count": 12,
   "metadata": {},
   "outputs": [],
   "source": [
    "dev_raw = pd.read_csv(os.path.join(os.getcwd(), 'data','dev_sent_emo.csv'))\n",
    "train_raw = pd.read_csv(os.path.join(os.getcwd(), 'data','train_sent_emo.csv'))\n",
    "test_raw = pd.read_csv(os.path.join(os.getcwd(), 'data','test_sent_emo.csv'))"
   ]
  },
  {
   "cell_type": "code",
   "execution_count": 13,
   "metadata": {},
   "outputs": [
    {
     "data": {
      "text/html": [
       "<div>\n",
       "<style scoped>\n",
       "    .dataframe tbody tr th:only-of-type {\n",
       "        vertical-align: middle;\n",
       "    }\n",
       "\n",
       "    .dataframe tbody tr th {\n",
       "        vertical-align: top;\n",
       "    }\n",
       "\n",
       "    .dataframe thead th {\n",
       "        text-align: right;\n",
       "    }\n",
       "</style>\n",
       "<table border=\"1\" class=\"dataframe\">\n",
       "  <thead>\n",
       "    <tr style=\"text-align: right;\">\n",
       "      <th></th>\n",
       "      <th>Sr No.</th>\n",
       "      <th>Utterance</th>\n",
       "      <th>Speaker</th>\n",
       "      <th>Emotion</th>\n",
       "      <th>Sentiment</th>\n",
       "      <th>Dialogue_ID</th>\n",
       "      <th>Utterance_ID</th>\n",
       "      <th>Season</th>\n",
       "      <th>Episode</th>\n",
       "      <th>StartTime</th>\n",
       "      <th>EndTime</th>\n",
       "    </tr>\n",
       "  </thead>\n",
       "  <tbody>\n",
       "    <tr>\n",
       "      <th>0</th>\n",
       "      <td>1</td>\n",
       "      <td>Oh my God, hes lost it. Hes totally lost it.</td>\n",
       "      <td>Phoebe</td>\n",
       "      <td>sadness</td>\n",
       "      <td>negative</td>\n",
       "      <td>0</td>\n",
       "      <td>0</td>\n",
       "      <td>4</td>\n",
       "      <td>7</td>\n",
       "      <td>00:20:57,256</td>\n",
       "      <td>00:21:00,049</td>\n",
       "    </tr>\n",
       "    <tr>\n",
       "      <th>1</th>\n",
       "      <td>2</td>\n",
       "      <td>What?</td>\n",
       "      <td>Monica</td>\n",
       "      <td>surprise</td>\n",
       "      <td>negative</td>\n",
       "      <td>0</td>\n",
       "      <td>1</td>\n",
       "      <td>4</td>\n",
       "      <td>7</td>\n",
       "      <td>00:21:01,927</td>\n",
       "      <td>00:21:03,261</td>\n",
       "    </tr>\n",
       "    <tr>\n",
       "      <th>2</th>\n",
       "      <td>3</td>\n",
       "      <td>Or! Or, we could go to the bank, close our acc...</td>\n",
       "      <td>Ross</td>\n",
       "      <td>neutral</td>\n",
       "      <td>neutral</td>\n",
       "      <td>1</td>\n",
       "      <td>0</td>\n",
       "      <td>4</td>\n",
       "      <td>4</td>\n",
       "      <td>00:12:24,660</td>\n",
       "      <td>00:12:30,915</td>\n",
       "    </tr>\n",
       "    <tr>\n",
       "      <th>3</th>\n",
       "      <td>4</td>\n",
       "      <td>Youre a genius!</td>\n",
       "      <td>Chandler</td>\n",
       "      <td>joy</td>\n",
       "      <td>positive</td>\n",
       "      <td>1</td>\n",
       "      <td>1</td>\n",
       "      <td>4</td>\n",
       "      <td>4</td>\n",
       "      <td>00:12:32,334</td>\n",
       "      <td>00:12:33,960</td>\n",
       "    </tr>\n",
       "    <tr>\n",
       "      <th>4</th>\n",
       "      <td>5</td>\n",
       "      <td>Aww, man, now we wont be bank buddies!</td>\n",
       "      <td>Joey</td>\n",
       "      <td>sadness</td>\n",
       "      <td>negative</td>\n",
       "      <td>1</td>\n",
       "      <td>2</td>\n",
       "      <td>4</td>\n",
       "      <td>4</td>\n",
       "      <td>00:12:34,211</td>\n",
       "      <td>00:12:37,505</td>\n",
       "    </tr>\n",
       "  </tbody>\n",
       "</table>\n",
       "</div>"
      ],
      "text/plain": [
       "   Sr No.                                          Utterance   Speaker  \\\n",
       "0       1     Oh my God, hes lost it. Hes totally lost it.    Phoebe   \n",
       "1       2                                              What?    Monica   \n",
       "2       3  Or! Or, we could go to the bank, close our acc...      Ross   \n",
       "3       4                                   Youre a genius!  Chandler   \n",
       "4       5            Aww, man, now we wont be bank buddies!      Joey   \n",
       "\n",
       "    Emotion Sentiment  Dialogue_ID  Utterance_ID  Season  Episode  \\\n",
       "0   sadness  negative            0             0       4        7   \n",
       "1  surprise  negative            0             1       4        7   \n",
       "2   neutral   neutral            1             0       4        4   \n",
       "3       joy  positive            1             1       4        4   \n",
       "4   sadness  negative            1             2       4        4   \n",
       "\n",
       "      StartTime       EndTime  \n",
       "0  00:20:57,256  00:21:00,049  \n",
       "1  00:21:01,927  00:21:03,261  \n",
       "2  00:12:24,660  00:12:30,915  \n",
       "3  00:12:32,334  00:12:33,960  \n",
       "4  00:12:34,211  00:12:37,505  "
      ]
     },
     "execution_count": 13,
     "metadata": {},
     "output_type": "execute_result"
    }
   ],
   "source": [
    "dev_raw.head()"
   ]
  },
  {
   "cell_type": "markdown",
   "metadata": {},
   "source": [
    "## Labels Distribution"
   ]
  },
  {
   "cell_type": "code",
   "execution_count": 14,
   "metadata": {
    "scrolled": true
   },
   "outputs": [
    {
     "data": {
      "text/plain": [
       "Text(0.5,1,'testing set')"
      ]
     },
     "execution_count": 14,
     "metadata": {},
     "output_type": "execute_result"
    },
    {
     "data": {
      "image/png": "[encoded data removed]",
      "text/plain": [
       "<matplotlib.figure.Figure at 0x7fe07cbe9a58>"
      ]
     },
     "metadata": {
      "needs_background": "light"
     },
     "output_type": "display_data"
    }
   ],
   "source": [
    "f, axes = plt.subplots(1, 3, figsize=(15,4))\n",
    "sns.countplot(x='Sentiment', data=dev_raw, ax=axes[0], order=['negative','neutral','positive']).set_title('dev set')\n",
    "sns.countplot(x='Sentiment', data=train_raw, ax=axes[1], order=['negative','neutral','positive']).set_title('training set')\n",
    "sns.countplot(x='Sentiment', data=test_raw, ax=axes[2], order=['negative','neutral','positive']).set_title('testing set')"
   ]
  },
  {
   "cell_type": "code",
   "execution_count": 15,
   "metadata": {},
   "outputs": [
    {
     "name": "stdout",
     "output_type": "stream",
     "text": [
      "Counter({'neutral': 470, 'negative': 406, 'positive': 233})\n",
      "Counter({'neutral': 4710, 'negative': 2945, 'positive': 2334})\n",
      "Counter({'neutral': 1256, 'negative': 833, 'positive': 521})\n"
     ]
    }
   ],
   "source": [
    "print(Counter(dev_raw.Sentiment))\n",
    "print(Counter(train_raw.Sentiment))\n",
    "print(Counter(test_raw.Sentiment))"
   ]
  },
  {
   "cell_type": "code",
   "execution_count": 16,
   "metadata": {},
   "outputs": [],
   "source": [
    "dev_raw.Utterance = dev_raw.Utterance.apply(lambda x: re.sub('\\\\x92', \"'\", x))\n",
    "train_raw.Utterance = train_raw.Utterance.apply(lambda x: re.sub('\\\\x92', \"'\", x))\n",
    "test_raw.Utterance = test_raw.Utterance.apply(lambda x: re.sub('\\\\x92', \"'\", x))"
   ]
  },
  {
   "cell_type": "code",
   "execution_count": 17,
   "metadata": {},
   "outputs": [
    {
     "data": {
      "text/plain": [
       "Text(0.5,1,'train+test set')"
      ]
     },
     "execution_count": 17,
     "metadata": {},
     "output_type": "execute_result"
    },
    {
     "data": {
      "image/png": "[encoded data removed]",
      "text/plain": [
       "<matplotlib.figure.Figure at 0x7fe07838d5c0>"
      ]
     },
     "metadata": {
      "needs_background": "light"
     },
     "output_type": "display_data"
    }
   ],
   "source": [
    "train_raw['source'] = 'train'\n",
    "test_raw['source'] = 'test'\n",
    "data_raw = pd.concat([train_raw, test_raw])\n",
    "data_raw.shape\n",
    "sns.countplot(x='Sentiment', data=data_raw, order=['negative','neutral','positive']).set_title('train+test set')"
   ]
  },
  {
   "cell_type": "markdown",
   "metadata": {},
   "source": [
    "## Resampling  \n",
    "To deal with imbalanced datasets."
   ]
  },
  {
   "cell_type": "code",
   "execution_count": 18,
   "metadata": {},
   "outputs": [
    {
     "name": "stdout",
     "output_type": "stream",
     "text": [
      "There are 3778 negative, 5966 neutral and 2855 positive utternaces.\n"
     ]
    }
   ],
   "source": [
    "count_neutral, count_negative, count_positive = data_raw.Sentiment.value_counts()\n",
    "print(f'There are {count_negative} negative, {count_neutral} neutral and {count_positive} positive utternaces.')"
   ]
  },
  {
   "cell_type": "code",
   "execution_count": 19,
   "metadata": {},
   "outputs": [],
   "source": [
    "tmp_df_negative = data_raw[data_raw.Sentiment == 'negative']\n",
    "tmp_df_neutral = data_raw[data_raw.Sentiment == 'neutral']\n",
    "tmp_df_positive = data_raw[data_raw.Sentiment == 'positive']\n",
    "\n",
    "tmp_df_negative_undersampled = tmp_df_negative.sample(floor(count_positive*1.1)).reset_index(drop=True)\n",
    "tmp_df_neutral_undersampled = tmp_df_neutral.sample(floor(count_positive*0.95)).reset_index(drop=True)"
   ]
  },
  {
   "cell_type": "code",
   "execution_count": 20,
   "metadata": {},
   "outputs": [
    {
     "data": {
      "text/html": [
       "<div>\n",
       "<style scoped>\n",
       "    .dataframe tbody tr th:only-of-type {\n",
       "        vertical-align: middle;\n",
       "    }\n",
       "\n",
       "    .dataframe tbody tr th {\n",
       "        vertical-align: top;\n",
       "    }\n",
       "\n",
       "    .dataframe thead th {\n",
       "        text-align: right;\n",
       "    }\n",
       "</style>\n",
       "<table border=\"1\" class=\"dataframe\">\n",
       "  <thead>\n",
       "    <tr style=\"text-align: right;\">\n",
       "      <th></th>\n",
       "      <th>Sr No.</th>\n",
       "      <th>Utterance</th>\n",
       "      <th>Speaker</th>\n",
       "      <th>Emotion</th>\n",
       "      <th>Sentiment</th>\n",
       "      <th>Dialogue_ID</th>\n",
       "      <th>Utterance_ID</th>\n",
       "      <th>Season</th>\n",
       "      <th>Episode</th>\n",
       "      <th>StartTime</th>\n",
       "      <th>EndTime</th>\n",
       "      <th>source</th>\n",
       "    </tr>\n",
       "  </thead>\n",
       "  <tbody>\n",
       "    <tr>\n",
       "      <th>2375</th>\n",
       "      <td>2514</td>\n",
       "      <td>Wow! It's huge! It's so much bigger than the c...</td>\n",
       "      <td>Phoebe</td>\n",
       "      <td>surprise</td>\n",
       "      <td>positive</td>\n",
       "      <td>250</td>\n",
       "      <td>0</td>\n",
       "      <td>1</td>\n",
       "      <td>15</td>\n",
       "      <td>00:14:57,771</td>\n",
       "      <td>00:15:05,945</td>\n",
       "      <td>train</td>\n",
       "    </tr>\n",
       "    <tr>\n",
       "      <th>164</th>\n",
       "      <td>67</td>\n",
       "      <td>Oh.</td>\n",
       "      <td>Phoebe</td>\n",
       "      <td>neutral</td>\n",
       "      <td>neutral</td>\n",
       "      <td>7</td>\n",
       "      <td>1</td>\n",
       "      <td>3</td>\n",
       "      <td>24</td>\n",
       "      <td>00:03:28,875</td>\n",
       "      <td>00:03:30,459</td>\n",
       "      <td>test</td>\n",
       "    </tr>\n",
       "    <tr>\n",
       "      <th>8577</th>\n",
       "      <td>9027</td>\n",
       "      <td>Speech! Come on Monica!</td>\n",
       "      <td>Mrs. Geller</td>\n",
       "      <td>joy</td>\n",
       "      <td>positive</td>\n",
       "      <td>902</td>\n",
       "      <td>12</td>\n",
       "      <td>7</td>\n",
       "      <td>14</td>\n",
       "      <td>0:15:04,194</td>\n",
       "      <td>0:15:05,416</td>\n",
       "      <td>train</td>\n",
       "    </tr>\n",
       "    <tr>\n",
       "      <th>4080</th>\n",
       "      <td>4302</td>\n",
       "      <td>Hey he's wearing a sweater.</td>\n",
       "      <td>Rachel</td>\n",
       "      <td>surprise</td>\n",
       "      <td>positive</td>\n",
       "      <td>440</td>\n",
       "      <td>9</td>\n",
       "      <td>1</td>\n",
       "      <td>14</td>\n",
       "      <td>00:13:33,729</td>\n",
       "      <td>00:13:35,188</td>\n",
       "      <td>train</td>\n",
       "    </tr>\n",
       "    <tr>\n",
       "      <th>7736</th>\n",
       "      <td>8147</td>\n",
       "      <td>That's it?! I gave up my</td>\n",
       "      <td>Chandler</td>\n",
       "      <td>joy</td>\n",
       "      <td>positive</td>\n",
       "      <td>819</td>\n",
       "      <td>17</td>\n",
       "      <td>7</td>\n",
       "      <td>4</td>\n",
       "      <td>00:07:02,672</td>\n",
       "      <td>00:07:05,757</td>\n",
       "      <td>train</td>\n",
       "    </tr>\n",
       "  </tbody>\n",
       "</table>\n",
       "</div>"
      ],
      "text/plain": [
       "      Sr No.                                          Utterance      Speaker  \\\n",
       "2375    2514  Wow! It's huge! It's so much bigger than the c...       Phoebe   \n",
       "164       67                                                Oh.       Phoebe   \n",
       "8577    9027                            Speech! Come on Monica!  Mrs. Geller   \n",
       "4080    4302                        Hey he's wearing a sweater.       Rachel   \n",
       "7736    8147                           That's it?! I gave up my     Chandler   \n",
       "\n",
       "       Emotion Sentiment  Dialogue_ID  Utterance_ID  Season  Episode  \\\n",
       "2375  surprise  positive          250             0       1       15   \n",
       "164    neutral   neutral            7             1       3       24   \n",
       "8577       joy  positive          902            12       7       14   \n",
       "4080  surprise  positive          440             9       1       14   \n",
       "7736       joy  positive          819            17       7        4   \n",
       "\n",
       "         StartTime       EndTime source  \n",
       "2375  00:14:57,771  00:15:05,945  train  \n",
       "164   00:03:28,875  00:03:30,459   test  \n",
       "8577   0:15:04,194   0:15:05,416  train  \n",
       "4080  00:13:33,729  00:13:35,188  train  \n",
       "7736  00:07:02,672  00:07:05,757  train  "
      ]
     },
     "execution_count": 20,
     "metadata": {},
     "output_type": "execute_result"
    }
   ],
   "source": [
    "data_balanced = pd.concat([tmp_df_negative_undersampled, tmp_df_neutral_undersampled, tmp_df_positive], axis=0)\n",
    "data_balanced = shuffle(data_balanced)\n",
    "data_balanced.head()"
   ]
  },
  {
   "cell_type": "code",
   "execution_count": 21,
   "metadata": {},
   "outputs": [
    {
     "name": "stdout",
     "output_type": "stream",
     "text": [
      "There are 3140 negative, 2712 neutral and 2855 positive utternaces.\n"
     ]
    },
    {
     "data": {
      "text/plain": [
       "Text(0.5,1,'rebalanced set')"
      ]
     },
     "execution_count": 21,
     "metadata": {},
     "output_type": "execute_result"
    },
    {
     "data": {
      "image/png": "[encoded data removed]",
      "text/plain": [
       "<matplotlib.figure.Figure at 0x7fe0783fceb8>"
      ]
     },
     "metadata": {
      "needs_background": "light"
     },
     "output_type": "display_data"
    }
   ],
   "source": [
    "new_c_negative, new_c_positive, new_c_neutral = data_balanced.Sentiment.value_counts()\n",
    "print(f'There are {new_c_negative} negative, {new_c_neutral} neutral and {new_c_positive} positive utternaces.')\n",
    "sns.countplot(x='Sentiment', data=data_balanced, order=['negative','neutral','positive']).set_title('rebalanced set')"
   ]
  },
  {
   "cell_type": "code",
   "execution_count": 22,
   "metadata": {},
   "outputs": [
    {
     "name": "stdout",
     "output_type": "stream",
     "text": [
      "Ratio: 36.0% negative, 31.0% neutral and 33.0% positive utternaces.\n"
     ]
    }
   ],
   "source": [
    "print(f'Ratio: {round(100*new_c_negative/len(data_balanced),0)}% negative, {round(100*new_c_neutral/len(data_balanced),0)}% neutral and {round(100*new_c_positive/len(data_balanced),0)}% positive utternaces.')"
   ]
  },
  {
   "cell_type": "code",
   "execution_count": null,
   "metadata": {},
   "outputs": [],
   "source": []
  },
  {
   "cell_type": "markdown",
   "metadata": {},
   "source": [
    "## Extra testing set  \n",
    "The label imbalancing issue only concerns the training set. For a good classifier, it should be able to accept and predict correctly a test set with any label distribution.  Hence using the rest of the data that are not in the resample set as an extra test set."
   ]
  },
  {
   "cell_type": "code",
   "execution_count": 23,
   "metadata": {},
   "outputs": [],
   "source": [
    "data_diff = pd.concat([data_balanced[['Utterance','Sentiment']],data_raw[['Utterance','Sentiment']]]).drop_duplicates(keep=False)"
   ]
  },
  {
   "cell_type": "code",
   "execution_count": 24,
   "metadata": {},
   "outputs": [
    {
     "name": "stdout",
     "output_type": "stream",
     "text": [
      "12599 in raw, 8707 in balanced, 3413 in diff.\n"
     ]
    },
    {
     "data": {
      "text/plain": [
       "Text(0.5,1,'rebalanced set')"
      ]
     },
     "execution_count": 24,
     "metadata": {},
     "output_type": "execute_result"
    },
    {
     "data": {
      "image/png": "[encoded data removed]",
      "text/plain": [
       "<matplotlib.figure.Figure at 0x7fe07823ce80>"
      ]
     },
     "metadata": {
      "needs_background": "light"
     },
     "output_type": "display_data"
    }
   ],
   "source": [
    "print(f'{len(data_raw)} in raw, {len(data_balanced)} in balanced, {len(data_diff)} in diff.')\n",
    "sns.countplot(x='Sentiment', data=data_diff, order=['negative','neutral','positive']).set_title('rebalanced set')"
   ]
  },
  {
   "cell_type": "markdown",
   "metadata": {},
   "source": [
    "## Word Count Distribution\n",
    "Remove punctuations & special symbols"
   ]
  },
  {
   "cell_type": "code",
   "execution_count": 25,
   "metadata": {},
   "outputs": [],
   "source": [
    "unwanted_pattern = r'[^A-z0-9\\s]'\n",
    "data_balanced['text'] = data_balanced.Utterance.apply(lambda u: re.sub(unwanted_pattern, '', u))"
   ]
  },
  {
   "cell_type": "code",
   "execution_count": 26,
   "metadata": {},
   "outputs": [
    {
     "data": {
      "text/html": [
       "<div>\n",
       "<style scoped>\n",
       "    .dataframe tbody tr th:only-of-type {\n",
       "        vertical-align: middle;\n",
       "    }\n",
       "\n",
       "    .dataframe tbody tr th {\n",
       "        vertical-align: top;\n",
       "    }\n",
       "\n",
       "    .dataframe thead th {\n",
       "        text-align: right;\n",
       "    }\n",
       "</style>\n",
       "<table border=\"1\" class=\"dataframe\">\n",
       "  <thead>\n",
       "    <tr style=\"text-align: right;\">\n",
       "      <th></th>\n",
       "      <th>Utterance</th>\n",
       "      <th>text</th>\n",
       "    </tr>\n",
       "  </thead>\n",
       "  <tbody>\n",
       "    <tr>\n",
       "      <th>2375</th>\n",
       "      <td>Wow! It's huge! It's so much bigger than the c...</td>\n",
       "      <td>Wow Its huge Its so much bigger than the cubic...</td>\n",
       "    </tr>\n",
       "    <tr>\n",
       "      <th>164</th>\n",
       "      <td>Oh.</td>\n",
       "      <td>Oh</td>\n",
       "    </tr>\n",
       "    <tr>\n",
       "      <th>8577</th>\n",
       "      <td>Speech! Come on Monica!</td>\n",
       "      <td>Speech Come on Monica</td>\n",
       "    </tr>\n",
       "    <tr>\n",
       "      <th>4080</th>\n",
       "      <td>Hey he's wearing a sweater.</td>\n",
       "      <td>Hey hes wearing a sweater</td>\n",
       "    </tr>\n",
       "    <tr>\n",
       "      <th>7736</th>\n",
       "      <td>That's it?! I gave up my</td>\n",
       "      <td>Thats it I gave up my</td>\n",
       "    </tr>\n",
       "  </tbody>\n",
       "</table>\n",
       "</div>"
      ],
      "text/plain": [
       "                                              Utterance  \\\n",
       "2375  Wow! It's huge! It's so much bigger than the c...   \n",
       "164                                                 Oh.   \n",
       "8577                            Speech! Come on Monica!   \n",
       "4080                        Hey he's wearing a sweater.   \n",
       "7736                           That's it?! I gave up my   \n",
       "\n",
       "                                                   text  \n",
       "2375  Wow Its huge Its so much bigger than the cubic...  \n",
       "164                                                  Oh  \n",
       "8577                              Speech Come on Monica  \n",
       "4080                          Hey hes wearing a sweater  \n",
       "7736                              Thats it I gave up my  "
      ]
     },
     "execution_count": 26,
     "metadata": {},
     "output_type": "execute_result"
    }
   ],
   "source": [
    "data_balanced[['Utterance', 'text']].head()"
   ]
  },
  {
   "cell_type": "code",
   "execution_count": 27,
   "metadata": {},
   "outputs": [
    {
     "data": {
      "image/png": "[encoded data removed]",
      "text/plain": [
       "<matplotlib.figure.Figure at 0x7fe078181780>"
      ]
     },
     "metadata": {
      "needs_background": "light"
     },
     "output_type": "display_data"
    }
   ],
   "source": [
    "word_count = [len(t.split(' ')) for t in data_balanced.text]\n",
    "plt.hist(word_count, bins=30, range=[1,70])\n",
    "plt.title('Words per Utterance')\n",
    "plt.ylabel('frequency')\n",
    "plt.xlabel('number of words')\n",
    "plt.show()"
   ]
  },
  {
   "cell_type": "code",
   "execution_count": 28,
   "metadata": {},
   "outputs": [
    {
     "name": "stdout",
     "output_type": "stream",
     "text": [
      "On average the dataset has 8 words per utterance.\n"
     ]
    }
   ],
   "source": [
    "print(f\"On average the dataset has {round(sum(word_count)/len(word_count))} words per utterance.\")"
   ]
  },
  {
   "cell_type": "markdown",
   "metadata": {},
   "source": [
    "## Lemmatisation"
   ]
  },
  {
   "cell_type": "code",
   "execution_count": 29,
   "metadata": {},
   "outputs": [
    {
     "name": "stdout",
     "output_type": "stream",
     "text": [
      "[nltk_data] Downloading package punkt to /root/nltk_data...\n",
      "[nltk_data]   Unzipping tokenizers/punkt.zip.\n"
     ]
    }
   ],
   "source": [
    "import nltk\n",
    "nltk.download('punkt')\n",
    "porter = PorterStemmer()\n",
    "snowball = SnowballStemmer(\"english\")\n",
    "\n",
    "def stemSentence(sentence, stemmer):\n",
    "    token_words=word_tokenize(sentence)\n",
    "    token_words\n",
    "    stem_sentence=[]\n",
    "    for word in token_words:\n",
    "        stem_sentence.append(porter.stem(word))\n",
    "    return \" \".join(stem_sentence)"
   ]
  },
  {
   "cell_type": "code",
   "execution_count": 30,
   "metadata": {},
   "outputs": [],
   "source": [
    "utterances = data_balanced.Utterance.values\n",
    "utterances_stem = [stemSentence(sentence, snowball) for sentence in utterances]"
   ]
  },
  {
   "cell_type": "markdown",
   "metadata": {},
   "source": [
    "Apply the same procedure to the extra testing set"
   ]
  },
  {
   "cell_type": "code",
   "execution_count": 31,
   "metadata": {},
   "outputs": [],
   "source": [
    "utterances_stem_ex = [stemSentence(sentence, snowball) for sentence in data_diff.Utterance.values]"
   ]
  },
  {
   "cell_type": "markdown",
   "metadata": {},
   "source": [
    "## Preprocessing (deep learning)"
   ]
  },
  {
   "cell_type": "code",
   "execution_count": 32,
   "metadata": {},
   "outputs": [
    {
     "name": "stdout",
     "output_type": "stream",
     "text": [
      "The longest utterance contains 45 words.\n"
     ]
    }
   ],
   "source": [
    "print('The longest utterance contains {} words.'.format(max([len(x.split(' ')) for x in data_balanced.Utterance])))"
   ]
  },
  {
   "cell_type": "code",
   "execution_count": 33,
   "metadata": {},
   "outputs": [
    {
     "name": "stdout",
     "output_type": "stream",
     "text": [
      "Found 4177 unique tokens.\n"
     ]
    }
   ],
   "source": [
    "# For sentiment analysis\n",
    "num_polarities = 3\n",
    "max_sequence_len = 100\n",
    "\n",
    "vocabulary_size = 6000\n",
    "tokenizer = Tokenizer(num_words= vocabulary_size, filters='!\"#$%&()*+,-./:;<=>?@[\\]^_`{}~', lower=True, )\n",
    "tokenizer.fit_on_texts(utterances_stem)\n",
    "word_index = tokenizer.word_index\n",
    "print('Found %s unique tokens.' % len(word_index))"
   ]
  },
  {
   "cell_type": "code",
   "execution_count": 34,
   "metadata": {},
   "outputs": [
    {
     "name": "stdout",
     "output_type": "stream",
     "text": [
      "Shape of data tensor: (8707, 100)\n"
     ]
    }
   ],
   "source": [
    "X = tokenizer.texts_to_sequences(utterances_stem)\n",
    "X = pad_sequences(X, maxlen=max_sequence_len)\n",
    "print('Shape of data tensor:', X.shape)\n",
    "\n",
    "# X = tokenizer.texts_to_matrix(data_balanced.Utterance, mode='tfidf')\n",
    "# print('Shape of data tensor:', X.shape)\n",
    "# X[0]"
   ]
  },
  {
   "cell_type": "code",
   "execution_count": 35,
   "metadata": {},
   "outputs": [],
   "source": [
    "y = data_balanced.Sentiment.values\n",
    "sen_targets, sen_uniques = pd.factorize(y, sort=True)\n",
    "y = to_categorical(sen_targets, num_polarities)"
   ]
  },
  {
   "cell_type": "code",
   "execution_count": 36,
   "metadata": {},
   "outputs": [
    {
     "data": {
      "text/plain": [
       "{'negative': 0, 'neutral': 1, 'positive': 2}"
      ]
     },
     "execution_count": 36,
     "metadata": {},
     "output_type": "execute_result"
    }
   ],
   "source": [
    "sen_label_map = dict(zip(list(sen_uniques), range(num_polarities)))\n",
    "sen_label_map"
   ]
  },
  {
   "cell_type": "code",
   "execution_count": 37,
   "metadata": {},
   "outputs": [],
   "source": [
    "x_train, x_test, y_train, y_test = train_test_split(X, y, test_size = 0.33, random_state = 42)"
   ]
  },
  {
   "cell_type": "markdown",
   "metadata": {},
   "source": [
    "Apply the same procedure to the extra testing set"
   ]
  },
  {
   "cell_type": "code",
   "execution_count": 59,
   "metadata": {},
   "outputs": [
    {
     "name": "stdout",
     "output_type": "stream",
     "text": [
      "Shape of data tensor: (3393, 100)\n"
     ]
    }
   ],
   "source": [
    "X_ex = tokenizer.texts_to_sequences(utterances_stem_ex)\n",
    "X_test_ex = pad_sequences(X_ex, maxlen=max_sequence_len)\n",
    "print('Shape of data tensor:', X_test_ex.shape)"
   ]
  },
  {
   "cell_type": "code",
   "execution_count": 60,
   "metadata": {},
   "outputs": [],
   "source": [
    "y_ex = data_diff.Sentiment.values\n",
    "ex_targets = np.vectorize(sen_label_map.get)(y_ex)\n",
    "y_test_ex = to_categorical(ex_targets, num_polarities)"
   ]
  },
  {
   "cell_type": "code",
   "execution_count": 61,
   "metadata": {},
   "outputs": [
    {
     "data": {
      "text/plain": [
       "array([[ 0.,  1.,  0.],\n",
       "       [ 0.,  1.,  0.],\n",
       "       [ 0.,  1.,  0.],\n",
       "       ..., \n",
       "       [ 0.,  1.,  0.],\n",
       "       [ 0.,  1.,  0.],\n",
       "       [ 0.,  1.,  0.]])"
      ]
     },
     "execution_count": 61,
     "metadata": {},
     "output_type": "execute_result"
    }
   ],
   "source": [
    "y_test_ex"
   ]
  },
  {
   "cell_type": "markdown",
   "metadata": {},
   "source": [
    "## Preprocessing (supervised learning)  \n",
    "To avoid naming conflict, the x_train, y_train used in supervised learning will be represented by p_train, q_train"
   ]
  },
  {
   "cell_type": "code",
   "execution_count": 38,
   "metadata": {},
   "outputs": [
    {
     "data": {
      "text/plain": [
       "{'negative': 0, 'neutral': 1, 'positive': 2}"
      ]
     },
     "execution_count": 38,
     "metadata": {},
     "output_type": "execute_result"
    }
   ],
   "source": [
    "num_polarities=3\n",
    "P = utterances_stem\n",
    "Q = data_balanced.Sentiment.values\n",
    "\n",
    "q, uniques = pd.factorize(Q, sort=True)\n",
    "label_map = dict(zip(list(uniques), range(num_polarities)))\n",
    "label_map"
   ]
  },
  {
   "cell_type": "markdown",
   "metadata": {},
   "source": [
    "### TF-IDF Tokenizer"
   ]
  },
  {
   "cell_type": "code",
   "execution_count": 39,
   "metadata": {},
   "outputs": [],
   "source": [
    "tfidf = TfidfVectorizer(lowercase=True, stop_words='english', ngram_range=(1,3))\n",
    "tfidf.fit(P)\n",
    "p = tfidf.transform(P)"
   ]
  },
  {
   "cell_type": "markdown",
   "metadata": {},
   "source": [
    "### Truncated SVD  \n",
    "To reduce the dimension of the features"
   ]
  },
  {
   "cell_type": "code",
   "execution_count": 35,
   "metadata": {},
   "outputs": [],
   "source": [
    "def plot_svd(n_comp_list, data):\n",
    "    var_explained=[]\n",
    "    for n in n_comp_list:\n",
    "        svd = TruncatedSVD(n_components=n)\n",
    "        svd.fit(data)\n",
    "        var_explained.append(svd.explained_variance_ratio_.sum())\n",
    "    plt.plot(n_comp_list, var_explained)\n",
    "    plt.ylabel('variance explained')\n",
    "    plt.xlabel('number of components')\n",
    "    plt.title('Selecting n_components')\n",
    "    plt.grid(True)\n",
    "    plt.show()"
   ]
  },
  {
   "cell_type": "markdown",
   "metadata": {},
   "source": [
    "Sometimes, var_explained >= 0.9 or var_explained >= 0.95 reduces how many variables you need going forward in your analysis."
   ]
  },
  {
   "cell_type": "code",
   "execution_count": 27,
   "metadata": {},
   "outputs": [
    {
     "data": {
      "image/png": "[encoded data removed]",
      "text/plain": [
       "<matplotlib.figure.Figure at 0x7fbfd0f079e8>"
      ]
     },
     "metadata": {
      "needs_background": "light"
     },
     "output_type": "display_data"
    }
   ],
   "source": [
    "plot_svd(n_comp_list=[30,100,300,500,800,1200,1500,1800], data=p)"
   ]
  },
  {
   "cell_type": "code",
   "execution_count": 116,
   "metadata": {},
   "outputs": [],
   "source": [
    "svd = TruncatedSVD(n_components=500)\n",
    "p_svd = svd.fit_transform(p)"
   ]
  },
  {
   "cell_type": "markdown",
   "metadata": {},
   "source": [
    "Apply the same procedure to the extra test set"
   ]
  },
  {
   "cell_type": "code",
   "execution_count": 37,
   "metadata": {},
   "outputs": [],
   "source": [
    "p_ex = tfidf.transform(utterances_stem_ex)\n",
    "p_test_ex = svd.transform(p_ex)"
   ]
  },
  {
   "cell_type": "code",
   "execution_count": 38,
   "metadata": {},
   "outputs": [],
   "source": [
    "q_ex = data_diff.Sentiment.values\n",
    "q_test_ex = np.vectorize(label_map.get)(q_ex)"
   ]
  },
  {
   "cell_type": "code",
   "execution_count": null,
   "metadata": {},
   "outputs": [],
   "source": []
  },
  {
   "cell_type": "markdown",
   "metadata": {},
   "source": [
    "## Factory functions\n",
    "### Cross-validation with Stratified K-fold"
   ]
  },
  {
   "cell_type": "code",
   "execution_count": 39,
   "metadata": {},
   "outputs": [],
   "source": [
    "def predict_with_cv(clf, X, y, n_splits=5):\n",
    "    skf = StratifiedKFold(n_splits=n_splits, random_state=42)\n",
    "    acc_collector=[]\n",
    "    nth_fold = 0\n",
    "    for train_index, test_index in skf.split(X, y):\n",
    "        X_train, X_test = X[train_index], X[test_index]\n",
    "        y_train, y_test = y[train_index], y[test_index]\n",
    "        \n",
    "        clf.fit(X=X_train, y=y_train)\n",
    "        y_pred = clf.predict(X_test)\n",
    "        acc = round(100*np.sum(y_pred==y_test)/len(y_pred),2)\n",
    "        nth_fold += 1\n",
    "        acc_collector.append(acc)\n",
    "        print('Fold {}: F1 score = {}; Test ccuracy = {}%'.format(\n",
    "            nth_fold, f1_score(y_pred=y_pred, y_true=y_test, average=\"weighted\"), acc))\n",
    "    print('Average accuracy over {} folds is {}%'.format(n_splits, sum(acc_collector)/len(acc_collector)))"
   ]
  },
  {
   "cell_type": "markdown",
   "metadata": {},
   "source": [
    "### Ploting deep learning val_loss against epoch"
   ]
  },
  {
   "cell_type": "code",
   "execution_count": null,
   "metadata": {},
   "outputs": [],
   "source": [
    "plt.style.use('ggplot')\n",
    "\n",
    "def plot_history(history):\n",
    "    acc = history.history['acc']\n",
    "    val_acc = history.history['val_acc']\n",
    "    loss = history.history['loss']\n",
    "    val_loss = history.history['val_loss']\n",
    "    x = range(1, len(acc) + 1)\n",
    "\n",
    "    plt.figure(figsize=(12, 5))\n",
    "    plt.subplot(1, 2, 1)\n",
    "    plt.plot(x, acc, 'b', label='Training acc')\n",
    "    plt.plot(x, val_acc, 'r', label='Validation acc')\n",
    "    plt.title('Training and validation accuracy')\n",
    "    plt.xlabel('epoch')\n",
    "    plt.legend()\n",
    "    plt.subplot(1, 2, 2)\n",
    "    plt.plot(x, loss, 'b', label='Training loss')\n",
    "    plt.plot(x, val_loss, 'r', label='Validation loss')\n",
    "    plt.title('Training and validation loss')\n",
    "    plt.xlabel('epoch')\n",
    "    plt.legend()"
   ]
  },
  {
   "cell_type": "markdown",
   "metadata": {},
   "source": [
    "### Plotting Confusion Matrix"
   ]
  },
  {
   "cell_type": "code",
   "execution_count": 112,
   "metadata": {},
   "outputs": [],
   "source": [
    "def plot_confusion_matrix(y_true, y_pred, classes, normalize=False, title=None, cmap=plt.cm.Blues):\n",
    "    \"\"\"\n",
    "    This function prints and plots the confusion matrix.\n",
    "    Normalization can be applied by setting `normalize=True`.\n",
    "    \"\"\"\n",
    "    if not title:\n",
    "        if normalize:\n",
    "            title = 'Normalized confusion matrix'\n",
    "        else:\n",
    "            title = 'Confusion matrix, without normalization'\n",
    "            \n",
    "    cm = confusion_matrix(y_true, y_pred)\n",
    "    classes = classes[unique_labels(y_true, y_pred)]\n",
    "    if normalize:\n",
    "        cm = cm.astype('float') / cm.sum(axis=1)[:, np.newaxis]\n",
    "        print(\"Normalized confusion matrix\")\n",
    "    else:\n",
    "        print('Confusion matrix, without normalization')\n",
    "        \n",
    "    print(cm)\n",
    "\n",
    "    fig, ax = plt.subplots()\n",
    "    im = ax.imshow(cm, interpolation='nearest', cmap=cmap)\n",
    "    ax.figure.colorbar(im, ax=ax)\n",
    "    # We want to show all ticks...\n",
    "    ax.set(xticks=np.arange(cm.shape[1]),\n",
    "           yticks=np.arange(cm.shape[0]),\n",
    "           # ... and label them with the respective list entries\n",
    "           xticklabels=classes, yticklabels=classes,\n",
    "           title=title,\n",
    "           ylabel='True label',\n",
    "           xlabel='Predicted label')\n",
    "\n",
    "    # Rotate the tick labels and set their alignment.\n",
    "    plt.setp(ax.get_xticklabels(), rotation=45, ha=\"right\",\n",
    "             rotation_mode=\"anchor\")\n",
    "\n",
    "    # Loop over data dimensions and create text annotations.\n",
    "    fmt = '.2f' if normalize else 'd'\n",
    "    thresh = cm.max() / 2.\n",
    "    for i in range(cm.shape[0]):\n",
    "        for j in range(cm.shape[1]):\n",
    "            ax.text(j, i, format(cm[i, j], fmt),\n",
    "                    ha=\"center\", va=\"center\",\n",
    "                    color=\"white\" if cm[i, j] > thresh else \"black\")\n",
    "    fig.tight_layout()\n",
    "    return ax"
   ]
  },
  {
   "cell_type": "markdown",
   "metadata": {},
   "source": [
    "## Models  \n",
    "**Summary on Sentiment Analysis**  \n",
    "Predicting 3 classes: Positive, Negative & Neutral   \n",
    "  \n",
    "**Models ready at disposal:**  \n",
    "- SVM  \n",
    "- Random Forest\n",
    "- Fully connected (Dense only)  \n",
    "- CNN  \n",
    "- Transfer learning with Glove + LSTM\n",
    "\n",
    "**Accuracy records** \n",
    "- Benchmart(Base): 36.06%\n",
    "- SVM: 49.63%  \n",
    "- Random Forest: 47.33%\n",
    "- Dense: 36.88%\n",
    "- CNN: 38.03%  \n",
    "- LSTM (with Glove): 42%  \n",
    "\n",
    "*NB: there might be a ceiling on how much you can achieve with the data*"
   ]
  },
  {
   "cell_type": "markdown",
   "metadata": {},
   "source": [
    "### Baseline\n",
    "A simplest model that will predict the same class for any given sentences/utterances."
   ]
  },
  {
   "cell_type": "code",
   "execution_count": 50,
   "metadata": {},
   "outputs": [],
   "source": [
    "class BaseModel():\n",
    "    def __init__(self):\n",
    "        self.pred=None\n",
    "        \n",
    "    def fit(self, X, y):\n",
    "        self.pred = Counter(y).most_common()[0][0]\n",
    "        \n",
    "    def predict(self, x_test):\n",
    "        return x_test.shape[0] * [self.pred]"
   ]
  },
  {
   "cell_type": "code",
   "execution_count": 45,
   "metadata": {},
   "outputs": [
    {
     "name": "stdout",
     "output_type": "stream",
     "text": [
      "Fold 1: F1 score = 0.19105252704345846; Test ccuracy = 36.05%\n",
      "Fold 2: F1 score = 0.19105252704345846; Test ccuracy = 36.05%\n",
      "Fold 3: F1 score = 0.19124295750999717; Test ccuracy = 36.07%\n",
      "Fold 4: F1 score = 0.19124295750999717; Test ccuracy = 36.07%\n",
      "Fold 5: F1 score = 0.19124295750999717; Test ccuracy = 36.07%\n",
      "Average accuracy over 5 folds is 36.062%\n"
     ]
    },
    {
     "name": "stderr",
     "output_type": "stream",
     "text": [
      "/Users/cheuky/anaconda3/lib/python3.6/site-packages/sklearn/metrics/classification.py:1437: UndefinedMetricWarning: F-score is ill-defined and being set to 0.0 in labels with no predicted samples.\n",
      "  'precision', 'predicted', average, warn_for)\n"
     ]
    }
   ],
   "source": [
    "base_model = BaseModel()\n",
    "predict_with_cv(base_model, X=p, y=q, n_splits=5)"
   ]
  },
  {
   "cell_type": "markdown",
   "metadata": {},
   "source": [
    "### Support Vector Machine (SVM)"
   ]
  },
  {
   "cell_type": "code",
   "execution_count": 117,
   "metadata": {},
   "outputs": [],
   "source": [
    "svm = SVC(C=10, kernel='linear', probability=True, random_state=42)"
   ]
  },
  {
   "cell_type": "code",
   "execution_count": 29,
   "metadata": {},
   "outputs": [],
   "source": [
    "# param_grid_svm = { \n",
    "#     'C': [1,10,100], 'kernel': ['linear', 'rbf']\n",
    "# }\n",
    "# clf = GridSearchCV(estimator=svm, param_grid=param_grid_svm, cv=5)\n",
    "# clf.fit(x_train_tr, y_train)"
   ]
  },
  {
   "cell_type": "code",
   "execution_count": null,
   "metadata": {},
   "outputs": [],
   "source": [
    "# clf.best_estimator_"
   ]
  },
  {
   "cell_type": "markdown",
   "metadata": {},
   "source": [
    "**Best model by GridSearchCV**  \n",
    "SVC(C=10, cache_size=200, class_weight=None, coef0=0.0,  \n",
    "decision_function_shape='ovr', degree=3, gamma='auto_deprecated',  \n",
    "kernel='linear', max_iter=-1, probability=True, random_state=None,  \n",
    "shrinking=True, tol=0.001, verbose=False)"
   ]
  },
  {
   "cell_type": "code",
   "execution_count": 51,
   "metadata": {},
   "outputs": [],
   "source": [
    "# svm_accuracy = 100*np.sum(y_pred_svm==q_test)/len(y_pred_svm)\n",
    "# print('Test accuracy: %.4f%%' % svm_accuracy)"
   ]
  },
  {
   "cell_type": "code",
   "execution_count": 30,
   "metadata": {},
   "outputs": [
    {
     "name": "stdout",
     "output_type": "stream",
     "text": [
      "Fold 1: F1 score = 0.4962186249534722; Test ccuracy = 50.34%\n",
      "Fold 2: F1 score = 0.4782719839250737; Test ccuracy = 48.22%\n",
      "Fold 3: F1 score = 0.4815661531107952; Test ccuracy = 48.48%\n",
      "Fold 4: F1 score = 0.47462396054127426; Test ccuracy = 48.08%\n",
      "Fold 5: F1 score = 0.48492597308789737; Test ccuracy = 48.94%\n",
      "Average accuracy over 5 folds is 48.812%\n"
     ]
    }
   ],
   "source": [
    "predict_with_cv(svm, X=p_svd, y=q, n_splits=5)"
   ]
  },
  {
   "cell_type": "markdown",
   "metadata": {},
   "source": [
    "__SVD n_components=300:__  \n",
    "Fold 1: F1 score = 0.4803915716898258; Test ccuracy = 48.91%  \n",
    "Fold 2: F1 score = 0.4542740225417006; Test ccuracy = 46.84%  \n",
    "Fold 3: F1 score = 0.48864408148921173; Test ccuracy = 49.91%  \n",
    "Fold 4: F1 score = 0.4892975093190058; Test ccuracy = 50.32%  \n",
    "Fold 5: F1 score = 0.4784412899435637; Test ccuracy = 49.22%  \n",
    "Average accuracy over 5 folds is 49.04%  \n",
    "  \n",
    "__SVD n_components=500:__  \n",
    "Fold 1: F1 score = 0.49002215752622763; Test ccuracy = 49.77%  \n",
    "Fold 2: F1 score = 0.4808583429948203; Test ccuracy = 49.2%  \n",
    "Fold 3: F1 score = 0.4874187290127619; Test ccuracy = 49.34%  \n",
    "Fold 4: F1 score = 0.4944249992907478; Test ccuracy = 50.03%  \n",
    "Fold 5: F1 score = 0.4919448080783031; Test ccuracy = 49.8%  \n",
    "Average accuracy over 5 folds is 49.628%  \n",
    "  \n",
    "__SVD n_components=800:__  \n",
    "Fold 1: F1 score = 0.46966213004635426; Test ccuracy = 47.3%  \n",
    "Fold 2: F1 score = 0.4711375764871562; Test ccuracy = 47.65%  \n",
    "Fold 3: F1 score = 0.4928203326071507; Test ccuracy = 49.74%  \n",
    "Fold 4: F1 score = 0.4823228281974452; Test ccuracy = 48.54%  \n",
    "Fold 5: F1 score = 0.4761281720634562; Test ccuracy = 48.02%  \n",
    "Average accuracy over 5 folds is 48.25%  "
   ]
  },
  {
   "cell_type": "code",
   "execution_count": 99,
   "metadata": {},
   "outputs": [
    {
     "name": "stdout",
     "output_type": "stream",
     "text": [
      "Fold 1: F1 score = 0.7764287876963933; Test ccuracy = 82.37%\n",
      "Fold 2: F1 score = 0.7836334344208311; Test ccuracy = 82.94%\n",
      "Fold 3: F1 score = 0.7780162097534926; Test ccuracy = 82.94%\n",
      "Fold 4: F1 score = 0.7758909706355496; Test ccuracy = 82.76%\n",
      "Fold 5: F1 score = 0.7722856244847532; Test ccuracy = 83.21%\n",
      "Average accuracy over 5 folds is 82.844%\n"
     ]
    }
   ],
   "source": [
    "predict_with_cv(svm, X=p_test_ex, y=q_test_ex, n_splits=5)"
   ]
  },
  {
   "cell_type": "code",
   "execution_count": 125,
   "metadata": {},
   "outputs": [],
   "source": [
    "p_train, p_test, q_train, q_test = train_test_split(p_svd, q, test_size = 0.33, random_state = 42)\n",
    "svm.fit(X=p_train, y=q_train)\n",
    "y_pred_svm = svm.predict(p_test)"
   ]
  },
  {
   "cell_type": "code",
   "execution_count": 126,
   "metadata": {},
   "outputs": [
    {
     "name": "stdout",
     "output_type": "stream",
     "text": [
      "Confusion matrix, without normalization\n",
      "[[648 244 138]\n",
      " [374 357 167]\n",
      " [340 232 374]]\n"
     ]
    },
    {
     "data": {
      "text/plain": [
       "<matplotlib.axes._subplots.AxesSubplot at 0x7f2e8ceb8c18>"
      ]
     },
     "execution_count": 126,
     "metadata": {},
     "output_type": "execute_result"
    },
    {
     "data": {
      "image/png": "[encoded data removed]",
      "text/plain": [
       "<matplotlib.figure.Figure at 0x7f2e7e4259b0>"
      ]
     },
     "metadata": {},
     "output_type": "display_data"
    }
   ],
   "source": [
    "plot_confusion_matrix(y_true=q_test, y_pred=y_pred_svm, classes=uniques)"
   ]
  },
  {
   "cell_type": "markdown",
   "metadata": {},
   "source": [
    "### Random Forest"
   ]
  },
  {
   "cell_type": "code",
   "execution_count": 113,
   "metadata": {},
   "outputs": [],
   "source": [
    "rf = RandomForestClassifier(n_estimators=100, min_samples_leaf=4, min_samples_split=4,\n",
    "                            criterion='gini', max_features='auto')"
   ]
  },
  {
   "cell_type": "code",
   "execution_count": 29,
   "metadata": {},
   "outputs": [
    {
     "name": "stdout",
     "output_type": "stream",
     "text": [
      "Fold 1: F1 score = 0.47461706544641874; Test ccuracy = 48.97%\n",
      "Fold 2: F1 score = 0.456600241551185; Test ccuracy = 46.44%\n",
      "Fold 3: F1 score = 0.4523886385518907; Test ccuracy = 46.3%\n",
      "Fold 4: F1 score = 0.4738436999013484; Test ccuracy = 48.71%\n",
      "Fold 5: F1 score = 0.48235998563306615; Test ccuracy = 48.77%\n",
      "Average accuracy over 5 folds is 47.838%\n"
     ]
    }
   ],
   "source": [
    "predict_with_cv(clf=rf, X=p_svd, y=q, n_splits=5)"
   ]
  },
  {
   "cell_type": "markdown",
   "metadata": {},
   "source": [
    "__SVD n_components=300:__  \n",
    "Fold 1: F1 score = 0.4821594130439804; Test ccuracy = 49.02%  \n",
    "Fold 2: F1 score = 0.4457256160906289; Test ccuracy = 45.52%  \n",
    "Fold 3: F1 score = 0.4799812863744916; Test ccuracy = 48.59%  \n",
    "Fold 4: F1 score = 0.4742767830904166; Test ccuracy = 48.42%  \n",
    "Fold 5: F1 score = 0.4626270907058054; Test ccuracy = 47.33%  \n",
    "Average accuracy over 5 folds is 47.78%  \n",
    "  \n",
    "__SVD n_components=500:__  \n",
    "Fold 1: F1 score = 0.4563487257822179; Test ccuracy = 46.84%  \n",
    "Fold 2: F1 score = 0.47949307279503584; Test ccuracy = 49.31%  \n",
    "Fold 3: F1 score = 0.48139907627684986; Test ccuracy = 49.28%  \n",
    "Fold 4: F1 score = 0.4600893431558319; Test ccuracy = 47.04%  \n",
    "Fold 5: F1 score = 0.4569176293258227; Test ccuracy = 47.04%  \n",
    "Average accuracy over 5 folds is 47.902%  \n",
    "  \n",
    "__SVD n_components=800:__  \n",
    "Fold 1: F1 score = 0.47376694097558875; Test ccuracy = 48.39%  \n",
    "Fold 2: F1 score = 0.4360728461345362; Test ccuracy = 44.72%  \n",
    "Fold 3: F1 score = 0.4658015840886764; Test ccuracy = 47.33%  \n",
    "Fold 4: F1 score = 0.46356914367324187; Test ccuracy = 47.73%  \n",
    "Fold 5: F1 score = 0.44157950564388676; Test ccuracy = 45.61%  \n",
    "Average accuracy over 5 folds is 46.76%  "
   ]
  },
  {
   "cell_type": "code",
   "execution_count": 101,
   "metadata": {},
   "outputs": [
    {
     "name": "stdout",
     "output_type": "stream",
     "text": [
      "Fold 1: F1 score = 0.7687798915256568; Test ccuracy = 83.56%\n",
      "Fold 2: F1 score = 0.7659402141195129; Test ccuracy = 83.53%\n",
      "Fold 3: F1 score = 0.7559324546119501; Test ccuracy = 82.64%\n",
      "Fold 4: F1 score = 0.7592426002553393; Test ccuracy = 83.06%\n",
      "Fold 5: F1 score = 0.7573091270272153; Test ccuracy = 83.21%\n",
      "Average accuracy over 5 folds is 83.2%\n"
     ]
    }
   ],
   "source": [
    "predict_with_cv(clf=rf, X=p_test_ex, y=q_test_ex, n_splits=5)"
   ]
  },
  {
   "cell_type": "code",
   "execution_count": 52,
   "metadata": {},
   "outputs": [
    {
     "data": {
      "text/plain": [
       "GridSearchCV(cv=5, error_score='raise',\n",
       "       estimator=RandomForestClassifier(bootstrap=True, class_weight=None, criterion='gini',\n",
       "            max_depth=None, max_features='auto', max_leaf_nodes=None,\n",
       "            min_impurity_decrease=0.0, min_impurity_split=None,\n",
       "            min_samples_leaf=1, min_samples_split=2,\n",
       "            min_weight_fraction_leaf=0.0, n_estimators=10, n_jobs=1,\n",
       "            oob_score=False, random_state=None, verbose=0,\n",
       "            warm_start=False),\n",
       "       fit_params=None, iid=True, n_jobs=1,\n",
       "       param_grid={'n_estimators': [1, 10, 100], 'min_samples_split': [2, 4], 'min_samples_leaf': [1, 2, 4], 'max_features': ['auto', 'sqrt']},\n",
       "       pre_dispatch='2*n_jobs', refit=True, return_train_score='warn',\n",
       "       scoring=None, verbose=0)"
      ]
     },
     "execution_count": 52,
     "metadata": {},
     "output_type": "execute_result"
    }
   ],
   "source": [
    "# param_grid_rf = { \n",
    "#     'n_estimators': [1,10,100],\n",
    "#     'min_samples_split': [2, 4],\n",
    "#     'min_samples_leaf': [1, 2, 4],\n",
    "#     'max_features': ['auto', 'sqrt']\n",
    "# }\n",
    "# clf = GridSearchCV(estimator=rf, param_grid=param_grid_rf, cv=5)\n",
    "# clf.fit(p_train, q_train)"
   ]
  },
  {
   "cell_type": "code",
   "execution_count": 33,
   "metadata": {},
   "outputs": [],
   "source": [
    "# clf.best_estimator_"
   ]
  },
  {
   "cell_type": "markdown",
   "metadata": {},
   "source": [
    "**Best model by GridSearchCV**  \n",
    "RandomForestClassifier(bootstrap=True, class_weight=None, criterion='gini',  \n",
    "            max_depth=None, max_features='auto', max_leaf_nodes=None,  \n",
    "            min_impurity_decrease=0.0, min_impurity_split=None,  \n",
    "            min_samples_leaf=4, min_samples_split=4,  \n",
    "            min_weight_fraction_leaf=0.0, n_estimators=100, n_jobs=1,  \n",
    "            oob_score=False, random_state=None, verbose=0,  \n",
    "            warm_start=False)"
   ]
  },
  {
   "cell_type": "code",
   "execution_count": 120,
   "metadata": {},
   "outputs": [],
   "source": [
    "p_train, p_test, q_train, q_test = train_test_split(p_svd, q, test_size = 0.33, random_state = 42)\n",
    "rf.fit(X=p_train, y=q_train)\n",
    "y_pred_rf = rf.predict(p_test)\n",
    "# f1_score(y_pred=y_pred_rf, y_true=q_test, average=\"weighted\")\n",
    "# rf_accuracy = 100*np.sum(y_pred_rf==q_test)/len(y_pred_rf)\n",
    "# print('Test accuracy: %.4f%%' % rf_accuracy)"
   ]
  },
  {
   "cell_type": "code",
   "execution_count": 124,
   "metadata": {},
   "outputs": [
    {
     "name": "stdout",
     "output_type": "stream",
     "text": [
      "Confusion matrix, without normalization\n",
      "[[705 160 165]\n",
      " [446 267 185]\n",
      " [378 172 396]]\n"
     ]
    },
    {
     "data": {
      "text/plain": [
       "<matplotlib.axes._subplots.AxesSubplot at 0x7f2e8ce5cc88>"
      ]
     },
     "execution_count": 124,
     "metadata": {},
     "output_type": "execute_result"
    },
    {
     "data": {
      "image/png": "[encoded data removed]",
      "text/plain": [
       "<matplotlib.figure.Figure at 0x7f2e7ff2ee10>"
      ]
     },
     "metadata": {},
     "output_type": "display_data"
    }
   ],
   "source": [
    "plot_confusion_matrix(y_true=q_test, y_pred=y_pred_rf, classes=uniques)"
   ]
  },
  {
   "cell_type": "markdown",
   "metadata": {},
   "source": [
    "### Keras TF-IDF tokenizer + Neural nets"
   ]
  },
  {
   "cell_type": "markdown",
   "metadata": {},
   "source": [
    "Neural network won't accept sentences with different dimension(i.e. number of words) as input. By padding the inputs, we decide the maximum length of words in a sentence, then zero pads the rest, if the input length is shorter than the designated length. In the case where it exceeds the maximum length, then it will also truncate either from the beginning or from the end.  \n",
    "*Ref_1* https://keras.io/preprocessing/sequence/  \n",
    "*Ref_2* https://towardsdatascience.com/another-twitter-sentiment-analysis-with-python-part-11-cnn-word2vec-41f5e28eda74\n",
    "\n",
    "https://medium.com/@sabber/classifying-yelp-review-comments-using-lstm-and-word-embeddings-part-1-eb2275e4066b\n",
    "#### Dense - Fully Connected Layers"
   ]
  },
  {
   "cell_type": "markdown",
   "metadata": {},
   "source": [
    "__Early Stopping__: Often, the first sign of no further improvement may not be the best time to stop training. This is because the model may coast into a plateau of no improvement or even get slightly worse before getting much better.\n",
    "\n",
    "We can account for this by adding a delay to the trigger in terms of the number of epochs on which we would like to see no improvement. This can be done by setting the “patience” argument."
   ]
  },
  {
   "cell_type": "code",
   "execution_count": 41,
   "metadata": {},
   "outputs": [],
   "source": [
    "dense_epochs=100\n",
    "dense_checkpts = ModelCheckpoint(filepath=os.path.join(os.getcwd(),'saved_models','text','dense.weights.best.hdf5'), \n",
    "                               verbose=1, save_best_only=True)\n",
    "es = EarlyStopping(monitor='val_loss', mode='min', verbose=1, patience=5)"
   ]
  },
  {
   "cell_type": "code",
   "execution_count": 42,
   "metadata": {},
   "outputs": [],
   "source": [
    "def build_dense(num_classes, show=True):\n",
    "    dense = Sequential()\n",
    "    dense.add(Dense(32, activation='relu', input_dim=max_sequence_len))\n",
    "    dense.add(Dropout(0.2))\n",
    "    dense.add(Dense(64, activation='relu'))\n",
    "    dense.add(BatchNormalization())\n",
    "    dense.add(Dense(128, activation='relu'))\n",
    "    dense.add(BatchNormalization())\n",
    "    dense.add(Dense(num_classes, activation='softmax'))\n",
    "    dense.compile(optimizer='adam',\n",
    "                  loss='categorical_crossentropy',\n",
    "                  metrics=['accuracy'])\n",
    "    if show:\n",
    "        print(dense.summary())\n",
    "    return dense"
   ]
  },
  {
   "cell_type": "code",
   "execution_count": 26,
   "metadata": {},
   "outputs": [
    {
     "name": "stdout",
     "output_type": "stream",
     "text": [
      "_________________________________________________________________\n",
      "Layer (type)                 Output Shape              Param #   \n",
      "=================================================================\n",
      "dense_1 (Dense)              (None, 32)                3232      \n",
      "_________________________________________________________________\n",
      "dropout_1 (Dropout)          (None, 32)                0         \n",
      "_________________________________________________________________\n",
      "dense_2 (Dense)              (None, 64)                2112      \n",
      "_________________________________________________________________\n",
      "batch_normalization_1 (Batch (None, 64)                256       \n",
      "_________________________________________________________________\n",
      "dense_3 (Dense)              (None, 128)               8320      \n",
      "_________________________________________________________________\n",
      "batch_normalization_2 (Batch (None, 128)               512       \n",
      "_________________________________________________________________\n",
      "dense_4 (Dense)              (None, 3)                 387       \n",
      "=================================================================\n",
      "Total params: 14,819\n",
      "Trainable params: 14,435\n",
      "Non-trainable params: 384\n",
      "_________________________________________________________________\n",
      "None\n"
     ]
    }
   ],
   "source": [
    "dense = build_dense(num_polarities)"
   ]
  },
  {
   "cell_type": "markdown",
   "metadata": {},
   "source": [
    "The validation_split is a value between 0 and 1 and defines the percentage amount of the training dataset to use for the validation dataset."
   ]
  },
  {
   "cell_type": "code",
   "execution_count": 27,
   "metadata": {
    "scrolled": true
   },
   "outputs": [
    {
     "name": "stdout",
     "output_type": "stream",
     "text": [
      "Train on 3499 samples, validate on 2334 samples\n",
      "Epoch 1/100\n",
      "3392/3499 [============================>.] - ETA: 0s - loss: 1.2765 - acc: 0.3423Epoch 00001: val_loss improved from inf to 1.14718, saving model to /home/workspace/saved_models/text/dense.weights.best.hdf5\n",
      "3499/3499 [==============================] - 3s 876us/step - loss: 1.2716 - acc: 0.3444 - val_loss: 1.1472 - val_acc: 0.3526\n",
      "Epoch 2/100\n",
      "3328/3499 [===========================>..] - ETA: 0s - loss: 1.1832 - acc: 0.3447Epoch 00002: val_loss improved from 1.14718 to 1.13537, saving model to /home/workspace/saved_models/text/dense.weights.best.hdf5\n",
      "3499/3499 [==============================] - 1s 310us/step - loss: 1.1820 - acc: 0.3447 - val_loss: 1.1354 - val_acc: 0.3436\n",
      "Epoch 3/100\n",
      "3392/3499 [============================>.] - ETA: 0s - loss: 1.1629 - acc: 0.3476Epoch 00003: val_loss did not improve\n",
      "3499/3499 [==============================] - 1s 294us/step - loss: 1.1631 - acc: 0.3492 - val_loss: 1.1417 - val_acc: 0.3470\n",
      "Epoch 4/100\n",
      "3360/3499 [===========================>..] - ETA: 0s - loss: 1.1389 - acc: 0.3500Epoch 00004: val_loss improved from 1.13537 to 1.12649, saving model to /home/workspace/saved_models/text/dense.weights.best.hdf5\n",
      "3499/3499 [==============================] - 1s 304us/step - loss: 1.1396 - acc: 0.3487 - val_loss: 1.1265 - val_acc: 0.3496\n",
      "Epoch 5/100\n",
      "3392/3499 [============================>.] - ETA: 0s - loss: 1.1214 - acc: 0.3712Epoch 00005: val_loss improved from 1.12649 to 1.12073, saving model to /home/workspace/saved_models/text/dense.weights.best.hdf5\n",
      "3499/3499 [==============================] - 1s 303us/step - loss: 1.1215 - acc: 0.3701 - val_loss: 1.1207 - val_acc: 0.3483\n",
      "Epoch 6/100\n",
      "3392/3499 [============================>.] - ETA: 0s - loss: 1.1299 - acc: 0.3552Epoch 00006: val_loss did not improve\n",
      "3499/3499 [==============================] - 1s 294us/step - loss: 1.1290 - acc: 0.3584 - val_loss: 1.1292 - val_acc: 0.3483\n",
      "Epoch 7/100\n",
      "3360/3499 [===========================>..] - ETA: 0s - loss: 1.1213 - acc: 0.3643Epoch 00007: val_loss improved from 1.12073 to 1.10883, saving model to /home/workspace/saved_models/text/dense.weights.best.hdf5\n",
      "3499/3499 [==============================] - 1s 322us/step - loss: 1.1202 - acc: 0.3641 - val_loss: 1.1088 - val_acc: 0.3740\n",
      "Epoch 8/100\n",
      "3360/3499 [===========================>..] - ETA: 0s - loss: 1.1062 - acc: 0.3679Epoch 00008: val_loss did not improve\n",
      "3499/3499 [==============================] - 1s 294us/step - loss: 1.1066 - acc: 0.3652 - val_loss: 1.1291 - val_acc: 0.3668\n",
      "Epoch 9/100\n",
      "3392/3499 [============================>.] - ETA: 0s - loss: 1.1083 - acc: 0.3673Epoch 00009: val_loss did not improve\n",
      "3499/3499 [==============================] - 1s 293us/step - loss: 1.1073 - acc: 0.3670 - val_loss: 1.1179 - val_acc: 0.3625\n",
      "Epoch 10/100\n",
      "3392/3499 [============================>.] - ETA: 0s - loss: 1.1079 - acc: 0.3653Epoch 00010: val_loss did not improve\n",
      "3499/3499 [==============================] - 1s 293us/step - loss: 1.1088 - acc: 0.3644 - val_loss: 1.1175 - val_acc: 0.3582\n",
      "Epoch 11/100\n",
      "3392/3499 [============================>.] - ETA: 0s - loss: 1.0998 - acc: 0.3726Epoch 00011: val_loss did not improve\n",
      "3499/3499 [==============================] - 1s 293us/step - loss: 1.0997 - acc: 0.3718 - val_loss: 1.1114 - val_acc: 0.3595\n",
      "Epoch 12/100\n",
      "3392/3499 [============================>.] - ETA: 0s - loss: 1.1025 - acc: 0.3723Epoch 00012: val_loss did not improve\n",
      "3499/3499 [==============================] - 1s 294us/step - loss: 1.1015 - acc: 0.3735 - val_loss: 1.1111 - val_acc: 0.3715\n",
      "Epoch 00012: early stopping\n"
     ]
    }
   ],
   "source": [
    "dense_history=dense.fit(x_train, y_train, validation_split=0.4, epochs=dense_epochs, callbacks=[dense_checkpts, es], verbose=1)"
   ]
  },
  {
   "cell_type": "code",
   "execution_count": 31,
   "metadata": {},
   "outputs": [
    {
     "data": {
      "image/png": "[encoded data removed]",
      "text/plain": [
       "<matplotlib.figure.Figure at 0x7f501d40acf8>"
      ]
     },
     "metadata": {},
     "output_type": "display_data"
    }
   ],
   "source": [
    "plot_history(dense_history)"
   ]
  },
  {
   "cell_type": "markdown",
   "metadata": {},
   "source": [
    "Load the best weights saved during training"
   ]
  },
  {
   "cell_type": "code",
   "execution_count": 34,
   "metadata": {},
   "outputs": [],
   "source": [
    "dense = build_dense(num_polarities, show=False)\n",
    "dense.load_weights(os.path.join(os.getcwd(),'saved_models','text','dense.weights.best.hdf5'))"
   ]
  },
  {
   "cell_type": "code",
   "execution_count": 33,
   "metadata": {},
   "outputs": [
    {
     "name": "stdout",
     "output_type": "stream",
     "text": [
      "2874/2874 [==============================] - 0s 76us/step\n"
     ]
    },
    {
     "data": {
      "text/plain": [
       "Counter({2: 1018, 0: 1664, 1: 192})"
      ]
     },
     "execution_count": 33,
     "metadata": {},
     "output_type": "execute_result"
    }
   ],
   "source": [
    "y_pred_dense = dense.predict_classes(x_test)\n",
    "Counter(y_pred_dense)"
   ]
  },
  {
   "cell_type": "code",
   "execution_count": 34,
   "metadata": {},
   "outputs": [
    {
     "name": "stdout",
     "output_type": "stream",
     "text": [
      "2874/2874 [==============================] - 0s 37us/step\n",
      "Test accuracy: 36.8824%\n"
     ]
    }
   ],
   "source": [
    "dense_accuracy = dense.evaluate(x_test, y_test, batch_size=128)[1] * 100\n",
    "print('Test accuracy: %.4f%%' % dense_accuracy)"
   ]
  },
  {
   "cell_type": "markdown",
   "metadata": {},
   "source": [
    "Test on the extra testing set"
   ]
  },
  {
   "cell_type": "code",
   "execution_count": 35,
   "metadata": {},
   "outputs": [
    {
     "data": {
      "text/plain": [
       "Counter({0: 2225, 2: 963, 1: 188})"
      ]
     },
     "execution_count": 35,
     "metadata": {},
     "output_type": "execute_result"
    }
   ],
   "source": [
    "Counter(dense.predict_classes(X_test_ex))"
   ]
  },
  {
   "cell_type": "code",
   "execution_count": 37,
   "metadata": {},
   "outputs": [
    {
     "name": "stdout",
     "output_type": "stream",
     "text": [
      "3376/3376 [==============================] - 0s 8us/step\n",
      "Test accuracy: 16.8543%\n"
     ]
    }
   ],
   "source": [
    "dense_accuracy = dense.evaluate(X_test_ex, y_test_ex, batch_size=128)[1] * 100\n",
    "print('Test accuracy: %.4f%%' % dense_accuracy)"
   ]
  },
  {
   "cell_type": "markdown",
   "metadata": {},
   "source": [
    "__Note: About batch_size__  \n",
    "Advantages of using a batch size < number of all samples:\n",
    "\n",
    "- It requires less memory. Since you train the network using fewer samples, the overall training procedure requires less memory. That's especially important if you are not able to fit the whole dataset in your machine's memory.\n",
    "\n",
    "- Typically networks train faster with mini-batches. That's because we update the weights after each propagation. In our example we've propagated 11 batches (10 of them had 100 samples and 1 had 50 samples) and after each of them we've updated our network's parameters. If we used all samples during propagation we would make only 1 update for the network's parameter.\n",
    "\n",
    "Disadvantages of using a batch size < number of all samples:\n",
    "\n",
    "- The smaller the batch the less accurate the estimate of the gradient will be."
   ]
  },
  {
   "cell_type": "code",
   "execution_count": null,
   "metadata": {},
   "outputs": [],
   "source": []
  },
  {
   "cell_type": "markdown",
   "metadata": {},
   "source": [
    "### CNN - Convolutional Layers\n",
    "**Conv1D:** is generally good for text, whereas Conv2D is good for audio and images where spatial matter;  \n",
    "\n",
    "**Max pooling:** is a sample-based discretization process. The objective is to down-sample an input representation (image, hidden-layer output matrix, etc.), reducing it’s dimensionality and allowing for assumptions to be made about features contained in the sub-regions binned.  \n",
    "\n",
    "**Batch Normalization:** normalization (shifting inputs to zero-mean and unit variance) is often used as a pre-processing step to make the data comparable across features. This therefore leads to higher learning rate and better speed.  \n",
    "\n",
    "**Drop out:** Its a regularization function that reduces/prevents overfitting, by normalizing some pixels to 0. However, it is suggested to not include a dropout layer right before the last layer as it can result in a situation where the network has no ability to \"correct\" errors induced by dropout before the classification happens. "
   ]
  },
  {
   "cell_type": "code",
   "execution_count": 65,
   "metadata": {},
   "outputs": [],
   "source": [
    "n_length = x_train.shape[0]\n",
    "n_features = x_train.shape[1]\n",
    "\n",
    "x_train_reshaped = x_train.reshape(n_length, n_features, 1)\n",
    "x_test_reshaped = x_test.reshape(x_test.shape[0], n_features, 1)\n",
    "X_test_ex_reshaped = X_test_ex.reshape(X_test_ex.shape[0], n_features, 1)"
   ]
  },
  {
   "cell_type": "code",
   "execution_count": 44,
   "metadata": {},
   "outputs": [],
   "source": [
    "cnn_epochs=60\n",
    "cnn_checkpts = ModelCheckpoint(filepath=os.path.join(os.getcwd(), 'saved_models', 'text', 'cnn.weights.best.hdf5'), \n",
    "                               verbose=1, save_best_only=True)\n",
    "es = EarlyStopping(monitor='val_loss', mode='min', verbose=1, patience=10)"
   ]
  },
  {
   "cell_type": "code",
   "execution_count": 52,
   "metadata": {},
   "outputs": [],
   "source": [
    "def build_CNN(num_classes, show=True):\n",
    "    cnn = Sequential()\n",
    "    cnn.add(Conv1D(filters=16, kernel_size=2, padding='same', activation='relu', input_shape=(max_sequence_len,1)))\n",
    "    cnn.add(MaxPooling1D(pool_size=2))\n",
    "    cnn.add(Conv1D(filters=32, kernel_size=2, padding='same', activation='relu', kernel_regularizer=l2(0.01)))\n",
    "    cnn.add(MaxPooling1D(pool_size=2))\n",
    "    cnn.add(Conv1D(filters=64, kernel_size=2, padding='same', activation='relu',kernel_regularizer=l2(0.01)))\n",
    "    cnn.add(MaxPooling1D(pool_size=2))\n",
    "    cnn.add(GlobalAveragePooling1D())\n",
    "#     cnn.add(Flatten())\n",
    "    cnn.add(Dense(128, kernel_regularizer=l2(0.01)))\n",
    "    cnn.add(BatchNormalization())\n",
    "    cnn.add(Activation('relu'))\n",
    "    cnn.add(Dense(64, kernel_regularizer=l2(0.01)))\n",
    "    cnn.add(Activation('relu'))\n",
    "#     cnn.add(Dropout(0.2))\n",
    "    cnn.add(Dense(num_classes, activation='softmax'))\n",
    "    cnn.compile(optimizer='adam',\n",
    "                loss='categorical_crossentropy',\n",
    "                metrics=['accuracy'])\n",
    "    if show:\n",
    "        print(cnn.summary())\n",
    "    return cnn"
   ]
  },
  {
   "cell_type": "code",
   "execution_count": 53,
   "metadata": {},
   "outputs": [
    {
     "name": "stdout",
     "output_type": "stream",
     "text": [
      "_________________________________________________________________\n",
      "Layer (type)                 Output Shape              Param #   \n",
      "=================================================================\n",
      "conv1d_7 (Conv1D)            (None, 100, 16)           48        \n",
      "_________________________________________________________________\n",
      "max_pooling1d_7 (MaxPooling1 (None, 50, 16)            0         \n",
      "_________________________________________________________________\n",
      "conv1d_8 (Conv1D)            (None, 50, 32)            1056      \n",
      "_________________________________________________________________\n",
      "max_pooling1d_8 (MaxPooling1 (None, 25, 32)            0         \n",
      "_________________________________________________________________\n",
      "conv1d_9 (Conv1D)            (None, 25, 64)            4160      \n",
      "_________________________________________________________________\n",
      "max_pooling1d_9 (MaxPooling1 (None, 12, 64)            0         \n",
      "_________________________________________________________________\n",
      "global_average_pooling1d_3 ( (None, 64)                0         \n",
      "_________________________________________________________________\n",
      "dense_5 (Dense)              (None, 128)               8320      \n",
      "_________________________________________________________________\n",
      "batch_normalization_3 (Batch (None, 128)               512       \n",
      "_________________________________________________________________\n",
      "activation_3 (Activation)    (None, 128)               0         \n",
      "_________________________________________________________________\n",
      "dense_6 (Dense)              (None, 64)                8256      \n",
      "_________________________________________________________________\n",
      "activation_4 (Activation)    (None, 64)                0         \n",
      "_________________________________________________________________\n",
      "dense_7 (Dense)              (None, 3)                 195       \n",
      "=================================================================\n",
      "Total params: 22,547\n",
      "Trainable params: 22,291\n",
      "Non-trainable params: 256\n",
      "_________________________________________________________________\n",
      "None\n"
     ]
    }
   ],
   "source": [
    "cnn = build_CNN(num_polarities)"
   ]
  },
  {
   "cell_type": "code",
   "execution_count": 54,
   "metadata": {
    "scrolled": true
   },
   "outputs": [
    {
     "name": "stdout",
     "output_type": "stream",
     "text": [
      "Train on 3499 samples, validate on 2334 samples\n",
      "Epoch 1/60\n",
      "3456/3499 [============================>.] - ETA: 0s - loss: 2.7990 - acc: 0.3510Epoch 00001: val_loss did not improve\n",
      "3499/3499 [==============================] - 2s 444us/step - loss: 2.7922 - acc: 0.3512 - val_loss: 2.3678 - val_acc: 0.3329\n",
      "Epoch 2/60\n",
      "3488/3499 [============================>.] - ETA: 0s - loss: 2.0130 - acc: 0.3784Epoch 00002: val_loss did not improve\n",
      "3499/3499 [==============================] - 1s 338us/step - loss: 2.0123 - acc: 0.3781 - val_loss: 1.8050 - val_acc: 0.3492\n",
      "Epoch 3/60\n",
      "3488/3499 [============================>.] - ETA: 0s - loss: 1.6728 - acc: 0.3782Epoch 00003: val_loss did not improve\n",
      "3499/3499 [==============================] - 1s 344us/step - loss: 1.6725 - acc: 0.3781 - val_loss: 1.5629 - val_acc: 0.3428\n",
      "Epoch 4/60\n",
      "3488/3499 [============================>.] - ETA: 0s - loss: 1.4837 - acc: 0.3827Epoch 00004: val_loss did not improve\n",
      "3499/3499 [==============================] - 1s 342us/step - loss: 1.4834 - acc: 0.3833 - val_loss: 1.4141 - val_acc: 0.3582\n",
      "Epoch 5/60\n",
      "3392/3499 [============================>.] - ETA: 0s - loss: 1.3592 - acc: 0.3841Epoch 00005: val_loss did not improve\n",
      "3499/3499 [==============================] - 1s 368us/step - loss: 1.3588 - acc: 0.3824 - val_loss: 1.3435 - val_acc: 0.3449\n",
      "Epoch 6/60\n",
      "3488/3499 [============================>.] - ETA: 0s - loss: 1.2822 - acc: 0.3770Epoch 00006: val_loss did not improve\n",
      "3499/3499 [==============================] - 1s 344us/step - loss: 1.2821 - acc: 0.3770 - val_loss: 1.2643 - val_acc: 0.3479\n",
      "Epoch 7/60\n",
      "3488/3499 [============================>.] - ETA: 0s - loss: 1.2310 - acc: 0.3764Epoch 00007: val_loss did not improve\n",
      "3499/3499 [==============================] - 1s 345us/step - loss: 1.2308 - acc: 0.3770 - val_loss: 1.2141 - val_acc: 0.3470\n",
      "Epoch 8/60\n",
      "3488/3499 [============================>.] - ETA: 0s - loss: 1.1947 - acc: 0.3816Epoch 00008: val_loss did not improve\n",
      "3499/3499 [==============================] - 1s 342us/step - loss: 1.1946 - acc: 0.3827 - val_loss: 1.1915 - val_acc: 0.3543\n",
      "Epoch 9/60\n",
      "3488/3499 [============================>.] - ETA: 0s - loss: 1.1652 - acc: 0.3784Epoch 00009: val_loss did not improve\n",
      "3499/3499 [==============================] - 1s 343us/step - loss: 1.1653 - acc: 0.3787 - val_loss: 1.1596 - val_acc: 0.3582\n",
      "Epoch 10/60\n",
      "3488/3499 [============================>.] - ETA: 0s - loss: 1.1460 - acc: 0.3905Epoch 00010: val_loss did not improve\n",
      "3499/3499 [==============================] - 1s 346us/step - loss: 1.1459 - acc: 0.3904 - val_loss: 1.1433 - val_acc: 0.3638\n",
      "Epoch 11/60\n",
      "3488/3499 [============================>.] - ETA: 0s - loss: 1.1335 - acc: 0.3810Epoch 00011: val_loss did not improve\n",
      "3499/3499 [==============================] - 1s 346us/step - loss: 1.1337 - acc: 0.3810 - val_loss: 1.1365 - val_acc: 0.3479\n",
      "Epoch 12/60\n",
      "3488/3499 [============================>.] - ETA: 0s - loss: 1.1223 - acc: 0.3925Epoch 00012: val_loss did not improve\n",
      "3499/3499 [==============================] - 1s 344us/step - loss: 1.1223 - acc: 0.3927 - val_loss: 1.1284 - val_acc: 0.3479\n",
      "Epoch 13/60\n",
      "3488/3499 [============================>.] - ETA: 0s - loss: 1.1155 - acc: 0.3796Epoch 00013: val_loss did not improve\n",
      "3499/3499 [==============================] - 1s 345us/step - loss: 1.1158 - acc: 0.3795 - val_loss: 1.1195 - val_acc: 0.3599\n",
      "Epoch 14/60\n",
      "3488/3499 [============================>.] - ETA: 0s - loss: 1.1095 - acc: 0.3816Epoch 00014: val_loss did not improve\n",
      "3499/3499 [==============================] - 1s 344us/step - loss: 1.1095 - acc: 0.3818 - val_loss: 1.1145 - val_acc: 0.3496\n",
      "Epoch 15/60\n",
      "3488/3499 [============================>.] - ETA: 0s - loss: 1.1045 - acc: 0.3868Epoch 00015: val_loss did not improve\n",
      "3499/3499 [==============================] - 1s 344us/step - loss: 1.1045 - acc: 0.3870 - val_loss: 1.1156 - val_acc: 0.3578\n",
      "Epoch 16/60\n",
      "3488/3499 [============================>.] - ETA: 0s - loss: 1.1010 - acc: 0.3965Epoch 00016: val_loss did not improve\n",
      "3499/3499 [==============================] - 1s 345us/step - loss: 1.1009 - acc: 0.3964 - val_loss: 1.1166 - val_acc: 0.3560\n",
      "Epoch 17/60\n",
      "3488/3499 [============================>.] - ETA: 0s - loss: 1.0992 - acc: 0.3845Epoch 00017: val_loss improved from 1.10816 to 1.10347, saving model to /home/workspace/saved_models/text/cnn.weights.best.hdf5\n",
      "3499/3499 [==============================] - 1s 369us/step - loss: 1.0992 - acc: 0.3844 - val_loss: 1.1035 - val_acc: 0.3638\n",
      "Epoch 18/60\n",
      "3488/3499 [============================>.] - ETA: 0s - loss: 1.0980 - acc: 0.3859Epoch 00018: val_loss did not improve\n",
      "3499/3499 [==============================] - 1s 344us/step - loss: 1.0979 - acc: 0.3864 - val_loss: 1.1084 - val_acc: 0.3560\n",
      "Epoch 19/60\n",
      "3456/3499 [============================>.] - ETA: 0s - loss: 1.0956 - acc: 0.3921Epoch 00019: val_loss improved from 1.10347 to 1.10157, saving model to /home/workspace/saved_models/text/cnn.weights.best.hdf5\n",
      "3499/3499 [==============================] - 1s 356us/step - loss: 1.0957 - acc: 0.3918 - val_loss: 1.1016 - val_acc: 0.3732\n",
      "Epoch 20/60\n",
      "3488/3499 [============================>.] - ETA: 0s - loss: 1.0959 - acc: 0.3807Epoch 00020: val_loss did not improve\n",
      "3499/3499 [==============================] - 1s 346us/step - loss: 1.0958 - acc: 0.3807 - val_loss: 1.1076 - val_acc: 0.3569\n",
      "Epoch 21/60\n",
      "3488/3499 [============================>.] - ETA: 0s - loss: 1.0949 - acc: 0.3856Epoch 00021: val_loss did not improve\n",
      "3499/3499 [==============================] - 1s 346us/step - loss: 1.0949 - acc: 0.3853 - val_loss: 1.1069 - val_acc: 0.3620\n",
      "Epoch 22/60\n",
      "3488/3499 [============================>.] - ETA: 0s - loss: 1.0950 - acc: 0.3802Epoch 00022: val_loss improved from 1.10157 to 1.10052, saving model to /home/workspace/saved_models/text/cnn.weights.best.hdf5\n",
      "3499/3499 [==============================] - 1s 353us/step - loss: 1.0949 - acc: 0.3810 - val_loss: 1.1005 - val_acc: 0.3676\n",
      "Epoch 23/60\n",
      "3456/3499 [============================>.] - ETA: 0s - loss: 1.0946 - acc: 0.3819Epoch 00023: val_loss did not improve\n",
      "3499/3499 [==============================] - 1s 349us/step - loss: 1.0946 - acc: 0.3818 - val_loss: 1.1111 - val_acc: 0.3573\n",
      "Epoch 24/60\n",
      "3488/3499 [============================>.] - ETA: 0s - loss: 1.0966 - acc: 0.3842Epoch 00024: val_loss did not improve\n",
      "3499/3499 [==============================] - 1s 342us/step - loss: 1.0964 - acc: 0.3853 - val_loss: 1.1036 - val_acc: 0.3599\n",
      "Epoch 25/60\n",
      "3488/3499 [============================>.] - ETA: 0s - loss: 1.0950 - acc: 0.3833Epoch 00025: val_loss did not improve\n",
      "3499/3499 [==============================] - 1s 343us/step - loss: 1.0952 - acc: 0.3827 - val_loss: 1.1036 - val_acc: 0.3552\n",
      "Epoch 26/60\n",
      "3488/3499 [============================>.] - ETA: 0s - loss: 1.0941 - acc: 0.3865Epoch 00026: val_loss did not improve\n",
      "3499/3499 [==============================] - 1s 345us/step - loss: 1.0940 - acc: 0.3870 - val_loss: 1.1033 - val_acc: 0.3488\n",
      "Epoch 27/60\n",
      "3488/3499 [============================>.] - ETA: 0s - loss: 1.0943 - acc: 0.3816Epoch 00027: val_loss did not improve\n",
      "3499/3499 [==============================] - 1s 343us/step - loss: 1.0942 - acc: 0.3824 - val_loss: 1.1072 - val_acc: 0.3590\n",
      "Epoch 28/60\n",
      "3488/3499 [============================>.] - ETA: 0s - loss: 1.0942 - acc: 0.3879Epoch 00028: val_loss did not improve\n",
      "3499/3499 [==============================] - 1s 343us/step - loss: 1.0942 - acc: 0.3878 - val_loss: 1.1031 - val_acc: 0.3573\n",
      "Epoch 29/60\n",
      "3488/3499 [============================>.] - ETA: 0s - loss: 1.0925 - acc: 0.3787Epoch 00029: val_loss did not improve\n",
      "3499/3499 [==============================] - 1s 345us/step - loss: 1.0926 - acc: 0.3784 - val_loss: 1.1009 - val_acc: 0.3650\n",
      "Epoch 30/60\n",
      "3488/3499 [============================>.] - ETA: 0s - loss: 1.0931 - acc: 0.3842Epoch 00030: val_loss did not improve\n",
      "3499/3499 [==============================] - 1s 357us/step - loss: 1.0931 - acc: 0.3841 - val_loss: 1.1010 - val_acc: 0.3543\n",
      "Epoch 31/60\n",
      "3488/3499 [============================>.] - ETA: 0s - loss: 1.0925 - acc: 0.3870Epoch 00031: val_loss did not improve\n",
      "3499/3499 [==============================] - 1s 344us/step - loss: 1.0925 - acc: 0.3873 - val_loss: 1.1008 - val_acc: 0.3638\n"
     ]
    },
    {
     "name": "stdout",
     "output_type": "stream",
     "text": [
      "Epoch 32/60\n",
      "3488/3499 [============================>.] - ETA: 0s - loss: 1.0927 - acc: 0.3845Epoch 00032: val_loss improved from 1.10052 to 1.09960, saving model to /home/workspace/saved_models/text/cnn.weights.best.hdf5\n",
      "3499/3499 [==============================] - 1s 358us/step - loss: 1.0928 - acc: 0.3847 - val_loss: 1.0996 - val_acc: 0.3719\n",
      "Epoch 33/60\n",
      "3488/3499 [============================>.] - ETA: 0s - loss: 1.0917 - acc: 0.3931Epoch 00033: val_loss did not improve\n",
      "3499/3499 [==============================] - 1s 346us/step - loss: 1.0917 - acc: 0.3930 - val_loss: 1.1033 - val_acc: 0.3573\n",
      "Epoch 34/60\n",
      "3488/3499 [============================>.] - ETA: 0s - loss: 1.0935 - acc: 0.3911Epoch 00034: val_loss did not improve\n",
      "3499/3499 [==============================] - 1s 345us/step - loss: 1.0935 - acc: 0.3910 - val_loss: 1.2078 - val_acc: 0.3123\n",
      "Epoch 35/60\n",
      "3488/3499 [============================>.] - ETA: 0s - loss: 1.0983 - acc: 0.3693Epoch 00035: val_loss did not improve\n",
      "3499/3499 [==============================] - 1s 345us/step - loss: 1.0985 - acc: 0.3690 - val_loss: 1.1062 - val_acc: 0.3479\n",
      "Epoch 36/60\n",
      "3488/3499 [============================>.] - ETA: 0s - loss: 1.0965 - acc: 0.3658Epoch 00036: val_loss did not improve\n",
      "3499/3499 [==============================] - 1s 347us/step - loss: 1.0964 - acc: 0.3658 - val_loss: 1.1042 - val_acc: 0.3483\n",
      "Epoch 37/60\n",
      "3488/3499 [============================>.] - ETA: 0s - loss: 1.0948 - acc: 0.3753Epoch 00037: val_loss did not improve\n",
      "3499/3499 [==============================] - 1s 345us/step - loss: 1.0947 - acc: 0.3753 - val_loss: 1.1033 - val_acc: 0.3475\n",
      "Epoch 38/60\n",
      "3456/3499 [============================>.] - ETA: 0s - loss: 1.0949 - acc: 0.3828Epoch 00038: val_loss did not improve\n",
      "3499/3499 [==============================] - 1s 345us/step - loss: 1.0947 - acc: 0.3830 - val_loss: 1.1037 - val_acc: 0.3492\n",
      "Epoch 39/60\n",
      "3488/3499 [============================>.] - ETA: 0s - loss: 1.0944 - acc: 0.3902Epoch 00039: val_loss did not improve\n",
      "3499/3499 [==============================] - 1s 345us/step - loss: 1.0943 - acc: 0.3904 - val_loss: 1.1007 - val_acc: 0.3608\n",
      "Epoch 40/60\n",
      "3488/3499 [============================>.] - ETA: 0s - loss: 1.0926 - acc: 0.3911Epoch 00040: val_loss did not improve\n",
      "3499/3499 [==============================] - 1s 342us/step - loss: 1.0925 - acc: 0.3913 - val_loss: 1.1021 - val_acc: 0.3565\n",
      "Epoch 41/60\n",
      "3456/3499 [============================>.] - ETA: 0s - loss: 1.0927 - acc: 0.3866Epoch 00041: val_loss did not improve\n",
      "3499/3499 [==============================] - 1s 348us/step - loss: 1.0928 - acc: 0.3858 - val_loss: 1.1061 - val_acc: 0.3578\n",
      "Epoch 42/60\n",
      "3488/3499 [============================>.] - ETA: 0s - loss: 1.0932 - acc: 0.3850Epoch 00042: val_loss did not improve\n",
      "3499/3499 [==============================] - 1s 346us/step - loss: 1.0932 - acc: 0.3853 - val_loss: 1.1030 - val_acc: 0.3548\n",
      "Epoch 00042: early stopping\n"
     ]
    }
   ],
   "source": [
    "!rm './saved_models/text/cnn.weights.best.hdf5'\n",
    "cnn_history=cnn.fit(x_train_reshaped, y_train, validation_split=0.4,\n",
    "                    epochs=cnn_epochs, callbacks=[cnn_checkpts, es], verbose=1)"
   ]
  },
  {
   "cell_type": "markdown",
   "metadata": {},
   "source": [
    "Load the best model from save"
   ]
  },
  {
   "cell_type": "code",
   "execution_count": 55,
   "metadata": {},
   "outputs": [],
   "source": [
    "cnn = build_CNN(num_polarities, show=False)\n",
    "cnn.load_weights(os.path.join(os.getcwd(),'saved_models','text','cnn.weights.best.hdf5'))"
   ]
  },
  {
   "cell_type": "code",
   "execution_count": 56,
   "metadata": {
    "scrolled": true
   },
   "outputs": [
    {
     "name": "stdout",
     "output_type": "stream",
     "text": [
      "2874/2874 [==============================] - 0s 90us/step\n"
     ]
    },
    {
     "data": {
      "text/plain": [
       "Counter({0: 1775, 1: 336, 2: 763})"
      ]
     },
     "execution_count": 56,
     "metadata": {},
     "output_type": "execute_result"
    }
   ],
   "source": [
    "y_pred_cnn = cnn.predict_classes(x_test_reshaped)\n",
    "Counter(y_pred_cnn)"
   ]
  },
  {
   "cell_type": "code",
   "execution_count": 57,
   "metadata": {},
   "outputs": [
    {
     "name": "stdout",
     "output_type": "stream",
     "text": [
      "2874/2874 [==============================] - 0s 51us/step\n",
      "Test accuracy: 37.9958%\n"
     ]
    }
   ],
   "source": [
    "cnn_accuracy = cnn.evaluate(x_test_reshaped, y_test, batch_size=128)[1] * 100\n",
    "print('Test accuracy: %.4f%%' % cnn_accuracy)"
   ]
  },
  {
   "cell_type": "code",
   "execution_count": 58,
   "metadata": {},
   "outputs": [
    {
     "data": {
      "image/png": "[encoded data removed]",
      "text/plain": [
       "<matplotlib.figure.Figure at 0x7f6bcc2bc048>"
      ]
     },
     "metadata": {},
     "output_type": "display_data"
    }
   ],
   "source": [
    "plot_history(cnn_history)"
   ]
  },
  {
   "cell_type": "markdown",
   "metadata": {},
   "source": [
    "Test on the extra testing set"
   ]
  },
  {
   "cell_type": "code",
   "execution_count": 59,
   "metadata": {},
   "outputs": [
    {
     "name": "stdout",
     "output_type": "stream",
     "text": [
      "3396/3396 [==============================] - 0s 77us/step\n"
     ]
    },
    {
     "data": {
      "text/plain": [
       "Counter({0: 2397, 1: 319, 2: 680})"
      ]
     },
     "execution_count": 59,
     "metadata": {},
     "output_type": "execute_result"
    }
   ],
   "source": [
    "Counter(cnn.predict_classes(X_test_ex_reshaped))"
   ]
  },
  {
   "cell_type": "code",
   "execution_count": 60,
   "metadata": {},
   "outputs": [
    {
     "name": "stdout",
     "output_type": "stream",
     "text": [
      "3396/3396 [==============================] - 0s 33us/step\n",
      "Test accuracy: 21.0836%\n"
     ]
    }
   ],
   "source": [
    "cnn_accuracy = cnn.evaluate(X_test_ex_reshaped, y_test_ex, batch_size=128)[1] * 100\n",
    "print('Test accuracy: %.4f%%' % cnn_accuracy)"
   ]
  },
  {
   "cell_type": "markdown",
   "metadata": {},
   "source": [
    "### GloVe"
   ]
  },
  {
   "cell_type": "markdown",
   "metadata": {},
   "source": [
    "Extract word embeddings from the Glove"
   ]
  },
  {
   "cell_type": "code",
   "execution_count": 9,
   "metadata": {},
   "outputs": [],
   "source": [
    "embeddings_index = dict()\n",
    "f = open('glove.6B.100d.txt', encoding=\"utf8\")\n",
    "for line in f:\n",
    "    values = line.split()\n",
    "    word = values[0]\n",
    "    coefs = np.asarray(values[1:], dtype='float32')\n",
    "    embeddings_index[word] = coefs\n",
    "f.close()"
   ]
  },
  {
   "cell_type": "markdown",
   "metadata": {},
   "source": [
    "Create a weight matrix"
   ]
  },
  {
   "cell_type": "code",
   "execution_count": 11,
   "metadata": {},
   "outputs": [
    {
     "ename": "NameError",
     "evalue": "name 'tokenizer' is not defined",
     "output_type": "error",
     "traceback": [
      "\u001b[0;31m---------------------------------------------------------------------------\u001b[0m",
      "\u001b[0;31mNameError\u001b[0m                                 Traceback (most recent call last)",
      "\u001b[0;32m<ipython-input-11-2ba2cf58df7e>\u001b[0m in \u001b[0;36m<module>\u001b[0;34m()\u001b[0m\n\u001b[1;32m      2\u001b[0m \u001b[0;34m\u001b[0m\u001b[0m\n\u001b[1;32m      3\u001b[0m \u001b[0membedding_matrix\u001b[0m \u001b[0;34m=\u001b[0m \u001b[0mnp\u001b[0m\u001b[0;34m.\u001b[0m\u001b[0mzeros\u001b[0m\u001b[0;34m(\u001b[0m\u001b[0;34m(\u001b[0m\u001b[0;36m6000\u001b[0m\u001b[0;34m,\u001b[0m \u001b[0;36m100\u001b[0m\u001b[0;34m)\u001b[0m\u001b[0;34m)\u001b[0m\u001b[0;34m\u001b[0m\u001b[0m\n\u001b[0;32m----> 4\u001b[0;31m \u001b[0;32mfor\u001b[0m \u001b[0mword\u001b[0m\u001b[0;34m,\u001b[0m \u001b[0mindex\u001b[0m \u001b[0;32min\u001b[0m \u001b[0mtokenizer\u001b[0m\u001b[0;34m.\u001b[0m\u001b[0mword_index\u001b[0m\u001b[0;34m.\u001b[0m\u001b[0mitems\u001b[0m\u001b[0;34m(\u001b[0m\u001b[0;34m)\u001b[0m\u001b[0;34m:\u001b[0m\u001b[0;34m\u001b[0m\u001b[0m\n\u001b[0m\u001b[1;32m      5\u001b[0m     \u001b[0;32mif\u001b[0m \u001b[0mindex\u001b[0m \u001b[0;34m>\u001b[0m \u001b[0mvocabulary_size\u001b[0m \u001b[0;34m-\u001b[0m \u001b[0;36m1\u001b[0m\u001b[0;34m:\u001b[0m\u001b[0;34m\u001b[0m\u001b[0m\n\u001b[1;32m      6\u001b[0m         \u001b[0;32mbreak\u001b[0m\u001b[0;34m\u001b[0m\u001b[0m\n",
      "\u001b[0;31mNameError\u001b[0m: name 'tokenizer' is not defined"
     ]
    }
   ],
   "source": [
    "# vocabulary_size=6000\n",
    "\n",
    "embedding_matrix = np.zeros((6000, 100))\n",
    "for word, index in tokenizer.word_index.items():\n",
    "    if index > vocabulary_size - 1:\n",
    "        break\n",
    "    else:\n",
    "        embedding_vector = embeddings_index.get(word)\n",
    "        if embedding_vector is not None:\n",
    "            embedding_matrix[index] = embedding_vector"
   ]
  },
  {
   "cell_type": "markdown",
   "metadata": {},
   "source": [
    "### GloVe + LSTM\n",
    "\n",
    "__Note1:__ Every LSTM layer should be accompanied by a Dropout layer. This layer will help to prevent overfitting by ignoring randomly selected neurons during training, and hence reduces the sensitivity to the specific weights of individual neurons.  \n",
    "About Time Distributed layer: https://machinelearningmastery.com/timedistributed-layer-for-long-short-term-memory-networks-in-python/  A wrapper to wrap LSTM's output  \n",
    "  \n",
    "__Note2:__ To solve the problem of LSTM always predicting the same class even when trained with balanced data, the 'return_sequences' param in the LSTM layer needs to be set to True and add a Flatten layer. In addition, 'return_sequences=True' must be set when stacking LSTM layers so that the second LSTM layer has a three-dimensional sequence input"
   ]
  },
  {
   "cell_type": "code",
   "execution_count": 67,
   "metadata": {},
   "outputs": [
    {
     "name": "stdout",
     "output_type": "stream",
     "text": [
      "The number of hidden nodes is 6666.\n"
     ]
    }
   ],
   "source": [
    "hidden_nodes = int(2/3 * (n_features * max_sequence_len))\n",
    "print(f\"The number of hidden nodes is {hidden_nodes}.\")"
   ]
  },
  {
   "cell_type": "code",
   "execution_count": 38,
   "metadata": {},
   "outputs": [],
   "source": [
    "def build_ConvLSTM(num_classes, vocabulary_size=None, max_sequence_len=None, \n",
    "                   optimizer=None, use_glove=None, show=True):\n",
    "    optimizer = optimizer or 'adam'\n",
    "    use_glove = use_glove or True\n",
    "    embedding_size=100\n",
    "    lstm_output_size=128\n",
    "    vocabulary_size=vocabulary_size or 6000\n",
    "    max_sequence_len=100\n",
    "    \n",
    "    model = Sequential()\n",
    "    if use_glove:\n",
    "        model.add(Embedding(input_dim=vocabulary_size, output_dim=embedding_size, input_length=max_sequence_len,\n",
    "                            weights=[embedding_matrix], trainable=False))\n",
    "    else:\n",
    "        model.add(Embedding(input_dim=vocabulary_size, output_dim=embedding_size, input_length=vocabulary_size))\n",
    "    model.add(Conv1D(filters=256,\n",
    "                     kernel_size=2,\n",
    "                     padding='valid',\n",
    "                     activation='relu',\n",
    "                     kernel_regularizer=l2(0.01),\n",
    "                     strides=1))\n",
    "    model.add(MaxPooling1D(pool_size=4))\n",
    "    model.add(LSTM(units=lstm_output_size, return_sequences=True))\n",
    "    model.add(BatchNormalization())\n",
    "    model.add(TimeDistributed(Dense(64)))\n",
    "#     model.add(Dropout(0.2))\n",
    "    model.add(LSTM(units=64, return_sequences=True))\n",
    "    model.add(BatchNormalization())\n",
    "    model.add(TimeDistributed(Dense(32)))\n",
    "#     model.add(Dropout(0.2))\n",
    "    model.add(LSTM(units=32, return_sequences=True))\n",
    "    model.add(BatchNormalization())\n",
    "    model.add(TimeDistributed(Dense(16)))\n",
    "#     model.add(Dropout(0.2))\n",
    "#     model.add(Flatten())\n",
    "    model.add(GlobalAveragePooling1D())\n",
    "    model.add(Dense(16, activation='relu', kernel_regularizer=l2(0.01)))\n",
    "#     model.add(BatchNormalization())\n",
    "#     model.add(Dropout(0.1))\n",
    "    model.add(Dense(num_classes, activation='softmax'))\n",
    "    model.compile(loss='categorical_crossentropy', optimizer=optimizer, metrics=['accuracy'])\n",
    "\n",
    "    if show:\n",
    "        print(model.summary())\n",
    "    return model"
   ]
  },
  {
   "cell_type": "code",
   "execution_count": 101,
   "metadata": {},
   "outputs": [],
   "source": [
    "glove_epochs=60\n",
    "glove_checkpts = ModelCheckpoint(filepath=os.path.join(os.getcwd(), 'saved_models','text','glove.weights.best.hdf5'), \n",
    "                               verbose=1, save_best_only=True)\n",
    "es = EarlyStopping(monitor='val_loss', mode='min', verbose=1, patience=5)"
   ]
  },
  {
   "cell_type": "code",
   "execution_count": 39,
   "metadata": {},
   "outputs": [
    {
     "name": "stdout",
     "output_type": "stream",
     "text": [
      "_________________________________________________________________\n",
      "Layer (type)                 Output Shape              Param #   \n",
      "=================================================================\n",
      "embedding_1 (Embedding)      (None, 100, 100)          600000    \n",
      "_________________________________________________________________\n",
      "conv1d_1 (Conv1D)            (None, 99, 256)           51456     \n",
      "_________________________________________________________________\n",
      "max_pooling1d_1 (MaxPooling1 (None, 24, 256)           0         \n",
      "_________________________________________________________________\n",
      "lstm_1 (LSTM)                (None, 24, 128)           197120    \n",
      "_________________________________________________________________\n",
      "batch_normalization_1 (Batch (None, 24, 128)           512       \n",
      "_________________________________________________________________\n",
      "time_distributed_1 (TimeDist (None, 24, 64)            8256      \n",
      "_________________________________________________________________\n",
      "lstm_2 (LSTM)                (None, 24, 64)            33024     \n",
      "_________________________________________________________________\n",
      "batch_normalization_2 (Batch (None, 24, 64)            256       \n",
      "_________________________________________________________________\n",
      "time_distributed_2 (TimeDist (None, 24, 32)            2080      \n",
      "_________________________________________________________________\n",
      "lstm_3 (LSTM)                (None, 24, 32)            8320      \n",
      "_________________________________________________________________\n",
      "batch_normalization_3 (Batch (None, 24, 32)            128       \n",
      "_________________________________________________________________\n",
      "time_distributed_3 (TimeDist (None, 24, 16)            528       \n",
      "_________________________________________________________________\n",
      "global_average_pooling1d_1 ( (None, 16)                0         \n",
      "_________________________________________________________________\n",
      "dense_4 (Dense)              (None, 16)                272       \n",
      "_________________________________________________________________\n",
      "dense_5 (Dense)              (None, 3)                 51        \n",
      "=================================================================\n",
      "Total params: 902,003\n",
      "Trainable params: 301,555\n",
      "Non-trainable params: 600,448\n",
      "_________________________________________________________________\n",
      "None\n"
     ]
    }
   ],
   "source": [
    "glove = build_ConvLSTM(num_classes=num_polarities, vocabulary_size=vocabulary_size,\n",
    "                           optimizer=optimizers.adam(lr=0.001), use_glove=True)"
   ]
  },
  {
   "cell_type": "code",
   "execution_count": 103,
   "metadata": {
    "scrolled": true
   },
   "outputs": [
    {
     "name": "stdout",
     "output_type": "stream",
     "text": [
      "Train on 3499 samples, validate on 2334 samples\n",
      "Epoch 1/60\n",
      "3488/3499 [============================>.] - ETA: 0s - loss: 1.8670 - acc: 0.3675Epoch 00001: val_loss improved from inf to 1.33561, saving model to /home/workspace/saved_models/text/glove.weights.best.hdf5\n",
      "3499/3499 [==============================] - 16s 4ms/step - loss: 1.8654 - acc: 0.3670 - val_loss: 1.3356 - val_acc: 0.3586\n",
      "Epoch 2/60\n",
      "3488/3499 [============================>.] - ETA: 0s - loss: 1.2319 - acc: 0.3933Epoch 00002: val_loss improved from 1.33561 to 1.18573, saving model to /home/workspace/saved_models/text/glove.weights.best.hdf5\n",
      "3499/3499 [==============================] - 13s 4ms/step - loss: 1.2316 - acc: 0.3933 - val_loss: 1.1857 - val_acc: 0.3513\n",
      "Epoch 3/60\n",
      "3488/3499 [============================>.] - ETA: 0s - loss: 1.1540 - acc: 0.3862Epoch 00003: val_loss improved from 1.18573 to 1.15476, saving model to /home/workspace/saved_models/text/glove.weights.best.hdf5\n",
      "3499/3499 [==============================] - 13s 4ms/step - loss: 1.1540 - acc: 0.3858 - val_loss: 1.1548 - val_acc: 0.3586\n",
      "Epoch 4/60\n",
      "3488/3499 [============================>.] - ETA: 0s - loss: 1.1249 - acc: 0.4019Epoch 00004: val_loss improved from 1.15476 to 1.14785, saving model to /home/workspace/saved_models/text/glove.weights.best.hdf5\n",
      "3499/3499 [==============================] - 12s 3ms/step - loss: 1.1248 - acc: 0.4024 - val_loss: 1.1478 - val_acc: 0.3586\n",
      "Epoch 5/60\n",
      "3488/3499 [============================>.] - ETA: 0s - loss: 1.1126 - acc: 0.4111Epoch 00005: val_loss improved from 1.14785 to 1.13119, saving model to /home/workspace/saved_models/text/glove.weights.best.hdf5\n",
      "3499/3499 [==============================] - 13s 4ms/step - loss: 1.1126 - acc: 0.4113 - val_loss: 1.1312 - val_acc: 0.3822\n",
      "Epoch 6/60\n",
      "3488/3499 [============================>.] - ETA: 0s - loss: 1.1014 - acc: 0.4237Epoch 00006: val_loss improved from 1.13119 to 1.11745, saving model to /home/workspace/saved_models/text/glove.weights.best.hdf5\n",
      "3499/3499 [==============================] - 12s 4ms/step - loss: 1.1015 - acc: 0.4238 - val_loss: 1.1174 - val_acc: 0.4023\n",
      "Epoch 7/60\n",
      "3488/3499 [============================>.] - ETA: 0s - loss: 1.0984 - acc: 0.4212Epoch 00007: val_loss did not improve\n",
      "3499/3499 [==============================] - 12s 4ms/step - loss: 1.0982 - acc: 0.4218 - val_loss: 1.1210 - val_acc: 0.4126\n",
      "Epoch 8/60\n",
      "3488/3499 [============================>.] - ETA: 0s - loss: 1.0909 - acc: 0.4326Epoch 00008: val_loss did not improve\n",
      "3499/3499 [==============================] - 12s 4ms/step - loss: 1.0908 - acc: 0.4327 - val_loss: 1.1466 - val_acc: 0.3698\n",
      "Epoch 9/60\n",
      "3488/3499 [============================>.] - ETA: 0s - loss: 1.0867 - acc: 0.4223Epoch 00009: val_loss did not improve\n",
      "3499/3499 [==============================] - 12s 4ms/step - loss: 1.0865 - acc: 0.4230 - val_loss: 1.1632 - val_acc: 0.3676\n",
      "Epoch 10/60\n",
      "3488/3499 [============================>.] - ETA: 0s - loss: 1.0780 - acc: 0.4458Epoch 00010: val_loss did not improve\n",
      "3499/3499 [==============================] - 13s 4ms/step - loss: 1.0778 - acc: 0.4467 - val_loss: 1.1535 - val_acc: 0.3586\n",
      "Epoch 11/60\n",
      "3488/3499 [============================>.] - ETA: 0s - loss: 1.0745 - acc: 0.4527Epoch 00011: val_loss did not improve\n",
      "3499/3499 [==============================] - 12s 4ms/step - loss: 1.0743 - acc: 0.4530 - val_loss: 1.1437 - val_acc: 0.4160\n",
      "Epoch 00011: early stopping\n"
     ]
    }
   ],
   "source": [
    "!rm './saved_models/text/glove.weights.best.hdf5'\n",
    "glove_history=glove.fit(x_train, y_train, validation_split=0.4, epochs=glove_epochs, callbacks=[glove_checkpts, es], verbose=1)"
   ]
  },
  {
   "cell_type": "markdown",
   "metadata": {},
   "source": [
    "Load the best model from save"
   ]
  },
  {
   "cell_type": "code",
   "execution_count": 104,
   "metadata": {},
   "outputs": [],
   "source": [
    "glove = build_ConvLSTM(num_classes=num_polarities, vocabulary_size=vocabulary_size,\n",
    "                           optimizer=optimizers.adam(lr=0.001), use_glove=True, show=False)\n",
    "glove.load_weights(os.path.join(os.getcwd(),'saved_models','text','glove.weights.best.hdf5'))"
   ]
  },
  {
   "cell_type": "code",
   "execution_count": 105,
   "metadata": {},
   "outputs": [
    {
     "name": "stdout",
     "output_type": "stream",
     "text": [
      "2874/2874 [==============================] - 4s 1ms/step\n"
     ]
    },
    {
     "data": {
      "text/plain": [
       "Counter({2: 1868, 0: 835, 1: 171})"
      ]
     },
     "execution_count": 105,
     "metadata": {},
     "output_type": "execute_result"
    }
   ],
   "source": [
    "y_pred_glove = glove.predict_classes(x_test)\n",
    "Counter(y_pred_glove)"
   ]
  },
  {
   "cell_type": "code",
   "execution_count": 106,
   "metadata": {},
   "outputs": [
    {
     "name": "stdout",
     "output_type": "stream",
     "text": [
      "2874/2874 [==============================] - 2s 617us/step\n",
      "Test accuracy: 39.8747%\n"
     ]
    }
   ],
   "source": [
    "glove_accuracy = glove.evaluate(x_test, y_test, batch_size=128)[1] * 100\n",
    "print('Test accuracy: %.4f%%' % glove_accuracy)"
   ]
  },
  {
   "cell_type": "code",
   "execution_count": 109,
   "metadata": {},
   "outputs": [
    {
     "data": {
      "image/png": "[encoded data removed]",
      "text/plain": [
       "<matplotlib.figure.Figure at 0x7f2e7e3b43c8>"
      ]
     },
     "metadata": {},
     "output_type": "display_data"
    }
   ],
   "source": [
    "plot_history(glove_history)"
   ]
  },
  {
   "cell_type": "markdown",
   "metadata": {},
   "source": [
    "Test on the extra test set"
   ]
  },
  {
   "cell_type": "code",
   "execution_count": 110,
   "metadata": {},
   "outputs": [
    {
     "name": "stdout",
     "output_type": "stream",
     "text": [
      "3393/3393 [==============================] - 4s 1ms/step\n"
     ]
    },
    {
     "data": {
      "text/plain": [
       "Counter({0: 1014, 2: 2093, 1: 286})"
      ]
     },
     "execution_count": 110,
     "metadata": {},
     "output_type": "execute_result"
    }
   ],
   "source": [
    "Counter(glove.predict_classes(X_test_ex))"
   ]
  },
  {
   "cell_type": "code",
   "execution_count": 111,
   "metadata": {},
   "outputs": [
    {
     "name": "stdout",
     "output_type": "stream",
     "text": [
      "3393/3393 [==============================] - 1s 338us/step\n",
      "Test accuracy: 13.4984%\n"
     ]
    }
   ],
   "source": [
    "glove_accuracy_ex = glove.evaluate(X_test_ex, y_test_ex, batch_size=128)[1] * 100\n",
    "print('Test accuracy: %.4f%%' % glove_accuracy_ex)"
   ]
  },
  {
   "cell_type": "code",
   "execution_count": 63,
   "metadata": {},
   "outputs": [
    {
     "name": "stdout",
     "output_type": "stream",
     "text": [
      "Fully-Connected: Counter({0: 2225, 2: 963, 1: 188})\n",
      "      CNN      : Counter({0: 2482, 2: 893, 1: 1})\n",
      "LSTM with GloVe: Counter({0: 2284, 2: 998, 1: 94})\n",
      "where {'negative': 0, 'neutral': 1, 'positive': 2}\n"
     ]
    }
   ],
   "source": [
    "print('Fully-Connected:',Counter(dense.predict_classes(X_test_ex)))\n",
    "print('      CNN      :',Counter(cnn.predict_classes(X_test_ex_reshaped)))\n",
    "print('LSTM with GloVe:',Counter(glove.predict_classes(X_test_ex)))\n",
    "print('where',sen_label_map)"
   ]
  },
  {
   "cell_type": "code",
   "execution_count": null,
   "metadata": {},
   "outputs": [],
   "source": []
  }
 ],
 "metadata": {
  "kernelspec": {
   "display_name": "Python 3",
   "language": "python",
   "name": "python3"
  },
  "language_info": {
   "codemirror_mode": {
    "name": "ipython",
    "version": 3
   },
   "file_extension": ".py",
   "mimetype": "text/x-python",
   "name": "python",
   "nbconvert_exporter": "python",
   "pygments_lexer": "ipython3",
   "version": "3.6.3"
  },
  "toc": {
   "base_numbering": 1,
   "nav_menu": {},
   "number_sections": true,
   "sideBar": true,
   "skip_h1_title": false,
   "title_cell": "Table of Contents",
   "title_sidebar": "Contents",
   "toc_cell": false,
   "toc_position": {
    "height": "calc(100% - 180px)",
    "left": "10px",
    "top": "150px",
    "width": "219px"
   },
   "toc_section_display": true,
   "toc_window_display": true
  }
 },
 "nbformat": 4,
 "nbformat_minor": 2
}
