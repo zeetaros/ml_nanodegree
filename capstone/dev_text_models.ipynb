{
 "cells": [
  {
   "cell_type": "markdown",
   "metadata": {},
   "source": [
    "## Topic: Sentiment Analysis on Conversational Data\n",
    "Import required packages"
   ]
  },
  {
   "cell_type": "code",
   "execution_count": 61,
   "metadata": {},
   "outputs": [],
   "source": [
    "import os\n",
    "import re\n",
    "import json\n",
    "import pandas as pd\n",
    "import numpy as np\n",
    "import matplotlib.pyplot as plt\n",
    "import seaborn as sns\n",
    "from math import floor\n",
    "from collections import Counter\n",
    "from tqdm import tqdm, tqdm_notebook\n",
    "from nltk.tokenize import sent_tokenize, word_tokenize\n",
    "from nltk.stem import PorterStemmer, SnowballStemmer"
   ]
  },
  {
   "cell_type": "code",
   "execution_count": 62,
   "metadata": {},
   "outputs": [],
   "source": [
    "from sklearn.utils import shuffle\n",
    "from sklearn.preprocessing import Normalizer\n",
    "from sklearn.feature_extraction.text import TfidfVectorizer, ENGLISH_STOP_WORDS\n",
    "from sklearn.decomposition import PCA, TruncatedSVD\n",
    "from sklearn.svm import SVC, LinearSVC\n",
    "from sklearn.ensemble import RandomForestClassifier\n",
    "from sklearn.model_selection import GridSearchCV, train_test_split, StratifiedKFold\n",
    "from sklearn.metrics import confusion_matrix, f1_score, roc_curve"
   ]
  },
  {
   "cell_type": "code",
   "execution_count": 63,
   "metadata": {},
   "outputs": [],
   "source": [
    "from keras.layers import Input, Dense, Embedding, Conv1D, Conv2D, Lambda, LSTM, ConvLSTM2D, TimeDistributed, Masking, Bidirectional\n",
    "from keras.layers import Reshape, Flatten, Dropout, Concatenate, Activation, MaxPooling1D, GlobalAveragePooling1D, MaxPooling2D, GlobalAveragePooling2D\n",
    "from keras.callbacks import ModelCheckpoint, EarlyStopping\n",
    "from keras.layers.normalization import BatchNormalization\n",
    "from keras.preprocessing.text import Tokenizer\n",
    "from keras.preprocessing.sequence import pad_sequences\n",
    "from keras.preprocessing import sequence\n",
    "from keras.models import Model, load_model, Sequential\n",
    "from keras.optimizers import Adam\n",
    "from keras.regularizers import l2, l1\n",
    "from keras.utils import to_categorical\n",
    "from keras import optimizers\n",
    "import keras.backend as K"
   ]
  },
  {
   "cell_type": "markdown",
   "metadata": {},
   "source": [
    "## Data Import"
   ]
  },
  {
   "cell_type": "code",
   "execution_count": 64,
   "metadata": {},
   "outputs": [],
   "source": [
    "dev_raw = pd.read_csv(os.path.join(os.getcwd(), 'data','dev_sent_emo.csv'))\n",
    "train_raw = pd.read_csv(os.path.join(os.getcwd(), 'data','train_sent_emo.csv'))\n",
    "test_raw = pd.read_csv(os.path.join(os.getcwd(), 'data','test_sent_emo.csv'))"
   ]
  },
  {
   "cell_type": "code",
   "execution_count": 65,
   "metadata": {},
   "outputs": [
    {
     "data": {
      "text/html": [
       "<div>\n",
       "<style scoped>\n",
       "    .dataframe tbody tr th:only-of-type {\n",
       "        vertical-align: middle;\n",
       "    }\n",
       "\n",
       "    .dataframe tbody tr th {\n",
       "        vertical-align: top;\n",
       "    }\n",
       "\n",
       "    .dataframe thead th {\n",
       "        text-align: right;\n",
       "    }\n",
       "</style>\n",
       "<table border=\"1\" class=\"dataframe\">\n",
       "  <thead>\n",
       "    <tr style=\"text-align: right;\">\n",
       "      <th></th>\n",
       "      <th>Sr No.</th>\n",
       "      <th>Utterance</th>\n",
       "      <th>Speaker</th>\n",
       "      <th>Emotion</th>\n",
       "      <th>Sentiment</th>\n",
       "      <th>Dialogue_ID</th>\n",
       "      <th>Utterance_ID</th>\n",
       "      <th>Season</th>\n",
       "      <th>Episode</th>\n",
       "      <th>StartTime</th>\n",
       "      <th>EndTime</th>\n",
       "    </tr>\n",
       "  </thead>\n",
       "  <tbody>\n",
       "    <tr>\n",
       "      <th>0</th>\n",
       "      <td>1</td>\n",
       "      <td>Oh my God, hes lost it. Hes totally lost it.</td>\n",
       "      <td>Phoebe</td>\n",
       "      <td>sadness</td>\n",
       "      <td>negative</td>\n",
       "      <td>0</td>\n",
       "      <td>0</td>\n",
       "      <td>4</td>\n",
       "      <td>7</td>\n",
       "      <td>00:20:57,256</td>\n",
       "      <td>00:21:00,049</td>\n",
       "    </tr>\n",
       "    <tr>\n",
       "      <th>1</th>\n",
       "      <td>2</td>\n",
       "      <td>What?</td>\n",
       "      <td>Monica</td>\n",
       "      <td>surprise</td>\n",
       "      <td>negative</td>\n",
       "      <td>0</td>\n",
       "      <td>1</td>\n",
       "      <td>4</td>\n",
       "      <td>7</td>\n",
       "      <td>00:21:01,927</td>\n",
       "      <td>00:21:03,261</td>\n",
       "    </tr>\n",
       "    <tr>\n",
       "      <th>2</th>\n",
       "      <td>3</td>\n",
       "      <td>Or! Or, we could go to the bank, close our acc...</td>\n",
       "      <td>Ross</td>\n",
       "      <td>neutral</td>\n",
       "      <td>neutral</td>\n",
       "      <td>1</td>\n",
       "      <td>0</td>\n",
       "      <td>4</td>\n",
       "      <td>4</td>\n",
       "      <td>00:12:24,660</td>\n",
       "      <td>00:12:30,915</td>\n",
       "    </tr>\n",
       "    <tr>\n",
       "      <th>3</th>\n",
       "      <td>4</td>\n",
       "      <td>Youre a genius!</td>\n",
       "      <td>Chandler</td>\n",
       "      <td>joy</td>\n",
       "      <td>positive</td>\n",
       "      <td>1</td>\n",
       "      <td>1</td>\n",
       "      <td>4</td>\n",
       "      <td>4</td>\n",
       "      <td>00:12:32,334</td>\n",
       "      <td>00:12:33,960</td>\n",
       "    </tr>\n",
       "    <tr>\n",
       "      <th>4</th>\n",
       "      <td>5</td>\n",
       "      <td>Aww, man, now we wont be bank buddies!</td>\n",
       "      <td>Joey</td>\n",
       "      <td>sadness</td>\n",
       "      <td>negative</td>\n",
       "      <td>1</td>\n",
       "      <td>2</td>\n",
       "      <td>4</td>\n",
       "      <td>4</td>\n",
       "      <td>00:12:34,211</td>\n",
       "      <td>00:12:37,505</td>\n",
       "    </tr>\n",
       "  </tbody>\n",
       "</table>\n",
       "</div>"
      ],
      "text/plain": [
       "   Sr No.                                          Utterance   Speaker  \\\n",
       "0       1     Oh my God, hes lost it. Hes totally lost it.    Phoebe   \n",
       "1       2                                              What?    Monica   \n",
       "2       3  Or! Or, we could go to the bank, close our acc...      Ross   \n",
       "3       4                                   Youre a genius!  Chandler   \n",
       "4       5            Aww, man, now we wont be bank buddies!      Joey   \n",
       "\n",
       "    Emotion Sentiment  Dialogue_ID  Utterance_ID  Season  Episode  \\\n",
       "0   sadness  negative            0             0       4        7   \n",
       "1  surprise  negative            0             1       4        7   \n",
       "2   neutral   neutral            1             0       4        4   \n",
       "3       joy  positive            1             1       4        4   \n",
       "4   sadness  negative            1             2       4        4   \n",
       "\n",
       "      StartTime       EndTime  \n",
       "0  00:20:57,256  00:21:00,049  \n",
       "1  00:21:01,927  00:21:03,261  \n",
       "2  00:12:24,660  00:12:30,915  \n",
       "3  00:12:32,334  00:12:33,960  \n",
       "4  00:12:34,211  00:12:37,505  "
      ]
     },
     "execution_count": 65,
     "metadata": {},
     "output_type": "execute_result"
    }
   ],
   "source": [
    "dev_raw.head()"
   ]
  },
  {
   "cell_type": "markdown",
   "metadata": {},
   "source": [
    "## Labels Distribution"
   ]
  },
  {
   "cell_type": "code",
   "execution_count": 66,
   "metadata": {
    "scrolled": true
   },
   "outputs": [
    {
     "data": {
      "text/plain": [
       "Text(0.5, 1.0, 'testing set')"
      ]
     },
     "execution_count": 66,
     "metadata": {},
     "output_type": "execute_result"
    },
    {
     "data": {
      "image/png": "[encoded data removed]",
      "text/plain": [
       "<Figure size 1080x288 with 3 Axes>"
      ]
     },
     "metadata": {
      "needs_background": "light"
     },
     "output_type": "display_data"
    }
   ],
   "source": [
    "f, axes = plt.subplots(1, 3, figsize=(15,4))\n",
    "sns.countplot(x='Sentiment', data=dev_raw, ax=axes[0], order=['negative','neutral','positive']).set_title('dev set')\n",
    "sns.countplot(x='Sentiment', data=train_raw, ax=axes[1], order=['negative','neutral','positive']).set_title('training set')\n",
    "sns.countplot(x='Sentiment', data=test_raw, ax=axes[2], order=['negative','neutral','positive']).set_title('testing set')"
   ]
  },
  {
   "cell_type": "code",
   "execution_count": 67,
   "metadata": {},
   "outputs": [
    {
     "name": "stdout",
     "output_type": "stream",
     "text": [
      "Counter({'neutral': 470, 'negative': 406, 'positive': 233})\n",
      "Counter({'neutral': 4710, 'negative': 2945, 'positive': 2334})\n",
      "Counter({'neutral': 1256, 'negative': 833, 'positive': 521})\n"
     ]
    }
   ],
   "source": [
    "print(Counter(dev_raw.Sentiment))\n",
    "print(Counter(train_raw.Sentiment))\n",
    "print(Counter(test_raw.Sentiment))"
   ]
  },
  {
   "cell_type": "code",
   "execution_count": 68,
   "metadata": {},
   "outputs": [],
   "source": [
    "dev_raw.Utterance = dev_raw.Utterance.apply(lambda x: re.sub('\\\\x92', \"'\", x))\n",
    "train_raw.Utterance = train_raw.Utterance.apply(lambda x: re.sub('\\\\x92', \"'\", x))\n",
    "test_raw.Utterance = test_raw.Utterance.apply(lambda x: re.sub('\\\\x92', \"'\", x))"
   ]
  },
  {
   "cell_type": "code",
   "execution_count": 69,
   "metadata": {},
   "outputs": [
    {
     "data": {
      "text/plain": [
       "Text(0.5, 1.0, 'train+test set')"
      ]
     },
     "execution_count": 69,
     "metadata": {},
     "output_type": "execute_result"
    },
    {
     "data": {
      "image/png": "[encoded data removed]",
      "text/plain": [
       "<Figure size 432x288 with 1 Axes>"
      ]
     },
     "metadata": {
      "needs_background": "light"
     },
     "output_type": "display_data"
    }
   ],
   "source": [
    "train_raw['source'] = 'train'\n",
    "test_raw['source'] = 'test'\n",
    "data_raw = pd.concat([train_raw, test_raw])\n",
    "data_raw.shape\n",
    "sns.countplot(x='Sentiment', data=data_raw, order=['negative','neutral','positive']).set_title('train+test set')"
   ]
  },
  {
   "cell_type": "markdown",
   "metadata": {},
   "source": [
    "## Resampling  \n",
    "To deal with imbalanced datasets."
   ]
  },
  {
   "cell_type": "code",
   "execution_count": 70,
   "metadata": {},
   "outputs": [
    {
     "name": "stdout",
     "output_type": "stream",
     "text": [
      "There are 3778 negative, 5966 neutral and 2855 positive utternaces.\n"
     ]
    }
   ],
   "source": [
    "count_neutral, count_negative, count_positive = data_raw.Sentiment.value_counts()\n",
    "print(f'There are {count_negative} negative, {count_neutral} neutral and {count_positive} positive utternaces.')"
   ]
  },
  {
   "cell_type": "code",
   "execution_count": 71,
   "metadata": {},
   "outputs": [],
   "source": [
    "tmp_df_negative = data_raw[data_raw.Sentiment == 'negative']\n",
    "tmp_df_neutral = data_raw[data_raw.Sentiment == 'neutral']\n",
    "tmp_df_positive = data_raw[data_raw.Sentiment == 'positive']\n",
    "\n",
    "tmp_df_negative_undersampled = tmp_df_negative.sample(floor(count_positive*1.1)).reset_index(drop=True)\n",
    "tmp_df_neutral_undersampled = tmp_df_neutral.sample(floor(count_positive*0.95)).reset_index(drop=True)"
   ]
  },
  {
   "cell_type": "code",
   "execution_count": 72,
   "metadata": {},
   "outputs": [
    {
     "data": {
      "text/html": [
       "<div>\n",
       "<style scoped>\n",
       "    .dataframe tbody tr th:only-of-type {\n",
       "        vertical-align: middle;\n",
       "    }\n",
       "\n",
       "    .dataframe tbody tr th {\n",
       "        vertical-align: top;\n",
       "    }\n",
       "\n",
       "    .dataframe thead th {\n",
       "        text-align: right;\n",
       "    }\n",
       "</style>\n",
       "<table border=\"1\" class=\"dataframe\">\n",
       "  <thead>\n",
       "    <tr style=\"text-align: right;\">\n",
       "      <th></th>\n",
       "      <th>Sr No.</th>\n",
       "      <th>Utterance</th>\n",
       "      <th>Speaker</th>\n",
       "      <th>Emotion</th>\n",
       "      <th>Sentiment</th>\n",
       "      <th>Dialogue_ID</th>\n",
       "      <th>Utterance_ID</th>\n",
       "      <th>Season</th>\n",
       "      <th>Episode</th>\n",
       "      <th>StartTime</th>\n",
       "      <th>EndTime</th>\n",
       "      <th>source</th>\n",
       "    </tr>\n",
       "  </thead>\n",
       "  <tbody>\n",
       "    <tr>\n",
       "      <th>1932</th>\n",
       "      <td>6710</td>\n",
       "      <td>Hey, this isn't like swimming after you eat, p...</td>\n",
       "      <td>Chandler</td>\n",
       "      <td>anger</td>\n",
       "      <td>negative</td>\n",
       "      <td>664</td>\n",
       "      <td>4</td>\n",
       "      <td>3</td>\n",
       "      <td>15</td>\n",
       "      <td>00:16:52,886</td>\n",
       "      <td>00:16:57,223</td>\n",
       "      <td>train</td>\n",
       "    </tr>\n",
       "    <tr>\n",
       "      <th>3668</th>\n",
       "      <td>3873</td>\n",
       "      <td>Ooh!</td>\n",
       "      <td>Phoebe</td>\n",
       "      <td>joy</td>\n",
       "      <td>positive</td>\n",
       "      <td>392</td>\n",
       "      <td>4</td>\n",
       "      <td>4</td>\n",
       "      <td>23</td>\n",
       "      <td>0:17:52,807</td>\n",
       "      <td>0:17:53,009</td>\n",
       "      <td>train</td>\n",
       "    </tr>\n",
       "    <tr>\n",
       "      <th>7737</th>\n",
       "      <td>8148</td>\n",
       "      <td>That's right! You lose sucker!!  Please still ...</td>\n",
       "      <td>Monica</td>\n",
       "      <td>joy</td>\n",
       "      <td>positive</td>\n",
       "      <td>819</td>\n",
       "      <td>18</td>\n",
       "      <td>7</td>\n",
       "      <td>4</td>\n",
       "      <td>00:07:05,967</td>\n",
       "      <td>00:07:12,889</td>\n",
       "      <td>train</td>\n",
       "    </tr>\n",
       "    <tr>\n",
       "      <th>813</th>\n",
       "      <td>2132</td>\n",
       "      <td>Why do have a picture of Paulette in your pack?!</td>\n",
       "      <td>Richard</td>\n",
       "      <td>anger</td>\n",
       "      <td>negative</td>\n",
       "      <td>210</td>\n",
       "      <td>4</td>\n",
       "      <td>7</td>\n",
       "      <td>23</td>\n",
       "      <td>00:18:24,311</td>\n",
       "      <td>00:18:27,814</td>\n",
       "      <td>train</td>\n",
       "    </tr>\n",
       "    <tr>\n",
       "      <th>1108</th>\n",
       "      <td>7330</td>\n",
       "      <td>Ross, thank you. Hey, do you guys wanna go see...</td>\n",
       "      <td>Rachel</td>\n",
       "      <td>neutral</td>\n",
       "      <td>neutral</td>\n",
       "      <td>733</td>\n",
       "      <td>3</td>\n",
       "      <td>6</td>\n",
       "      <td>1</td>\n",
       "      <td>00:20:44,076</td>\n",
       "      <td>00:20:48,621</td>\n",
       "      <td>train</td>\n",
       "    </tr>\n",
       "  </tbody>\n",
       "</table>\n",
       "</div>"
      ],
      "text/plain": [
       "      Sr No.                                          Utterance   Speaker  \\\n",
       "1932    6710  Hey, this isn't like swimming after you eat, p...  Chandler   \n",
       "3668    3873                                               Ooh!    Phoebe   \n",
       "7737    8148  That's right! You lose sucker!!  Please still ...    Monica   \n",
       "813     2132   Why do have a picture of Paulette in your pack?!   Richard   \n",
       "1108    7330  Ross, thank you. Hey, do you guys wanna go see...    Rachel   \n",
       "\n",
       "      Emotion Sentiment  Dialogue_ID  Utterance_ID  Season  Episode  \\\n",
       "1932    anger  negative          664             4       3       15   \n",
       "3668      joy  positive          392             4       4       23   \n",
       "7737      joy  positive          819            18       7        4   \n",
       "813     anger  negative          210             4       7       23   \n",
       "1108  neutral   neutral          733             3       6        1   \n",
       "\n",
       "         StartTime       EndTime source  \n",
       "1932  00:16:52,886  00:16:57,223  train  \n",
       "3668   0:17:52,807   0:17:53,009  train  \n",
       "7737  00:07:05,967  00:07:12,889  train  \n",
       "813   00:18:24,311  00:18:27,814  train  \n",
       "1108  00:20:44,076  00:20:48,621  train  "
      ]
     },
     "execution_count": 72,
     "metadata": {},
     "output_type": "execute_result"
    }
   ],
   "source": [
    "data_balanced = pd.concat([tmp_df_negative_undersampled, tmp_df_neutral_undersampled, tmp_df_positive], axis=0)\n",
    "data_balanced = shuffle(data_balanced)\n",
    "data_balanced.head()"
   ]
  },
  {
   "cell_type": "code",
   "execution_count": 73,
   "metadata": {},
   "outputs": [
    {
     "name": "stdout",
     "output_type": "stream",
     "text": [
      "There are 3140 negative, 2712 neutral and 2855 positive utternaces.\n"
     ]
    },
    {
     "data": {
      "text/plain": [
       "Text(0.5, 1.0, 'rebalanced set')"
      ]
     },
     "execution_count": 73,
     "metadata": {},
     "output_type": "execute_result"
    },
    {
     "data": {
      "image/png": "[encoded data removed]",
      "text/plain": [
       "<Figure size 432x288 with 1 Axes>"
      ]
     },
     "metadata": {
      "needs_background": "light"
     },
     "output_type": "display_data"
    }
   ],
   "source": [
    "new_c_negative, new_c_positive, new_c_neutral = data_balanced.Sentiment.value_counts()\n",
    "print(f'There are {new_c_negative} negative, {new_c_neutral} neutral and {new_c_positive} positive utternaces.')\n",
    "sns.countplot(x='Sentiment', data=data_balanced, order=['negative','neutral','positive']).set_title('rebalanced set')"
   ]
  },
  {
   "cell_type": "code",
   "execution_count": 74,
   "metadata": {},
   "outputs": [
    {
     "name": "stdout",
     "output_type": "stream",
     "text": [
      "Ratio: 36.0% negative, 31.0% neutral and 33.0% positive utternaces.\n"
     ]
    }
   ],
   "source": [
    "print(f'Ratio: {round(100*new_c_negative/len(data_balanced),0)}% negative, {round(100*new_c_neutral/len(data_balanced),0)}% neutral and {round(100*new_c_positive/len(data_balanced),0)}% positive utternaces.')"
   ]
  },
  {
   "cell_type": "markdown",
   "metadata": {},
   "source": [
    "## Word Count Distribution\n",
    "Remove punctuations & special symbols"
   ]
  },
  {
   "cell_type": "code",
   "execution_count": 80,
   "metadata": {},
   "outputs": [],
   "source": [
    "unwanted_pattern = r'[^A-z0-9\\s]'\n",
    "data_balanced['text'] = data_balanced.Utterance.apply(lambda u: re.sub(unwanted_pattern, '', u))"
   ]
  },
  {
   "cell_type": "code",
   "execution_count": 83,
   "metadata": {},
   "outputs": [
    {
     "data": {
      "text/html": [
       "<div>\n",
       "<style scoped>\n",
       "    .dataframe tbody tr th:only-of-type {\n",
       "        vertical-align: middle;\n",
       "    }\n",
       "\n",
       "    .dataframe tbody tr th {\n",
       "        vertical-align: top;\n",
       "    }\n",
       "\n",
       "    .dataframe thead th {\n",
       "        text-align: right;\n",
       "    }\n",
       "</style>\n",
       "<table border=\"1\" class=\"dataframe\">\n",
       "  <thead>\n",
       "    <tr style=\"text-align: right;\">\n",
       "      <th></th>\n",
       "      <th>Utterance</th>\n",
       "      <th>text</th>\n",
       "    </tr>\n",
       "  </thead>\n",
       "  <tbody>\n",
       "    <tr>\n",
       "      <th>1932</th>\n",
       "      <td>Hey, this isn't like swimming after you eat, p...</td>\n",
       "      <td>Hey this isnt like swimming after you eat pick...</td>\n",
       "    </tr>\n",
       "    <tr>\n",
       "      <th>3668</th>\n",
       "      <td>Ooh!</td>\n",
       "      <td>Ooh</td>\n",
       "    </tr>\n",
       "    <tr>\n",
       "      <th>7737</th>\n",
       "      <td>That's right! You lose sucker!!  Please still ...</td>\n",
       "      <td>Thats right You lose sucker  Please still marr...</td>\n",
       "    </tr>\n",
       "    <tr>\n",
       "      <th>813</th>\n",
       "      <td>Why do have a picture of Paulette in your pack?!</td>\n",
       "      <td>Why do have a picture of Paulette in your pack</td>\n",
       "    </tr>\n",
       "    <tr>\n",
       "      <th>1108</th>\n",
       "      <td>Ross, thank you. Hey, do you guys wanna go see...</td>\n",
       "      <td>Ross thank you Hey do you guys wanna go see a ...</td>\n",
       "    </tr>\n",
       "  </tbody>\n",
       "</table>\n",
       "</div>"
      ],
      "text/plain": [
       "                                              Utterance  \\\n",
       "1932  Hey, this isn't like swimming after you eat, p...   \n",
       "3668                                               Ooh!   \n",
       "7737  That's right! You lose sucker!!  Please still ...   \n",
       "813    Why do have a picture of Paulette in your pack?!   \n",
       "1108  Ross, thank you. Hey, do you guys wanna go see...   \n",
       "\n",
       "                                                   text  \n",
       "1932  Hey this isnt like swimming after you eat pick...  \n",
       "3668                                                Ooh  \n",
       "7737  Thats right You lose sucker  Please still marr...  \n",
       "813      Why do have a picture of Paulette in your pack  \n",
       "1108  Ross thank you Hey do you guys wanna go see a ...  "
      ]
     },
     "execution_count": 83,
     "metadata": {},
     "output_type": "execute_result"
    }
   ],
   "source": [
    "data_balanced[['Utterance', 'text']].head()"
   ]
  },
  {
   "cell_type": "code",
   "execution_count": 101,
   "metadata": {},
   "outputs": [
    {
     "data": {
      "image/png": "[encoded data removed]",
      "text/plain": [
       "<Figure size 432x288 with 1 Axes>"
      ]
     },
     "metadata": {
      "needs_background": "light"
     },
     "output_type": "display_data"
    }
   ],
   "source": [
    "word_count = [len(t.split(' ')) for t in data_balanced.text]\n",
    "plt.hist(word_count, bins=30, range=[1,70])\n",
    "plt.title('Words per Utterance')\n",
    "plt.ylabel('frequency')\n",
    "plt.xlabel('number of words')\n",
    "plt.show()"
   ]
  },
  {
   "cell_type": "code",
   "execution_count": 100,
   "metadata": {},
   "outputs": [
    {
     "name": "stdout",
     "output_type": "stream",
     "text": [
      "On average the dataset has 8 words per utterance.\n"
     ]
    }
   ],
   "source": [
    "print(f\"On average the dataset has {round(sum(word_count)/len(word_count))} words per utterance.\")"
   ]
  },
  {
   "cell_type": "markdown",
   "metadata": {},
   "source": [
    "## Lemmatisation"
   ]
  },
  {
   "cell_type": "code",
   "execution_count": 16,
   "metadata": {},
   "outputs": [
    {
     "name": "stdout",
     "output_type": "stream",
     "text": [
      "[nltk_data] Downloading package punkt to /root/nltk_data...\n",
      "[nltk_data]   Unzipping tokenizers/punkt.zip.\n"
     ]
    }
   ],
   "source": [
    "import nltk\n",
    "nltk.download('punkt')\n",
    "porter = PorterStemmer()\n",
    "snowball = SnowballStemmer(\"english\")\n",
    "\n",
    "def stemSentence(sentence, stemmer):\n",
    "    token_words=word_tokenize(sentence)\n",
    "    token_words\n",
    "    stem_sentence=[]\n",
    "    for word in token_words:\n",
    "        stem_sentence.append(porter.stem(word))\n",
    "    return \" \".join(stem_sentence)"
   ]
  },
  {
   "cell_type": "code",
   "execution_count": 14,
   "metadata": {},
   "outputs": [],
   "source": [
    "utterances = data_balanced.Utterance.values\n",
    "utterances_stem = [stemSentence(sentence, snowball) for sentence in utterances]"
   ]
  },
  {
   "cell_type": "markdown",
   "metadata": {},
   "source": [
    "## Preprocessing (deep learning)"
   ]
  },
  {
   "cell_type": "code",
   "execution_count": 18,
   "metadata": {},
   "outputs": [
    {
     "name": "stdout",
     "output_type": "stream",
     "text": [
      "The longest utterance contains 69 words.\n"
     ]
    }
   ],
   "source": [
    "print('The longest utterance contains {} words.'.format(max([len(x.split(' ')) for x in data_balanced.Utterance])))"
   ]
  },
  {
   "cell_type": "code",
   "execution_count": 19,
   "metadata": {},
   "outputs": [
    {
     "name": "stdout",
     "output_type": "stream",
     "text": [
      "Found 4185 unique tokens.\n"
     ]
    }
   ],
   "source": [
    "# For sentiment analysis\n",
    "num_polarities = 3\n",
    "max_sequence_len = 100\n",
    "\n",
    "vocabulary_size = 6000\n",
    "tokenizer = Tokenizer(num_words= vocabulary_size, filters='!\"#$%&()*+,-./:;<=>?@[\\]^_`{}~', lower=True, )\n",
    "tokenizer.fit_on_texts(utterances_stem)\n",
    "word_index = tokenizer.word_index\n",
    "print('Found %s unique tokens.' % len(word_index))"
   ]
  },
  {
   "cell_type": "code",
   "execution_count": 20,
   "metadata": {},
   "outputs": [
    {
     "name": "stdout",
     "output_type": "stream",
     "text": [
      "Shape of data tensor: (8707, 100)\n"
     ]
    }
   ],
   "source": [
    "X = tokenizer.texts_to_sequences(utterances_stem)\n",
    "X = pad_sequences(X, maxlen=max_sequence_len)\n",
    "print('Shape of data tensor:', X.shape)\n",
    "\n",
    "# X = tokenizer.texts_to_matrix(data_balanced.Utterance, mode='tfidf')\n",
    "# print('Shape of data tensor:', X.shape)\n",
    "# X[0]"
   ]
  },
  {
   "cell_type": "code",
   "execution_count": 21,
   "metadata": {},
   "outputs": [],
   "source": [
    "y = data_balanced.Sentiment.values\n",
    "sen_targets, sen_uniques = pd.factorize(y, sort=True)\n",
    "y = to_categorical(sen_targets, num_polarities)"
   ]
  },
  {
   "cell_type": "code",
   "execution_count": 22,
   "metadata": {},
   "outputs": [
    {
     "data": {
      "text/plain": [
       "{'negative': 0, 'neutral': 1, 'positive': 2}"
      ]
     },
     "execution_count": 22,
     "metadata": {},
     "output_type": "execute_result"
    }
   ],
   "source": [
    "sen_label_map = dict(zip(list(sen_uniques), range(num_polarities)))\n",
    "sen_label_map"
   ]
  },
  {
   "cell_type": "code",
   "execution_count": 23,
   "metadata": {},
   "outputs": [],
   "source": [
    "x_train, x_test, y_train, y_test = train_test_split(X, y, test_size = 0.33, random_state = 42)"
   ]
  },
  {
   "cell_type": "markdown",
   "metadata": {},
   "source": [
    "## Preprocessing (supervised learning)  \n",
    "To avoid naming conflict, the x_train, y_train used in supervised learning will be represented by p_train, q_train"
   ]
  },
  {
   "cell_type": "code",
   "execution_count": 15,
   "metadata": {},
   "outputs": [
    {
     "data": {
      "text/plain": [
       "{'negative': 0, 'neutral': 1, 'positive': 2}"
      ]
     },
     "execution_count": 15,
     "metadata": {},
     "output_type": "execute_result"
    }
   ],
   "source": [
    "num_polarities=3\n",
    "P = utterances_stem\n",
    "Q = data_balanced.Sentiment.values\n",
    "\n",
    "q, uniques = pd.factorize(Q, sort=True)\n",
    "label_map = dict(zip(list(uniques), range(num_polarities)))\n",
    "label_map"
   ]
  },
  {
   "cell_type": "markdown",
   "metadata": {},
   "source": [
    "### TF-IDF Tokenizer"
   ]
  },
  {
   "cell_type": "code",
   "execution_count": 33,
   "metadata": {},
   "outputs": [],
   "source": [
    "tfidf = TfidfVectorizer(lowercase=True, stop_words='english', ngram_range=(1,3))\n",
    "tfidf.fit(P)\n",
    "p = tfidf.transform(P)"
   ]
  },
  {
   "cell_type": "markdown",
   "metadata": {},
   "source": [
    "### Truncated SVD  \n",
    "To reduce the dimension of the features"
   ]
  },
  {
   "cell_type": "code",
   "execution_count": 41,
   "metadata": {},
   "outputs": [],
   "source": [
    "def plot_svd(n_comp_list, data):\n",
    "    var_explained=[]\n",
    "    for n in n_comp_list:\n",
    "        svd = TruncatedSVD(n_components=n)\n",
    "        svd.fit(data)\n",
    "        var_explained.append(svd.explained_variance_ratio_.sum())\n",
    "    plt.plot(n_comp_list, var_explained)\n",
    "    plt.ylabel('variance explained')\n",
    "    plt.xlabel('number of components')\n",
    "    plt.title('Selecting n_components')\n",
    "    plt.grid(True)\n",
    "    plt.show()"
   ]
  },
  {
   "cell_type": "markdown",
   "metadata": {},
   "source": [
    "Sometimes, var_explained >= 0.9 or var_explained >= 0.95 reduces how many variables you need going forward in your analysis."
   ]
  },
  {
   "cell_type": "code",
   "execution_count": 27,
   "metadata": {},
   "outputs": [
    {
     "data": {
      "image/png": "[encoded data removed]",
      "text/plain": [
       "<matplotlib.figure.Figure at 0x7fbfd0f079e8>"
      ]
     },
     "metadata": {
      "needs_background": "light"
     },
     "output_type": "display_data"
    }
   ],
   "source": [
    "plot_svd(n_comp_list=[30,100,300,500,800,1200,1500,1800], data=p)"
   ]
  },
  {
   "cell_type": "code",
   "execution_count": 24,
   "metadata": {},
   "outputs": [],
   "source": [
    "svd = TruncatedSVD(n_components=500)\n",
    "p_svd = svd.fit_transform(p)"
   ]
  },
  {
   "cell_type": "code",
   "execution_count": null,
   "metadata": {},
   "outputs": [],
   "source": []
  },
  {
   "cell_type": "markdown",
   "metadata": {},
   "source": [
    "## Factory functions\n",
    "### Cross-validation with Stratified K-fold"
   ]
  },
  {
   "cell_type": "code",
   "execution_count": 31,
   "metadata": {},
   "outputs": [],
   "source": [
    "def predict_with_cv(clf, X, y, n_splits=5):\n",
    "    skf = StratifiedKFold(n_splits=n_splits, random_state=42)\n",
    "    acc_collector=[]\n",
    "    nth_fold = 0\n",
    "    for train_index, test_index in skf.split(X, y):\n",
    "        X_train, X_test = X[train_index], X[test_index]\n",
    "        y_train, y_test = y[train_index], y[test_index]\n",
    "        \n",
    "        clf.fit(X=X_train, y=y_train)\n",
    "        y_pred = clf.predict(X_test)\n",
    "        acc = round(100*np.sum(y_pred==y_test)/len(y_pred),2)\n",
    "        nth_fold += 1\n",
    "        acc_collector.append(acc)\n",
    "        print('Fold {}: F1 score = {}; Test ccuracy = {}%'.format(\n",
    "            nth_fold, f1_score(y_pred=y_pred, y_true=y_test, average=\"weighted\"), acc))\n",
    "    print('Average accuracy over {} folds is {}%'.format(n_splits, sum(acc_collector)/len(acc_collector)))"
   ]
  },
  {
   "cell_type": "markdown",
   "metadata": {},
   "source": [
    "### Ploting deep learning val_loss against epoch"
   ]
  },
  {
   "cell_type": "code",
   "execution_count": 29,
   "metadata": {},
   "outputs": [],
   "source": [
    "plt.style.use('ggplot')\n",
    "\n",
    "def plot_history(history):\n",
    "    acc = history.history['acc']\n",
    "    val_acc = history.history['val_acc']\n",
    "    loss = history.history['loss']\n",
    "    val_loss = history.history['val_loss']\n",
    "    x = range(1, len(acc) + 1)\n",
    "\n",
    "    plt.figure(figsize=(12, 5))\n",
    "    plt.subplot(1, 2, 1)\n",
    "    plt.plot(x, acc, 'b', label='Training acc')\n",
    "    plt.plot(x, val_acc, 'r', label='Validation acc')\n",
    "    plt.title('Training and validation accuracy')\n",
    "    plt.xlabel('epoch')\n",
    "    plt.legend()\n",
    "    plt.subplot(1, 2, 2)\n",
    "    plt.plot(x, loss, 'b', label='Training loss')\n",
    "    plt.plot(x, val_loss, 'r', label='Validation loss')\n",
    "    plt.title('Training and validation loss')\n",
    "    plt.xlabel('epoch')\n",
    "    plt.legend()"
   ]
  },
  {
   "cell_type": "markdown",
   "metadata": {},
   "source": [
    "## Models  \n",
    "**Summary on Sentiment Analysis**  \n",
    "Predicting 3 classes: Positive, Negative & Neutral   \n",
    "  \n",
    "**Models ready at disposal:**  \n",
    "- SVM  \n",
    "- Random Forest\n",
    "- Fully connected (Dense only)  \n",
    "- CNN  \n",
    "- Transfer learning with Glove + LSTM\n",
    "\n",
    "**Accuracy records** \n",
    "- Benchmart(Base): 36.06%\n",
    "- SVM: 49.63%  \n",
    "- Random Forest: 47.33%\n",
    "- Dense: 36.88%\n",
    "- CNN: 38.03%  \n",
    "- LSTM (with Glove): 42%  \n",
    "\n",
    "*NB: there might be a ceiling on how much you can achieve with the data*"
   ]
  },
  {
   "cell_type": "markdown",
   "metadata": {},
   "source": [
    "### Baseline\n",
    "A simplest model that will predict the same class for any given sentences/utterances."
   ]
  },
  {
   "cell_type": "code",
   "execution_count": 50,
   "metadata": {},
   "outputs": [],
   "source": [
    "class BaseModel():\n",
    "    def __init__(self):\n",
    "        self.pred=None\n",
    "        \n",
    "    def fit(self, X, y):\n",
    "        self.pred = Counter(y).most_common()[0][0]\n",
    "        \n",
    "    def predict(self, x_test):\n",
    "        return x_test.shape[0] * [self.pred]"
   ]
  },
  {
   "cell_type": "code",
   "execution_count": 45,
   "metadata": {},
   "outputs": [
    {
     "name": "stdout",
     "output_type": "stream",
     "text": [
      "Fold 1: F1 score = 0.19105252704345846; Test ccuracy = 36.05%\n",
      "Fold 2: F1 score = 0.19105252704345846; Test ccuracy = 36.05%\n",
      "Fold 3: F1 score = 0.19124295750999717; Test ccuracy = 36.07%\n",
      "Fold 4: F1 score = 0.19124295750999717; Test ccuracy = 36.07%\n",
      "Fold 5: F1 score = 0.19124295750999717; Test ccuracy = 36.07%\n",
      "Average accuracy over 5 folds is 36.062%\n"
     ]
    },
    {
     "name": "stderr",
     "output_type": "stream",
     "text": [
      "/Users/cheuky/anaconda3/lib/python3.6/site-packages/sklearn/metrics/classification.py:1437: UndefinedMetricWarning: F-score is ill-defined and being set to 0.0 in labels with no predicted samples.\n",
      "  'precision', 'predicted', average, warn_for)\n"
     ]
    }
   ],
   "source": [
    "base_model = BaseModel()\n",
    "predict_with_cv(base_model, X=p, y=q, n_splits=5)"
   ]
  },
  {
   "cell_type": "markdown",
   "metadata": {},
   "source": [
    "### Support Vector Machine (SVM)"
   ]
  },
  {
   "cell_type": "code",
   "execution_count": 27,
   "metadata": {},
   "outputs": [],
   "source": [
    "svm = SVC(C=10, kernel='linear', probability=True, random_state=42)"
   ]
  },
  {
   "cell_type": "code",
   "execution_count": 29,
   "metadata": {},
   "outputs": [],
   "source": [
    "# param_grid_svm = { \n",
    "#     'C': [1,10,100], 'kernel': ['linear', 'rbf']\n",
    "# }\n",
    "# clf = GridSearchCV(estimator=svm, param_grid=param_grid_svm, cv=5)\n",
    "# clf.fit(x_train_tr, y_train)"
   ]
  },
  {
   "cell_type": "code",
   "execution_count": null,
   "metadata": {},
   "outputs": [],
   "source": [
    "# clf.best_estimator_"
   ]
  },
  {
   "cell_type": "markdown",
   "metadata": {},
   "source": [
    "**Best model by GridSearchCV**  \n",
    "SVC(C=10, cache_size=200, class_weight=None, coef0=0.0,  \n",
    "decision_function_shape='ovr', degree=3, gamma='auto_deprecated',  \n",
    "kernel='linear', max_iter=-1, probability=True, random_state=None,  \n",
    "shrinking=True, tol=0.001, verbose=False)"
   ]
  },
  {
   "cell_type": "code",
   "execution_count": 51,
   "metadata": {},
   "outputs": [],
   "source": [
    "# svm_accuracy = 100*np.sum(y_pred_svm==q_test)/len(y_pred_svm)\n",
    "# print('Test accuracy: %.4f%%' % svm_accuracy)"
   ]
  },
  {
   "cell_type": "code",
   "execution_count": 30,
   "metadata": {},
   "outputs": [
    {
     "name": "stdout",
     "output_type": "stream",
     "text": [
      "Fold 1: F1 score = 0.4962186249534722; Test ccuracy = 50.34%\n",
      "Fold 2: F1 score = 0.4782719839250737; Test ccuracy = 48.22%\n",
      "Fold 3: F1 score = 0.4815661531107952; Test ccuracy = 48.48%\n",
      "Fold 4: F1 score = 0.47462396054127426; Test ccuracy = 48.08%\n",
      "Fold 5: F1 score = 0.48492597308789737; Test ccuracy = 48.94%\n",
      "Average accuracy over 5 folds is 48.812%\n"
     ]
    }
   ],
   "source": [
    "predict_with_cv(svm, X=p_svd, y=q, n_splits=5)"
   ]
  },
  {
   "cell_type": "markdown",
   "metadata": {},
   "source": [
    "__SVD n_components=300:__  \n",
    "Fold 1: F1 score = 0.4803915716898258; Test ccuracy = 48.91%  \n",
    "Fold 2: F1 score = 0.4542740225417006; Test ccuracy = 46.84%  \n",
    "Fold 3: F1 score = 0.48864408148921173; Test ccuracy = 49.91%  \n",
    "Fold 4: F1 score = 0.4892975093190058; Test ccuracy = 50.32%  \n",
    "Fold 5: F1 score = 0.4784412899435637; Test ccuracy = 49.22%  \n",
    "Average accuracy over 5 folds is 49.04%  \n",
    "  \n",
    "__SVD n_components=500:__  \n",
    "Fold 1: F1 score = 0.49002215752622763; Test ccuracy = 49.77%  \n",
    "Fold 2: F1 score = 0.4808583429948203; Test ccuracy = 49.2%  \n",
    "Fold 3: F1 score = 0.4874187290127619; Test ccuracy = 49.34%  \n",
    "Fold 4: F1 score = 0.4944249992907478; Test ccuracy = 50.03%  \n",
    "Fold 5: F1 score = 0.4919448080783031; Test ccuracy = 49.8%  \n",
    "Average accuracy over 5 folds is 49.628%  \n",
    "  \n",
    "__SVD n_components=800:__  \n",
    "Fold 1: F1 score = 0.46966213004635426; Test ccuracy = 47.3%  \n",
    "Fold 2: F1 score = 0.4711375764871562; Test ccuracy = 47.65%  \n",
    "Fold 3: F1 score = 0.4928203326071507; Test ccuracy = 49.74%  \n",
    "Fold 4: F1 score = 0.4823228281974452; Test ccuracy = 48.54%  \n",
    "Fold 5: F1 score = 0.4761281720634562; Test ccuracy = 48.02%  \n",
    "Average accuracy over 5 folds is 48.25%  "
   ]
  },
  {
   "cell_type": "markdown",
   "metadata": {},
   "source": [
    "### Random Forest"
   ]
  },
  {
   "cell_type": "code",
   "execution_count": 28,
   "metadata": {},
   "outputs": [],
   "source": [
    "rf = RandomForestClassifier(n_estimators=100, min_samples_leaf=4, min_samples_split=4,\n",
    "                            criterion='gini', max_features='auto')"
   ]
  },
  {
   "cell_type": "code",
   "execution_count": 29,
   "metadata": {},
   "outputs": [
    {
     "name": "stdout",
     "output_type": "stream",
     "text": [
      "Fold 1: F1 score = 0.47461706544641874; Test ccuracy = 48.97%\n",
      "Fold 2: F1 score = 0.456600241551185; Test ccuracy = 46.44%\n",
      "Fold 3: F1 score = 0.4523886385518907; Test ccuracy = 46.3%\n",
      "Fold 4: F1 score = 0.4738436999013484; Test ccuracy = 48.71%\n",
      "Fold 5: F1 score = 0.48235998563306615; Test ccuracy = 48.77%\n",
      "Average accuracy over 5 folds is 47.838%\n"
     ]
    }
   ],
   "source": [
    "predict_with_cv(clf=rf, X=p_svd, y=q, n_splits=5)"
   ]
  },
  {
   "cell_type": "markdown",
   "metadata": {},
   "source": [
    "__SVD n_components=300:__  \n",
    "Fold 1: F1 score = 0.4821594130439804; Test ccuracy = 49.02%  \n",
    "Fold 2: F1 score = 0.4457256160906289; Test ccuracy = 45.52%  \n",
    "Fold 3: F1 score = 0.4799812863744916; Test ccuracy = 48.59%  \n",
    "Fold 4: F1 score = 0.4742767830904166; Test ccuracy = 48.42%  \n",
    "Fold 5: F1 score = 0.4626270907058054; Test ccuracy = 47.33%  \n",
    "Average accuracy over 5 folds is 47.78%  \n",
    "  \n",
    "__SVD n_components=500:__  \n",
    "Fold 1: F1 score = 0.4563487257822179; Test ccuracy = 46.84%  \n",
    "Fold 2: F1 score = 0.47949307279503584; Test ccuracy = 49.31%  \n",
    "Fold 3: F1 score = 0.48139907627684986; Test ccuracy = 49.28%  \n",
    "Fold 4: F1 score = 0.4600893431558319; Test ccuracy = 47.04%  \n",
    "Fold 5: F1 score = 0.4569176293258227; Test ccuracy = 47.04%  \n",
    "Average accuracy over 5 folds is 47.902%  \n",
    "  \n",
    "__SVD n_components=800:__  \n",
    "Fold 1: F1 score = 0.47376694097558875; Test ccuracy = 48.39%  \n",
    "Fold 2: F1 score = 0.4360728461345362; Test ccuracy = 44.72%  \n",
    "Fold 3: F1 score = 0.4658015840886764; Test ccuracy = 47.33%  \n",
    "Fold 4: F1 score = 0.46356914367324187; Test ccuracy = 47.73%  \n",
    "Fold 5: F1 score = 0.44157950564388676; Test ccuracy = 45.61%  \n",
    "Average accuracy over 5 folds is 46.76%  "
   ]
  },
  {
   "cell_type": "code",
   "execution_count": 52,
   "metadata": {},
   "outputs": [
    {
     "data": {
      "text/plain": [
       "GridSearchCV(cv=5, error_score='raise',\n",
       "       estimator=RandomForestClassifier(bootstrap=True, class_weight=None, criterion='gini',\n",
       "            max_depth=None, max_features='auto', max_leaf_nodes=None,\n",
       "            min_impurity_decrease=0.0, min_impurity_split=None,\n",
       "            min_samples_leaf=1, min_samples_split=2,\n",
       "            min_weight_fraction_leaf=0.0, n_estimators=10, n_jobs=1,\n",
       "            oob_score=False, random_state=None, verbose=0,\n",
       "            warm_start=False),\n",
       "       fit_params=None, iid=True, n_jobs=1,\n",
       "       param_grid={'n_estimators': [1, 10, 100], 'min_samples_split': [2, 4], 'min_samples_leaf': [1, 2, 4], 'max_features': ['auto', 'sqrt']},\n",
       "       pre_dispatch='2*n_jobs', refit=True, return_train_score='warn',\n",
       "       scoring=None, verbose=0)"
      ]
     },
     "execution_count": 52,
     "metadata": {},
     "output_type": "execute_result"
    }
   ],
   "source": [
    "# param_grid_rf = { \n",
    "#     'n_estimators': [1,10,100],\n",
    "#     'min_samples_split': [2, 4],\n",
    "#     'min_samples_leaf': [1, 2, 4],\n",
    "#     'max_features': ['auto', 'sqrt']\n",
    "# }\n",
    "# clf = GridSearchCV(estimator=rf, param_grid=param_grid_rf, cv=5)\n",
    "# clf.fit(p_train, q_train)"
   ]
  },
  {
   "cell_type": "code",
   "execution_count": 33,
   "metadata": {},
   "outputs": [],
   "source": [
    "# clf.best_estimator_"
   ]
  },
  {
   "cell_type": "markdown",
   "metadata": {},
   "source": [
    "**Best model by GridSearchCV**  \n",
    "RandomForestClassifier(bootstrap=True, class_weight=None, criterion='gini',  \n",
    "            max_depth=None, max_features='auto', max_leaf_nodes=None,  \n",
    "            min_impurity_decrease=0.0, min_impurity_split=None,  \n",
    "            min_samples_leaf=4, min_samples_split=4,  \n",
    "            min_weight_fraction_leaf=0.0, n_estimators=100, n_jobs=1,  \n",
    "            oob_score=False, random_state=None, verbose=0,  \n",
    "            warm_start=False)"
   ]
  },
  {
   "cell_type": "code",
   "execution_count": 52,
   "metadata": {},
   "outputs": [],
   "source": [
    "# rf.fit(X=p_train, y=q_train)\n",
    "# y_pred_rf = rf.predict(p_test)\n",
    "# f1_score(y_pred=y_pred_rf, y_true=q_test, average=\"weighted\")\n",
    "# rf_accuracy = 100*np.sum(y_pred_rf==q_test)/len(y_pred_rf)\n",
    "# print('Test accuracy: %.4f%%' % rf_accuracy)"
   ]
  },
  {
   "cell_type": "code",
   "execution_count": null,
   "metadata": {},
   "outputs": [],
   "source": []
  },
  {
   "cell_type": "markdown",
   "metadata": {},
   "source": [
    "### Keras TF-IDF tokenizer + Neural nets"
   ]
  },
  {
   "cell_type": "markdown",
   "metadata": {},
   "source": [
    "Neural network won't accept sentences with different dimension(i.e. number of words) as input. By padding the inputs, we decide the maximum length of words in a sentence, then zero pads the rest, if the input length is shorter than the designated length. In the case where it exceeds the maximum length, then it will also truncate either from the beginning or from the end.  \n",
    "*Ref_1* https://keras.io/preprocessing/sequence/  \n",
    "*Ref_2* https://towardsdatascience.com/another-twitter-sentiment-analysis-with-python-part-11-cnn-word2vec-41f5e28eda74\n",
    "\n",
    "https://medium.com/@sabber/classifying-yelp-review-comments-using-lstm-and-word-embeddings-part-1-eb2275e4066b\n",
    "#### Dense - Fully Connected Layers"
   ]
  },
  {
   "cell_type": "markdown",
   "metadata": {},
   "source": [
    "__Early Stopping__: Often, the first sign of no further improvement may not be the best time to stop training. This is because the model may coast into a plateau of no improvement or even get slightly worse before getting much better.\n",
    "\n",
    "We can account for this by adding a delay to the trigger in terms of the number of epochs on which we would like to see no improvement. This can be done by setting the “patience” argument."
   ]
  },
  {
   "cell_type": "code",
   "execution_count": 24,
   "metadata": {},
   "outputs": [],
   "source": [
    "dense_epochs=100\n",
    "dense_checkpts = ModelCheckpoint(filepath=os.path.join(os.getcwd(),'saved_models','text','dense.weights.best.hdf5'), \n",
    "                               verbose=1, save_best_only=True)\n",
    "es = EarlyStopping(monitor='val_loss', mode='min', verbose=1, patience=5)"
   ]
  },
  {
   "cell_type": "code",
   "execution_count": 25,
   "metadata": {},
   "outputs": [],
   "source": [
    "def build_dense(num_classes, show=True):\n",
    "    dense = Sequential()\n",
    "    dense.add(Dense(32, activation='relu', input_dim=max_sequence_len))\n",
    "    dense.add(Dropout(0.2))\n",
    "    dense.add(Dense(64, activation='relu'))\n",
    "    dense.add(BatchNormalization())\n",
    "    dense.add(Dense(128, activation='relu'))\n",
    "    dense.add(BatchNormalization())\n",
    "    dense.add(Dense(num_classes, activation='softmax'))\n",
    "    dense.compile(optimizer='adam',\n",
    "                  loss='categorical_crossentropy',\n",
    "                  metrics=['accuracy'])\n",
    "    if show:\n",
    "        print(dense.summary())\n",
    "    return dense"
   ]
  },
  {
   "cell_type": "code",
   "execution_count": 26,
   "metadata": {},
   "outputs": [
    {
     "name": "stdout",
     "output_type": "stream",
     "text": [
      "_________________________________________________________________\n",
      "Layer (type)                 Output Shape              Param #   \n",
      "=================================================================\n",
      "dense_1 (Dense)              (None, 32)                3232      \n",
      "_________________________________________________________________\n",
      "dropout_1 (Dropout)          (None, 32)                0         \n",
      "_________________________________________________________________\n",
      "dense_2 (Dense)              (None, 64)                2112      \n",
      "_________________________________________________________________\n",
      "batch_normalization_1 (Batch (None, 64)                256       \n",
      "_________________________________________________________________\n",
      "dense_3 (Dense)              (None, 128)               8320      \n",
      "_________________________________________________________________\n",
      "batch_normalization_2 (Batch (None, 128)               512       \n",
      "_________________________________________________________________\n",
      "dense_4 (Dense)              (None, 3)                 387       \n",
      "=================================================================\n",
      "Total params: 14,819\n",
      "Trainable params: 14,435\n",
      "Non-trainable params: 384\n",
      "_________________________________________________________________\n",
      "None\n"
     ]
    }
   ],
   "source": [
    "dense = build_dense(num_polarities)"
   ]
  },
  {
   "cell_type": "markdown",
   "metadata": {},
   "source": [
    "The validation_split is a value between 0 and 1 and defines the percentage amount of the training dataset to use for the validation dataset."
   ]
  },
  {
   "cell_type": "code",
   "execution_count": 27,
   "metadata": {
    "scrolled": true
   },
   "outputs": [
    {
     "name": "stdout",
     "output_type": "stream",
     "text": [
      "Train on 3499 samples, validate on 2334 samples\n",
      "Epoch 1/100\n",
      "3392/3499 [============================>.] - ETA: 0s - loss: 1.2765 - acc: 0.3423Epoch 00001: val_loss improved from inf to 1.14718, saving model to /home/workspace/saved_models/text/dense.weights.best.hdf5\n",
      "3499/3499 [==============================] - 3s 876us/step - loss: 1.2716 - acc: 0.3444 - val_loss: 1.1472 - val_acc: 0.3526\n",
      "Epoch 2/100\n",
      "3328/3499 [===========================>..] - ETA: 0s - loss: 1.1832 - acc: 0.3447Epoch 00002: val_loss improved from 1.14718 to 1.13537, saving model to /home/workspace/saved_models/text/dense.weights.best.hdf5\n",
      "3499/3499 [==============================] - 1s 310us/step - loss: 1.1820 - acc: 0.3447 - val_loss: 1.1354 - val_acc: 0.3436\n",
      "Epoch 3/100\n",
      "3392/3499 [============================>.] - ETA: 0s - loss: 1.1629 - acc: 0.3476Epoch 00003: val_loss did not improve\n",
      "3499/3499 [==============================] - 1s 294us/step - loss: 1.1631 - acc: 0.3492 - val_loss: 1.1417 - val_acc: 0.3470\n",
      "Epoch 4/100\n",
      "3360/3499 [===========================>..] - ETA: 0s - loss: 1.1389 - acc: 0.3500Epoch 00004: val_loss improved from 1.13537 to 1.12649, saving model to /home/workspace/saved_models/text/dense.weights.best.hdf5\n",
      "3499/3499 [==============================] - 1s 304us/step - loss: 1.1396 - acc: 0.3487 - val_loss: 1.1265 - val_acc: 0.3496\n",
      "Epoch 5/100\n",
      "3392/3499 [============================>.] - ETA: 0s - loss: 1.1214 - acc: 0.3712Epoch 00005: val_loss improved from 1.12649 to 1.12073, saving model to /home/workspace/saved_models/text/dense.weights.best.hdf5\n",
      "3499/3499 [==============================] - 1s 303us/step - loss: 1.1215 - acc: 0.3701 - val_loss: 1.1207 - val_acc: 0.3483\n",
      "Epoch 6/100\n",
      "3392/3499 [============================>.] - ETA: 0s - loss: 1.1299 - acc: 0.3552Epoch 00006: val_loss did not improve\n",
      "3499/3499 [==============================] - 1s 294us/step - loss: 1.1290 - acc: 0.3584 - val_loss: 1.1292 - val_acc: 0.3483\n",
      "Epoch 7/100\n",
      "3360/3499 [===========================>..] - ETA: 0s - loss: 1.1213 - acc: 0.3643Epoch 00007: val_loss improved from 1.12073 to 1.10883, saving model to /home/workspace/saved_models/text/dense.weights.best.hdf5\n",
      "3499/3499 [==============================] - 1s 322us/step - loss: 1.1202 - acc: 0.3641 - val_loss: 1.1088 - val_acc: 0.3740\n",
      "Epoch 8/100\n",
      "3360/3499 [===========================>..] - ETA: 0s - loss: 1.1062 - acc: 0.3679Epoch 00008: val_loss did not improve\n",
      "3499/3499 [==============================] - 1s 294us/step - loss: 1.1066 - acc: 0.3652 - val_loss: 1.1291 - val_acc: 0.3668\n",
      "Epoch 9/100\n",
      "3392/3499 [============================>.] - ETA: 0s - loss: 1.1083 - acc: 0.3673Epoch 00009: val_loss did not improve\n",
      "3499/3499 [==============================] - 1s 293us/step - loss: 1.1073 - acc: 0.3670 - val_loss: 1.1179 - val_acc: 0.3625\n",
      "Epoch 10/100\n",
      "3392/3499 [============================>.] - ETA: 0s - loss: 1.1079 - acc: 0.3653Epoch 00010: val_loss did not improve\n",
      "3499/3499 [==============================] - 1s 293us/step - loss: 1.1088 - acc: 0.3644 - val_loss: 1.1175 - val_acc: 0.3582\n",
      "Epoch 11/100\n",
      "3392/3499 [============================>.] - ETA: 0s - loss: 1.0998 - acc: 0.3726Epoch 00011: val_loss did not improve\n",
      "3499/3499 [==============================] - 1s 293us/step - loss: 1.0997 - acc: 0.3718 - val_loss: 1.1114 - val_acc: 0.3595\n",
      "Epoch 12/100\n",
      "3392/3499 [============================>.] - ETA: 0s - loss: 1.1025 - acc: 0.3723Epoch 00012: val_loss did not improve\n",
      "3499/3499 [==============================] - 1s 294us/step - loss: 1.1015 - acc: 0.3735 - val_loss: 1.1111 - val_acc: 0.3715\n",
      "Epoch 00012: early stopping\n"
     ]
    }
   ],
   "source": [
    "dense_history=dense.fit(x_train, y_train, validation_split=0.4, epochs=dense_epochs, callbacks=[dense_checkpts, es], verbose=1)"
   ]
  },
  {
   "cell_type": "code",
   "execution_count": 31,
   "metadata": {},
   "outputs": [
    {
     "data": {
      "image/png": "[encoded data removed]",
      "text/plain": [
       "<matplotlib.figure.Figure at 0x7f501d40acf8>"
      ]
     },
     "metadata": {},
     "output_type": "display_data"
    }
   ],
   "source": [
    "plot_history(dense_history)"
   ]
  },
  {
   "cell_type": "markdown",
   "metadata": {},
   "source": [
    "Load the best weights saved during training"
   ]
  },
  {
   "cell_type": "code",
   "execution_count": 32,
   "metadata": {},
   "outputs": [],
   "source": [
    "dense = build_dense(num_polarities, show=False)\n",
    "dense.load_weights(os.path.join(os.getcwd(),'saved_models','text','dense.weights.best.hdf5'))"
   ]
  },
  {
   "cell_type": "code",
   "execution_count": 33,
   "metadata": {},
   "outputs": [
    {
     "name": "stdout",
     "output_type": "stream",
     "text": [
      "2874/2874 [==============================] - 0s 76us/step\n"
     ]
    },
    {
     "data": {
      "text/plain": [
       "Counter({2: 1018, 0: 1664, 1: 192})"
      ]
     },
     "execution_count": 33,
     "metadata": {},
     "output_type": "execute_result"
    }
   ],
   "source": [
    "y_pred_dense = dense.predict_classes(x_test)\n",
    "Counter(y_pred_dense)"
   ]
  },
  {
   "cell_type": "code",
   "execution_count": 34,
   "metadata": {},
   "outputs": [
    {
     "name": "stdout",
     "output_type": "stream",
     "text": [
      "2874/2874 [==============================] - 0s 37us/step\n",
      "Test accuracy: 36.8824%\n"
     ]
    }
   ],
   "source": [
    "dense_accuracy = dense.evaluate(x_test, y_test, batch_size=128)[1] * 100\n",
    "print('Test accuracy: %.4f%%' % dense_accuracy)"
   ]
  },
  {
   "cell_type": "code",
   "execution_count": null,
   "metadata": {},
   "outputs": [],
   "source": []
  },
  {
   "cell_type": "markdown",
   "metadata": {},
   "source": [
    "__Note: About batch_size__  \n",
    "Advantages of using a batch size < number of all samples:\n",
    "\n",
    "- It requires less memory. Since you train the network using fewer samples, the overall training procedure requires less memory. That's especially important if you are not able to fit the whole dataset in your machine's memory.\n",
    "\n",
    "- Typically networks train faster with mini-batches. That's because we update the weights after each propagation. In our example we've propagated 11 batches (10 of them had 100 samples and 1 had 50 samples) and after each of them we've updated our network's parameters. If we used all samples during propagation we would make only 1 update for the network's parameter.\n",
    "\n",
    "Disadvantages of using a batch size < number of all samples:\n",
    "\n",
    "- The smaller the batch the less accurate the estimate of the gradient will be."
   ]
  },
  {
   "cell_type": "code",
   "execution_count": null,
   "metadata": {},
   "outputs": [],
   "source": []
  },
  {
   "cell_type": "markdown",
   "metadata": {},
   "source": [
    "### CNN - Convolutional Layers\n",
    "**Conv1D:** is generally good for text, whereas Conv2D is good for audio and images where spatial matter;  \n",
    "\n",
    "**Max pooling:** is a sample-based discretization process. The objective is to down-sample an input representation (image, hidden-layer output matrix, etc.), reducing it’s dimensionality and allowing for assumptions to be made about features contained in the sub-regions binned.  \n",
    "\n",
    "**Batch Normalization:** normalization (shifting inputs to zero-mean and unit variance) is often used as a pre-processing step to make the data comparable across features. This therefore leads to higher learning rate and better speed.  \n",
    "\n",
    "**Drop out:** Its a regularization functino that reduces/prevents overfitting, by normalizing some pixels to 0."
   ]
  },
  {
   "cell_type": "code",
   "execution_count": 35,
   "metadata": {},
   "outputs": [],
   "source": [
    "n_length = x_train.shape[0]\n",
    "n_features = x_train.shape[1]\n",
    "\n",
    "x_train_reshaped = x_train.reshape(n_length, n_features, 1)\n",
    "x_test_reshaped = x_test.reshape(x_test.shape[0], n_features, 1)"
   ]
  },
  {
   "cell_type": "code",
   "execution_count": 36,
   "metadata": {},
   "outputs": [],
   "source": [
    "cnn_epochs=60\n",
    "cnn_checkpts = ModelCheckpoint(filepath=os.path.join(os.getcwd(), 'saved_models', 'text', 'cnn.weights.best.hdf5'), \n",
    "                               verbose=1, save_best_only=True)\n",
    "es = EarlyStopping(monitor='val_loss', mode='min', verbose=1, patience=10)"
   ]
  },
  {
   "cell_type": "code",
   "execution_count": 37,
   "metadata": {},
   "outputs": [],
   "source": [
    "def build_CNN(num_classes, show=True):\n",
    "    cnn = Sequential()\n",
    "    cnn.add(Conv1D(filters=16, kernel_size=2, padding='same', activation='relu', input_shape=(max_sequence_len,1)))\n",
    "    cnn.add(MaxPooling1D(pool_size=2))\n",
    "    cnn.add(Conv1D(filters=32, kernel_size=2, padding='same', activation='relu', kernel_regularizer=l2(0.01)))\n",
    "    cnn.add(MaxPooling1D(pool_size=2))\n",
    "    cnn.add(Conv1D(filters=64, kernel_size=2, padding='same', activation='relu',kernel_regularizer=l2(0.01)))\n",
    "    cnn.add(MaxPooling1D(pool_size=2))\n",
    "    cnn.add(GlobalAveragePooling1D())\n",
    "#     cnn.add(Flatten())\n",
    "    cnn.add(Dense(128, kernel_regularizer=l2(0.01)))\n",
    "    cnn.add(BatchNormalization())\n",
    "    cnn.add(Activation('relu'))\n",
    "    cnn.add(Dropout(0.2))\n",
    "    cnn.add(Dense(num_classes, activation='softmax'))\n",
    "    cnn.compile(optimizer='adam',\n",
    "                loss='categorical_crossentropy',\n",
    "                metrics=['accuracy'])\n",
    "    if show:\n",
    "        print(cnn.summary())\n",
    "    return cnn"
   ]
  },
  {
   "cell_type": "code",
   "execution_count": 38,
   "metadata": {},
   "outputs": [
    {
     "name": "stdout",
     "output_type": "stream",
     "text": [
      "_________________________________________________________________\n",
      "Layer (type)                 Output Shape              Param #   \n",
      "=================================================================\n",
      "conv1d_1 (Conv1D)            (None, 100, 16)           48        \n",
      "_________________________________________________________________\n",
      "max_pooling1d_1 (MaxPooling1 (None, 50, 16)            0         \n",
      "_________________________________________________________________\n",
      "conv1d_2 (Conv1D)            (None, 50, 32)            1056      \n",
      "_________________________________________________________________\n",
      "max_pooling1d_2 (MaxPooling1 (None, 25, 32)            0         \n",
      "_________________________________________________________________\n",
      "conv1d_3 (Conv1D)            (None, 25, 64)            4160      \n",
      "_________________________________________________________________\n",
      "max_pooling1d_3 (MaxPooling1 (None, 12, 64)            0         \n",
      "_________________________________________________________________\n",
      "global_average_pooling1d_1 ( (None, 64)                0         \n",
      "_________________________________________________________________\n",
      "dense_9 (Dense)              (None, 128)               8320      \n",
      "_________________________________________________________________\n",
      "batch_normalization_5 (Batch (None, 128)               512       \n",
      "_________________________________________________________________\n",
      "activation_1 (Activation)    (None, 128)               0         \n",
      "_________________________________________________________________\n",
      "dropout_3 (Dropout)          (None, 128)               0         \n",
      "_________________________________________________________________\n",
      "dense_10 (Dense)             (None, 3)                 387       \n",
      "=================================================================\n",
      "Total params: 14,483\n",
      "Trainable params: 14,227\n",
      "Non-trainable params: 256\n",
      "_________________________________________________________________\n",
      "None\n"
     ]
    }
   ],
   "source": [
    "cnn = build_CNN(num_polarities)"
   ]
  },
  {
   "cell_type": "code",
   "execution_count": 39,
   "metadata": {
    "scrolled": true
   },
   "outputs": [
    {
     "name": "stdout",
     "output_type": "stream",
     "text": [
      "Train on 3499 samples, validate on 2334 samples\n",
      "Epoch 1/60\n",
      "3488/3499 [============================>.] - ETA: 0s - loss: 2.3012 - acc: 0.3380Epoch 00001: val_loss improved from inf to 1.92942, saving model to /home/workspace/saved_models/text/cnn.weights.best.hdf5\n",
      "3499/3499 [==============================] - 3s 967us/step - loss: 2.3004 - acc: 0.3378 - val_loss: 1.9294 - val_acc: 0.3638\n",
      "Epoch 2/60\n",
      "3488/3499 [============================>.] - ETA: 0s - loss: 1.8040 - acc: 0.3372Epoch 00002: val_loss improved from 1.92942 to 1.62458, saving model to /home/workspace/saved_models/text/cnn.weights.best.hdf5\n",
      "3499/3499 [==============================] - 1s 358us/step - loss: 1.8033 - acc: 0.3370 - val_loss: 1.6246 - val_acc: 0.3513\n",
      "Epoch 3/60\n",
      "3328/3499 [===========================>..] - ETA: 0s - loss: 1.5985 - acc: 0.3419Epoch 00003: val_loss improved from 1.62458 to 1.49419, saving model to /home/workspace/saved_models/text/cnn.weights.best.hdf5\n",
      "3499/3499 [==============================] - 1s 363us/step - loss: 1.5928 - acc: 0.3430 - val_loss: 1.4942 - val_acc: 0.3663\n",
      "Epoch 4/60\n",
      "3488/3499 [============================>.] - ETA: 0s - loss: 1.4714 - acc: 0.3423Epoch 00004: val_loss improved from 1.49419 to 1.40106, saving model to /home/workspace/saved_models/text/cnn.weights.best.hdf5\n",
      "3499/3499 [==============================] - 1s 346us/step - loss: 1.4714 - acc: 0.3421 - val_loss: 1.4011 - val_acc: 0.3376\n",
      "Epoch 5/60\n",
      "3488/3499 [============================>.] - ETA: 0s - loss: 1.3780 - acc: 0.3486Epoch 00005: val_loss improved from 1.40106 to 1.32321, saving model to /home/workspace/saved_models/text/cnn.weights.best.hdf5\n",
      "3499/3499 [==============================] - 1s 350us/step - loss: 1.3780 - acc: 0.3487 - val_loss: 1.3232 - val_acc: 0.3590\n",
      "Epoch 6/60\n",
      "3488/3499 [============================>.] - ETA: 0s - loss: 1.3315 - acc: 0.3503Epoch 00006: val_loss improved from 1.32321 to 1.27918, saving model to /home/workspace/saved_models/text/cnn.weights.best.hdf5\n",
      "3499/3499 [==============================] - 1s 349us/step - loss: 1.3317 - acc: 0.3504 - val_loss: 1.2792 - val_acc: 0.3402\n",
      "Epoch 7/60\n",
      "3488/3499 [============================>.] - ETA: 0s - loss: 1.2690 - acc: 0.3561Epoch 00007: val_loss improved from 1.27918 to 1.24477, saving model to /home/workspace/saved_models/text/cnn.weights.best.hdf5\n",
      "3499/3499 [==============================] - 1s 349us/step - loss: 1.2695 - acc: 0.3555 - val_loss: 1.2448 - val_acc: 0.3376\n",
      "Epoch 8/60\n",
      "3488/3499 [============================>.] - ETA: 0s - loss: 1.2362 - acc: 0.3578Epoch 00008: val_loss improved from 1.24477 to 1.19911, saving model to /home/workspace/saved_models/text/cnn.weights.best.hdf5\n",
      "3499/3499 [==============================] - 1s 348us/step - loss: 1.2363 - acc: 0.3575 - val_loss: 1.1991 - val_acc: 0.3633\n",
      "Epoch 9/60\n",
      "3488/3499 [============================>.] - ETA: 0s - loss: 1.2099 - acc: 0.3529Epoch 00009: val_loss improved from 1.19911 to 1.18803, saving model to /home/workspace/saved_models/text/cnn.weights.best.hdf5\n",
      "3499/3499 [==============================] - 1s 349us/step - loss: 1.2099 - acc: 0.3532 - val_loss: 1.1880 - val_acc: 0.3822\n",
      "Epoch 10/60\n",
      "3488/3499 [============================>.] - ETA: 0s - loss: 1.1953 - acc: 0.3635Epoch 00010: val_loss did not improve\n",
      "3499/3499 [==============================] - 1s 339us/step - loss: 1.1952 - acc: 0.3627 - val_loss: 1.2417 - val_acc: 0.3582\n",
      "Epoch 11/60\n",
      "3488/3499 [============================>.] - ETA: 0s - loss: 1.1778 - acc: 0.3635Epoch 00011: val_loss improved from 1.18803 to 1.15167, saving model to /home/workspace/saved_models/text/cnn.weights.best.hdf5\n",
      "3499/3499 [==============================] - 1s 350us/step - loss: 1.1776 - acc: 0.3638 - val_loss: 1.1517 - val_acc: 0.3723\n",
      "Epoch 12/60\n",
      "3488/3499 [============================>.] - ETA: 0s - loss: 1.1658 - acc: 0.3529Epoch 00012: val_loss improved from 1.15167 to 1.14766, saving model to /home/workspace/saved_models/text/cnn.weights.best.hdf5\n",
      "3499/3499 [==============================] - 1s 349us/step - loss: 1.1656 - acc: 0.3532 - val_loss: 1.1477 - val_acc: 0.3513\n",
      "Epoch 13/60\n",
      "3488/3499 [============================>.] - ETA: 0s - loss: 1.1525 - acc: 0.3452Epoch 00013: val_loss improved from 1.14766 to 1.13580, saving model to /home/workspace/saved_models/text/cnn.weights.best.hdf5\n",
      "3499/3499 [==============================] - 1s 348us/step - loss: 1.1527 - acc: 0.3447 - val_loss: 1.1358 - val_acc: 0.3745\n",
      "Epoch 14/60\n",
      "3488/3499 [============================>.] - ETA: 0s - loss: 1.1403 - acc: 0.3601Epoch 00014: val_loss improved from 1.13580 to 1.13152, saving model to /home/workspace/saved_models/text/cnn.weights.best.hdf5\n",
      "3499/3499 [==============================] - 1s 348us/step - loss: 1.1400 - acc: 0.3607 - val_loss: 1.1315 - val_acc: 0.3556\n",
      "Epoch 15/60\n",
      "3488/3499 [============================>.] - ETA: 0s - loss: 1.1358 - acc: 0.3681Epoch 00015: val_loss did not improve\n",
      "3499/3499 [==============================] - 1s 341us/step - loss: 1.1358 - acc: 0.3684 - val_loss: 1.1473 - val_acc: 0.3518\n",
      "Epoch 16/60\n",
      "3488/3499 [============================>.] - ETA: 0s - loss: 1.1356 - acc: 0.3567Epoch 00016: val_loss improved from 1.13152 to 1.11541, saving model to /home/workspace/saved_models/text/cnn.weights.best.hdf5\n",
      "3499/3499 [==============================] - 1s 349us/step - loss: 1.1354 - acc: 0.3570 - val_loss: 1.1154 - val_acc: 0.3629\n",
      "Epoch 17/60\n",
      "3456/3499 [============================>.] - ETA: 0s - loss: 1.1260 - acc: 0.3669Epoch 00017: val_loss improved from 1.11541 to 1.11498, saving model to /home/workspace/saved_models/text/cnn.weights.best.hdf5\n",
      "3499/3499 [==============================] - 1s 350us/step - loss: 1.1261 - acc: 0.3667 - val_loss: 1.1150 - val_acc: 0.3470\n",
      "Epoch 18/60\n",
      "3488/3499 [============================>.] - ETA: 0s - loss: 1.1231 - acc: 0.3607Epoch 00018: val_loss did not improve\n",
      "3499/3499 [==============================] - 1s 341us/step - loss: 1.1230 - acc: 0.3610 - val_loss: 1.1271 - val_acc: 0.3800\n",
      "Epoch 19/60\n",
      "3488/3499 [============================>.] - ETA: 0s - loss: 1.1172 - acc: 0.3667Epoch 00019: val_loss did not improve\n",
      "3499/3499 [==============================] - 1s 342us/step - loss: 1.1169 - acc: 0.3672 - val_loss: 1.1369 - val_acc: 0.3462\n",
      "Epoch 20/60\n",
      "3360/3499 [===========================>..] - ETA: 0s - loss: 1.1185 - acc: 0.3580Epoch 00020: val_loss did not improve\n",
      "3499/3499 [==============================] - 1s 350us/step - loss: 1.1177 - acc: 0.3592 - val_loss: 1.1184 - val_acc: 0.3393\n",
      "Epoch 21/60\n",
      "3488/3499 [============================>.] - ETA: 0s - loss: 1.1107 - acc: 0.3698Epoch 00021: val_loss did not improve\n",
      "3499/3499 [==============================] - 1s 340us/step - loss: 1.1105 - acc: 0.3701 - val_loss: 1.1543 - val_acc: 0.3817\n",
      "Epoch 22/60\n",
      "3488/3499 [============================>.] - ETA: 0s - loss: 1.1120 - acc: 0.3561Epoch 00022: val_loss did not improve\n",
      "3499/3499 [==============================] - 1s 340us/step - loss: 1.1120 - acc: 0.3555 - val_loss: 1.1166 - val_acc: 0.3432\n",
      "Epoch 23/60\n",
      "3488/3499 [============================>.] - ETA: 0s - loss: 1.1114 - acc: 0.3638Epoch 00023: val_loss improved from 1.11498 to 1.11071, saving model to /home/workspace/saved_models/text/cnn.weights.best.hdf5\n",
      "3499/3499 [==============================] - 1s 349us/step - loss: 1.1111 - acc: 0.3650 - val_loss: 1.1107 - val_acc: 0.3740\n",
      "Epoch 24/60\n",
      "3488/3499 [============================>.] - ETA: 0s - loss: 1.1108 - acc: 0.3675Epoch 00024: val_loss improved from 1.11071 to 1.10934, saving model to /home/workspace/saved_models/text/cnn.weights.best.hdf5\n",
      "3499/3499 [==============================] - 1s 349us/step - loss: 1.1108 - acc: 0.3675 - val_loss: 1.1093 - val_acc: 0.3590\n",
      "Epoch 25/60\n",
      "3488/3499 [============================>.] - ETA: 0s - loss: 1.1085 - acc: 0.3632Epoch 00025: val_loss improved from 1.10934 to 1.10670, saving model to /home/workspace/saved_models/text/cnn.weights.best.hdf5\n",
      "3499/3499 [==============================] - 1s 347us/step - loss: 1.1085 - acc: 0.3630 - val_loss: 1.1067 - val_acc: 0.3543\n",
      "Epoch 26/60\n",
      "3488/3499 [============================>.] - ETA: 0s - loss: 1.1069 - acc: 0.3587Epoch 00026: val_loss improved from 1.10670 to 1.10541, saving model to /home/workspace/saved_models/text/cnn.weights.best.hdf5\n",
      "3499/3499 [==============================] - 1s 349us/step - loss: 1.1069 - acc: 0.3587 - val_loss: 1.1054 - val_acc: 0.3620\n"
     ]
    },
    {
     "name": "stdout",
     "output_type": "stream",
     "text": [
      "Epoch 27/60\n",
      "3488/3499 [============================>.] - ETA: 0s - loss: 1.1048 - acc: 0.3578Epoch 00027: val_loss did not improve\n",
      "3499/3499 [==============================] - 1s 337us/step - loss: 1.1049 - acc: 0.3584 - val_loss: 1.1392 - val_acc: 0.3616\n",
      "Epoch 28/60\n",
      "3488/3499 [============================>.] - ETA: 0s - loss: 1.1038 - acc: 0.3612Epoch 00028: val_loss did not improve\n",
      "3499/3499 [==============================] - 1s 337us/step - loss: 1.1039 - acc: 0.3607 - val_loss: 1.1113 - val_acc: 0.3479\n",
      "Epoch 29/60\n",
      "3488/3499 [============================>.] - ETA: 0s - loss: 1.1016 - acc: 0.3578Epoch 00029: val_loss improved from 1.10541 to 1.10018, saving model to /home/workspace/saved_models/text/cnn.weights.best.hdf5\n",
      "3499/3499 [==============================] - 1s 347us/step - loss: 1.1015 - acc: 0.3584 - val_loss: 1.1002 - val_acc: 0.3702\n",
      "Epoch 30/60\n",
      "3488/3499 [============================>.] - ETA: 0s - loss: 1.0972 - acc: 0.3670Epoch 00030: val_loss did not improve\n",
      "3499/3499 [==============================] - 1s 338us/step - loss: 1.0970 - acc: 0.3678 - val_loss: 1.1037 - val_acc: 0.3590\n",
      "Epoch 31/60\n",
      "3488/3499 [============================>.] - ETA: 0s - loss: 1.0972 - acc: 0.3710Epoch 00031: val_loss improved from 1.10018 to 1.09901, saving model to /home/workspace/saved_models/text/cnn.weights.best.hdf5\n",
      "3499/3499 [==============================] - 1s 349us/step - loss: 1.0971 - acc: 0.3715 - val_loss: 1.0990 - val_acc: 0.3608\n",
      "Epoch 32/60\n",
      "3488/3499 [============================>.] - ETA: 0s - loss: 1.0960 - acc: 0.3739Epoch 00032: val_loss did not improve\n",
      "3499/3499 [==============================] - 1s 339us/step - loss: 1.0960 - acc: 0.3735 - val_loss: 1.1077 - val_acc: 0.3565\n",
      "Epoch 33/60\n",
      "3488/3499 [============================>.] - ETA: 0s - loss: 1.0938 - acc: 0.3770Epoch 00033: val_loss did not improve\n",
      "3499/3499 [==============================] - 1s 341us/step - loss: 1.0939 - acc: 0.3767 - val_loss: 1.1203 - val_acc: 0.3149\n",
      "Epoch 34/60\n",
      "3488/3499 [============================>.] - ETA: 0s - loss: 1.0942 - acc: 0.3807Epoch 00034: val_loss improved from 1.09901 to 1.09639, saving model to /home/workspace/saved_models/text/cnn.weights.best.hdf5\n",
      "3499/3499 [==============================] - 1s 350us/step - loss: 1.0944 - acc: 0.3798 - val_loss: 1.0964 - val_acc: 0.3813\n",
      "Epoch 35/60\n",
      "3488/3499 [============================>.] - ETA: 0s - loss: 1.0957 - acc: 0.3779Epoch 00035: val_loss did not improve\n",
      "3499/3499 [==============================] - 1s 340us/step - loss: 1.0957 - acc: 0.3781 - val_loss: 1.1000 - val_acc: 0.3522\n",
      "Epoch 36/60\n",
      "3328/3499 [===========================>..] - ETA: 0s - loss: 1.0956 - acc: 0.3771Epoch 00036: val_loss did not improve\n",
      "3499/3499 [==============================] - 1s 355us/step - loss: 1.0951 - acc: 0.3773 - val_loss: 1.1017 - val_acc: 0.3556\n",
      "Epoch 37/60\n",
      "3488/3499 [============================>.] - ETA: 0s - loss: 1.0946 - acc: 0.3804Epoch 00037: val_loss did not improve\n",
      "3499/3499 [==============================] - 1s 341us/step - loss: 1.0945 - acc: 0.3810 - val_loss: 1.1519 - val_acc: 0.3590\n",
      "Epoch 38/60\n",
      "3488/3499 [============================>.] - ETA: 0s - loss: 1.0931 - acc: 0.3847Epoch 00038: val_loss did not improve\n",
      "3499/3499 [==============================] - 1s 339us/step - loss: 1.0933 - acc: 0.3841 - val_loss: 1.0968 - val_acc: 0.3595\n",
      "Epoch 39/60\n",
      "3488/3499 [============================>.] - ETA: 0s - loss: 1.0936 - acc: 0.3784Epoch 00039: val_loss did not improve\n",
      "3499/3499 [==============================] - 1s 341us/step - loss: 1.0937 - acc: 0.3784 - val_loss: 1.1082 - val_acc: 0.3590\n",
      "Epoch 40/60\n",
      "3488/3499 [============================>.] - ETA: 0s - loss: 1.0961 - acc: 0.3739Epoch 00040: val_loss improved from 1.09639 to 1.09467, saving model to /home/workspace/saved_models/text/cnn.weights.best.hdf5\n",
      "3499/3499 [==============================] - 1s 351us/step - loss: 1.0959 - acc: 0.3747 - val_loss: 1.0947 - val_acc: 0.3787\n",
      "Epoch 41/60\n",
      "3488/3499 [============================>.] - ETA: 0s - loss: 1.0938 - acc: 0.3776Epoch 00041: val_loss did not improve\n",
      "3499/3499 [==============================] - 1s 337us/step - loss: 1.0938 - acc: 0.3773 - val_loss: 1.1054 - val_acc: 0.3590\n",
      "Epoch 42/60\n",
      "3488/3499 [============================>.] - ETA: 0s - loss: 1.0929 - acc: 0.3747Epoch 00042: val_loss did not improve\n",
      "3499/3499 [==============================] - 1s 338us/step - loss: 1.0929 - acc: 0.3753 - val_loss: 1.1067 - val_acc: 0.3590\n",
      "Epoch 43/60\n",
      "3488/3499 [============================>.] - ETA: 0s - loss: 1.0933 - acc: 0.3770Epoch 00043: val_loss did not improve\n",
      "3499/3499 [==============================] - 1s 338us/step - loss: 1.0933 - acc: 0.3767 - val_loss: 1.1278 - val_acc: 0.3595\n",
      "Epoch 44/60\n",
      "3488/3499 [============================>.] - ETA: 0s - loss: 1.0932 - acc: 0.3773Epoch 00044: val_loss did not improve\n",
      "3499/3499 [==============================] - 1s 338us/step - loss: 1.0932 - acc: 0.3775 - val_loss: 1.0969 - val_acc: 0.3590\n",
      "Epoch 45/60\n",
      "3488/3499 [============================>.] - ETA: 0s - loss: 1.0922 - acc: 0.3787Epoch 00045: val_loss did not improve\n",
      "3499/3499 [==============================] - 1s 337us/step - loss: 1.0922 - acc: 0.3784 - val_loss: 1.0995 - val_acc: 0.3590\n",
      "Epoch 46/60\n",
      "3488/3499 [============================>.] - ETA: 0s - loss: 1.0915 - acc: 0.3741Epoch 00046: val_loss did not improve\n",
      "3499/3499 [==============================] - 1s 340us/step - loss: 1.0914 - acc: 0.3747 - val_loss: 1.0989 - val_acc: 0.3830\n",
      "Epoch 47/60\n",
      "3488/3499 [============================>.] - ETA: 0s - loss: 1.0931 - acc: 0.3787Epoch 00047: val_loss did not improve\n",
      "3499/3499 [==============================] - 1s 338us/step - loss: 1.0932 - acc: 0.3787 - val_loss: 1.0962 - val_acc: 0.3590\n",
      "Epoch 48/60\n",
      "3488/3499 [============================>.] - ETA: 0s - loss: 1.0933 - acc: 0.3753Epoch 00048: val_loss did not improve\n",
      "3499/3499 [==============================] - 1s 338us/step - loss: 1.0933 - acc: 0.3750 - val_loss: 1.1007 - val_acc: 0.3590\n",
      "Epoch 49/60\n",
      "3488/3499 [============================>.] - ETA: 0s - loss: 1.0927 - acc: 0.3750Epoch 00049: val_loss did not improve\n",
      "3499/3499 [==============================] - 1s 339us/step - loss: 1.0928 - acc: 0.3750 - val_loss: 1.1040 - val_acc: 0.3595\n",
      "Epoch 50/60\n",
      "3488/3499 [============================>.] - ETA: 0s - loss: 1.0915 - acc: 0.3836Epoch 00050: val_loss did not improve\n",
      "3499/3499 [==============================] - 1s 338us/step - loss: 1.0916 - acc: 0.3835 - val_loss: 1.1145 - val_acc: 0.3590\n",
      "Epoch 00050: early stopping\n"
     ]
    }
   ],
   "source": [
    "!rm './saved_models/text/cnn.weights.best.hdf5'\n",
    "cnn_history=cnn.fit(x_train_reshaped, y_train, validation_split=0.4,\n",
    "                    epochs=cnn_epochs, callbacks=[cnn_checkpts, es], verbose=1)"
   ]
  },
  {
   "cell_type": "markdown",
   "metadata": {},
   "source": [
    "Load the best model from save"
   ]
  },
  {
   "cell_type": "code",
   "execution_count": 40,
   "metadata": {},
   "outputs": [],
   "source": [
    "cnn = build_CNN(num_polarities, show=False)\n",
    "cnn.load_weights(os.path.join(os.getcwd(),'saved_models','text','cnn.weights.best.hdf5'))"
   ]
  },
  {
   "cell_type": "code",
   "execution_count": 41,
   "metadata": {
    "scrolled": true
   },
   "outputs": [
    {
     "name": "stdout",
     "output_type": "stream",
     "text": [
      "2874/2874 [==============================] - 0s 92us/step\n"
     ]
    },
    {
     "data": {
      "text/plain": [
       "Counter({2: 929, 0: 1941, 1: 4})"
      ]
     },
     "execution_count": 41,
     "metadata": {},
     "output_type": "execute_result"
    }
   ],
   "source": [
    "y_pred_cnn = cnn.predict_classes(x_test_reshaped)\n",
    "Counter(y_pred_cnn)"
   ]
  },
  {
   "cell_type": "code",
   "execution_count": 42,
   "metadata": {},
   "outputs": [
    {
     "name": "stdout",
     "output_type": "stream",
     "text": [
      "2874/2874 [==============================] - 0s 62us/step\n",
      "Test accuracy: 38.0306%\n"
     ]
    }
   ],
   "source": [
    "cnn_accuracy = cnn.evaluate(x_test_reshaped, y_test, batch_size=128)[1] * 100\n",
    "print('Test accuracy: %.4f%%' % cnn_accuracy)"
   ]
  },
  {
   "cell_type": "code",
   "execution_count": 43,
   "metadata": {},
   "outputs": [
    {
     "data": {
      "image/png": "[encoded data removed]",
      "text/plain": [
       "<matplotlib.figure.Figure at 0x7f501c6b4c18>"
      ]
     },
     "metadata": {},
     "output_type": "display_data"
    }
   ],
   "source": [
    "plot_history(cnn_history)"
   ]
  },
  {
   "cell_type": "code",
   "execution_count": null,
   "metadata": {},
   "outputs": [],
   "source": []
  },
  {
   "cell_type": "markdown",
   "metadata": {},
   "source": [
    "### GloVe"
   ]
  },
  {
   "cell_type": "markdown",
   "metadata": {},
   "source": [
    "Extract word embeddings from the Glove"
   ]
  },
  {
   "cell_type": "code",
   "execution_count": 45,
   "metadata": {},
   "outputs": [],
   "source": [
    "embeddings_index = dict()\n",
    "f = open('glove.6B.100d.txt', encoding=\"utf8\")\n",
    "for line in f:\n",
    "    values = line.split()\n",
    "    word = values[0]\n",
    "    coefs = np.asarray(values[1:], dtype='float32')\n",
    "    embeddings_index[word] = coefs\n",
    "f.close()"
   ]
  },
  {
   "cell_type": "markdown",
   "metadata": {},
   "source": [
    "Create a weight matrix"
   ]
  },
  {
   "cell_type": "code",
   "execution_count": 46,
   "metadata": {},
   "outputs": [],
   "source": [
    "# vocabulary_size=6000\n",
    "\n",
    "embedding_matrix = np.zeros((vocabulary_size, max_sequence_len))\n",
    "for word, index in tokenizer.word_index.items():\n",
    "    if index > vocabulary_size - 1:\n",
    "        break\n",
    "    else:\n",
    "        embedding_vector = embeddings_index.get(word)\n",
    "        if embedding_vector is not None:\n",
    "            embedding_matrix[index] = embedding_vector"
   ]
  },
  {
   "cell_type": "markdown",
   "metadata": {},
   "source": [
    "### GloVe + LSTM\n",
    "\n",
    "__Note1:__ Every LSTM layer should be accompanied by a Dropout layer. This layer will help to prevent overfitting by ignoring randomly selected neurons during training, and hence reduces the sensitivity to the specific weights of individual neurons.  \n",
    "About Time Distributed layer: https://machinelearningmastery.com/timedistributed-layer-for-long-short-term-memory-networks-in-python/  A wrapper to wrap LSTM's output  \n",
    "  \n",
    "__Note2:__ To solve the problem of LSTM always predicting the same class even when trained with balanced data, the 'return_sequences' param in the LSTM layer needs to be set to True and add a Flatten layer. In addition, 'return_sequences=True' must be set when stacking LSTM layers so that the second LSTM layer has a three-dimensional sequence input"
   ]
  },
  {
   "cell_type": "code",
   "execution_count": 56,
   "metadata": {},
   "outputs": [],
   "source": [
    "def build_ConvLSTM(num_classes, vocabulary_size=None, max_sequence_len=None, \n",
    "                   optimizer=None, use_glove=None, show=True):\n",
    "    optimizer = optimizer or 'adam'\n",
    "    use_glove = use_glove or True\n",
    "    embedding_size=100\n",
    "    lstm_output_size=128\n",
    "    vocabulary_size=vocabulary_size or 6000\n",
    "    max_sequence_len=100\n",
    "    \n",
    "    model = Sequential()\n",
    "    if use_glove:\n",
    "        model.add(Embedding(input_dim=vocabulary_size, output_dim=embedding_size, input_length=max_sequence_len,\n",
    "                            weights=[embedding_matrix], trainable=False))\n",
    "    else:\n",
    "        model.add(Embedding(input_dim=vocabulary_size, output_dim=embedding_size, input_length=vocabulary_size))\n",
    "    model.add(Conv1D(filters=64,\n",
    "                     kernel_size=2,\n",
    "                     padding='valid',\n",
    "                     activation='relu',\n",
    "                     kernel_regularizer=l2(0.01),\n",
    "                     strides=1))\n",
    "    model.add(MaxPooling1D(pool_size=4))\n",
    "    model.add(LSTM(units=lstm_output_size, return_sequences=True))\n",
    "    model.add(BatchNormalization())\n",
    "    model.add(TimeDistributed(Dense(64)))\n",
    "    model.add(Dropout(0.2))\n",
    "    model.add(LSTM(units=64, return_sequences=True))\n",
    "    model.add(BatchNormalization())\n",
    "    model.add(TimeDistributed(Dense(32)))\n",
    "    model.add(Dropout(0.2))\n",
    "    model.add(LSTM(units=32, return_sequences=True))\n",
    "    model.add(BatchNormalization())\n",
    "    model.add(TimeDistributed(Dense(16)))\n",
    "    model.add(Dropout(0.2))\n",
    "#     model.add(Flatten())\n",
    "    model.add(GlobalAveragePooling1D())\n",
    "    model.add(Dense(16, activation='relu', kernel_regularizer=l2(0.01)))\n",
    "    model.add(BatchNormalization())\n",
    "    model.add(Dropout(0.1))\n",
    "    model.add(Dense(num_classes, activation='softmax'))\n",
    "    model.compile(loss='categorical_crossentropy', optimizer=optimizer, metrics=['accuracy'])\n",
    "\n",
    "    if show:\n",
    "        print(model.summary())\n",
    "    return model"
   ]
  },
  {
   "cell_type": "code",
   "execution_count": 57,
   "metadata": {},
   "outputs": [],
   "source": [
    "glove_epochs=60\n",
    "glove_checkpts = ModelCheckpoint(filepath=os.path.join(os.getcwd(), 'saved_models','text','glove.weights.best.hdf5'), \n",
    "                               verbose=1, save_best_only=True)\n",
    "es = EarlyStopping(monitor='val_loss', mode='min', verbose=1, patience=12)"
   ]
  },
  {
   "cell_type": "code",
   "execution_count": 58,
   "metadata": {},
   "outputs": [
    {
     "name": "stdout",
     "output_type": "stream",
     "text": [
      "_________________________________________________________________\n",
      "Layer (type)                 Output Shape              Param #   \n",
      "=================================================================\n",
      "embedding_3 (Embedding)      (None, 100, 100)          600000    \n",
      "_________________________________________________________________\n",
      "conv1d_9 (Conv1D)            (None, 99, 64)            12864     \n",
      "_________________________________________________________________\n",
      "max_pooling1d_9 (MaxPooling1 (None, 24, 64)            0         \n",
      "_________________________________________________________________\n",
      "lstm_7 (LSTM)                (None, 24, 128)           98816     \n",
      "_________________________________________________________________\n",
      "batch_normalization_15 (Batc (None, 24, 128)           512       \n",
      "_________________________________________________________________\n",
      "time_distributed_7 (TimeDist (None, 24, 64)            8256      \n",
      "_________________________________________________________________\n",
      "dropout_13 (Dropout)         (None, 24, 64)            0         \n",
      "_________________________________________________________________\n",
      "lstm_8 (LSTM)                (None, 24, 64)            33024     \n",
      "_________________________________________________________________\n",
      "batch_normalization_16 (Batc (None, 24, 64)            256       \n",
      "_________________________________________________________________\n",
      "time_distributed_8 (TimeDist (None, 24, 32)            2080      \n",
      "_________________________________________________________________\n",
      "dropout_14 (Dropout)         (None, 24, 32)            0         \n",
      "_________________________________________________________________\n",
      "lstm_9 (LSTM)                (None, 24, 32)            8320      \n",
      "_________________________________________________________________\n",
      "batch_normalization_17 (Batc (None, 24, 32)            128       \n",
      "_________________________________________________________________\n",
      "time_distributed_9 (TimeDist (None, 24, 16)            528       \n",
      "_________________________________________________________________\n",
      "dropout_15 (Dropout)         (None, 24, 16)            0         \n",
      "_________________________________________________________________\n",
      "global_average_pooling1d_5 ( (None, 16)                0         \n",
      "_________________________________________________________________\n",
      "dense_26 (Dense)             (None, 16)                272       \n",
      "_________________________________________________________________\n",
      "batch_normalization_18 (Batc (None, 16)                64        \n",
      "_________________________________________________________________\n",
      "dropout_16 (Dropout)         (None, 16)                0         \n",
      "_________________________________________________________________\n",
      "dense_27 (Dense)             (None, 3)                 51        \n",
      "=================================================================\n",
      "Total params: 765,171\n",
      "Trainable params: 164,691\n",
      "Non-trainable params: 600,480\n",
      "_________________________________________________________________\n",
      "None\n"
     ]
    }
   ],
   "source": [
    "glove = build_ConvLSTM(num_classes=num_polarities, vocabulary_size=vocabulary_size,\n",
    "                           optimizer=optimizers.adam(lr=0.001), use_glove=True)\n",
    "# glove = build_ConvLSTM(num_classes=num_polarities, vocabulary_size=vocabulary_size,\n",
    "#                            optimizer='adam', use_glove=True)"
   ]
  },
  {
   "cell_type": "code",
   "execution_count": 59,
   "metadata": {
    "scrolled": true
   },
   "outputs": [
    {
     "name": "stdout",
     "output_type": "stream",
     "text": [
      "rm: cannot remove './saved_models/text/glove.weights.best.hdf5': No such file or directory\n",
      "Train on 3499 samples, validate on 2334 samples\n",
      "Epoch 1/60\n",
      "3488/3499 [============================>.] - ETA: 0s - loss: 2.1584 - acc: 0.3492Epoch 00001: val_loss improved from inf to 1.77700, saving model to /home/workspace/saved_models/text/glove.weights.best.hdf5\n",
      "3499/3499 [==============================] - 18s 5ms/step - loss: 2.1584 - acc: 0.3487 - val_loss: 1.7770 - val_acc: 0.3590\n",
      "Epoch 2/60\n",
      "3488/3499 [============================>.] - ETA: 0s - loss: 1.7616 - acc: 0.3592Epoch 00002: val_loss improved from 1.77700 to 1.54871, saving model to /home/workspace/saved_models/text/glove.weights.best.hdf5\n",
      "3499/3499 [==============================] - 16s 5ms/step - loss: 1.7609 - acc: 0.3598 - val_loss: 1.5487 - val_acc: 0.3290\n",
      "Epoch 3/60\n",
      "3488/3499 [============================>.] - ETA: 0s - loss: 1.5248 - acc: 0.3495Epoch 00003: val_loss did not improve\n",
      "3499/3499 [==============================] - 16s 5ms/step - loss: 1.5243 - acc: 0.3495 - val_loss: 1.6267 - val_acc: 0.3269\n",
      "Epoch 4/60\n",
      "3488/3499 [============================>.] - ETA: 0s - loss: 1.3807 - acc: 0.3587Epoch 00004: val_loss improved from 1.54871 to 1.42065, saving model to /home/workspace/saved_models/text/glove.weights.best.hdf5\n",
      "3499/3499 [==============================] - 16s 5ms/step - loss: 1.3810 - acc: 0.3584 - val_loss: 1.4206 - val_acc: 0.3269\n",
      "Epoch 5/60\n",
      "3488/3499 [============================>.] - ETA: 0s - loss: 1.2860 - acc: 0.3681Epoch 00005: val_loss improved from 1.42065 to 1.27316, saving model to /home/workspace/saved_models/text/glove.weights.best.hdf5\n",
      "3499/3499 [==============================] - 16s 5ms/step - loss: 1.2867 - acc: 0.3672 - val_loss: 1.2732 - val_acc: 0.3269\n",
      "Epoch 6/60\n",
      "3488/3499 [============================>.] - ETA: 0s - loss: 1.2348 - acc: 0.3764Epoch 00006: val_loss did not improve\n",
      "3499/3499 [==============================] - 16s 5ms/step - loss: 1.2345 - acc: 0.3770 - val_loss: 1.2890 - val_acc: 0.3582\n",
      "Epoch 7/60\n",
      "3488/3499 [============================>.] - ETA: 0s - loss: 1.2230 - acc: 0.3661Epoch 00007: val_loss improved from 1.27316 to 1.18661, saving model to /home/workspace/saved_models/text/glove.weights.best.hdf5\n",
      "3499/3499 [==============================] - 17s 5ms/step - loss: 1.2234 - acc: 0.3655 - val_loss: 1.1866 - val_acc: 0.3539\n",
      "Epoch 8/60\n",
      "3488/3499 [============================>.] - ETA: 0s - loss: 1.1970 - acc: 0.3632Epoch 00008: val_loss improved from 1.18661 to 1.16155, saving model to /home/workspace/saved_models/text/glove.weights.best.hdf5\n",
      "3499/3499 [==============================] - 16s 5ms/step - loss: 1.1970 - acc: 0.3635 - val_loss: 1.1616 - val_acc: 0.3886\n",
      "Epoch 9/60\n",
      "3488/3499 [============================>.] - ETA: 0s - loss: 1.1807 - acc: 0.3584Epoch 00009: val_loss improved from 1.16155 to 1.16038, saving model to /home/workspace/saved_models/text/glove.weights.best.hdf5\n",
      "3499/3499 [==============================] - 16s 5ms/step - loss: 1.1806 - acc: 0.3584 - val_loss: 1.1604 - val_acc: 0.3466\n",
      "Epoch 10/60\n",
      "3488/3499 [============================>.] - ETA: 0s - loss: 1.1589 - acc: 0.3724Epoch 00010: val_loss did not improve\n",
      "3499/3499 [==============================] - 16s 5ms/step - loss: 1.1590 - acc: 0.3721 - val_loss: 1.1998 - val_acc: 0.3586\n",
      "Epoch 11/60\n",
      "3488/3499 [============================>.] - ETA: 0s - loss: 1.1542 - acc: 0.3675Epoch 00011: val_loss improved from 1.16038 to 1.14348, saving model to /home/workspace/saved_models/text/glove.weights.best.hdf5\n",
      "3499/3499 [==============================] - 16s 5ms/step - loss: 1.1542 - acc: 0.3678 - val_loss: 1.1435 - val_acc: 0.3629\n",
      "Epoch 12/60\n",
      "3488/3499 [============================>.] - ETA: 0s - loss: 1.1433 - acc: 0.3790Epoch 00012: val_loss improved from 1.14348 to 1.13458, saving model to /home/workspace/saved_models/text/glove.weights.best.hdf5\n",
      "3499/3499 [==============================] - 16s 5ms/step - loss: 1.1434 - acc: 0.3787 - val_loss: 1.1346 - val_acc: 0.3526\n",
      "Epoch 13/60\n",
      "3488/3499 [============================>.] - ETA: 0s - loss: 1.1293 - acc: 0.3896Epoch 00013: val_loss did not improve\n",
      "3499/3499 [==============================] - 16s 5ms/step - loss: 1.1293 - acc: 0.3890 - val_loss: 1.1420 - val_acc: 0.3470\n",
      "Epoch 14/60\n",
      "3488/3499 [============================>.] - ETA: 0s - loss: 1.1352 - acc: 0.3675Epoch 00014: val_loss did not improve\n",
      "3499/3499 [==============================] - 16s 5ms/step - loss: 1.1353 - acc: 0.3675 - val_loss: 1.1349 - val_acc: 0.3869\n",
      "Epoch 15/60\n",
      "3488/3499 [============================>.] - ETA: 0s - loss: 1.1182 - acc: 0.3997Epoch 00015: val_loss did not improve\n",
      "3499/3499 [==============================] - 16s 5ms/step - loss: 1.1182 - acc: 0.3995 - val_loss: 1.1488 - val_acc: 0.3389\n",
      "Epoch 16/60\n",
      "3488/3499 [============================>.] - ETA: 0s - loss: 1.1170 - acc: 0.3965Epoch 00016: val_loss improved from 1.13458 to 1.11949, saving model to /home/workspace/saved_models/text/glove.weights.best.hdf5\n",
      "3499/3499 [==============================] - 16s 5ms/step - loss: 1.1169 - acc: 0.3967 - val_loss: 1.1195 - val_acc: 0.3582\n",
      "Epoch 17/60\n",
      "3488/3499 [============================>.] - ETA: 0s - loss: 1.1154 - acc: 0.3942Epoch 00017: val_loss improved from 1.11949 to 1.10829, saving model to /home/workspace/saved_models/text/glove.weights.best.hdf5\n",
      "3499/3499 [==============================] - 16s 5ms/step - loss: 1.1153 - acc: 0.3941 - val_loss: 1.1083 - val_acc: 0.4010\n",
      "Epoch 18/60\n",
      "3488/3499 [============================>.] - ETA: 0s - loss: 1.1106 - acc: 0.4040Epoch 00018: val_loss did not improve\n",
      "3499/3499 [==============================] - 16s 5ms/step - loss: 1.1103 - acc: 0.4041 - val_loss: 1.1268 - val_acc: 0.3976\n",
      "Epoch 19/60\n",
      "3488/3499 [============================>.] - ETA: 0s - loss: 1.1125 - acc: 0.3959Epoch 00019: val_loss did not improve\n",
      "3499/3499 [==============================] - 16s 5ms/step - loss: 1.1126 - acc: 0.3958 - val_loss: 1.1124 - val_acc: 0.3783\n",
      "Epoch 20/60\n",
      "3488/3499 [============================>.] - ETA: 0s - loss: 1.1064 - acc: 0.4002Epoch 00020: val_loss did not improve\n",
      "3499/3499 [==============================] - 16s 5ms/step - loss: 1.1064 - acc: 0.4001 - val_loss: 1.1446 - val_acc: 0.3578\n",
      "Epoch 21/60\n",
      "3488/3499 [============================>.] - ETA: 0s - loss: 1.1062 - acc: 0.4057Epoch 00021: val_loss did not improve\n",
      "3499/3499 [==============================] - 16s 5ms/step - loss: 1.1064 - acc: 0.4058 - val_loss: 1.1176 - val_acc: 0.3728\n",
      "Epoch 22/60\n",
      "3488/3499 [============================>.] - ETA: 0s - loss: 1.0969 - acc: 0.4146Epoch 00022: val_loss did not improve\n",
      "3499/3499 [==============================] - 16s 5ms/step - loss: 1.0973 - acc: 0.4144 - val_loss: 1.1243 - val_acc: 0.3890\n",
      "Epoch 23/60\n",
      "3488/3499 [============================>.] - ETA: 0s - loss: 1.0963 - acc: 0.4123Epoch 00023: val_loss improved from 1.10829 to 1.10628, saving model to /home/workspace/saved_models/text/glove.weights.best.hdf5\n",
      "3499/3499 [==============================] - 16s 5ms/step - loss: 1.0961 - acc: 0.4124 - val_loss: 1.1063 - val_acc: 0.3886\n",
      "Epoch 24/60\n",
      "3488/3499 [============================>.] - ETA: 0s - loss: 1.0926 - acc: 0.4154Epoch 00024: val_loss did not improve\n",
      "3499/3499 [==============================] - 16s 5ms/step - loss: 1.0929 - acc: 0.4153 - val_loss: 1.1084 - val_acc: 0.3715\n",
      "Epoch 25/60\n",
      "3488/3499 [============================>.] - ETA: 0s - loss: 1.0960 - acc: 0.4206Epoch 00025: val_loss improved from 1.10628 to 1.10523, saving model to /home/workspace/saved_models/text/glove.weights.best.hdf5\n",
      "3499/3499 [==============================] - 16s 5ms/step - loss: 1.0959 - acc: 0.4204 - val_loss: 1.1052 - val_acc: 0.3882\n",
      "Epoch 26/60\n",
      "3488/3499 [============================>.] - ETA: 0s - loss: 1.0898 - acc: 0.4229Epoch 00026: val_loss did not improve\n",
      "3499/3499 [==============================] - 16s 5ms/step - loss: 1.0899 - acc: 0.4224 - val_loss: 1.1276 - val_acc: 0.3659\n",
      "Epoch 27/60\n",
      "3488/3499 [============================>.] - ETA: 0s - loss: 1.0844 - acc: 0.4306Epoch 00027: val_loss did not improve\n",
      "3499/3499 [==============================] - 16s 5ms/step - loss: 1.0847 - acc: 0.4298 - val_loss: 1.1063 - val_acc: 0.3847\n"
     ]
    },
    {
     "name": "stdout",
     "output_type": "stream",
     "text": [
      "Epoch 28/60\n",
      "3488/3499 [============================>.] - ETA: 0s - loss: 1.0846 - acc: 0.4275Epoch 00028: val_loss did not improve\n",
      "3499/3499 [==============================] - 16s 5ms/step - loss: 1.0843 - acc: 0.4284 - val_loss: 1.1424 - val_acc: 0.3685\n",
      "Epoch 29/60\n",
      "3488/3499 [============================>.] - ETA: 0s - loss: 1.0824 - acc: 0.4335Epoch 00029: val_loss improved from 1.10523 to 1.10148, saving model to /home/workspace/saved_models/text/glove.weights.best.hdf5\n",
      "3499/3499 [==============================] - 16s 5ms/step - loss: 1.0822 - acc: 0.4341 - val_loss: 1.1015 - val_acc: 0.4040\n",
      "Epoch 30/60\n",
      "3488/3499 [============================>.] - ETA: 0s - loss: 1.0828 - acc: 0.4329Epoch 00030: val_loss did not improve\n",
      "3499/3499 [==============================] - 16s 5ms/step - loss: 1.0826 - acc: 0.4330 - val_loss: 1.1224 - val_acc: 0.3608\n",
      "Epoch 31/60\n",
      "3488/3499 [============================>.] - ETA: 0s - loss: 1.0752 - acc: 0.4389Epoch 00031: val_loss did not improve\n",
      "3499/3499 [==============================] - 16s 5ms/step - loss: 1.0750 - acc: 0.4393 - val_loss: 1.1246 - val_acc: 0.3732\n",
      "Epoch 32/60\n",
      "3488/3499 [============================>.] - ETA: 0s - loss: 1.0781 - acc: 0.4323Epoch 00032: val_loss did not improve\n",
      "3499/3499 [==============================] - 16s 5ms/step - loss: 1.0779 - acc: 0.4324 - val_loss: 1.1067 - val_acc: 0.4019\n",
      "Epoch 33/60\n",
      "3488/3499 [============================>.] - ETA: 0s - loss: 1.0737 - acc: 0.4424Epoch 00033: val_loss did not improve\n",
      "3499/3499 [==============================] - 16s 5ms/step - loss: 1.0738 - acc: 0.4424 - val_loss: 1.1039 - val_acc: 0.4019\n",
      "Epoch 34/60\n",
      "3488/3499 [============================>.] - ETA: 0s - loss: 1.0744 - acc: 0.4381Epoch 00034: val_loss did not improve\n",
      "3499/3499 [==============================] - 16s 5ms/step - loss: 1.0745 - acc: 0.4378 - val_loss: 1.2567 - val_acc: 0.3638\n",
      "Epoch 35/60\n",
      "3488/3499 [============================>.] - ETA: 0s - loss: 1.0652 - acc: 0.4553Epoch 00035: val_loss did not improve\n",
      "3499/3499 [==============================] - 16s 5ms/step - loss: 1.0656 - acc: 0.4550 - val_loss: 1.1023 - val_acc: 0.4122\n",
      "Epoch 36/60\n",
      "3488/3499 [============================>.] - ETA: 0s - loss: 1.0692 - acc: 0.4495Epoch 00036: val_loss did not improve\n",
      "3499/3499 [==============================] - 16s 5ms/step - loss: 1.0689 - acc: 0.4501 - val_loss: 1.1215 - val_acc: 0.4006\n",
      "Epoch 37/60\n",
      "3488/3499 [============================>.] - ETA: 0s - loss: 1.0701 - acc: 0.4404Epoch 00037: val_loss did not improve\n",
      "3499/3499 [==============================] - 16s 5ms/step - loss: 1.0699 - acc: 0.4404 - val_loss: 1.1187 - val_acc: 0.3595\n",
      "Epoch 38/60\n",
      "3488/3499 [============================>.] - ETA: 0s - loss: 1.0604 - acc: 0.4556Epoch 00038: val_loss did not improve\n",
      "3499/3499 [==============================] - 16s 5ms/step - loss: 1.0605 - acc: 0.4556 - val_loss: 1.1186 - val_acc: 0.3770\n",
      "Epoch 39/60\n",
      "3488/3499 [============================>.] - ETA: 0s - loss: 1.0673 - acc: 0.4544Epoch 00039: val_loss improved from 1.10148 to 1.10033, saving model to /home/workspace/saved_models/text/glove.weights.best.hdf5\n",
      "3499/3499 [==============================] - 16s 5ms/step - loss: 1.0672 - acc: 0.4544 - val_loss: 1.1003 - val_acc: 0.3967\n",
      "Epoch 40/60\n",
      "3488/3499 [============================>.] - ETA: 0s - loss: 1.0629 - acc: 0.4601Epoch 00040: val_loss did not improve\n",
      "3499/3499 [==============================] - 16s 5ms/step - loss: 1.0627 - acc: 0.4604 - val_loss: 1.1083 - val_acc: 0.3907\n",
      "Epoch 41/60\n",
      "3488/3499 [============================>.] - ETA: 0s - loss: 1.0617 - acc: 0.4515Epoch 00041: val_loss did not improve\n",
      "3499/3499 [==============================] - 16s 5ms/step - loss: 1.0617 - acc: 0.4518 - val_loss: 1.1006 - val_acc: 0.4135\n",
      "Epoch 42/60\n",
      "3488/3499 [============================>.] - ETA: 0s - loss: 1.0559 - acc: 0.4604Epoch 00042: val_loss did not improve\n",
      "3499/3499 [==============================] - 16s 4ms/step - loss: 1.0560 - acc: 0.4607 - val_loss: 1.1447 - val_acc: 0.3830\n",
      "Epoch 43/60\n",
      "3488/3499 [============================>.] - ETA: 0s - loss: 1.0561 - acc: 0.4627Epoch 00043: val_loss did not improve\n",
      "3499/3499 [==============================] - 16s 5ms/step - loss: 1.0560 - acc: 0.4627 - val_loss: 1.1374 - val_acc: 0.3766\n",
      "Epoch 44/60\n",
      "3488/3499 [============================>.] - ETA: 0s - loss: 1.0495 - acc: 0.4647Epoch 00044: val_loss improved from 1.10033 to 1.09928, saving model to /home/workspace/saved_models/text/glove.weights.best.hdf5\n",
      "3499/3499 [==============================] - 16s 5ms/step - loss: 1.0494 - acc: 0.4647 - val_loss: 1.0993 - val_acc: 0.4160\n",
      "Epoch 45/60\n",
      "3488/3499 [============================>.] - ETA: 0s - loss: 1.0469 - acc: 0.4647Epoch 00045: val_loss did not improve\n",
      "3499/3499 [==============================] - 16s 5ms/step - loss: 1.0469 - acc: 0.4647 - val_loss: 1.1169 - val_acc: 0.4040\n",
      "Epoch 46/60\n",
      "3488/3499 [============================>.] - ETA: 0s - loss: 1.0483 - acc: 0.4676Epoch 00046: val_loss did not improve\n",
      "3499/3499 [==============================] - 16s 4ms/step - loss: 1.0489 - acc: 0.4673 - val_loss: 1.1257 - val_acc: 0.3779\n",
      "Epoch 47/60\n",
      "3488/3499 [============================>.] - ETA: 0s - loss: 1.0503 - acc: 0.4665Epoch 00047: val_loss did not improve\n",
      "3499/3499 [==============================] - 16s 4ms/step - loss: 1.0503 - acc: 0.4664 - val_loss: 1.1482 - val_acc: 0.3629\n",
      "Epoch 48/60\n",
      "3488/3499 [============================>.] - ETA: 0s - loss: 1.0496 - acc: 0.4601Epoch 00048: val_loss did not improve\n",
      "3499/3499 [==============================] - 16s 5ms/step - loss: 1.0495 - acc: 0.4607 - val_loss: 1.2174 - val_acc: 0.3530\n",
      "Epoch 49/60\n",
      "3488/3499 [============================>.] - ETA: 0s - loss: 1.0333 - acc: 0.4733Epoch 00049: val_loss did not improve\n",
      "3499/3499 [==============================] - 16s 5ms/step - loss: 1.0344 - acc: 0.4724 - val_loss: 1.3240 - val_acc: 0.3578\n",
      "Epoch 50/60\n",
      "3488/3499 [============================>.] - ETA: 0s - loss: 1.0327 - acc: 0.4751Epoch 00050: val_loss did not improve\n",
      "3499/3499 [==============================] - 16s 5ms/step - loss: 1.0330 - acc: 0.4744 - val_loss: 1.1710 - val_acc: 0.4032\n",
      "Epoch 51/60\n",
      "3488/3499 [============================>.] - ETA: 0s - loss: 1.0246 - acc: 0.4834Epoch 00051: val_loss did not improve\n",
      "3499/3499 [==============================] - 16s 5ms/step - loss: 1.0251 - acc: 0.4827 - val_loss: 1.2196 - val_acc: 0.3950\n",
      "Epoch 52/60\n",
      "3488/3499 [============================>.] - ETA: 0s - loss: 1.0324 - acc: 0.4776Epoch 00052: val_loss did not improve\n",
      "3499/3499 [==============================] - 16s 5ms/step - loss: 1.0328 - acc: 0.4770 - val_loss: 1.1990 - val_acc: 0.3693\n",
      "Epoch 53/60\n",
      "3488/3499 [============================>.] - ETA: 0s - loss: 1.0308 - acc: 0.4834Epoch 00053: val_loss did not improve\n",
      "3499/3499 [==============================] - 16s 4ms/step - loss: 1.0314 - acc: 0.4830 - val_loss: 1.1792 - val_acc: 0.3950\n",
      "Epoch 54/60\n",
      "3488/3499 [============================>.] - ETA: 0s - loss: 1.0220 - acc: 0.4834Epoch 00054: val_loss did not improve\n",
      "3499/3499 [==============================] - 16s 4ms/step - loss: 1.0216 - acc: 0.4839 - val_loss: 1.1435 - val_acc: 0.4169\n",
      "Epoch 55/60\n",
      "3488/3499 [============================>.] - ETA: 0s - loss: 1.0310 - acc: 0.4814Epoch 00055: val_loss did not improve\n",
      "3499/3499 [==============================] - 16s 5ms/step - loss: 1.0314 - acc: 0.4807 - val_loss: 1.1721 - val_acc: 0.3899\n",
      "Epoch 56/60\n",
      "3488/3499 [============================>.] - ETA: 0s - loss: 1.0245 - acc: 0.4946Epoch 00056: val_loss did not improve\n",
      "3499/3499 [==============================] - 16s 5ms/step - loss: 1.0241 - acc: 0.4947 - val_loss: 1.1880 - val_acc: 0.4203\n",
      "Epoch 00056: early stopping\n"
     ]
    }
   ],
   "source": [
    "!rm './saved_models/text/glove.weights.best.hdf5'\n",
    "glove_history=glove.fit(x_train, y_train, validation_split=0.4, epochs=glove_epochs, callbacks=[glove_checkpts, es], verbose=1)"
   ]
  },
  {
   "cell_type": "markdown",
   "metadata": {},
   "source": [
    "Load the best model from save"
   ]
  },
  {
   "cell_type": "code",
   "execution_count": 60,
   "metadata": {},
   "outputs": [],
   "source": [
    "glove = build_ConvLSTM(num_classes=num_polarities, vocabulary_size=vocabulary_size,\n",
    "                           optimizer=optimizers.adam(lr=0.001), use_glove=True, show=False)\n",
    "glove.load_weights(os.path.join(os.getcwd(),'saved_models','text','glove.weights.best.hdf5'))"
   ]
  },
  {
   "cell_type": "code",
   "execution_count": 61,
   "metadata": {},
   "outputs": [
    {
     "name": "stdout",
     "output_type": "stream",
     "text": [
      "2874/2874 [==============================] - 4s 1ms/step\n"
     ]
    },
    {
     "data": {
      "text/plain": [
       "Counter({2: 1236, 0: 1577, 1: 61})"
      ]
     },
     "execution_count": 61,
     "metadata": {},
     "output_type": "execute_result"
    }
   ],
   "source": [
    "y_pred_glove = glove.predict_classes(x_test)\n",
    "Counter(y_pred_glove)"
   ]
  },
  {
   "cell_type": "code",
   "execution_count": 62,
   "metadata": {},
   "outputs": [
    {
     "name": "stdout",
     "output_type": "stream",
     "text": [
      "2874/2874 [==============================] - 2s 534us/step\n",
      "Test accuracy: 41.9972%\n"
     ]
    }
   ],
   "source": [
    "glove_accuracy = glove.evaluate(x_test, y_test, batch_size=128)[1] * 100\n",
    "print('Test accuracy: %.4f%%' % glove_accuracy)"
   ]
  },
  {
   "cell_type": "code",
   "execution_count": 63,
   "metadata": {},
   "outputs": [
    {
     "data": {
      "image/png": "[encoded data removed]",
      "text/plain": [
       "<matplotlib.figure.Figure at 0x7f4fe0eb5278>"
      ]
     },
     "metadata": {},
     "output_type": "display_data"
    }
   ],
   "source": [
    "plot_history(glove_history)"
   ]
  },
  {
   "cell_type": "code",
   "execution_count": null,
   "metadata": {},
   "outputs": [],
   "source": []
  }
 ],
 "metadata": {
  "kernelspec": {
   "display_name": "Python 3",
   "language": "python",
   "name": "python3"
  },
  "language_info": {
   "codemirror_mode": {
    "name": "ipython",
    "version": 3
   },
   "file_extension": ".py",
   "mimetype": "text/x-python",
   "name": "python",
   "nbconvert_exporter": "python",
   "pygments_lexer": "ipython3",
   "version": "3.6.7"
  },
  "toc": {
   "base_numbering": 1,
   "nav_menu": {},
   "number_sections": true,
   "sideBar": true,
   "skip_h1_title": false,
   "title_cell": "Table of Contents",
   "title_sidebar": "Contents",
   "toc_cell": false,
   "toc_position": {
    "height": "calc(100% - 180px)",
    "left": "10px",
    "top": "150px",
    "width": "219px"
   },
   "toc_section_display": true,
   "toc_window_display": true
  }
 },
 "nbformat": 4,
 "nbformat_minor": 2
}
