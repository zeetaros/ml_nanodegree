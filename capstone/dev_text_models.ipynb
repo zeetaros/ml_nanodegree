{
 "cells": [
  {
   "cell_type": "markdown",
   "metadata": {},
   "source": [
    "### Import required packages"
   ]
  },
  {
   "cell_type": "code",
   "execution_count": 42,
   "metadata": {},
   "outputs": [],
   "source": [
    "import os\n",
    "import re\n",
    "import json\n",
    "# import tqdm\n",
    "import pandas as pd\n",
    "import numpy as np\n",
    "import matplotlib.pyplot as plt\n",
    "import seaborn as sns\n",
    "from math import floor\n",
    "from collections import Counter\n",
    "# from factory_func import plot_confusion_matrix\n",
    "from sklearn.utils import shuffle\n",
    "from sklearn.preprocessing import Normalizer\n",
    "from sklearn.feature_extraction.text import TfidfVectorizer, ENGLISH_STOP_WORDS\n",
    "from sklearn.decomposition import PCA, TruncatedSVD\n",
    "from sklearn.svm import SVC, LinearSVC\n",
    "from sklearn.ensemble import RandomForestClassifier\n",
    "from sklearn.model_selection import GridSearchCV, train_test_split\n",
    "from sklearn.metrics import confusion_matrix, f1_score, roc_curve"
   ]
  },
  {
   "cell_type": "code",
   "execution_count": 2,
   "metadata": {},
   "outputs": [
    {
     "name": "stderr",
     "output_type": "stream",
     "text": [
      "Using TensorFlow backend.\n"
     ]
    }
   ],
   "source": [
    "from keras.layers import Input, Dense, Embedding, Conv1D, Conv2D, Lambda, LSTM, ConvLSTM2D, TimeDistributed, Masking, Bidirectional\n",
    "from keras.layers import Reshape, Flatten, Dropout, Concatenate, Activation, MaxPooling1D, GlobalAveragePooling1D, MaxPooling2D, GlobalAveragePooling2D\n",
    "from keras.callbacks import ModelCheckpoint, EarlyStopping\n",
    "from keras.layers.normalization import BatchNormalization\n",
    "from keras.preprocessing.text import Tokenizer\n",
    "from keras.preprocessing.sequence import pad_sequences\n",
    "from keras.preprocessing import sequence\n",
    "from keras.models import Model, load_model, Sequential\n",
    "from keras.optimizers import Adam\n",
    "from keras.regularizers import l2, l1\n",
    "from keras.utils import to_categorical\n",
    "from keras import optimizers\n",
    "import keras.backend as K"
   ]
  },
  {
   "cell_type": "code",
   "execution_count": 26,
   "metadata": {},
   "outputs": [],
   "source": [
    "# import gzip\n",
    "# from gensim.models import Word2Vec"
   ]
  },
  {
   "cell_type": "markdown",
   "metadata": {},
   "source": [
    "### 1. ETL & Cleansing  \n",
    "### 2. Rebalancing (Undersampling)  \n",
    "### 3. Feature Extraction  \n",
    "### 4. Model Selection & Evaluation  "
   ]
  },
  {
   "cell_type": "markdown",
   "metadata": {},
   "source": [
    "## Accuracy Records  \n",
    "SVM: 45.5172%  \n",
    "Dense NN: 45.1724%  \n",
    "CNN: 47.2414%  \n",
    "LSTM: tbc  \n",
    "  \n",
    "*(there might be a ceiling for how much you can improve the accuracy)*"
   ]
  },
  {
   "cell_type": "markdown",
   "metadata": {},
   "source": [
    "## Data Import"
   ]
  },
  {
   "cell_type": "code",
   "execution_count": 3,
   "metadata": {},
   "outputs": [],
   "source": [
    "dev_raw = pd.read_csv(os.path.join(os.getcwd(), 'data','dev_sent_emo.csv'))\n",
    "train_raw = pd.read_csv(os.path.join(os.getcwd(), 'data','train_sent_emo.csv'))\n",
    "test_raw = pd.read_csv(os.path.join(os.getcwd(), 'data','test_sent_emo.csv'))"
   ]
  },
  {
   "cell_type": "code",
   "execution_count": 4,
   "metadata": {},
   "outputs": [
    {
     "data": {
      "text/html": [
       "<div>\n",
       "<style scoped>\n",
       "    .dataframe tbody tr th:only-of-type {\n",
       "        vertical-align: middle;\n",
       "    }\n",
       "\n",
       "    .dataframe tbody tr th {\n",
       "        vertical-align: top;\n",
       "    }\n",
       "\n",
       "    .dataframe thead th {\n",
       "        text-align: right;\n",
       "    }\n",
       "</style>\n",
       "<table border=\"1\" class=\"dataframe\">\n",
       "  <thead>\n",
       "    <tr style=\"text-align: right;\">\n",
       "      <th></th>\n",
       "      <th>Sr No.</th>\n",
       "      <th>Utterance</th>\n",
       "      <th>Speaker</th>\n",
       "      <th>Emotion</th>\n",
       "      <th>Sentiment</th>\n",
       "      <th>Dialogue_ID</th>\n",
       "      <th>Utterance_ID</th>\n",
       "      <th>Season</th>\n",
       "      <th>Episode</th>\n",
       "      <th>StartTime</th>\n",
       "      <th>EndTime</th>\n",
       "    </tr>\n",
       "  </thead>\n",
       "  <tbody>\n",
       "    <tr>\n",
       "      <th>0</th>\n",
       "      <td>1</td>\n",
       "      <td>Oh my God, hes lost it. Hes totally lost it.</td>\n",
       "      <td>Phoebe</td>\n",
       "      <td>sadness</td>\n",
       "      <td>negative</td>\n",
       "      <td>0</td>\n",
       "      <td>0</td>\n",
       "      <td>4</td>\n",
       "      <td>7</td>\n",
       "      <td>00:20:57,256</td>\n",
       "      <td>00:21:00,049</td>\n",
       "    </tr>\n",
       "    <tr>\n",
       "      <th>1</th>\n",
       "      <td>2</td>\n",
       "      <td>What?</td>\n",
       "      <td>Monica</td>\n",
       "      <td>surprise</td>\n",
       "      <td>negative</td>\n",
       "      <td>0</td>\n",
       "      <td>1</td>\n",
       "      <td>4</td>\n",
       "      <td>7</td>\n",
       "      <td>00:21:01,927</td>\n",
       "      <td>00:21:03,261</td>\n",
       "    </tr>\n",
       "    <tr>\n",
       "      <th>2</th>\n",
       "      <td>3</td>\n",
       "      <td>Or! Or, we could go to the bank, close our acc...</td>\n",
       "      <td>Ross</td>\n",
       "      <td>neutral</td>\n",
       "      <td>neutral</td>\n",
       "      <td>1</td>\n",
       "      <td>0</td>\n",
       "      <td>4</td>\n",
       "      <td>4</td>\n",
       "      <td>00:12:24,660</td>\n",
       "      <td>00:12:30,915</td>\n",
       "    </tr>\n",
       "    <tr>\n",
       "      <th>3</th>\n",
       "      <td>4</td>\n",
       "      <td>Youre a genius!</td>\n",
       "      <td>Chandler</td>\n",
       "      <td>joy</td>\n",
       "      <td>positive</td>\n",
       "      <td>1</td>\n",
       "      <td>1</td>\n",
       "      <td>4</td>\n",
       "      <td>4</td>\n",
       "      <td>00:12:32,334</td>\n",
       "      <td>00:12:33,960</td>\n",
       "    </tr>\n",
       "    <tr>\n",
       "      <th>4</th>\n",
       "      <td>5</td>\n",
       "      <td>Aww, man, now we wont be bank buddies!</td>\n",
       "      <td>Joey</td>\n",
       "      <td>sadness</td>\n",
       "      <td>negative</td>\n",
       "      <td>1</td>\n",
       "      <td>2</td>\n",
       "      <td>4</td>\n",
       "      <td>4</td>\n",
       "      <td>00:12:34,211</td>\n",
       "      <td>00:12:37,505</td>\n",
       "    </tr>\n",
       "  </tbody>\n",
       "</table>\n",
       "</div>"
      ],
      "text/plain": [
       "   Sr No.                                          Utterance   Speaker  \\\n",
       "0       1     Oh my God, hes lost it. Hes totally lost it.    Phoebe   \n",
       "1       2                                              What?    Monica   \n",
       "2       3  Or! Or, we could go to the bank, close our acc...      Ross   \n",
       "3       4                                   Youre a genius!  Chandler   \n",
       "4       5            Aww, man, now we wont be bank buddies!      Joey   \n",
       "\n",
       "    Emotion Sentiment  Dialogue_ID  Utterance_ID  Season  Episode  \\\n",
       "0   sadness  negative            0             0       4        7   \n",
       "1  surprise  negative            0             1       4        7   \n",
       "2   neutral   neutral            1             0       4        4   \n",
       "3       joy  positive            1             1       4        4   \n",
       "4   sadness  negative            1             2       4        4   \n",
       "\n",
       "      StartTime       EndTime  \n",
       "0  00:20:57,256  00:21:00,049  \n",
       "1  00:21:01,927  00:21:03,261  \n",
       "2  00:12:24,660  00:12:30,915  \n",
       "3  00:12:32,334  00:12:33,960  \n",
       "4  00:12:34,211  00:12:37,505  "
      ]
     },
     "execution_count": 4,
     "metadata": {},
     "output_type": "execute_result"
    }
   ],
   "source": [
    "dev_raw.head()"
   ]
  },
  {
   "cell_type": "markdown",
   "metadata": {},
   "source": [
    "## Labels Distribution"
   ]
  },
  {
   "cell_type": "code",
   "execution_count": 5,
   "metadata": {
    "scrolled": true
   },
   "outputs": [
    {
     "data": {
      "text/plain": [
       "Text(0.5,1,'testing set')"
      ]
     },
     "execution_count": 5,
     "metadata": {},
     "output_type": "execute_result"
    },
    {
     "data": {
      "image/png": "[encoded data removed]",
      "text/plain": [
       "<matplotlib.figure.Figure at 0x7f6c6a7d3358>"
      ]
     },
     "metadata": {
      "needs_background": "light"
     },
     "output_type": "display_data"
    }
   ],
   "source": [
    "f, axes = plt.subplots(1, 3, figsize=(15,4))\n",
    "sns.countplot(x='Sentiment', data=dev_raw, ax=axes[0], order=['negative','neutral','positive']).set_title('dev set')\n",
    "sns.countplot(x='Sentiment', data=train_raw, ax=axes[1], order=['negative','neutral','positive']).set_title('training set')\n",
    "sns.countplot(x='Sentiment', data=test_raw, ax=axes[2], order=['negative','neutral','positive']).set_title('testing set')"
   ]
  },
  {
   "cell_type": "code",
   "execution_count": 7,
   "metadata": {},
   "outputs": [
    {
     "name": "stdout",
     "output_type": "stream",
     "text": [
      "Counter({'neutral': 470, 'negative': 406, 'positive': 233})\n",
      "Counter({'neutral': 4710, 'negative': 2945, 'positive': 2334})\n",
      "Counter({'neutral': 1256, 'negative': 833, 'positive': 521})\n"
     ]
    }
   ],
   "source": [
    "print(Counter(dev_raw.Sentiment))\n",
    "print(Counter(train_raw.Sentiment))\n",
    "print(Counter(test_raw.Sentiment))"
   ]
  },
  {
   "cell_type": "code",
   "execution_count": 8,
   "metadata": {},
   "outputs": [],
   "source": [
    "dev_raw.Utterance = dev_raw.Utterance.apply(lambda x: re.sub('\\\\x92', \"'\", x))\n",
    "train_raw.Utterance = train_raw.Utterance.apply(lambda x: re.sub('\\\\x92', \"'\", x))\n",
    "test_raw.Utterance = test_raw.Utterance.apply(lambda x: re.sub('\\\\x92', \"'\", x))"
   ]
  },
  {
   "cell_type": "code",
   "execution_count": 9,
   "metadata": {},
   "outputs": [
    {
     "data": {
      "text/plain": [
       "Text(0.5,1,'train+test set')"
      ]
     },
     "execution_count": 9,
     "metadata": {},
     "output_type": "execute_result"
    },
    {
     "data": {
      "image/png": "[encoded data removed]",
      "text/plain": [
       "<matplotlib.figure.Figure at 0x7f6c6a6d9240>"
      ]
     },
     "metadata": {
      "needs_background": "light"
     },
     "output_type": "display_data"
    }
   ],
   "source": [
    "train_raw['source'] = 'train'\n",
    "test_raw['source'] = 'test'\n",
    "data_raw = pd.concat([train_raw, test_raw])\n",
    "data_raw.shape\n",
    "sns.countplot(x='Sentiment', data=data_raw, order=['negative','neutral','positive']).set_title('train+test set')"
   ]
  },
  {
   "cell_type": "markdown",
   "metadata": {},
   "source": [
    "## Resampling  \n",
    "To deal with imbalanced datasets."
   ]
  },
  {
   "cell_type": "code",
   "execution_count": 10,
   "metadata": {},
   "outputs": [
    {
     "name": "stdout",
     "output_type": "stream",
     "text": [
      "There are 3778 negative, 5966 neutral and 2855 positive utternaces.\n"
     ]
    }
   ],
   "source": [
    "count_neutral, count_negative, count_positive = data_raw.Sentiment.value_counts()\n",
    "print(f'There are {count_negative} negative, {count_neutral} neutral and {count_positive} positive utternaces.')"
   ]
  },
  {
   "cell_type": "code",
   "execution_count": 11,
   "metadata": {},
   "outputs": [],
   "source": [
    "tmp_df_negative = data_raw[data_raw.Sentiment == 'negative']\n",
    "tmp_df_neutral = data_raw[data_raw.Sentiment == 'neutral']\n",
    "tmp_df_positive = data_raw[data_raw.Sentiment == 'positive']\n",
    "\n",
    "tmp_df_negative_undersampled = tmp_df_negative.sample(floor(count_positive*1.1)).reset_index(drop=True)\n",
    "tmp_df_neutral_undersampled = tmp_df_neutral.sample(floor(count_positive*0.95)).reset_index(drop=True)"
   ]
  },
  {
   "cell_type": "code",
   "execution_count": 12,
   "metadata": {},
   "outputs": [
    {
     "data": {
      "text/html": [
       "<div>\n",
       "<style scoped>\n",
       "    .dataframe tbody tr th:only-of-type {\n",
       "        vertical-align: middle;\n",
       "    }\n",
       "\n",
       "    .dataframe tbody tr th {\n",
       "        vertical-align: top;\n",
       "    }\n",
       "\n",
       "    .dataframe thead th {\n",
       "        text-align: right;\n",
       "    }\n",
       "</style>\n",
       "<table border=\"1\" class=\"dataframe\">\n",
       "  <thead>\n",
       "    <tr style=\"text-align: right;\">\n",
       "      <th></th>\n",
       "      <th>Sr No.</th>\n",
       "      <th>Utterance</th>\n",
       "      <th>Speaker</th>\n",
       "      <th>Emotion</th>\n",
       "      <th>Sentiment</th>\n",
       "      <th>Dialogue_ID</th>\n",
       "      <th>Utterance_ID</th>\n",
       "      <th>Season</th>\n",
       "      <th>Episode</th>\n",
       "      <th>StartTime</th>\n",
       "      <th>EndTime</th>\n",
       "      <th>source</th>\n",
       "    </tr>\n",
       "  </thead>\n",
       "  <tbody>\n",
       "    <tr>\n",
       "      <th>2806</th>\n",
       "      <td>2968</td>\n",
       "      <td>Oh. Thank you. Ohhh, thank you very much. Oh, ...</td>\n",
       "      <td>Monica</td>\n",
       "      <td>joy</td>\n",
       "      <td>positive</td>\n",
       "      <td>297</td>\n",
       "      <td>1</td>\n",
       "      <td>4</td>\n",
       "      <td>20</td>\n",
       "      <td>00:08:47,109</td>\n",
       "      <td>00:08:53,114</td>\n",
       "      <td>train</td>\n",
       "    </tr>\n",
       "    <tr>\n",
       "      <th>712</th>\n",
       "      <td>748</td>\n",
       "      <td>That's great.</td>\n",
       "      <td>Chandler</td>\n",
       "      <td>joy</td>\n",
       "      <td>positive</td>\n",
       "      <td>69</td>\n",
       "      <td>0</td>\n",
       "      <td>1</td>\n",
       "      <td>5</td>\n",
       "      <td>00:10:00,223</td>\n",
       "      <td>00:10:04,270</td>\n",
       "      <td>train</td>\n",
       "    </tr>\n",
       "    <tr>\n",
       "      <th>677</th>\n",
       "      <td>2945</td>\n",
       "      <td>Sorry I'm late, I was stuck at work. There was...</td>\n",
       "      <td>Ross</td>\n",
       "      <td>neutral</td>\n",
       "      <td>neutral</td>\n",
       "      <td>296</td>\n",
       "      <td>0</td>\n",
       "      <td>1</td>\n",
       "      <td>2</td>\n",
       "      <td>00:14:38,085</td>\n",
       "      <td>00:14:41,546</td>\n",
       "      <td>train</td>\n",
       "    </tr>\n",
       "    <tr>\n",
       "      <th>1547</th>\n",
       "      <td>1631</td>\n",
       "      <td>That all the pieces of my life are falling rig...</td>\n",
       "      <td>Chandler</td>\n",
       "      <td>joy</td>\n",
       "      <td>positive</td>\n",
       "      <td>165</td>\n",
       "      <td>19</td>\n",
       "      <td>4</td>\n",
       "      <td>7</td>\n",
       "      <td>00:15:10,326</td>\n",
       "      <td>00:15:14,621</td>\n",
       "      <td>train</td>\n",
       "    </tr>\n",
       "    <tr>\n",
       "      <th>155</th>\n",
       "      <td>2457</td>\n",
       "      <td>Yeah, right away Mr. Kaplan.</td>\n",
       "      <td>Rachel</td>\n",
       "      <td>neutral</td>\n",
       "      <td>neutral</td>\n",
       "      <td>247</td>\n",
       "      <td>1</td>\n",
       "      <td>3</td>\n",
       "      <td>11</td>\n",
       "      <td>0:03:56,581</td>\n",
       "      <td>0:03:57,005</td>\n",
       "      <td>test</td>\n",
       "    </tr>\n",
       "  </tbody>\n",
       "</table>\n",
       "</div>"
      ],
      "text/plain": [
       "      Sr No.                                          Utterance   Speaker  \\\n",
       "2806    2968  Oh. Thank you. Ohhh, thank you very much. Oh, ...    Monica   \n",
       "712      748                                      That's great.  Chandler   \n",
       "677     2945  Sorry I'm late, I was stuck at work. There was...      Ross   \n",
       "1547    1631  That all the pieces of my life are falling rig...  Chandler   \n",
       "155     2457                       Yeah, right away Mr. Kaplan.    Rachel   \n",
       "\n",
       "      Emotion Sentiment  Dialogue_ID  Utterance_ID  Season  Episode  \\\n",
       "2806      joy  positive          297             1       4       20   \n",
       "712       joy  positive           69             0       1        5   \n",
       "677   neutral   neutral          296             0       1        2   \n",
       "1547      joy  positive          165            19       4        7   \n",
       "155   neutral   neutral          247             1       3       11   \n",
       "\n",
       "         StartTime       EndTime source  \n",
       "2806  00:08:47,109  00:08:53,114  train  \n",
       "712   00:10:00,223  00:10:04,270  train  \n",
       "677   00:14:38,085  00:14:41,546  train  \n",
       "1547  00:15:10,326  00:15:14,621  train  \n",
       "155    0:03:56,581   0:03:57,005   test  "
      ]
     },
     "execution_count": 12,
     "metadata": {},
     "output_type": "execute_result"
    }
   ],
   "source": [
    "data_balanced = pd.concat([tmp_df_negative_undersampled, tmp_df_neutral_undersampled, tmp_df_positive], axis=0)\n",
    "data_balanced = shuffle(data_balanced)\n",
    "data_balanced.head()"
   ]
  },
  {
   "cell_type": "code",
   "execution_count": 13,
   "metadata": {},
   "outputs": [
    {
     "name": "stdout",
     "output_type": "stream",
     "text": [
      "There are 3140 negative, 2712 neutral and 2855 positive utternaces.\n"
     ]
    },
    {
     "data": {
      "text/plain": [
       "Text(0.5,1,'rebalanced set')"
      ]
     },
     "execution_count": 13,
     "metadata": {},
     "output_type": "execute_result"
    },
    {
     "data": {
      "image/png": "[encoded data removed]",
      "text/plain": [
       "<matplotlib.figure.Figure at 0x7f6c6a67f400>"
      ]
     },
     "metadata": {
      "needs_background": "light"
     },
     "output_type": "display_data"
    }
   ],
   "source": [
    "new_c_negative, new_c_positive, new_c_neutral = data_balanced.Sentiment.value_counts()\n",
    "print(f'There are {new_c_negative} negative, {new_c_neutral} neutral and {new_c_positive} positive utternaces.')\n",
    "sns.countplot(x='Sentiment', data=data_balanced, order=['negative','neutral','positive']).set_title('rebalanced set')"
   ]
  },
  {
   "cell_type": "markdown",
   "metadata": {},
   "source": [
    "## Preprocessing (deep learning)"
   ]
  },
  {
   "cell_type": "code",
   "execution_count": 14,
   "metadata": {},
   "outputs": [
    {
     "name": "stdout",
     "output_type": "stream",
     "text": [
      "The longest utterance contains 48 words.\n"
     ]
    }
   ],
   "source": [
    "print('The longest utterance contains {} words.'.format(max([len(x.split(' ')) for x in data_balanced.Utterance])))"
   ]
  },
  {
   "cell_type": "code",
   "execution_count": 15,
   "metadata": {},
   "outputs": [
    {
     "name": "stdout",
     "output_type": "stream",
     "text": [
      "Found 5394 unique tokens.\n"
     ]
    }
   ],
   "source": [
    "# For sentiment analysis\n",
    "num_polarities = 3\n",
    "max_sequence_len = 100\n",
    "\n",
    "vocabulary_size = 6000\n",
    "tokenizer = Tokenizer(num_words= vocabulary_size, filters='!\"#$%&()*+,-./:;<=>?@[\\]^_`{}~', lower=True)\n",
    "tokenizer.fit_on_texts(data_balanced.Utterance.values)\n",
    "word_index = tokenizer.word_index\n",
    "print('Found %s unique tokens.' % len(word_index))"
   ]
  },
  {
   "cell_type": "code",
   "execution_count": 16,
   "metadata": {},
   "outputs": [
    {
     "name": "stdout",
     "output_type": "stream",
     "text": [
      "Shape of data tensor: (8707, 100)\n"
     ]
    }
   ],
   "source": [
    "X = tokenizer.texts_to_sequences(data_balanced.Utterance.values)\n",
    "X = pad_sequences(X, maxlen=max_sequence_len)\n",
    "print('Shape of data tensor:', X.shape)\n",
    "\n",
    "# X = tokenizer.texts_to_matrix(data_balanced.Utterance, mode='tfidf')\n",
    "# print('Shape of data tensor:', X.shape)\n",
    "# X[0]"
   ]
  },
  {
   "cell_type": "code",
   "execution_count": 17,
   "metadata": {},
   "outputs": [],
   "source": [
    "# Prep target labels for sentiment analysis\n",
    "y = data_balanced.Sentiment.values\n",
    "sen_targets, sen_uniques = pd.factorize(y, sort=True)\n",
    "y = to_categorical(sen_targets, num_polarities)"
   ]
  },
  {
   "cell_type": "code",
   "execution_count": 18,
   "metadata": {},
   "outputs": [
    {
     "data": {
      "text/plain": [
       "{'negative': 0, 'neutral': 1, 'positive': 2}"
      ]
     },
     "execution_count": 18,
     "metadata": {},
     "output_type": "execute_result"
    }
   ],
   "source": [
    "sen_label_map = dict(zip(list(sen_uniques), range(num_polarities)))\n",
    "sen_label_map"
   ]
  },
  {
   "cell_type": "code",
   "execution_count": 19,
   "metadata": {},
   "outputs": [],
   "source": [
    "x_train, x_test, y_train, y_test = train_test_split(X, y, test_size = 0.33, random_state = 42)"
   ]
  },
  {
   "cell_type": "markdown",
   "metadata": {},
   "source": [
    "## Preprocessing (supervised learning)  \n",
    "To avoid naming conflict, the x_train, y_train used in supervised learning will be represented by p_train, q_train"
   ]
  },
  {
   "cell_type": "code",
   "execution_count": 36,
   "metadata": {},
   "outputs": [],
   "source": [
    "P = data_balanced.Utterance.values\n",
    "Q = data_balanced.Sentiment.values\n",
    "\n",
    "tfidf = TfidfVectorizer(lowercase=True, stop_words='english', ngram_range=(1,3))\n",
    "tfidf.fit(P)\n",
    "p = tfidf.transform(P)"
   ]
  },
  {
   "cell_type": "code",
   "execution_count": 37,
   "metadata": {},
   "outputs": [
    {
     "data": {
      "text/plain": [
       "{'negative': 0, 'neutral': 1, 'positive': 2}"
      ]
     },
     "execution_count": 37,
     "metadata": {},
     "output_type": "execute_result"
    }
   ],
   "source": [
    "q, uniques = pd.factorize(Q, sort=True)\n",
    "label_map = dict(zip(list(uniques), range(num_polarities)))\n",
    "label_map"
   ]
  },
  {
   "cell_type": "code",
   "execution_count": 38,
   "metadata": {},
   "outputs": [],
   "source": [
    "svd = TruncatedSVD(n_components=300)\n",
    "p_svd = svd.fit_transform(p)"
   ]
  },
  {
   "cell_type": "code",
   "execution_count": 39,
   "metadata": {},
   "outputs": [],
   "source": [
    "p_train, p_test, q_train, q_test = train_test_split(p_svd, q, test_size = 0.33, random_state = 42)"
   ]
  },
  {
   "cell_type": "code",
   "execution_count": null,
   "metadata": {},
   "outputs": [],
   "source": []
  },
  {
   "cell_type": "code",
   "execution_count": null,
   "metadata": {},
   "outputs": [],
   "source": []
  },
  {
   "cell_type": "code",
   "execution_count": null,
   "metadata": {},
   "outputs": [],
   "source": []
  },
  {
   "cell_type": "markdown",
   "metadata": {},
   "source": [
    "## Factory functions"
   ]
  },
  {
   "cell_type": "code",
   "execution_count": 20,
   "metadata": {},
   "outputs": [],
   "source": [
    "plt.style.use('ggplot')\n",
    "\n",
    "def plot_history(history):\n",
    "    acc = history.history['acc']\n",
    "    val_acc = history.history['val_acc']\n",
    "    loss = history.history['loss']\n",
    "    val_loss = history.history['val_loss']\n",
    "    x = range(1, len(acc) + 1)\n",
    "\n",
    "    plt.figure(figsize=(12, 5))\n",
    "    plt.subplot(1, 2, 1)\n",
    "    plt.plot(x, acc, 'b', label='Training acc')\n",
    "    plt.plot(x, val_acc, 'r', label='Validation acc')\n",
    "    plt.title('Training and validation accuracy')\n",
    "    plt.xlabel('epoch')\n",
    "    plt.legend()\n",
    "    plt.subplot(1, 2, 2)\n",
    "    plt.plot(x, loss, 'b', label='Training loss')\n",
    "    plt.plot(x, val_loss, 'r', label='Validation loss')\n",
    "    plt.title('Training and validation loss')\n",
    "    plt.xlabel('epoch')\n",
    "    plt.legend()"
   ]
  },
  {
   "cell_type": "markdown",
   "metadata": {},
   "source": [
    "## Models  \n",
    "**Summary on Sentiment Analysis**  \n",
    "Predicting 3 classes: Positive, Negative & Neutral   \n",
    "  \n",
    "**Models ready at disposal:**  \n",
    "- SVM  \n",
    "- Random Forest\n",
    "- Fully connected (Dense only)  \n",
    "- CNN  \n",
    "- Transfer learning with Glove + LSTM\n",
    "\n",
    "**Accuracy records**  \n",
    "- SVM: 49.37%  \n",
    "- Random Forest: 48.61%\n",
    "- Dense: 37.96%\n",
    "- CNN: 37.54%  \n",
    "- LSTM (with Glove): 48.3908% (old)"
   ]
  },
  {
   "cell_type": "markdown",
   "metadata": {},
   "source": [
    "### Support Vector Machine (SVM)"
   ]
  },
  {
   "cell_type": "code",
   "execution_count": 34,
   "metadata": {},
   "outputs": [],
   "source": [
    "svm = SVC(C=10, kernel='linear', probability=True, gamma='auto_deprecated', random_state=42)"
   ]
  },
  {
   "cell_type": "code",
   "execution_count": null,
   "metadata": {},
   "outputs": [],
   "source": [
    "# param_grid_svm = { \n",
    "#     'C': [1,10,100], 'kernel': ['linear', 'rbf']\n",
    "# }\n",
    "# clf = GridSearchCV(estimator=svm, param_grid=param_grid_svm, cv=5)\n",
    "# clf.fit(x_train_tr, y_train)"
   ]
  },
  {
   "cell_type": "code",
   "execution_count": null,
   "metadata": {},
   "outputs": [],
   "source": [
    "# clf.best_estimator_"
   ]
  },
  {
   "cell_type": "markdown",
   "metadata": {},
   "source": [
    "**Best model by GridSearchCV**  \n",
    "SVC(C=10, cache_size=200, class_weight=None, coef0=0.0,  \n",
    "decision_function_shape='ovr', degree=3, gamma='auto_deprecated',  \n",
    "kernel='linear', max_iter=-1, probability=True, random_state=None,  \n",
    "shrinking=True, tol=0.001, verbose=False)"
   ]
  },
  {
   "cell_type": "code",
   "execution_count": 44,
   "metadata": {},
   "outputs": [
    {
     "data": {
      "text/plain": [
       "SVC(C=10, cache_size=200, class_weight=None, coef0=0.0,\n",
       "  decision_function_shape='ovr', degree=3, gamma='auto', kernel='linear',\n",
       "  max_iter=-1, probability=True, random_state=None, shrinking=True,\n",
       "  tol=0.001, verbose=False)"
      ]
     },
     "execution_count": 44,
     "metadata": {},
     "output_type": "execute_result"
    }
   ],
   "source": [
    "svm.fit(X=p_train, y=q_train)"
   ]
  },
  {
   "cell_type": "code",
   "execution_count": 45,
   "metadata": {},
   "outputs": [],
   "source": [
    "y_pred_svm = svm.predict(p_test)"
   ]
  },
  {
   "cell_type": "code",
   "execution_count": 46,
   "metadata": {},
   "outputs": [
    {
     "data": {
      "text/plain": [
       "0.4785536699324951"
      ]
     },
     "execution_count": 46,
     "metadata": {},
     "output_type": "execute_result"
    }
   ],
   "source": [
    "f1_score(y_pred=y_pred_svm, y_true=q_test, average=\"weighted\")"
   ]
  },
  {
   "cell_type": "code",
   "execution_count": 47,
   "metadata": {},
   "outputs": [
    {
     "name": "stdout",
     "output_type": "stream",
     "text": [
      "Test accuracy: 49.3737%\n"
     ]
    }
   ],
   "source": [
    "svm_accuracy = 100*np.sum(y_pred_svm==q_test)/len(y_pred_svm)\n",
    "print('Test accuracy: %.4f%%' % svm_accuracy)"
   ]
  },
  {
   "cell_type": "code",
   "execution_count": null,
   "metadata": {},
   "outputs": [],
   "source": []
  },
  {
   "cell_type": "markdown",
   "metadata": {},
   "source": [
    "### Random Forest"
   ]
  },
  {
   "cell_type": "code",
   "execution_count": 56,
   "metadata": {},
   "outputs": [],
   "source": [
    "rf = RandomForestClassifier(n_estimators=100, min_samples_leaf=4, min_samples_split=4,\n",
    "                            criterion='gini', max_features='auto')"
   ]
  },
  {
   "cell_type": "code",
   "execution_count": 52,
   "metadata": {},
   "outputs": [
    {
     "data": {
      "text/plain": [
       "GridSearchCV(cv=5, error_score='raise',\n",
       "       estimator=RandomForestClassifier(bootstrap=True, class_weight=None, criterion='gini',\n",
       "            max_depth=None, max_features='auto', max_leaf_nodes=None,\n",
       "            min_impurity_decrease=0.0, min_impurity_split=None,\n",
       "            min_samples_leaf=1, min_samples_split=2,\n",
       "            min_weight_fraction_leaf=0.0, n_estimators=10, n_jobs=1,\n",
       "            oob_score=False, random_state=None, verbose=0,\n",
       "            warm_start=False),\n",
       "       fit_params=None, iid=True, n_jobs=1,\n",
       "       param_grid={'n_estimators': [1, 10, 100], 'min_samples_split': [2, 4], 'min_samples_leaf': [1, 2, 4], 'max_features': ['auto', 'sqrt']},\n",
       "       pre_dispatch='2*n_jobs', refit=True, return_train_score='warn',\n",
       "       scoring=None, verbose=0)"
      ]
     },
     "execution_count": 52,
     "metadata": {},
     "output_type": "execute_result"
    }
   ],
   "source": [
    "# param_grid_rf = { \n",
    "#     'n_estimators': [1,10,100],\n",
    "#     'min_samples_split': [2, 4],\n",
    "#     'min_samples_leaf': [1, 2, 4],\n",
    "#     'max_features': ['auto', 'sqrt']\n",
    "# }\n",
    "# clf = GridSearchCV(estimator=rf, param_grid=param_grid_rf, cv=5)\n",
    "# clf.fit(p_train, q_train)"
   ]
  },
  {
   "cell_type": "code",
   "execution_count": 53,
   "metadata": {},
   "outputs": [
    {
     "data": {
      "text/plain": [
       "RandomForestClassifier(bootstrap=True, class_weight=None, criterion='gini',\n",
       "            max_depth=None, max_features='auto', max_leaf_nodes=None,\n",
       "            min_impurity_decrease=0.0, min_impurity_split=None,\n",
       "            min_samples_leaf=4, min_samples_split=4,\n",
       "            min_weight_fraction_leaf=0.0, n_estimators=100, n_jobs=1,\n",
       "            oob_score=False, random_state=None, verbose=0,\n",
       "            warm_start=False)"
      ]
     },
     "execution_count": 53,
     "metadata": {},
     "output_type": "execute_result"
    }
   ],
   "source": [
    "# clf.best_estimator_"
   ]
  },
  {
   "cell_type": "code",
   "execution_count": 57,
   "metadata": {},
   "outputs": [
    {
     "data": {
      "text/plain": [
       "RandomForestClassifier(bootstrap=True, class_weight=None, criterion='gini',\n",
       "            max_depth=None, max_features='auto', max_leaf_nodes=None,\n",
       "            min_impurity_decrease=0.0, min_impurity_split=None,\n",
       "            min_samples_leaf=4, min_samples_split=4,\n",
       "            min_weight_fraction_leaf=0.0, n_estimators=100, n_jobs=1,\n",
       "            oob_score=False, random_state=None, verbose=0,\n",
       "            warm_start=False)"
      ]
     },
     "execution_count": 57,
     "metadata": {},
     "output_type": "execute_result"
    }
   ],
   "source": [
    "rf.fit(X=p_train, y=q_train)"
   ]
  },
  {
   "cell_type": "code",
   "execution_count": 58,
   "metadata": {},
   "outputs": [],
   "source": [
    "y_pred_rf = rf.predict(p_test)"
   ]
  },
  {
   "cell_type": "code",
   "execution_count": 59,
   "metadata": {},
   "outputs": [
    {
     "data": {
      "text/plain": [
       "0.47759736798761787"
      ]
     },
     "execution_count": 59,
     "metadata": {},
     "output_type": "execute_result"
    }
   ],
   "source": [
    "f1_score(y_pred=y_pred_rf, y_true=q_test, average=\"weighted\")"
   ]
  },
  {
   "cell_type": "code",
   "execution_count": 60,
   "metadata": {},
   "outputs": [
    {
     "name": "stdout",
     "output_type": "stream",
     "text": [
      "Test accuracy: 48.6082%\n"
     ]
    }
   ],
   "source": [
    "rf_accuracy = 100*np.sum(y_pred_rf==q_test)/len(y_pred_rf)\n",
    "print('Test accuracy: %.4f%%' % rf_accuracy)"
   ]
  },
  {
   "cell_type": "markdown",
   "metadata": {},
   "source": [
    "### Keras TF-IDF tokenizer + Neural nets"
   ]
  },
  {
   "cell_type": "markdown",
   "metadata": {},
   "source": [
    "Neural network won't accept sentences with different dimension(i.e. number of words) as input. By padding the inputs, we decide the maximum length of words in a sentence, then zero pads the rest, if the input length is shorter than the designated length. In the case where it exceeds the maximum length, then it will also truncate either from the beginning or from the end.  \n",
    "*Ref_1* https://keras.io/preprocessing/sequence/  \n",
    "*Ref_2* https://towardsdatascience.com/another-twitter-sentiment-analysis-with-python-part-11-cnn-word2vec-41f5e28eda74\n",
    "\n",
    "https://medium.com/@sabber/classifying-yelp-review-comments-using-lstm-and-word-embeddings-part-1-eb2275e4066b\n",
    "#### Dense - Fully Connected Layers"
   ]
  },
  {
   "cell_type": "markdown",
   "metadata": {},
   "source": [
    "__Early Stopping__: Often, the first sign of no further improvement may not be the best time to stop training. This is because the model may coast into a plateau of no improvement or even get slightly worse before getting much better.\n",
    "\n",
    "We can account for this by adding a delay to the trigger in terms of the number of epochs on which we would like to see no improvement. This can be done by setting the “patience” argument."
   ]
  },
  {
   "cell_type": "code",
   "execution_count": 44,
   "metadata": {},
   "outputs": [],
   "source": [
    "dense_epochs=100\n",
    "dense_checkpts = ModelCheckpoint(filepath=os.path.join(os.getcwd(),'saved_models','text','dense.weights.best.hdf5'), \n",
    "                               verbose=1, save_best_only=True)\n",
    "es = EarlyStopping(monitor='val_loss', mode='min', verbose=1, patience=5)"
   ]
  },
  {
   "cell_type": "code",
   "execution_count": 45,
   "metadata": {},
   "outputs": [],
   "source": [
    "def build_dense(num_classes, show=True):\n",
    "    dense = Sequential()\n",
    "    dense.add(Dense(32, activation='relu', input_dim=max_sequence_len))\n",
    "    dense.add(Dropout(0.2))\n",
    "    dense.add(Dense(64, activation='relu'))\n",
    "    dense.add(BatchNormalization())\n",
    "    dense.add(Dense(128, activation='relu'))\n",
    "    dense.add(BatchNormalization())\n",
    "    dense.add(Dense(num_classes, activation='softmax'))\n",
    "    dense.compile(optimizer='adam',\n",
    "                  loss='categorical_crossentropy',\n",
    "                  metrics=['accuracy'])\n",
    "    if show:\n",
    "        print(dense.summary())\n",
    "    return dense"
   ]
  },
  {
   "cell_type": "code",
   "execution_count": 46,
   "metadata": {},
   "outputs": [
    {
     "name": "stdout",
     "output_type": "stream",
     "text": [
      "_________________________________________________________________\n",
      "Layer (type)                 Output Shape              Param #   \n",
      "=================================================================\n",
      "dense_5 (Dense)              (None, 32)                3232      \n",
      "_________________________________________________________________\n",
      "dropout_2 (Dropout)          (None, 32)                0         \n",
      "_________________________________________________________________\n",
      "dense_6 (Dense)              (None, 64)                2112      \n",
      "_________________________________________________________________\n",
      "batch_normalization_3 (Batch (None, 64)                256       \n",
      "_________________________________________________________________\n",
      "dense_7 (Dense)              (None, 128)               8320      \n",
      "_________________________________________________________________\n",
      "batch_normalization_4 (Batch (None, 128)               512       \n",
      "_________________________________________________________________\n",
      "dense_8 (Dense)              (None, 3)                 387       \n",
      "=================================================================\n",
      "Total params: 14,819\n",
      "Trainable params: 14,435\n",
      "Non-trainable params: 384\n",
      "_________________________________________________________________\n",
      "None\n"
     ]
    }
   ],
   "source": [
    "dense = build_dense(num_polarities)"
   ]
  },
  {
   "cell_type": "markdown",
   "metadata": {},
   "source": [
    "The validation_split is a value between 0 and 1 and defines the percentage amount of the training dataset to use for the validation dataset."
   ]
  },
  {
   "cell_type": "code",
   "execution_count": 47,
   "metadata": {
    "scrolled": true
   },
   "outputs": [
    {
     "name": "stdout",
     "output_type": "stream",
     "text": [
      "Train on 3499 samples, validate on 2334 samples\n",
      "Epoch 1/100\n",
      "3328/3499 [===========================>..] - ETA: 0s - loss: 1.2601 - acc: 0.3456Epoch 00001: val_loss improved from inf to 1.14137, saving model to /home/workspace/saved_models/text/dense.weights.best.hdf5\n",
      "3499/3499 [==============================] - 2s 450us/step - loss: 1.2590 - acc: 0.3455 - val_loss: 1.1414 - val_acc: 0.3663\n",
      "Epoch 2/100\n",
      "3328/3499 [===========================>..] - ETA: 0s - loss: 1.1681 - acc: 0.3654Epoch 00002: val_loss improved from 1.14137 to 1.13404, saving model to /home/workspace/saved_models/text/dense.weights.best.hdf5\n",
      "3499/3499 [==============================] - 1s 315us/step - loss: 1.1678 - acc: 0.3670 - val_loss: 1.1340 - val_acc: 0.3603\n",
      "Epoch 3/100\n",
      "3296/3499 [===========================>..] - ETA: 0s - loss: 1.1393 - acc: 0.3765Epoch 00003: val_loss improved from 1.13404 to 1.13066, saving model to /home/workspace/saved_models/text/dense.weights.best.hdf5\n",
      "3499/3499 [==============================] - 1s 314us/step - loss: 1.1403 - acc: 0.3718 - val_loss: 1.1307 - val_acc: 0.3569\n",
      "Epoch 4/100\n",
      "3392/3499 [============================>.] - ETA: 0s - loss: 1.1253 - acc: 0.3850Epoch 00004: val_loss improved from 1.13066 to 1.12670, saving model to /home/workspace/saved_models/text/dense.weights.best.hdf5\n",
      "3499/3499 [==============================] - 1s 312us/step - loss: 1.1265 - acc: 0.3824 - val_loss: 1.1267 - val_acc: 0.3423\n",
      "Epoch 5/100\n",
      "3360/3499 [===========================>..] - ETA: 0s - loss: 1.1200 - acc: 0.3795Epoch 00005: val_loss improved from 1.12670 to 1.12447, saving model to /home/workspace/saved_models/text/dense.weights.best.hdf5\n",
      "3499/3499 [==============================] - 1s 313us/step - loss: 1.1227 - acc: 0.3753 - val_loss: 1.1245 - val_acc: 0.3629\n",
      "Epoch 6/100\n",
      "3360/3499 [===========================>..] - ETA: 0s - loss: 1.1134 - acc: 0.3729Epoch 00006: val_loss did not improve\n",
      "3499/3499 [==============================] - 1s 298us/step - loss: 1.1133 - acc: 0.3721 - val_loss: 1.1675 - val_acc: 0.3552\n",
      "Epoch 7/100\n",
      "3328/3499 [===========================>..] - ETA: 0s - loss: 1.1163 - acc: 0.3657Epoch 00007: val_loss improved from 1.12447 to 1.11937, saving model to /home/workspace/saved_models/text/dense.weights.best.hdf5\n",
      "3499/3499 [==============================] - 1s 306us/step - loss: 1.1158 - acc: 0.3678 - val_loss: 1.1194 - val_acc: 0.3676\n",
      "Epoch 8/100\n",
      "3392/3499 [============================>.] - ETA: 0s - loss: 1.1039 - acc: 0.3747Epoch 00008: val_loss did not improve\n",
      "3499/3499 [==============================] - 1s 293us/step - loss: 1.1043 - acc: 0.3741 - val_loss: 1.1261 - val_acc: 0.3693\n",
      "Epoch 9/100\n",
      "3392/3499 [============================>.] - ETA: 0s - loss: 1.1056 - acc: 0.3806Epoch 00009: val_loss improved from 1.11937 to 1.11857, saving model to /home/workspace/saved_models/text/dense.weights.best.hdf5\n",
      "3499/3499 [==============================] - 1s 305us/step - loss: 1.1053 - acc: 0.3821 - val_loss: 1.1186 - val_acc: 0.3762\n",
      "Epoch 10/100\n",
      "3392/3499 [============================>.] - ETA: 0s - loss: 1.0991 - acc: 0.3894Epoch 00010: val_loss improved from 1.11857 to 1.10882, saving model to /home/workspace/saved_models/text/dense.weights.best.hdf5\n",
      "3499/3499 [==============================] - 1s 306us/step - loss: 1.0991 - acc: 0.3887 - val_loss: 1.1088 - val_acc: 0.3698\n",
      "Epoch 11/100\n",
      "3392/3499 [============================>.] - ETA: 0s - loss: 1.1010 - acc: 0.3841Epoch 00011: val_loss did not improve\n",
      "3499/3499 [==============================] - 1s 301us/step - loss: 1.1007 - acc: 0.3833 - val_loss: 1.1245 - val_acc: 0.3359\n",
      "Epoch 12/100\n",
      "3328/3499 [===========================>..] - ETA: 0s - loss: 1.0988 - acc: 0.3729Epoch 00012: val_loss did not improve\n",
      "3499/3499 [==============================] - 1s 315us/step - loss: 1.0981 - acc: 0.3730 - val_loss: 1.1159 - val_acc: 0.3633\n",
      "Epoch 13/100\n",
      "3488/3499 [============================>.] - ETA: 0s - loss: 1.0967 - acc: 0.3790Epoch 00013: val_loss did not improve\n",
      "3499/3499 [==============================] - 1s 309us/step - loss: 1.0964 - acc: 0.3793 - val_loss: 1.1293 - val_acc: 0.3620\n",
      "Epoch 14/100\n",
      "3296/3499 [===========================>..] - ETA: 0s - loss: 1.0959 - acc: 0.3893Epoch 00014: val_loss did not improve\n",
      "3499/3499 [==============================] - 1s 304us/step - loss: 1.0972 - acc: 0.3867 - val_loss: 1.1142 - val_acc: 0.3290\n",
      "Epoch 15/100\n",
      "3392/3499 [============================>.] - ETA: 0s - loss: 1.0963 - acc: 0.3850Epoch 00015: val_loss did not improve\n",
      "3499/3499 [==============================] - 1s 300us/step - loss: 1.0964 - acc: 0.3858 - val_loss: 1.1174 - val_acc: 0.3603\n",
      "Epoch 00015: early stopping\n"
     ]
    }
   ],
   "source": [
    "dense_history=dense.fit(x_train, y_train, validation_split=0.4, epochs=dense_epochs, callbacks=[dense_checkpts, es], verbose=1)"
   ]
  },
  {
   "cell_type": "code",
   "execution_count": 48,
   "metadata": {},
   "outputs": [
    {
     "data": {
      "image/png": "[encoded data removed]",
      "text/plain": [
       "<matplotlib.figure.Figure at 0x7fc9146e9fd0>"
      ]
     },
     "metadata": {},
     "output_type": "display_data"
    }
   ],
   "source": [
    "plot_history(dense_history)"
   ]
  },
  {
   "cell_type": "markdown",
   "metadata": {},
   "source": [
    "Load the best weights saved during training"
   ]
  },
  {
   "cell_type": "code",
   "execution_count": 49,
   "metadata": {},
   "outputs": [],
   "source": [
    "dense = build_dense(num_polarities, show=False)\n",
    "dense.load_weights(os.path.join(os.getcwd(),'saved_models','text','dense.weights.best.hdf5'))"
   ]
  },
  {
   "cell_type": "code",
   "execution_count": 50,
   "metadata": {},
   "outputs": [
    {
     "name": "stdout",
     "output_type": "stream",
     "text": [
      "2874/2874 [==============================] - 0s 81us/step\n"
     ]
    },
    {
     "data": {
      "text/plain": [
       "Counter({0: 1645, 2: 1021, 1: 208})"
      ]
     },
     "execution_count": 50,
     "metadata": {},
     "output_type": "execute_result"
    }
   ],
   "source": [
    "y_pred_dense = dense.predict_classes(x_test)\n",
    "Counter(y_pred_dense)"
   ]
  },
  {
   "cell_type": "code",
   "execution_count": 51,
   "metadata": {},
   "outputs": [
    {
     "name": "stdout",
     "output_type": "stream",
     "text": [
      "2874/2874 [==============================] - 0s 40us/step\n",
      "Test accuracy: 37.9610%\n"
     ]
    }
   ],
   "source": [
    "dense_accuracy = dense.evaluate(x_test, y_test, batch_size=128)[1] * 100\n",
    "print('Test accuracy: %.4f%%' % dense_accuracy)"
   ]
  },
  {
   "cell_type": "code",
   "execution_count": null,
   "metadata": {},
   "outputs": [],
   "source": []
  },
  {
   "cell_type": "code",
   "execution_count": null,
   "metadata": {},
   "outputs": [],
   "source": []
  },
  {
   "cell_type": "code",
   "execution_count": null,
   "metadata": {},
   "outputs": [],
   "source": []
  },
  {
   "cell_type": "code",
   "execution_count": null,
   "metadata": {},
   "outputs": [],
   "source": []
  },
  {
   "cell_type": "code",
   "execution_count": null,
   "metadata": {},
   "outputs": [],
   "source": []
  },
  {
   "cell_type": "code",
   "execution_count": null,
   "metadata": {
    "scrolled": false
   },
   "outputs": [],
   "source": []
  },
  {
   "cell_type": "code",
   "execution_count": null,
   "metadata": {},
   "outputs": [],
   "source": []
  },
  {
   "cell_type": "code",
   "execution_count": null,
   "metadata": {},
   "outputs": [],
   "source": []
  },
  {
   "cell_type": "code",
   "execution_count": null,
   "metadata": {},
   "outputs": [],
   "source": []
  },
  {
   "cell_type": "code",
   "execution_count": null,
   "metadata": {},
   "outputs": [],
   "source": []
  },
  {
   "cell_type": "code",
   "execution_count": null,
   "metadata": {},
   "outputs": [],
   "source": []
  },
  {
   "cell_type": "code",
   "execution_count": null,
   "metadata": {},
   "outputs": [],
   "source": []
  },
  {
   "cell_type": "markdown",
   "metadata": {},
   "source": [
    "__About batch_size__  \n",
    "Advantages of using a batch size < number of all samples:\n",
    "\n",
    "- It requires less memory. Since you train the network using fewer samples, the overall training procedure requires less memory. That's especially important if you are not able to fit the whole dataset in your machine's memory.\n",
    "\n",
    "- Typically networks train faster with mini-batches. That's because we update the weights after each propagation. In our example we've propagated 11 batches (10 of them had 100 samples and 1 had 50 samples) and after each of them we've updated our network's parameters. If we used all samples during propagation we would make only 1 update for the network's parameter.\n",
    "\n",
    "Disadvantages of using a batch size < number of all samples:\n",
    "\n",
    "- The smaller the batch the less accurate the estimate of the gradient will be."
   ]
  },
  {
   "cell_type": "code",
   "execution_count": null,
   "metadata": {},
   "outputs": [],
   "source": []
  },
  {
   "cell_type": "markdown",
   "metadata": {},
   "source": [
    "### CNN - Convolutional Layers\n",
    "**Conv1D:** is generally good for text, whereas Conv2D is good for audio and images where spatial matter;  \n",
    "\n",
    "**Max pooling:** is a sample-based discretization process. The objective is to down-sample an input representation (image, hidden-layer output matrix, etc.), reducing it’s dimensionality and allowing for assumptions to be made about features contained in the sub-regions binned.  \n",
    "\n",
    "**Batch Normalization:** normalization (shifting inputs to zero-mean and unit variance) is often used as a pre-processing step to make the data comparable across features. This therefore leads to higher learning rate and better speed.  \n",
    "\n",
    "**Drop out:** Its a regularization functino that reduces/prevents overfitting, by normalizing some pixels to 0."
   ]
  },
  {
   "cell_type": "code",
   "execution_count": 87,
   "metadata": {},
   "outputs": [],
   "source": [
    "n_length = x_train.shape[0]\n",
    "n_features = x_train.shape[1]\n",
    "\n",
    "x_train_reshaped = x_train.reshape(n_length, n_features, 1)\n",
    "x_test_reshaped = x_test.reshape(x_test.shape[0], n_features, 1)"
   ]
  },
  {
   "cell_type": "code",
   "execution_count": 232,
   "metadata": {},
   "outputs": [],
   "source": [
    "cnn_epochs=60\n",
    "cnn_checkpts = ModelCheckpoint(filepath=os.path.join(os.getcwd(), 'saved_models', 'text', 'cnn.weights.best.hdf5'), \n",
    "                               verbose=1, save_best_only=True)\n",
    "es = EarlyStopping(monitor='val_loss', mode='min', verbose=1, patience=10)"
   ]
  },
  {
   "cell_type": "code",
   "execution_count": 233,
   "metadata": {},
   "outputs": [],
   "source": [
    "def build_CNN(num_classes, show=True):\n",
    "    cnn = Sequential()\n",
    "    cnn.add(Conv1D(filters=16, kernel_size=2, padding='same', activation='relu', input_shape=(max_sequence_len,1)))\n",
    "    cnn.add(MaxPooling1D(pool_size=2))\n",
    "    cnn.add(Conv1D(filters=32, kernel_size=2, padding='same', activation='relu', kernel_regularizer=l2(0.01)))\n",
    "    cnn.add(MaxPooling1D(pool_size=2))\n",
    "    cnn.add(Conv1D(filters=64, kernel_size=2, padding='same', activation='relu',kernel_regularizer=l2(0.01)))\n",
    "    cnn.add(MaxPooling1D(pool_size=2))\n",
    "    cnn.add(GlobalAveragePooling1D())\n",
    "#     cnn.add(Flatten())\n",
    "    cnn.add(Dense(128, kernel_regularizer=l2(0.01)))\n",
    "    cnn.add(BatchNormalization())\n",
    "    cnn.add(Activation('relu'))\n",
    "    cnn.add(Dropout(0.2))\n",
    "    cnn.add(Dense(num_classes, activation='softmax'))\n",
    "    cnn.compile(optimizer='adam',\n",
    "                loss='categorical_crossentropy',\n",
    "                metrics=['accuracy'])\n",
    "    if show:\n",
    "        print(cnn.summary())\n",
    "    return cnn"
   ]
  },
  {
   "cell_type": "code",
   "execution_count": 234,
   "metadata": {},
   "outputs": [
    {
     "name": "stdout",
     "output_type": "stream",
     "text": [
      "_________________________________________________________________\n",
      "Layer (type)                 Output Shape              Param #   \n",
      "=================================================================\n",
      "conv1d_155 (Conv1D)          (None, 100, 16)           48        \n",
      "_________________________________________________________________\n",
      "max_pooling1d_151 (MaxPoolin (None, 50, 16)            0         \n",
      "_________________________________________________________________\n",
      "conv1d_156 (Conv1D)          (None, 50, 32)            1056      \n",
      "_________________________________________________________________\n",
      "max_pooling1d_152 (MaxPoolin (None, 25, 32)            0         \n",
      "_________________________________________________________________\n",
      "conv1d_157 (Conv1D)          (None, 25, 64)            4160      \n",
      "_________________________________________________________________\n",
      "max_pooling1d_153 (MaxPoolin (None, 12, 64)            0         \n",
      "_________________________________________________________________\n",
      "global_average_pooling1d_49  (None, 64)                0         \n",
      "_________________________________________________________________\n",
      "dense_142 (Dense)            (None, 128)               8320      \n",
      "_________________________________________________________________\n",
      "batch_normalization_96 (Batc (None, 128)               512       \n",
      "_________________________________________________________________\n",
      "activation_75 (Activation)   (None, 128)               0         \n",
      "_________________________________________________________________\n",
      "dropout_103 (Dropout)        (None, 128)               0         \n",
      "_________________________________________________________________\n",
      "dense_143 (Dense)            (None, 3)                 387       \n",
      "=================================================================\n",
      "Total params: 14,483\n",
      "Trainable params: 14,227\n",
      "Non-trainable params: 256\n",
      "_________________________________________________________________\n",
      "None\n"
     ]
    }
   ],
   "source": [
    "cnn = build_CNN(num_polarities)"
   ]
  },
  {
   "cell_type": "code",
   "execution_count": 235,
   "metadata": {
    "scrolled": true
   },
   "outputs": [
    {
     "name": "stdout",
     "output_type": "stream",
     "text": [
      "rm: cannot remove './saved_models/text/cnn.weights.best.hdf5': No such file or directory\n",
      "Train on 3499 samples, validate on 2334 samples\n",
      "Epoch 1/60\n",
      "3328/3499 [===========================>..] - ETA: 0s - loss: 2.2683 - acc: 0.3480Epoch 00001: val_loss improved from inf to 1.90054, saving model to /home/workspace/saved_models/text/cnn.weights.best.hdf5\n",
      "3499/3499 [==============================] - 7s 2ms/step - loss: 2.2504 - acc: 0.3481 - val_loss: 1.9005 - val_acc: 0.3740\n",
      "Epoch 2/60\n",
      "3456/3499 [============================>.] - ETA: 0s - loss: 1.7590 - acc: 0.3397Epoch 00002: val_loss improved from 1.90054 to 1.58411, saving model to /home/workspace/saved_models/text/cnn.weights.best.hdf5\n",
      "3499/3499 [==============================] - 1s 396us/step - loss: 1.7574 - acc: 0.3392 - val_loss: 1.5841 - val_acc: 0.3325\n",
      "Epoch 3/60\n",
      "3392/3499 [============================>.] - ETA: 0s - loss: 1.5539 - acc: 0.3738Epoch 00003: val_loss improved from 1.58411 to 1.48426, saving model to /home/workspace/saved_models/text/cnn.weights.best.hdf5\n",
      "3499/3499 [==============================] - 1s 395us/step - loss: 1.5520 - acc: 0.3750 - val_loss: 1.4843 - val_acc: 0.3599\n",
      "Epoch 4/60\n",
      "3328/3499 [===========================>..] - ETA: 0s - loss: 1.4407 - acc: 0.3600Epoch 00004: val_loss improved from 1.48426 to 1.35463, saving model to /home/workspace/saved_models/text/cnn.weights.best.hdf5\n",
      "3499/3499 [==============================] - 1s 395us/step - loss: 1.4400 - acc: 0.3572 - val_loss: 1.3546 - val_acc: 0.3830\n",
      "Epoch 5/60\n",
      "3392/3499 [============================>.] - ETA: 0s - loss: 1.3573 - acc: 0.3623Epoch 00005: val_loss improved from 1.35463 to 1.31586, saving model to /home/workspace/saved_models/text/cnn.weights.best.hdf5\n",
      "3499/3499 [==============================] - 1s 397us/step - loss: 1.3575 - acc: 0.3618 - val_loss: 1.3159 - val_acc: 0.3783\n",
      "Epoch 6/60\n",
      "3424/3499 [============================>.] - ETA: 0s - loss: 1.2925 - acc: 0.3697Epoch 00006: val_loss improved from 1.31586 to 1.23655, saving model to /home/workspace/saved_models/text/cnn.weights.best.hdf5\n",
      "3499/3499 [==============================] - 1s 396us/step - loss: 1.2911 - acc: 0.3718 - val_loss: 1.2366 - val_acc: 0.3518\n",
      "Epoch 7/60\n",
      "3328/3499 [===========================>..] - ETA: 0s - loss: 1.2417 - acc: 0.3849Epoch 00007: val_loss improved from 1.23655 to 1.20756, saving model to /home/workspace/saved_models/text/cnn.weights.best.hdf5\n",
      "3499/3499 [==============================] - 1s 394us/step - loss: 1.2404 - acc: 0.3833 - val_loss: 1.2076 - val_acc: 0.3449\n",
      "Epoch 8/60\n",
      "3360/3499 [===========================>..] - ETA: 0s - loss: 1.2118 - acc: 0.3717Epoch 00008: val_loss improved from 1.20756 to 1.17457, saving model to /home/workspace/saved_models/text/cnn.weights.best.hdf5\n",
      "3499/3499 [==============================] - 1s 408us/step - loss: 1.2117 - acc: 0.3695 - val_loss: 1.1746 - val_acc: 0.3779\n",
      "Epoch 9/60\n",
      "3392/3499 [============================>.] - ETA: 0s - loss: 1.1898 - acc: 0.3685Epoch 00009: val_loss improved from 1.17457 to 1.15753, saving model to /home/workspace/saved_models/text/cnn.weights.best.hdf5\n",
      "3499/3499 [==============================] - 1s 424us/step - loss: 1.1911 - acc: 0.3661 - val_loss: 1.1575 - val_acc: 0.3475\n",
      "Epoch 10/60\n",
      "3392/3499 [============================>.] - ETA: 0s - loss: 1.1685 - acc: 0.3656Epoch 00010: val_loss improved from 1.15753 to 1.14243, saving model to /home/workspace/saved_models/text/cnn.weights.best.hdf5\n",
      "3499/3499 [==============================] - 1s 423us/step - loss: 1.1688 - acc: 0.3650 - val_loss: 1.1424 - val_acc: 0.3518\n",
      "Epoch 11/60\n",
      "3392/3499 [============================>.] - ETA: 0s - loss: 1.1497 - acc: 0.3676Epoch 00011: val_loss did not improve\n",
      "3499/3499 [==============================] - 1s 412us/step - loss: 1.1499 - acc: 0.3681 - val_loss: 1.1600 - val_acc: 0.3308\n",
      "Epoch 12/60\n",
      "3392/3499 [============================>.] - ETA: 0s - loss: 1.1420 - acc: 0.3697Epoch 00012: val_loss improved from 1.14243 to 1.13367, saving model to /home/workspace/saved_models/text/cnn.weights.best.hdf5\n",
      "3499/3499 [==============================] - 1s 421us/step - loss: 1.1418 - acc: 0.3704 - val_loss: 1.1337 - val_acc: 0.3599\n",
      "Epoch 13/60\n",
      "3392/3499 [============================>.] - ETA: 0s - loss: 1.1334 - acc: 0.3774Epoch 00013: val_loss improved from 1.13367 to 1.12806, saving model to /home/workspace/saved_models/text/cnn.weights.best.hdf5\n",
      "3499/3499 [==============================] - 1s 422us/step - loss: 1.1340 - acc: 0.3750 - val_loss: 1.1281 - val_acc: 0.3389\n",
      "Epoch 14/60\n",
      "3392/3499 [============================>.] - ETA: 0s - loss: 1.1303 - acc: 0.3694Epoch 00014: val_loss improved from 1.12806 to 1.11940, saving model to /home/workspace/saved_models/text/cnn.weights.best.hdf5\n",
      "3499/3499 [==============================] - 1s 423us/step - loss: 1.1301 - acc: 0.3692 - val_loss: 1.1194 - val_acc: 0.3355\n",
      "Epoch 15/60\n",
      "3488/3499 [============================>.] - ETA: 0s - loss: 1.1286 - acc: 0.3655Epoch 00015: val_loss improved from 1.11940 to 1.11732, saving model to /home/workspace/saved_models/text/cnn.weights.best.hdf5\n",
      "3499/3499 [==============================] - 1s 405us/step - loss: 1.1288 - acc: 0.3650 - val_loss: 1.1173 - val_acc: 0.3406\n",
      "Epoch 16/60\n",
      "3456/3499 [============================>.] - ETA: 0s - loss: 1.1147 - acc: 0.3788Epoch 00016: val_loss improved from 1.11732 to 1.11638, saving model to /home/workspace/saved_models/text/cnn.weights.best.hdf5\n",
      "3499/3499 [==============================] - 1s 413us/step - loss: 1.1149 - acc: 0.3784 - val_loss: 1.1164 - val_acc: 0.3046\n",
      "Epoch 17/60\n",
      "3392/3499 [============================>.] - ETA: 0s - loss: 1.1164 - acc: 0.3715Epoch 00017: val_loss improved from 1.11638 to 1.11393, saving model to /home/workspace/saved_models/text/cnn.weights.best.hdf5\n",
      "3499/3499 [==============================] - 1s 397us/step - loss: 1.1167 - acc: 0.3692 - val_loss: 1.1139 - val_acc: 0.3586\n",
      "Epoch 18/60\n",
      "3488/3499 [============================>.] - ETA: 0s - loss: 1.1187 - acc: 0.3750Epoch 00018: val_loss did not improve\n",
      "3499/3499 [==============================] - 1s 384us/step - loss: 1.1187 - acc: 0.3747 - val_loss: 1.1285 - val_acc: 0.3188\n",
      "Epoch 19/60\n",
      "3456/3499 [============================>.] - ETA: 0s - loss: 1.1212 - acc: 0.3672Epoch 00019: val_loss did not improve\n",
      "3499/3499 [==============================] - 1s 385us/step - loss: 1.1204 - acc: 0.3672 - val_loss: 1.1640 - val_acc: 0.3723\n",
      "Epoch 20/60\n",
      "3488/3499 [============================>.] - ETA: 0s - loss: 1.1123 - acc: 0.3698Epoch 00020: val_loss did not improve\n",
      "3499/3499 [==============================] - 1s 383us/step - loss: 1.1123 - acc: 0.3692 - val_loss: 1.1252 - val_acc: 0.3402\n",
      "Epoch 21/60\n",
      "3360/3499 [===========================>..] - ETA: 0s - loss: 1.1102 - acc: 0.3783Epoch 00021: val_loss improved from 1.11393 to 1.10608, saving model to /home/workspace/saved_models/text/cnn.weights.best.hdf5\n",
      "3499/3499 [==============================] - 1s 393us/step - loss: 1.1101 - acc: 0.3781 - val_loss: 1.1061 - val_acc: 0.3470\n",
      "Epoch 22/60\n",
      "3488/3499 [============================>.] - ETA: 0s - loss: 1.1126 - acc: 0.3779Epoch 00022: val_loss did not improve\n",
      "3499/3499 [==============================] - 1s 383us/step - loss: 1.1127 - acc: 0.3775 - val_loss: 1.1134 - val_acc: 0.3402\n",
      "Epoch 23/60\n",
      "3488/3499 [============================>.] - ETA: 0s - loss: 1.1065 - acc: 0.3767Epoch 00023: val_loss did not improve\n",
      "3499/3499 [==============================] - 1s 383us/step - loss: 1.1064 - acc: 0.3773 - val_loss: 1.1061 - val_acc: 0.3466\n",
      "Epoch 24/60\n",
      "3456/3499 [============================>.] - ETA: 0s - loss: 1.1075 - acc: 0.3782Epoch 00024: val_loss did not improve\n",
      "3499/3499 [==============================] - 1s 383us/step - loss: 1.1076 - acc: 0.3781 - val_loss: 1.1097 - val_acc: 0.3787\n",
      "Epoch 25/60\n",
      "3424/3499 [============================>.] - ETA: 0s - loss: 1.1066 - acc: 0.3823Epoch 00025: val_loss did not improve\n",
      "3499/3499 [==============================] - 1s 384us/step - loss: 1.1064 - acc: 0.3830 - val_loss: 1.1119 - val_acc: 0.3762\n",
      "Epoch 26/60\n",
      "3424/3499 [============================>.] - ETA: 0s - loss: 1.1031 - acc: 0.3791Epoch 00026: val_loss improved from 1.10608 to 1.10469, saving model to /home/workspace/saved_models/text/cnn.weights.best.hdf5\n",
      "3499/3499 [==============================] - 1s 396us/step - loss: 1.1029 - acc: 0.3795 - val_loss: 1.1047 - val_acc: 0.3428\n",
      "Epoch 27/60\n",
      "3488/3499 [============================>.] - ETA: 0s - loss: 1.1051 - acc: 0.3741Epoch 00027: val_loss improved from 1.10469 to 1.10134, saving model to /home/workspace/saved_models/text/cnn.weights.best.hdf5\n",
      "3499/3499 [==============================] - 1s 394us/step - loss: 1.1051 - acc: 0.3741 - val_loss: 1.1013 - val_acc: 0.3719\n",
      "Epoch 28/60\n",
      "3392/3499 [============================>.] - ETA: 0s - loss: 1.1004 - acc: 0.3806Epoch 00028: val_loss did not improve\n",
      "3499/3499 [==============================] - 1s 382us/step - loss: 1.1002 - acc: 0.3804 - val_loss: 1.1110 - val_acc: 0.3466\n",
      "Epoch 29/60\n",
      "3328/3499 [===========================>..] - ETA: 0s - loss: 1.0995 - acc: 0.3816Epoch 00029: val_loss did not improve\n",
      "3499/3499 [==============================] - 1s 383us/step - loss: 1.0997 - acc: 0.3815 - val_loss: 1.1085 - val_acc: 0.3402\n",
      "Epoch 30/60\n",
      "3392/3499 [============================>.] - ETA: 0s - loss: 1.0952 - acc: 0.3835Epoch 00030: val_loss did not improve\n",
      "3499/3499 [==============================] - 1s 382us/step - loss: 1.0953 - acc: 0.3838 - val_loss: 1.1232 - val_acc: 0.3402\n",
      "Epoch 31/60\n",
      "3456/3499 [============================>.] - ETA: 0s - loss: 1.0931 - acc: 0.3848Epoch 00031: val_loss did not improve\n",
      "3499/3499 [==============================] - 1s 399us/step - loss: 1.0935 - acc: 0.3838 - val_loss: 1.1118 - val_acc: 0.3402\n",
      "Epoch 32/60\n",
      "3328/3499 [===========================>..] - ETA: 0s - loss: 1.0933 - acc: 0.3837Epoch 00032: val_loss did not improve\n",
      "3499/3499 [==============================] - 1s 382us/step - loss: 1.0932 - acc: 0.3838 - val_loss: 1.2226 - val_acc: 0.3402\n",
      "Epoch 33/60\n",
      "3392/3499 [============================>.] - ETA: 0s - loss: 1.0923 - acc: 0.3844Epoch 00033: val_loss did not improve\n",
      "3499/3499 [==============================] - 1s 380us/step - loss: 1.0922 - acc: 0.3838 - val_loss: 1.1129 - val_acc: 0.3402\n",
      "Epoch 34/60\n",
      "3424/3499 [============================>.] - ETA: 0s - loss: 1.0924 - acc: 0.3820Epoch 00034: val_loss did not improve\n",
      "3499/3499 [==============================] - 1s 386us/step - loss: 1.0917 - acc: 0.3838 - val_loss: 1.1048 - val_acc: 0.3402\n",
      "Epoch 35/60\n",
      "3328/3499 [===========================>..] - ETA: 0s - loss: 1.0908 - acc: 0.3891Epoch 00035: val_loss did not improve\n",
      "3499/3499 [==============================] - 1s 383us/step - loss: 1.0917 - acc: 0.3838 - val_loss: 1.2181 - val_acc: 0.3402\n",
      "Epoch 36/60\n",
      "3392/3499 [============================>.] - ETA: 0s - loss: 1.0921 - acc: 0.3838Epoch 00036: val_loss did not improve\n",
      "3499/3499 [==============================] - 1s 382us/step - loss: 1.0919 - acc: 0.3838 - val_loss: 1.1164 - val_acc: 0.3402\n",
      "Epoch 37/60\n",
      "3456/3499 [============================>.] - ETA: 0s - loss: 1.0923 - acc: 0.3831Epoch 00037: val_loss did not improve\n",
      "3499/3499 [==============================] - 1s 384us/step - loss: 1.0922 - acc: 0.3838 - val_loss: 1.1331 - val_acc: 0.3402\n",
      "Epoch 00037: early stopping\n"
     ]
    }
   ],
   "source": [
    "!rm './saved_models/text/cnn.weights.best.hdf5'\n",
    "cnn_history=cnn.fit(x_train_reshaped, y_train, validation_split=0.4, epochs=cnn_epochs, callbacks=[cnn_checkpts, es], verbose=1)"
   ]
  },
  {
   "cell_type": "markdown",
   "metadata": {},
   "source": [
    "Load the best model from save"
   ]
  },
  {
   "cell_type": "code",
   "execution_count": 236,
   "metadata": {},
   "outputs": [],
   "source": [
    "cnn = build_CNN(num_polarities, show=False)\n",
    "cnn.load_weights(os.path.join(os.getcwd(),'saved_models','text','cnn.weights.best.hdf5'))"
   ]
  },
  {
   "cell_type": "code",
   "execution_count": 237,
   "metadata": {
    "scrolled": true
   },
   "outputs": [
    {
     "name": "stdout",
     "output_type": "stream",
     "text": [
      "2874/2874 [==============================] - 2s 698us/step\n"
     ]
    },
    {
     "data": {
      "text/plain": [
       "Counter({2: 1354, 0: 1516, 1: 4})"
      ]
     },
     "execution_count": 237,
     "metadata": {},
     "output_type": "execute_result"
    }
   ],
   "source": [
    "y_pred_cnn = cnn.predict_classes(x_test_reshaped)\n",
    "Counter(y_pred_cnn)"
   ]
  },
  {
   "cell_type": "code",
   "execution_count": 238,
   "metadata": {},
   "outputs": [
    {
     "name": "stdout",
     "output_type": "stream",
     "text": [
      "2874/2874 [==============================] - 2s 637us/step\n",
      "Test accuracy: 37.5435%\n"
     ]
    }
   ],
   "source": [
    "cnn_accuracy = cnn.evaluate(x_test_reshaped, y_test, batch_size=128)[1] * 100\n",
    "print('Test accuracy: %.4f%%' % cnn_accuracy)"
   ]
  },
  {
   "cell_type": "code",
   "execution_count": 239,
   "metadata": {},
   "outputs": [
    {
     "data": {
      "image/png": "[encoded data removed]",
      "text/plain": [
       "<matplotlib.figure.Figure at 0x7fc879ce5908>"
      ]
     },
     "metadata": {},
     "output_type": "display_data"
    }
   ],
   "source": [
    "plot_history(cnn_history)"
   ]
  },
  {
   "cell_type": "code",
   "execution_count": null,
   "metadata": {},
   "outputs": [],
   "source": []
  },
  {
   "cell_type": "code",
   "execution_count": null,
   "metadata": {},
   "outputs": [],
   "source": []
  },
  {
   "cell_type": "code",
   "execution_count": null,
   "metadata": {},
   "outputs": [],
   "source": []
  },
  {
   "cell_type": "code",
   "execution_count": null,
   "metadata": {},
   "outputs": [],
   "source": []
  },
  {
   "cell_type": "code",
   "execution_count": null,
   "metadata": {},
   "outputs": [],
   "source": []
  },
  {
   "cell_type": "code",
   "execution_count": null,
   "metadata": {},
   "outputs": [],
   "source": []
  },
  {
   "cell_type": "code",
   "execution_count": 302,
   "metadata": {},
   "outputs": [],
   "source": []
  },
  {
   "cell_type": "code",
   "execution_count": null,
   "metadata": {},
   "outputs": [],
   "source": []
  },
  {
   "cell_type": "code",
   "execution_count": null,
   "metadata": {},
   "outputs": [],
   "source": []
  },
  {
   "cell_type": "code",
   "execution_count": null,
   "metadata": {},
   "outputs": [],
   "source": []
  },
  {
   "cell_type": "code",
   "execution_count": 8,
   "metadata": {},
   "outputs": [],
   "source": [
    "# ENGLISH_STOP_WORDS"
   ]
  },
  {
   "cell_type": "markdown",
   "metadata": {},
   "source": [
    "### WordEnbedding + LSTM  \n",
    "- checkpoint: try a pre-trained embedding layer e.g. GloVe Embedding, Word2Vec  \n",
    "  \n",
    "Building the embedding from scratch instead of using pre-trained (*this can be a slower approach, but tailors the model to a specific training dataset*)  \n",
    "\n",
    "Ref_1: https://machinelearningmastery.com/use-word-embedding-layers-deep-learning-keras/"
   ]
  },
  {
   "cell_type": "code",
   "execution_count": null,
   "metadata": {},
   "outputs": [],
   "source": [
    "lstm_checkpts = ModelCheckpoint(filepath=os.path.join(os.getcwd(), 'saved_models','text','lstm.weights.best.hdf5'), \n",
    "                               verbose=1, save_best_only=True)"
   ]
  },
  {
   "cell_type": "code",
   "execution_count": null,
   "metadata": {},
   "outputs": [],
   "source": [
    "# vocabulary_size = 20000\n",
    "embedding_size=128\n",
    "lstm_output_size=64 \n",
    "\n",
    "def build_LSTM(num_classes)\n",
    "lstm = Sequential()\n",
    "lstm.add(Embedding(input_dim=vocabulary_size, output_dim=embedding_size, input_length=6000))\n",
    "lstm.add(LSTM(units=lstm_output_size, dropout=0.2, recurrent_dropout=0.2, return_sequences=True))\n",
    "lstm.add(Flatten())\n",
    "lstm.add(Dense(num_classes, activation='sigmoid'))\n",
    "          \n",
    "lstm.compile(loss='categorical_crossentropy',\n",
    "            optimizer='adam',\n",
    "            metrics=['accuracy'])\n",
    "lstm.summary()"
   ]
  },
  {
   "cell_type": "code",
   "execution_count": null,
   "metadata": {},
   "outputs": [],
   "source": []
  },
  {
   "cell_type": "code",
   "execution_count": 70,
   "metadata": {},
   "outputs": [
    {
     "name": "stdout",
     "output_type": "stream",
     "text": [
      "Train on 5993 samples, validate on 3996 samples\n",
      "Epoch 1/3\n",
      "5993/5993 [==============================] - 1072s 179ms/step - loss: 1.5608 - acc: 0.4726 - val_loss: 1.5449 - val_acc: 0.4670\n",
      "\n",
      "Epoch 00001: val_loss improved from inf to 1.54495, saving model to C:\\Users\\syip\\Desktop\\DaSci\\Nanodegree\\ml_nanodegree\\capstone/saved_models/lstm.weights.best.hdf5\n",
      "Epoch 2/3\n",
      "5993/5993 [==============================] - 1074s 179ms/step - loss: 1.5429 - acc: 0.4746 - val_loss: 1.5357 - val_acc: 0.4670\n",
      "\n",
      "Epoch 00002: val_loss improved from 1.54495 to 1.53567, saving model to C:\\Users\\syip\\Desktop\\DaSci\\Nanodegree\\ml_nanodegree\\capstone/saved_models/lstm.weights.best.hdf5\n",
      "Epoch 3/3\n",
      "5993/5993 [==============================] - 1067s 178ms/step - loss: 1.5419 - acc: 0.4746 - val_loss: 1.5396 - val_acc: 0.4670\n",
      "\n",
      "Epoch 00003: val_loss did not improve from 1.53567\n"
     ]
    },
    {
     "data": {
      "text/plain": [
       "<keras.callbacks.History at 0x1f206cfb550>"
      ]
     },
     "execution_count": 70,
     "metadata": {},
     "output_type": "execute_result"
    }
   ],
   "source": [
    "lstm.fit(x_train, y_train, validation_split=0.4, epochs=1, callbacks=[lstm_checkpts], verbose=1)"
   ]
  },
  {
   "cell_type": "code",
   "execution_count": 72,
   "metadata": {},
   "outputs": [
    {
     "data": {
      "text/plain": [
       "Counter({4: 2610})"
      ]
     },
     "execution_count": 72,
     "metadata": {},
     "output_type": "execute_result"
    }
   ],
   "source": [
    "y_pred_lstm = lstm.predict_classes(x_test)\n",
    "Counter(y_pred_lstm)"
   ]
  },
  {
   "cell_type": "code",
   "execution_count": null,
   "metadata": {},
   "outputs": [],
   "source": [
    "lstm_accuracy = 100*np.sum(y_pred_lstm==y_true)/len(y_pred_lstm)\n",
    "print('Test accuracy: %.4f%%' % lstm_accuracy)"
   ]
  },
  {
   "cell_type": "code",
   "execution_count": null,
   "metadata": {},
   "outputs": [],
   "source": []
  },
  {
   "cell_type": "code",
   "execution_count": 37,
   "metadata": {},
   "outputs": [],
   "source": [
    "loaded_lstm = load_model('./saved_models/text/emotion/lstm.weights.best.hdf5')"
   ]
  },
  {
   "cell_type": "code",
   "execution_count": 38,
   "metadata": {},
   "outputs": [
    {
     "data": {
      "text/plain": [
       "array([4, 4, 4, 4, 4, 4], dtype=int64)"
      ]
     },
     "execution_count": 38,
     "metadata": {},
     "output_type": "execute_result"
    }
   ],
   "source": [
    "loaded_lstm.predict_classes(x_test[:6])"
   ]
  },
  {
   "cell_type": "code",
   "execution_count": null,
   "metadata": {},
   "outputs": [],
   "source": []
  },
  {
   "cell_type": "code",
   "execution_count": null,
   "metadata": {},
   "outputs": [],
   "source": []
  },
  {
   "cell_type": "markdown",
   "metadata": {},
   "source": [
    "### WordEmbedding + ConvLSTM"
   ]
  },
  {
   "cell_type": "code",
   "execution_count": 66,
   "metadata": {},
   "outputs": [
    {
     "name": "stdout",
     "output_type": "stream",
     "text": [
      "_________________________________________________________________\n",
      "Layer (type)                 Output Shape              Param #   \n",
      "=================================================================\n",
      "embedding_10 (Embedding)     (None, 20000, 128)        2560000   \n",
      "_________________________________________________________________\n",
      "dropout_8 (Dropout)          (None, 20000, 128)        0         \n",
      "_________________________________________________________________\n",
      "conv1d_8 (Conv1D)            (None, 19996, 64)         41024     \n",
      "_________________________________________________________________\n",
      "max_pooling1d_8 (MaxPooling1 (None, 4999, 64)          0         \n",
      "_________________________________________________________________\n",
      "lstm_10 (LSTM)               (None, 4999, 32)          12416     \n",
      "_________________________________________________________________\n",
      "flatten_6 (Flatten)          (None, 159968)            0         \n",
      "_________________________________________________________________\n",
      "dense_7 (Dense)              (None, 7)                 1119783   \n",
      "=================================================================\n",
      "Total params: 3,733,223\n",
      "Trainable params: 3,733,223\n",
      "Non-trainable params: 0\n",
      "_________________________________________________________________\n"
     ]
    }
   ],
   "source": [
    "max_features=20000\n",
    "embedding_size=128\n",
    "lstm_output_size=32  #70\n",
    "num_classes=7\n",
    "\n",
    "conv_lstm = Sequential()\n",
    "conv_lstm.add(Embedding(input_dim=max_features, output_dim=embedding_size, input_length=20000))\n",
    "conv_lstm.add(Dropout(0.25))\n",
    "conv_lstm.add(Conv1D(filters=64,\n",
    "                 kernel_size=5,\n",
    "                 padding='valid',\n",
    "                 activation='relu',\n",
    "                 strides=1))\n",
    "conv_lstm.add(MaxPooling1D(pool_size=4))\n",
    "conv_lstm.add(LSTM(units=lstm_output_size, return_sequences=True), activity_regularizer=l1(0.001))\n",
    "conv_lstm.add(Flatten())\n",
    "conv_lstm.add(Dense(num_classes, activation='softmax'))\n",
    "\n",
    "conv_lstm.compile(loss='categorical_crossentropy',\n",
    "              optimizer='adam',\n",
    "              metrics=['accuracy'])\n",
    "conv_lstm.summary()"
   ]
  },
  {
   "cell_type": "code",
   "execution_count": null,
   "metadata": {},
   "outputs": [],
   "source": [
    "conv_lstm_checkpts = ModelCheckpoint(filepath=os.path.join(os.getcwd() + '/saved_models/text/emotion/conv_lstm.weights.best.hdf5'), \n",
    "                               verbose=1, save_best_only=True)"
   ]
  },
  {
   "cell_type": "code",
   "execution_count": null,
   "metadata": {},
   "outputs": [],
   "source": [
    "conv_lstm.fit(x_train, y_train, validation_split=0.4, callback=[conv_lstm_checkpts], epochs=1, verbose=1)"
   ]
  },
  {
   "cell_type": "code",
   "execution_count": 22,
   "metadata": {},
   "outputs": [
    {
     "data": {
      "text/plain": [
       "Counter({4: 2610})"
      ]
     },
     "execution_count": 22,
     "metadata": {},
     "output_type": "execute_result"
    }
   ],
   "source": [
    "y_pred_conv_lstm = conv_lstm.predict_classes(x_test)\n",
    "Counter(y_pred_conv_lstm)"
   ]
  },
  {
   "cell_type": "code",
   "execution_count": 25,
   "metadata": {},
   "outputs": [
    {
     "name": "stdout",
     "output_type": "stream",
     "text": [
      "Test accuracy: 0.0000%\n"
     ]
    },
    {
     "name": "stderr",
     "output_type": "stream",
     "text": [
      "C:\\Users\\syip\\anaconda3\\lib\\site-packages\\ipykernel_launcher.py:1: DeprecationWarning: elementwise comparison failed; this will raise an error in the future.\n",
      "  \"\"\"Entry point for launching an IPython kernel.\n"
     ]
    }
   ],
   "source": [
    "conv_lstm_accuracy = 100*np.sum(y_pred_conv_lstm==y_true)/len(y_true)\n",
    "print('Test accuracy: %.4f%%' % conv_lstm_accuracy)"
   ]
  },
  {
   "cell_type": "code",
   "execution_count": null,
   "metadata": {},
   "outputs": [],
   "source": []
  },
  {
   "cell_type": "code",
   "execution_count": null,
   "metadata": {},
   "outputs": [],
   "source": []
  },
  {
   "cell_type": "code",
   "execution_count": null,
   "metadata": {},
   "outputs": [],
   "source": []
  },
  {
   "cell_type": "code",
   "execution_count": null,
   "metadata": {},
   "outputs": [],
   "source": []
  },
  {
   "cell_type": "code",
   "execution_count": null,
   "metadata": {},
   "outputs": [],
   "source": []
  },
  {
   "cell_type": "markdown",
   "metadata": {},
   "source": [
    "### GloVe"
   ]
  },
  {
   "cell_type": "markdown",
   "metadata": {},
   "source": [
    "Extract word embeddings from the Glove"
   ]
  },
  {
   "cell_type": "code",
   "execution_count": 23,
   "metadata": {},
   "outputs": [],
   "source": [
    "embeddings_index = dict()\n",
    "f = open('glove.6B.100d.txt', encoding=\"utf8\")\n",
    "for line in f:\n",
    "    values = line.split()\n",
    "    word = values[0]\n",
    "    coefs = np.asarray(values[1:], dtype='float32')\n",
    "    embeddings_index[word] = coefs\n",
    "f.close()"
   ]
  },
  {
   "cell_type": "markdown",
   "metadata": {},
   "source": [
    "Create a weight matrix"
   ]
  },
  {
   "cell_type": "code",
   "execution_count": 24,
   "metadata": {},
   "outputs": [],
   "source": [
    "# vocabulary_size=6000\n",
    "\n",
    "embedding_matrix = np.zeros((vocabulary_size, max_sequence_len))\n",
    "for word, index in tokenizer.word_index.items():\n",
    "    if index > vocabulary_size - 1:\n",
    "        break\n",
    "    else:\n",
    "        embedding_vector = embeddings_index.get(word)\n",
    "        if embedding_vector is not None:\n",
    "            embedding_matrix[index] = embedding_vector"
   ]
  },
  {
   "cell_type": "code",
   "execution_count": null,
   "metadata": {},
   "outputs": [],
   "source": []
  },
  {
   "cell_type": "markdown",
   "metadata": {},
   "source": [
    "### Glove + LSTM\n",
    "\n",
    "__Note1:__ Every LSTM layer should be accompanied by a Dropout layer. This layer will help to prevent overfitting by ignoring randomly selected neurons during training, and hence reduces the sensitivity to the specific weights of individual neurons.  \n",
    "About Time Distributed layer: https://machinelearningmastery.com/timedistributed-layer-for-long-short-term-memory-networks-in-python/  A wrapper to wrap LSTM's output  \n",
    "  \n",
    "__Note2:__ To solve the problem of LSTM always predicting the same class even when trained with balanced data, the 'return_sequences' param in the LSTM layer needs to be set to True and add a Flatten layer. In addition, 'return_sequences=True' must be set when stacking LSTM layers so that the second LSTM layer has a three-dimensional sequence input"
   ]
  },
  {
   "cell_type": "code",
   "execution_count": null,
   "metadata": {},
   "outputs": [],
   "source": []
  },
  {
   "cell_type": "code",
   "execution_count": 26,
   "metadata": {},
   "outputs": [],
   "source": [
    "def build_ConvLSTM(num_classes, vocabulary_size=None, max_sequence_len=None, \n",
    "                   optimizer=None, use_glove=None, show=True):\n",
    "    optimizer = optimizer or 'adam'\n",
    "    use_glove = use_glove or True\n",
    "    embedding_size=100\n",
    "    lstm_output_size=128\n",
    "    vocabulary_size=vocabulary_size or 6000\n",
    "    max_sequence_len=100\n",
    "    \n",
    "    model = Sequential()\n",
    "    if use_glove:\n",
    "        model.add(Embedding(input_dim=vocabulary_size, output_dim=embedding_size, input_length=max_sequence_len,\n",
    "                            weights=[embedding_matrix], trainable=False))\n",
    "    else:\n",
    "        model.add(Embedding(input_dim=vocabulary_size, output_dim=embedding_size, input_length=vocabulary_size))\n",
    "    model.add(Conv1D(filters=64,\n",
    "                     kernel_size=2,\n",
    "                     padding='valid',\n",
    "                     activation='relu',\n",
    "                     kernel_regularizer=l2(0.01),\n",
    "                     strides=1))\n",
    "    model.add(MaxPooling1D(pool_size=4))\n",
    "    model.add(LSTM(units=lstm_output_size, return_sequences=True))\n",
    "    model.add(BatchNormalization())\n",
    "    model.add(TimeDistributed(Dense(64)))\n",
    "    model.add(Dropout(0.2))\n",
    "    model.add(LSTM(units=64, return_sequences=True))\n",
    "    model.add(BatchNormalization())\n",
    "    model.add(TimeDistributed(Dense(32)))\n",
    "    model.add(Dropout(0.2))\n",
    "    model.add(LSTM(units=32, return_sequences=True))\n",
    "    model.add(BatchNormalization())\n",
    "    model.add(TimeDistributed(Dense(16)))\n",
    "    model.add(Dropout(0.2))\n",
    "#     model.add(Flatten())\n",
    "    model.add(GlobalAveragePooling1D())\n",
    "    model.add(Dense(16, activation='relu', kernel_regularizer=l2(0.01)))\n",
    "    model.add(BatchNormalization())\n",
    "    model.add(Dropout(0.1))\n",
    "    model.add(Dense(num_classes, activation='softmax'))\n",
    "    model.compile(loss='categorical_crossentropy', optimizer=optimizer, metrics=['accuracy'])\n",
    "\n",
    "    if show:\n",
    "        print(model.summary())\n",
    "    return model"
   ]
  },
  {
   "cell_type": "code",
   "execution_count": 27,
   "metadata": {},
   "outputs": [],
   "source": [
    "glove_epochs=80\n",
    "glove_checkpts = ModelCheckpoint(filepath=os.path.join(os.getcwd(), 'saved_models','text','glove.weights.best.hdf5'), \n",
    "                               verbose=1, save_best_only=True)\n",
    "es = EarlyStopping(monitor='val_loss', mode='min', verbose=1, patience=15)"
   ]
  },
  {
   "cell_type": "code",
   "execution_count": 28,
   "metadata": {},
   "outputs": [
    {
     "name": "stdout",
     "output_type": "stream",
     "text": [
      "_________________________________________________________________\n",
      "Layer (type)                 Output Shape              Param #   \n",
      "=================================================================\n",
      "embedding_1 (Embedding)      (None, 100, 100)          600000    \n",
      "_________________________________________________________________\n",
      "conv1d_1 (Conv1D)            (None, 99, 64)            12864     \n",
      "_________________________________________________________________\n",
      "max_pooling1d_1 (MaxPooling1 (None, 24, 64)            0         \n",
      "_________________________________________________________________\n",
      "lstm_1 (LSTM)                (None, 24, 128)           98816     \n",
      "_________________________________________________________________\n",
      "batch_normalization_1 (Batch (None, 24, 128)           512       \n",
      "_________________________________________________________________\n",
      "time_distributed_1 (TimeDist (None, 24, 64)            8256      \n",
      "_________________________________________________________________\n",
      "dropout_1 (Dropout)          (None, 24, 64)            0         \n",
      "_________________________________________________________________\n",
      "lstm_2 (LSTM)                (None, 24, 64)            33024     \n",
      "_________________________________________________________________\n",
      "batch_normalization_2 (Batch (None, 24, 64)            256       \n",
      "_________________________________________________________________\n",
      "time_distributed_2 (TimeDist (None, 24, 32)            2080      \n",
      "_________________________________________________________________\n",
      "dropout_2 (Dropout)          (None, 24, 32)            0         \n",
      "_________________________________________________________________\n",
      "lstm_3 (LSTM)                (None, 24, 32)            8320      \n",
      "_________________________________________________________________\n",
      "batch_normalization_3 (Batch (None, 24, 32)            128       \n",
      "_________________________________________________________________\n",
      "time_distributed_3 (TimeDist (None, 24, 16)            528       \n",
      "_________________________________________________________________\n",
      "dropout_3 (Dropout)          (None, 24, 16)            0         \n",
      "_________________________________________________________________\n",
      "global_average_pooling1d_1 ( (None, 16)                0         \n",
      "_________________________________________________________________\n",
      "dense_4 (Dense)              (None, 16)                272       \n",
      "_________________________________________________________________\n",
      "batch_normalization_4 (Batch (None, 16)                64        \n",
      "_________________________________________________________________\n",
      "dropout_4 (Dropout)          (None, 16)                0         \n",
      "_________________________________________________________________\n",
      "dense_5 (Dense)              (None, 3)                 51        \n",
      "=================================================================\n",
      "Total params: 765,171\n",
      "Trainable params: 164,691\n",
      "Non-trainable params: 600,480\n",
      "_________________________________________________________________\n",
      "None\n"
     ]
    }
   ],
   "source": [
    "glove = build_ConvLSTM(num_classes=num_polarities, vocabulary_size=vocabulary_size,\n",
    "                           optimizer=optimizers.adam(lr=0.001), use_glove=True)\n",
    "# glove = build_ConvLSTM(num_classes=num_polarities, vocabulary_size=vocabulary_size,\n",
    "#                            optimizer='adam', use_glove=True)"
   ]
  },
  {
   "cell_type": "code",
   "execution_count": 29,
   "metadata": {
    "scrolled": true
   },
   "outputs": [
    {
     "name": "stdout",
     "output_type": "stream",
     "text": [
      "Train on 3499 samples, validate on 2334 samples\n",
      "Epoch 1/80\n",
      "3488/3499 [============================>.] - ETA: 0s - loss: 2.0176 - acc: 0.3472Epoch 00001: val_loss improved from inf to 1.68310, saving model to /home/workspace/saved_models/text/glove.weights.best.hdf5\n",
      "3499/3499 [==============================] - 20s 6ms/step - loss: 2.0165 - acc: 0.3475 - val_loss: 1.6831 - val_acc: 0.3329\n",
      "Epoch 2/80\n",
      "3488/3499 [============================>.] - ETA: 0s - loss: 1.5898 - acc: 0.3569Epoch 00002: val_loss improved from 1.68310 to 1.43186, saving model to /home/workspace/saved_models/text/glove.weights.best.hdf5\n",
      "3499/3499 [==============================] - 16s 5ms/step - loss: 1.5884 - acc: 0.3578 - val_loss: 1.4319 - val_acc: 0.3252\n",
      "Epoch 3/80\n",
      "3488/3499 [============================>.] - ETA: 0s - loss: 1.3756 - acc: 0.3905Epoch 00003: val_loss improved from 1.43186 to 1.32037, saving model to /home/workspace/saved_models/text/glove.weights.best.hdf5\n",
      "3499/3499 [==============================] - 16s 5ms/step - loss: 1.3759 - acc: 0.3898 - val_loss: 1.3204 - val_acc: 0.3612\n",
      "Epoch 4/80\n",
      "3488/3499 [============================>.] - ETA: 0s - loss: 1.2852 - acc: 0.3512Epoch 00004: val_loss improved from 1.32037 to 1.24342, saving model to /home/workspace/saved_models/text/glove.weights.best.hdf5\n",
      "3499/3499 [==============================] - 16s 5ms/step - loss: 1.2854 - acc: 0.3510 - val_loss: 1.2434 - val_acc: 0.3869\n",
      "Epoch 5/80\n",
      "3488/3499 [============================>.] - ETA: 0s - loss: 1.2389 - acc: 0.3569Epoch 00005: val_loss did not improve\n",
      "3499/3499 [==============================] - 16s 4ms/step - loss: 1.2388 - acc: 0.3567 - val_loss: 1.2575 - val_acc: 0.3573\n",
      "Epoch 6/80\n",
      "3488/3499 [============================>.] - ETA: 0s - loss: 1.2063 - acc: 0.3661Epoch 00006: val_loss improved from 1.24342 to 1.21961, saving model to /home/workspace/saved_models/text/glove.weights.best.hdf5\n",
      "3499/3499 [==============================] - 15s 4ms/step - loss: 1.2066 - acc: 0.3655 - val_loss: 1.2196 - val_acc: 0.3273\n",
      "Epoch 7/80\n",
      "3488/3499 [============================>.] - ETA: 0s - loss: 1.1863 - acc: 0.3675Epoch 00007: val_loss improved from 1.21961 to 1.16660, saving model to /home/workspace/saved_models/text/glove.weights.best.hdf5\n",
      "3499/3499 [==============================] - 15s 4ms/step - loss: 1.1862 - acc: 0.3681 - val_loss: 1.1666 - val_acc: 0.3573\n",
      "Epoch 8/80\n",
      "3488/3499 [============================>.] - ETA: 0s - loss: 1.1661 - acc: 0.3790Epoch 00008: val_loss did not improve\n",
      "3499/3499 [==============================] - 16s 4ms/step - loss: 1.1661 - acc: 0.3787 - val_loss: 1.1769 - val_acc: 0.3715\n",
      "Epoch 9/80\n",
      "3488/3499 [============================>.] - ETA: 0s - loss: 1.1603 - acc: 0.3730Epoch 00009: val_loss did not improve\n",
      "3499/3499 [==============================] - 16s 4ms/step - loss: 1.1600 - acc: 0.3732 - val_loss: 1.2325 - val_acc: 0.3475\n",
      "Epoch 10/80\n",
      "3488/3499 [============================>.] - ETA: 0s - loss: 1.1406 - acc: 0.3850Epoch 00010: val_loss improved from 1.16660 to 1.13748, saving model to /home/workspace/saved_models/text/glove.weights.best.hdf5\n",
      "3499/3499 [==============================] - 15s 4ms/step - loss: 1.1410 - acc: 0.3850 - val_loss: 1.1375 - val_acc: 0.3916\n",
      "Epoch 11/80\n",
      "3488/3499 [============================>.] - ETA: 0s - loss: 1.1346 - acc: 0.3862Epoch 00011: val_loss did not improve\n",
      "3499/3499 [==============================] - 17s 5ms/step - loss: 1.1347 - acc: 0.3861 - val_loss: 1.4099 - val_acc: 0.3573\n",
      "Epoch 12/80\n",
      "3488/3499 [============================>.] - ETA: 0s - loss: 1.1313 - acc: 0.3868Epoch 00012: val_loss did not improve\n",
      "3499/3499 [==============================] - 16s 5ms/step - loss: 1.1315 - acc: 0.3864 - val_loss: 1.1392 - val_acc: 0.3745\n",
      "Epoch 13/80\n",
      "3488/3499 [============================>.] - ETA: 0s - loss: 1.1222 - acc: 0.3890Epoch 00013: val_loss improved from 1.13748 to 1.12597, saving model to /home/workspace/saved_models/text/glove.weights.best.hdf5\n",
      "3499/3499 [==============================] - 15s 4ms/step - loss: 1.1222 - acc: 0.3895 - val_loss: 1.1260 - val_acc: 0.3693\n",
      "Epoch 14/80\n",
      "3488/3499 [============================>.] - ETA: 0s - loss: 1.1150 - acc: 0.3959Epoch 00014: val_loss improved from 1.12597 to 1.12173, saving model to /home/workspace/saved_models/text/glove.weights.best.hdf5\n",
      "3499/3499 [==============================] - 16s 5ms/step - loss: 1.1150 - acc: 0.3958 - val_loss: 1.1217 - val_acc: 0.3882\n",
      "Epoch 15/80\n",
      "3488/3499 [============================>.] - ETA: 0s - loss: 1.1153 - acc: 0.3916Epoch 00015: val_loss improved from 1.12173 to 1.12156, saving model to /home/workspace/saved_models/text/glove.weights.best.hdf5\n",
      "3499/3499 [==============================] - 16s 5ms/step - loss: 1.1152 - acc: 0.3915 - val_loss: 1.1216 - val_acc: 0.3573\n",
      "Epoch 16/80\n",
      "3488/3499 [============================>.] - ETA: 0s - loss: 1.1053 - acc: 0.4117Epoch 00016: val_loss did not improve\n",
      "3499/3499 [==============================] - 16s 5ms/step - loss: 1.1054 - acc: 0.4113 - val_loss: 1.2281 - val_acc: 0.3573\n",
      "Epoch 17/80\n",
      "3488/3499 [============================>.] - ETA: 0s - loss: 1.1029 - acc: 0.4126Epoch 00017: val_loss improved from 1.12156 to 1.11797, saving model to /home/workspace/saved_models/text/glove.weights.best.hdf5\n",
      "3499/3499 [==============================] - 16s 5ms/step - loss: 1.1028 - acc: 0.4124 - val_loss: 1.1180 - val_acc: 0.3672\n",
      "Epoch 18/80\n",
      "3488/3499 [============================>.] - ETA: 0s - loss: 1.1030 - acc: 0.4114Epoch 00018: val_loss did not improve\n",
      "3499/3499 [==============================] - 16s 5ms/step - loss: 1.1031 - acc: 0.4115 - val_loss: 1.1708 - val_acc: 0.3783\n",
      "Epoch 19/80\n",
      "3488/3499 [============================>.] - ETA: 0s - loss: 1.0959 - acc: 0.4174Epoch 00019: val_loss did not improve\n",
      "3499/3499 [==============================] - 16s 5ms/step - loss: 1.0960 - acc: 0.4170 - val_loss: 1.1203 - val_acc: 0.3736\n",
      "Epoch 20/80\n",
      "3488/3499 [============================>.] - ETA: 0s - loss: 1.0956 - acc: 0.4220Epoch 00020: val_loss improved from 1.11797 to 1.10711, saving model to /home/workspace/saved_models/text/glove.weights.best.hdf5\n",
      "3499/3499 [==============================] - 16s 5ms/step - loss: 1.0958 - acc: 0.4215 - val_loss: 1.1071 - val_acc: 0.4049\n",
      "Epoch 21/80\n",
      "3488/3499 [============================>.] - ETA: 0s - loss: 1.0901 - acc: 0.4212Epoch 00021: val_loss did not improve\n",
      "3499/3499 [==============================] - 16s 5ms/step - loss: 1.0897 - acc: 0.4218 - val_loss: 1.1372 - val_acc: 0.3766\n",
      "Epoch 22/80\n",
      "3488/3499 [============================>.] - ETA: 0s - loss: 1.0862 - acc: 0.4303Epoch 00022: val_loss did not improve\n",
      "3499/3499 [==============================] - 16s 4ms/step - loss: 1.0863 - acc: 0.4307 - val_loss: 1.1136 - val_acc: 0.3775\n",
      "Epoch 23/80\n",
      "3488/3499 [============================>.] - ETA: 0s - loss: 1.0866 - acc: 0.4232Epoch 00023: val_loss did not improve\n",
      "3499/3499 [==============================] - 16s 5ms/step - loss: 1.0864 - acc: 0.4235 - val_loss: 1.1769 - val_acc: 0.3449\n",
      "Epoch 24/80\n",
      "3488/3499 [============================>.] - ETA: 0s - loss: 1.0840 - acc: 0.4169Epoch 00024: val_loss did not improve\n",
      "3499/3499 [==============================] - 16s 5ms/step - loss: 1.0839 - acc: 0.4170 - val_loss: 1.1227 - val_acc: 0.3706\n",
      "Epoch 25/80\n",
      "3488/3499 [============================>.] - ETA: 0s - loss: 1.0811 - acc: 0.4352Epoch 00025: val_loss did not improve\n",
      "3499/3499 [==============================] - 16s 5ms/step - loss: 1.0810 - acc: 0.4353 - val_loss: 1.2488 - val_acc: 0.3573\n",
      "Epoch 26/80\n",
      "3488/3499 [============================>.] - ETA: 0s - loss: 1.0728 - acc: 0.4447Epoch 00026: val_loss did not improve\n",
      "3499/3499 [==============================] - 15s 4ms/step - loss: 1.0729 - acc: 0.4447 - val_loss: 1.1631 - val_acc: 0.3659\n",
      "Epoch 27/80\n",
      "3488/3499 [============================>.] - ETA: 0s - loss: 1.0686 - acc: 0.4381Epoch 00027: val_loss did not improve\n",
      "3499/3499 [==============================] - 15s 4ms/step - loss: 1.0689 - acc: 0.4378 - val_loss: 1.1080 - val_acc: 0.3959\n",
      "Epoch 28/80\n",
      "3488/3499 [============================>.] - ETA: 0s - loss: 1.0595 - acc: 0.4518Epoch 00028: val_loss did not improve\n",
      "3499/3499 [==============================] - 16s 4ms/step - loss: 1.0602 - acc: 0.4510 - val_loss: 1.1119 - val_acc: 0.4040\n",
      "Epoch 29/80\n",
      "3488/3499 [============================>.] - ETA: 0s - loss: 1.0617 - acc: 0.4487Epoch 00029: val_loss did not improve\n",
      "3499/3499 [==============================] - 16s 5ms/step - loss: 1.0614 - acc: 0.4490 - val_loss: 1.1660 - val_acc: 0.3676\n",
      "Epoch 30/80\n",
      "3488/3499 [============================>.] - ETA: 0s - loss: 1.0617 - acc: 0.4455Epoch 00030: val_loss did not improve\n",
      "3499/3499 [==============================] - 16s 4ms/step - loss: 1.0618 - acc: 0.4456 - val_loss: 1.1087 - val_acc: 0.4087\n",
      "Epoch 31/80\n",
      "3488/3499 [============================>.] - ETA: 0s - loss: 1.0529 - acc: 0.4567Epoch 00031: val_loss did not improve\n",
      "3499/3499 [==============================] - 15s 4ms/step - loss: 1.0530 - acc: 0.4567 - val_loss: 1.1480 - val_acc: 0.3736\n",
      "Epoch 32/80\n",
      "3488/3499 [============================>.] - ETA: 0s - loss: 1.0510 - acc: 0.4604Epoch 00032: val_loss did not improve\n",
      "3499/3499 [==============================] - 15s 4ms/step - loss: 1.0509 - acc: 0.4604 - val_loss: 1.1431 - val_acc: 0.3732\n",
      "Epoch 33/80\n",
      "3488/3499 [============================>.] - ETA: 0s - loss: 1.0485 - acc: 0.4619Epoch 00033: val_loss did not improve\n",
      "3499/3499 [==============================] - 16s 5ms/step - loss: 1.0481 - acc: 0.4624 - val_loss: 1.1540 - val_acc: 0.3873\n",
      "Epoch 34/80\n",
      "3488/3499 [============================>.] - ETA: 0s - loss: 1.0457 - acc: 0.4705Epoch 00034: val_loss did not improve\n",
      "3499/3499 [==============================] - 16s 5ms/step - loss: 1.0454 - acc: 0.4710 - val_loss: 1.1886 - val_acc: 0.3950\n",
      "Epoch 35/80\n",
      "3488/3499 [============================>.] - ETA: 0s - loss: 1.0497 - acc: 0.4647Epoch 00035: val_loss did not improve\n",
      "3499/3499 [==============================] - 16s 5ms/step - loss: 1.0496 - acc: 0.4650 - val_loss: 1.2331 - val_acc: 0.3770\n",
      "Epoch 00035: early stopping\n"
     ]
    }
   ],
   "source": [
    "!rm './saved_models/text/glove.weights.best.hdf5'\n",
    "glove_history=glove.fit(x_train, y_train, validation_split=0.4, epochs=glove_epochs, callbacks=[glove_checkpts, es], verbose=1)"
   ]
  },
  {
   "cell_type": "code",
   "execution_count": 30,
   "metadata": {},
   "outputs": [],
   "source": [
    "glove = build_ConvLSTM(num_classes=num_polarities, vocabulary_size=vocabulary_size,\n",
    "                           optimizer=optimizers.adam(lr=0.001), use_glove=True, show=False)\n",
    "glove.load_weights(os.path.join(os.getcwd(),'saved_models','text','glove.weights.best.hdf5'))"
   ]
  },
  {
   "cell_type": "code",
   "execution_count": 31,
   "metadata": {},
   "outputs": [
    {
     "name": "stdout",
     "output_type": "stream",
     "text": [
      "2874/2874 [==============================] - 4s 1ms/step\n"
     ]
    },
    {
     "data": {
      "text/plain": [
       "Counter({2: 1216, 0: 1658})"
      ]
     },
     "execution_count": 31,
     "metadata": {},
     "output_type": "execute_result"
    }
   ],
   "source": [
    "y_pred_glove = glove.predict_classes(x_test)\n",
    "Counter(y_pred_glove)"
   ]
  },
  {
   "cell_type": "code",
   "execution_count": 32,
   "metadata": {},
   "outputs": [
    {
     "name": "stdout",
     "output_type": "stream",
     "text": [
      "2874/2874 [==============================] - 1s 448us/step\n",
      "Test accuracy: 41.6145%\n"
     ]
    }
   ],
   "source": [
    "glove_accuracy = glove.evaluate(x_test, y_test, batch_size=128)[1] * 100\n",
    "print('Test accuracy: %.4f%%' % glove_accuracy)"
   ]
  },
  {
   "cell_type": "code",
   "execution_count": 33,
   "metadata": {},
   "outputs": [
    {
     "data": {
      "image/png": "[encoded data removed]",
      "text/plain": [
       "<matplotlib.figure.Figure at 0x7f60252cd518>"
      ]
     },
     "metadata": {},
     "output_type": "display_data"
    }
   ],
   "source": [
    "plot_history(glove_history)"
   ]
  },
  {
   "cell_type": "code",
   "execution_count": null,
   "metadata": {},
   "outputs": [],
   "source": []
  },
  {
   "cell_type": "code",
   "execution_count": null,
   "metadata": {},
   "outputs": [],
   "source": []
  },
  {
   "cell_type": "code",
   "execution_count": null,
   "metadata": {},
   "outputs": [],
   "source": []
  },
  {
   "cell_type": "code",
   "execution_count": null,
   "metadata": {},
   "outputs": [],
   "source": []
  },
  {
   "cell_type": "code",
   "execution_count": null,
   "metadata": {},
   "outputs": [],
   "source": []
  },
  {
   "cell_type": "markdown",
   "metadata": {},
   "source": [
    "### GloVe + LSTM  \n"
   ]
  },
  {
   "cell_type": "code",
   "execution_count": 40,
   "metadata": {},
   "outputs": [
    {
     "name": "stdout",
     "output_type": "stream",
     "text": [
      "_________________________________________________________________\n",
      "Layer (type)                 Output Shape              Param #   \n",
      "=================================================================\n",
      "embedding_2 (Embedding)      (None, 12000, 100)        1200000   \n",
      "_________________________________________________________________\n",
      "dropout_2 (Dropout)          (None, 12000, 100)        0         \n",
      "_________________________________________________________________\n",
      "conv1d_1 (Conv1D)            (None, 11996, 64)         32064     \n",
      "_________________________________________________________________\n",
      "max_pooling1d_1 (MaxPooling1 (None, 2999, 64)          0         \n",
      "_________________________________________________________________\n",
      "lstm_1 (LSTM)                (None, 2999, 128)         98816     \n",
      "_________________________________________________________________\n",
      "batch_normalization_1 (Batch (None, 2999, 128)         512       \n",
      "_________________________________________________________________\n",
      "time_distributed_1 (TimeDist (None, 2999, 32)          4128      \n",
      "_________________________________________________________________\n",
      "global_average_pooling1d_1 ( (None, 32)                0         \n",
      "_________________________________________________________________\n",
      "dense_2 (Dense)              (None, 16)                528       \n",
      "_________________________________________________________________\n",
      "dense_3 (Dense)              (None, 3)                 51        \n",
      "=================================================================\n",
      "Total params: 1,336,099\n",
      "Trainable params: 135,843\n",
      "Non-trainable params: 1,200,256\n",
      "_________________________________________________________________\n",
      "None\n"
     ]
    }
   ],
   "source": [
    "sen_glove = build_ConvLSTM(num_classes=num_polarities, vocabulary_size=vocabulary_size, dense_activation='softmax',\n",
    "                           optimizer=optimizers.adam(lr=0.001), use_glove=True)"
   ]
  },
  {
   "cell_type": "code",
   "execution_count": null,
   "metadata": {},
   "outputs": [],
   "source": []
  },
  {
   "cell_type": "code",
   "execution_count": null,
   "metadata": {},
   "outputs": [],
   "source": []
  },
  {
   "cell_type": "markdown",
   "metadata": {},
   "source": [
    "Note: to use 'callback', one must provide 'validation_split' or 'validation_data'"
   ]
  },
  {
   "cell_type": "code",
   "execution_count": 41,
   "metadata": {},
   "outputs": [],
   "source": [
    "glove_checkpts = ModelCheckpoint(filepath=os.path.join(os.getcwd(), 'glove.weights.best.hdf5'), \n",
    "                               verbose=1, save_best_only=True)\n",
    "# (Optional) load model\n",
    "# sen_glove.load_weights(os.path.join(os.getcwd(), 'glove.weights.best.hdf5'))"
   ]
  },
  {
   "cell_type": "code",
   "execution_count": 42,
   "metadata": {
    "scrolled": false
   },
   "outputs": [
    {
     "name": "stdout",
     "output_type": "stream",
     "text": [
      "WARNING:tensorflow:From /home/ubuntu/anaconda3/envs/tensorflow_p36/lib/python3.6/site-packages/tensorflow/python/ops/math_ops.py:3066: to_int32 (from tensorflow.python.ops.math_ops) is deprecated and will be removed in a future version.\n",
      "Instructions for updating:\n",
      "Use tf.cast instead.\n",
      "Train on 6692 samples, validate on 3297 samples\n",
      "Epoch 1/10\n",
      "6692/6692 [==============================] - 1117s 167ms/step - loss: 1.6516 - acc: 0.4274 - val_loss: 1.5440 - val_acc: 0.3649\n",
      "\n",
      "Epoch 00001: val_loss improved from inf to 1.54401, saving model to /home/ubuntu/glove.weights.best.hdf5\n",
      "Epoch 2/10\n",
      "6692/6692 [==============================] - 1093s 163ms/step - loss: 1.4754 - acc: 0.4399 - val_loss: 2.0935 - val_acc: 0.4583\n",
      "\n",
      "Epoch 00002: val_loss did not improve from 1.54401\n",
      "Epoch 3/10\n",
      "6692/6692 [==============================] - 1092s 163ms/step - loss: 1.4607 - acc: 0.4256 - val_loss: 1.8657 - val_acc: 0.4583\n",
      "\n",
      "Epoch 00003: val_loss did not improve from 1.54401\n",
      "Epoch 4/10\n",
      "6692/6692 [==============================] - 1085s 162ms/step - loss: 1.4581 - acc: 0.4162 - val_loss: 1.5282 - val_acc: 0.2323\n",
      "\n",
      "Epoch 00004: val_loss improved from 1.54401 to 1.52817, saving model to /home/ubuntu/glove.weights.best.hdf5\n",
      "Epoch 5/10\n",
      "5888/6692 [=========================>....] - ETA: 1:48 - loss: 1.4606 - acc: 0.4136"
     ]
    },
    {
     "ename": "KeyboardInterrupt",
     "evalue": "",
     "output_type": "error",
     "traceback": [
      "\u001b[0;31m---------------------------------------------------------------------------\u001b[0m",
      "\u001b[0;31mKeyboardInterrupt\u001b[0m                         Traceback (most recent call last)",
      "\u001b[0;32m<ipython-input-42-0b313079481c>\u001b[0m in \u001b[0;36m<module>\u001b[0;34m()\u001b[0m\n\u001b[1;32m      1\u001b[0m glove_history = sen_glove.fit(x_train, z_train, validation_split=0.33, epochs=10, \n\u001b[0;32m----> 2\u001b[0;31m                               class_weight={0: 1.5, 1: 1., 2: 1.8}, callbacks=[glove_checkpts], verbose=1)\n\u001b[0m",
      "\u001b[0;32m~/anaconda3/envs/tensorflow_p36/lib/python3.6/site-packages/keras/engine/training.py\u001b[0m in \u001b[0;36mfit\u001b[0;34m(self, x, y, batch_size, epochs, verbose, callbacks, validation_split, validation_data, shuffle, class_weight, sample_weight, initial_epoch, steps_per_epoch, validation_steps, **kwargs)\u001b[0m\n\u001b[1;32m   1037\u001b[0m                                         \u001b[0minitial_epoch\u001b[0m\u001b[0;34m=\u001b[0m\u001b[0minitial_epoch\u001b[0m\u001b[0;34m,\u001b[0m\u001b[0;34m\u001b[0m\u001b[0m\n\u001b[1;32m   1038\u001b[0m                                         \u001b[0msteps_per_epoch\u001b[0m\u001b[0;34m=\u001b[0m\u001b[0msteps_per_epoch\u001b[0m\u001b[0;34m,\u001b[0m\u001b[0;34m\u001b[0m\u001b[0m\n\u001b[0;32m-> 1039\u001b[0;31m                                         validation_steps=validation_steps)\n\u001b[0m\u001b[1;32m   1040\u001b[0m \u001b[0;34m\u001b[0m\u001b[0m\n\u001b[1;32m   1041\u001b[0m     def evaluate(self, x=None, y=None,\n",
      "\u001b[0;32m~/anaconda3/envs/tensorflow_p36/lib/python3.6/site-packages/keras/engine/training_arrays.py\u001b[0m in \u001b[0;36mfit_loop\u001b[0;34m(model, f, ins, out_labels, batch_size, epochs, verbose, callbacks, val_f, val_ins, shuffle, callback_metrics, initial_epoch, steps_per_epoch, validation_steps)\u001b[0m\n\u001b[1;32m    197\u001b[0m                     \u001b[0mins_batch\u001b[0m\u001b[0;34m[\u001b[0m\u001b[0mi\u001b[0m\u001b[0;34m]\u001b[0m \u001b[0;34m=\u001b[0m \u001b[0mins_batch\u001b[0m\u001b[0;34m[\u001b[0m\u001b[0mi\u001b[0m\u001b[0;34m]\u001b[0m\u001b[0;34m.\u001b[0m\u001b[0mtoarray\u001b[0m\u001b[0;34m(\u001b[0m\u001b[0;34m)\u001b[0m\u001b[0;34m\u001b[0m\u001b[0m\n\u001b[1;32m    198\u001b[0m \u001b[0;34m\u001b[0m\u001b[0m\n\u001b[0;32m--> 199\u001b[0;31m                 \u001b[0mouts\u001b[0m \u001b[0;34m=\u001b[0m \u001b[0mf\u001b[0m\u001b[0;34m(\u001b[0m\u001b[0mins_batch\u001b[0m\u001b[0;34m)\u001b[0m\u001b[0;34m\u001b[0m\u001b[0m\n\u001b[0m\u001b[1;32m    200\u001b[0m                 \u001b[0mouts\u001b[0m \u001b[0;34m=\u001b[0m \u001b[0mto_list\u001b[0m\u001b[0;34m(\u001b[0m\u001b[0mouts\u001b[0m\u001b[0;34m)\u001b[0m\u001b[0;34m\u001b[0m\u001b[0m\n\u001b[1;32m    201\u001b[0m                 \u001b[0;32mfor\u001b[0m \u001b[0ml\u001b[0m\u001b[0;34m,\u001b[0m \u001b[0mo\u001b[0m \u001b[0;32min\u001b[0m \u001b[0mzip\u001b[0m\u001b[0;34m(\u001b[0m\u001b[0mout_labels\u001b[0m\u001b[0;34m,\u001b[0m \u001b[0mouts\u001b[0m\u001b[0;34m)\u001b[0m\u001b[0;34m:\u001b[0m\u001b[0;34m\u001b[0m\u001b[0m\n",
      "\u001b[0;32m~/anaconda3/envs/tensorflow_p36/lib/python3.6/site-packages/keras/backend/tensorflow_backend.py\u001b[0m in \u001b[0;36m__call__\u001b[0;34m(self, inputs)\u001b[0m\n\u001b[1;32m   2713\u001b[0m                 \u001b[0;32mreturn\u001b[0m \u001b[0mself\u001b[0m\u001b[0;34m.\u001b[0m\u001b[0m_legacy_call\u001b[0m\u001b[0;34m(\u001b[0m\u001b[0minputs\u001b[0m\u001b[0;34m)\u001b[0m\u001b[0;34m\u001b[0m\u001b[0m\n\u001b[1;32m   2714\u001b[0m \u001b[0;34m\u001b[0m\u001b[0m\n\u001b[0;32m-> 2715\u001b[0;31m             \u001b[0;32mreturn\u001b[0m \u001b[0mself\u001b[0m\u001b[0;34m.\u001b[0m\u001b[0m_call\u001b[0m\u001b[0;34m(\u001b[0m\u001b[0minputs\u001b[0m\u001b[0;34m)\u001b[0m\u001b[0;34m\u001b[0m\u001b[0m\n\u001b[0m\u001b[1;32m   2716\u001b[0m         \u001b[0;32melse\u001b[0m\u001b[0;34m:\u001b[0m\u001b[0;34m\u001b[0m\u001b[0m\n\u001b[1;32m   2717\u001b[0m             \u001b[0;32mif\u001b[0m \u001b[0mpy_any\u001b[0m\u001b[0;34m(\u001b[0m\u001b[0mis_tensor\u001b[0m\u001b[0;34m(\u001b[0m\u001b[0mx\u001b[0m\u001b[0;34m)\u001b[0m \u001b[0;32mfor\u001b[0m \u001b[0mx\u001b[0m \u001b[0;32min\u001b[0m \u001b[0minputs\u001b[0m\u001b[0;34m)\u001b[0m\u001b[0;34m:\u001b[0m\u001b[0;34m\u001b[0m\u001b[0m\n",
      "\u001b[0;32m~/anaconda3/envs/tensorflow_p36/lib/python3.6/site-packages/keras/backend/tensorflow_backend.py\u001b[0m in \u001b[0;36m_call\u001b[0;34m(self, inputs)\u001b[0m\n\u001b[1;32m   2673\u001b[0m             \u001b[0mfetched\u001b[0m \u001b[0;34m=\u001b[0m \u001b[0mself\u001b[0m\u001b[0;34m.\u001b[0m\u001b[0m_callable_fn\u001b[0m\u001b[0;34m(\u001b[0m\u001b[0;34m*\u001b[0m\u001b[0marray_vals\u001b[0m\u001b[0;34m,\u001b[0m \u001b[0mrun_metadata\u001b[0m\u001b[0;34m=\u001b[0m\u001b[0mself\u001b[0m\u001b[0;34m.\u001b[0m\u001b[0mrun_metadata\u001b[0m\u001b[0;34m)\u001b[0m\u001b[0;34m\u001b[0m\u001b[0m\n\u001b[1;32m   2674\u001b[0m         \u001b[0;32melse\u001b[0m\u001b[0;34m:\u001b[0m\u001b[0;34m\u001b[0m\u001b[0m\n\u001b[0;32m-> 2675\u001b[0;31m             \u001b[0mfetched\u001b[0m \u001b[0;34m=\u001b[0m \u001b[0mself\u001b[0m\u001b[0;34m.\u001b[0m\u001b[0m_callable_fn\u001b[0m\u001b[0;34m(\u001b[0m\u001b[0;34m*\u001b[0m\u001b[0marray_vals\u001b[0m\u001b[0;34m)\u001b[0m\u001b[0;34m\u001b[0m\u001b[0m\n\u001b[0m\u001b[1;32m   2676\u001b[0m         \u001b[0;32mreturn\u001b[0m \u001b[0mfetched\u001b[0m\u001b[0;34m[\u001b[0m\u001b[0;34m:\u001b[0m\u001b[0mlen\u001b[0m\u001b[0;34m(\u001b[0m\u001b[0mself\u001b[0m\u001b[0;34m.\u001b[0m\u001b[0moutputs\u001b[0m\u001b[0;34m)\u001b[0m\u001b[0;34m]\u001b[0m\u001b[0;34m\u001b[0m\u001b[0m\n\u001b[1;32m   2677\u001b[0m \u001b[0;34m\u001b[0m\u001b[0m\n",
      "\u001b[0;32m~/anaconda3/envs/tensorflow_p36/lib/python3.6/site-packages/tensorflow/python/client/session.py\u001b[0m in \u001b[0;36m__call__\u001b[0;34m(self, *args, **kwargs)\u001b[0m\n\u001b[1;32m   1437\u001b[0m           ret = tf_session.TF_SessionRunCallable(\n\u001b[1;32m   1438\u001b[0m               \u001b[0mself\u001b[0m\u001b[0;34m.\u001b[0m\u001b[0m_session\u001b[0m\u001b[0;34m.\u001b[0m\u001b[0m_session\u001b[0m\u001b[0;34m,\u001b[0m \u001b[0mself\u001b[0m\u001b[0;34m.\u001b[0m\u001b[0m_handle\u001b[0m\u001b[0;34m,\u001b[0m \u001b[0margs\u001b[0m\u001b[0;34m,\u001b[0m \u001b[0mstatus\u001b[0m\u001b[0;34m,\u001b[0m\u001b[0;34m\u001b[0m\u001b[0m\n\u001b[0;32m-> 1439\u001b[0;31m               run_metadata_ptr)\n\u001b[0m\u001b[1;32m   1440\u001b[0m         \u001b[0;32mif\u001b[0m \u001b[0mrun_metadata\u001b[0m\u001b[0;34m:\u001b[0m\u001b[0;34m\u001b[0m\u001b[0m\n\u001b[1;32m   1441\u001b[0m           \u001b[0mproto_data\u001b[0m \u001b[0;34m=\u001b[0m \u001b[0mtf_session\u001b[0m\u001b[0;34m.\u001b[0m\u001b[0mTF_GetBuffer\u001b[0m\u001b[0;34m(\u001b[0m\u001b[0mrun_metadata_ptr\u001b[0m\u001b[0;34m)\u001b[0m\u001b[0;34m\u001b[0m\u001b[0m\n",
      "\u001b[0;31mKeyboardInterrupt\u001b[0m: "
     ]
    }
   ],
   "source": [
    "glove_history = sen_glove.fit(x_train, z_train, validation_split=0.33, epochs=10, \n",
    "                              class_weight={0: 1.5, 1: 1., 2: 1.8}, callbacks=[glove_checkpts], verbose=1)"
   ]
  },
  {
   "cell_type": "code",
   "execution_count": null,
   "metadata": {},
   "outputs": [],
   "source": []
  },
  {
   "cell_type": "code",
   "execution_count": null,
   "metadata": {},
   "outputs": [],
   "source": []
  },
  {
   "cell_type": "code",
   "execution_count": 44,
   "metadata": {},
   "outputs": [
    {
     "name": "stdout",
     "output_type": "stream",
     "text": [
      "Test accuracy: 48.1226%\n"
     ]
    }
   ],
   "source": [
    "glove_accuracy = 100*np.sum(z_pred_glove==z_transf)/len(z_transf)\n",
    "print('Test accuracy: %.4f%%' % glove_accuracy)"
   ]
  },
  {
   "cell_type": "code",
   "execution_count": null,
   "metadata": {},
   "outputs": [],
   "source": []
  },
  {
   "cell_type": "code",
   "execution_count": 27,
   "metadata": {},
   "outputs": [
    {
     "name": "stdout",
     "output_type": "stream",
     "text": [
      "Train: 0.472, Test: 0.481\n"
     ]
    }
   ],
   "source": [
    "# evaluate the model\n",
    "_, train_acc = sen_glove.evaluate(x_train, z_train, verbose=0)\n",
    "_, test_acc = sen_glove.evaluate(x_test, z_true, verbose=0)\n",
    "print('Train: %.3f, Test: %.3f' % (train_acc, test_acc))"
   ]
  },
  {
   "cell_type": "code",
   "execution_count": null,
   "metadata": {},
   "outputs": [],
   "source": []
  },
  {
   "cell_type": "code",
   "execution_count": null,
   "metadata": {},
   "outputs": [],
   "source": []
  },
  {
   "cell_type": "code",
   "execution_count": 23,
   "metadata": {},
   "outputs": [
    {
     "data": {
      "image/png": "[encoded data removed]",
      "text/plain": [
       "<Figure size 576x288 with 1 Axes>"
      ]
     },
     "metadata": {},
     "output_type": "display_data"
    }
   ],
   "source": [
    "# plot loss during training\n",
    "plt.figure(figsize=(8,4))\n",
    "plt.title('Loss')\n",
    "plt.plot(glove_history.history['loss'], label='train')\n",
    "plt.plot(glove_history.history['val_loss'], label='test')\n",
    "plt.ylabel('loss')\n",
    "plt.xlabel('epoch')\n",
    "plt.legend(['train', 'val'], loc='upper left')\n",
    "plt.show()"
   ]
  },
  {
   "cell_type": "code",
   "execution_count": 24,
   "metadata": {},
   "outputs": [
    {
     "data": {
      "image/png": "[encoded data removed]",
      "text/plain": [
       "<Figure size 576x288 with 1 Axes>"
      ]
     },
     "metadata": {},
     "output_type": "display_data"
    }
   ],
   "source": [
    "# plot accuracy during training\n",
    "plt.figure(figsize=(8,4))\n",
    "plt.title('Accuracy')\n",
    "plt.plot(glove_history.history['acc'], label='train')\n",
    "plt.plot(glove_history.history['val_acc'], label='test')\n",
    "plt.ylabel('accuracy')\n",
    "plt.xlabel('epoch')\n",
    "plt.legend(['train', 'val'], loc='upper left')\n",
    "plt.show()"
   ]
  },
  {
   "cell_type": "markdown",
   "metadata": {},
   "source": [
    "### CNN"
   ]
  },
  {
   "cell_type": "code",
   "execution_count": 25,
   "metadata": {
    "scrolled": true
   },
   "outputs": [
    {
     "name": "stdout",
     "output_type": "stream",
     "text": [
      "_________________________________________________________________\n",
      "Layer (type)                 Output Shape              Param #   \n",
      "=================================================================\n",
      "conv1d_7 (Conv1D)            (None, 20000, 16)         48        \n",
      "_________________________________________________________________\n",
      "max_pooling1d_7 (MaxPooling1 (None, 10000, 16)         0         \n",
      "_________________________________________________________________\n",
      "conv1d_8 (Conv1D)            (None, 10000, 32)         1056      \n",
      "_________________________________________________________________\n",
      "max_pooling1d_8 (MaxPooling1 (None, 5000, 32)          0         \n",
      "_________________________________________________________________\n",
      "conv1d_9 (Conv1D)            (None, 5000, 64)          4160      \n",
      "_________________________________________________________________\n",
      "max_pooling1d_9 (MaxPooling1 (None, 2500, 64)          0         \n",
      "_________________________________________________________________\n",
      "flatten_3 (Flatten)          (None, 160000)            0         \n",
      "_________________________________________________________________\n",
      "dense_5 (Dense)              (None, 128)               20480128  \n",
      "_________________________________________________________________\n",
      "dense_6 (Dense)              (None, 3)                 387       \n",
      "=================================================================\n",
      "Total params: 20,485,779\n",
      "Trainable params: 20,485,779\n",
      "Non-trainable params: 0\n",
      "_________________________________________________________________\n",
      "None\n",
      "WARNING:tensorflow:From C:\\Users\\syip\\anaconda3\\lib\\site-packages\\tensorflow\\python\\ops\\math_ops.py:3066: to_int32 (from tensorflow.python.ops.math_ops) is deprecated and will be removed in a future version.\n",
      "Instructions for updating:\n",
      "Use tf.cast instead.\n",
      "Train on 5993 samples, validate on 3996 samples\n",
      "Epoch 1/5\n",
      "5993/5993 [==============================] - ETA: 7:28 - loss: 1.1019 - acc: 0.250 - ETA: 4:54 - loss: 1.0970 - acc: 0.312 - ETA: 4:09 - loss: 1.1283 - acc: 0.354 - ETA: 3:45 - loss: 1.0907 - acc: 0.398 - ETA: 3:26 - loss: 1.0824 - acc: 0.412 - ETA: 3:18 - loss: 1.0901 - acc: 0.395 - ETA: 3:08 - loss: 1.0802 - acc: 0.401 - ETA: 3:04 - loss: 1.0796 - acc: 0.398 - ETA: 2:58 - loss: 1.0883 - acc: 0.392 - ETA: 2:55 - loss: 1.0848 - acc: 0.393 - ETA: 2:55 - loss: 1.0800 - acc: 0.403 - ETA: 2:49 - loss: 1.0815 - acc: 0.401 - ETA: 2:46 - loss: 1.0781 - acc: 0.408 - ETA: 2:42 - loss: 1.0798 - acc: 0.410 - ETA: 2:38 - loss: 1.0723 - acc: 0.420 - ETA: 2:38 - loss: 1.0778 - acc: 0.429 - ETA: 2:35 - loss: 1.0752 - acc: 0.433 - ETA: 2:33 - loss: 1.0671 - acc: 0.444 - ETA: 2:30 - loss: 1.0664 - acc: 0.450 - ETA: 2:28 - loss: 1.0644 - acc: 0.448 - ETA: 2:26 - loss: 1.0644 - acc: 0.450 - ETA: 2:25 - loss: 1.0625 - acc: 0.454 - ETA: 2:23 - loss: 1.0704 - acc: 0.449 - ETA: 2:22 - loss: 1.0735 - acc: 0.446 - ETA: 2:20 - loss: 1.0689 - acc: 0.447 - ETA: 2:20 - loss: 1.0647 - acc: 0.450 - ETA: 2:18 - loss: 1.0652 - acc: 0.454 - ETA: 2:17 - loss: 1.0625 - acc: 0.457 - ETA: 2:15 - loss: 1.0615 - acc: 0.458 - ETA: 2:14 - loss: 1.0606 - acc: 0.457 - ETA: 2:13 - loss: 1.0612 - acc: 0.457 - ETA: 2:12 - loss: 1.0618 - acc: 0.460 - ETA: 2:12 - loss: 1.0617 - acc: 0.457 - ETA: 2:12 - loss: 1.0629 - acc: 0.454 - ETA: 2:13 - loss: 1.0643 - acc: 0.453 - ETA: 2:13 - loss: 1.0675 - acc: 0.448 - ETA: 2:12 - loss: 1.0676 - acc: 0.449 - ETA: 2:12 - loss: 1.0679 - acc: 0.449 - ETA: 2:12 - loss: 1.0670 - acc: 0.448 - ETA: 2:11 - loss: 1.0671 - acc: 0.447 - ETA: 2:10 - loss: 1.0667 - acc: 0.447 - ETA: 2:09 - loss: 1.0648 - acc: 0.450 - ETA: 2:08 - loss: 1.0644 - acc: 0.452 - ETA: 2:07 - loss: 1.0651 - acc: 0.450 - ETA: 2:07 - loss: 1.0656 - acc: 0.450 - ETA: 2:05 - loss: 1.0656 - acc: 0.451 - ETA: 2:04 - loss: 1.0657 - acc: 0.449 - ETA: 2:03 - loss: 1.0649 - acc: 0.449 - ETA: 2:02 - loss: 1.0648 - acc: 0.449 - ETA: 2:00 - loss: 1.0637 - acc: 0.452 - ETA: 1:59 - loss: 1.0632 - acc: 0.453 - ETA: 1:58 - loss: 1.0623 - acc: 0.455 - ETA: 1:56 - loss: 1.0621 - acc: 0.455 - ETA: 1:55 - loss: 1.0591 - acc: 0.460 - ETA: 1:54 - loss: 1.0587 - acc: 0.461 - ETA: 1:52 - loss: 1.0567 - acc: 0.464 - ETA: 1:51 - loss: 1.0567 - acc: 0.464 - ETA: 1:50 - loss: 1.0551 - acc: 0.466 - ETA: 1:49 - loss: 1.0572 - acc: 0.465 - ETA: 1:48 - loss: 1.0583 - acc: 0.464 - ETA: 1:47 - loss: 1.0599 - acc: 0.463 - ETA: 1:45 - loss: 1.0585 - acc: 0.463 - ETA: 1:44 - loss: 1.0597 - acc: 0.461 - ETA: 1:43 - loss: 1.0608 - acc: 0.460 - ETA: 1:42 - loss: 1.0604 - acc: 0.462 - ETA: 1:41 - loss: 1.0600 - acc: 0.462 - ETA: 1:40 - loss: 1.0589 - acc: 0.462 - ETA: 1:39 - loss: 1.0584 - acc: 0.461 - ETA: 1:38 - loss: 1.0570 - acc: 0.462 - ETA: 1:37 - loss: 1.0580 - acc: 0.462 - ETA: 1:36 - loss: 1.0575 - acc: 0.464 - ETA: 1:35 - loss: 1.0572 - acc: 0.463 - ETA: 1:34 - loss: 1.0573 - acc: 0.464 - ETA: 1:33 - loss: 1.0570 - acc: 0.464 - ETA: 1:32 - loss: 1.0566 - acc: 0.466 - ETA: 1:31 - loss: 1.0548 - acc: 0.467 - ETA: 1:30 - loss: 1.0579 - acc: 0.467 - ETA: 1:29 - loss: 1.0578 - acc: 0.467 - ETA: 1:28 - loss: 1.0565 - acc: 0.467 - ETA: 1:27 - loss: 1.0557 - acc: 0.468 - ETA: 1:26 - loss: 1.0567 - acc: 0.466 - ETA: 1:25 - loss: 1.0567 - acc: 0.465 - ETA: 1:24 - loss: 1.0560 - acc: 0.467 - ETA: 1:23 - loss: 1.0560 - acc: 0.466 - ETA: 1:22 - loss: 1.0556 - acc: 0.465 - ETA: 1:21 - loss: 1.0553 - acc: 0.466 - ETA: 1:20 - loss: 1.0548 - acc: 0.468 - ETA: 1:20 - loss: 1.0554 - acc: 0.468 - ETA: 1:19 - loss: 1.0547 - acc: 0.469 - ETA: 1:18 - loss: 1.0548 - acc: 0.468 - ETA: 1:17 - loss: 1.0539 - acc: 0.469 - ETA: 1:16 - loss: 1.0530 - acc: 0.470 - ETA: 1:15 - loss: 1.0541 - acc: 0.468 - ETA: 1:14 - loss: 1.0539 - acc: 0.468 - ETA: 1:13 - loss: 1.0530 - acc: 0.469 - ETA: 1:12 - loss: 1.0535 - acc: 0.469 - ETA: 1:12 - loss: 1.0526 - acc: 0.470 - ETA: 1:11 - loss: 1.0516 - acc: 0.470 - ETA: 1:10 - loss: 1.0523 - acc: 0.468 - ETA: 1:09 - loss: 1.0523 - acc: 0.468 - ETA: 1:08 - loss: 1.0531 - acc: 0.468 - ETA: 1:07 - loss: 1.0519 - acc: 0.469 - ETA: 1:06 - loss: 1.0519 - acc: 0.468 - ETA: 1:06 - loss: 1.0512 - acc: 0.469 - ETA: 1:05 - loss: 1.0508 - acc: 0.469 - ETA: 1:04 - loss: 1.0499 - acc: 0.469 - ETA: 1:03 - loss: 1.0496 - acc: 0.468 - ETA: 1:02 - loss: 1.0488 - acc: 0.469 - ETA: 1:01 - loss: 1.0488 - acc: 0.469 - ETA: 1:01 - loss: 1.0477 - acc: 0.470 - ETA: 1:00 - loss: 1.0475 - acc: 0.469 - ETA: 59s - loss: 1.0480 - acc: 0.469 - ETA: 58s - loss: 1.0474 - acc: 0.46 - ETA: 57s - loss: 1.0466 - acc: 0.47 - ETA: 56s - loss: 1.0447 - acc: 0.47 - ETA: 56s - loss: 1.0446 - acc: 0.47 - ETA: 55s - loss: 1.0429 - acc: 0.47 - ETA: 54s - loss: 1.0430 - acc: 0.47 - ETA: 53s - loss: 1.0430 - acc: 0.47 - ETA: 52s - loss: 1.0423 - acc: 0.47 - ETA: 52s - loss: 1.0420 - acc: 0.47 - ETA: 51s - loss: 1.0414 - acc: 0.47 - ETA: 50s - loss: 1.0416 - acc: 0.47 - ETA: 49s - loss: 1.0416 - acc: 0.47 - ETA: 48s - loss: 1.0417 - acc: 0.47 - ETA: 47s - loss: 1.0419 - acc: 0.47 - ETA: 47s - loss: 1.0417 - acc: 0.47 - ETA: 46s - loss: 1.0427 - acc: 0.47 - ETA: 45s - loss: 1.0432 - acc: 0.47 - ETA: 44s - loss: 1.0426 - acc: 0.47 - ETA: 43s - loss: 1.0424 - acc: 0.47 - ETA: 43s - loss: 1.0423 - acc: 0.47 - ETA: 42s - loss: 1.0419 - acc: 0.47 - ETA: 41s - loss: 1.0414 - acc: 0.47 - ETA: 40s - loss: 1.0417 - acc: 0.47 - ETA: 39s - loss: 1.0416 - acc: 0.47 - ETA: 39s - loss: 1.0406 - acc: 0.47 - ETA: 38s - loss: 1.0408 - acc: 0.47 - ETA: 37s - loss: 1.0407 - acc: 0.47 - ETA: 36s - loss: 1.0399 - acc: 0.47 - ETA: 35s - loss: 1.0389 - acc: 0.47 - ETA: 35s - loss: 1.0386 - acc: 0.47 - ETA: 34s - loss: 1.0382 - acc: 0.47 - ETA: 33s - loss: 1.0383 - acc: 0.47 - ETA: 32s - loss: 1.0379 - acc: 0.47 - ETA: 31s - loss: 1.0368 - acc: 0.48 - ETA: 31s - loss: 1.0372 - acc: 0.48 - ETA: 30s - loss: 1.0364 - acc: 0.48 - ETA: 29s - loss: 1.0356 - acc: 0.48 - ETA: 28s - loss: 1.0355 - acc: 0.48 - ETA: 27s - loss: 1.0352 - acc: 0.48 - ETA: 27s - loss: 1.0357 - acc: 0.48 - ETA: 26s - loss: 1.0358 - acc: 0.48 - ETA: 25s - loss: 1.0350 - acc: 0.48 - ETA: 24s - loss: 1.0351 - acc: 0.48 - ETA: 24s - loss: 1.0354 - acc: 0.48 - ETA: 23s - loss: 1.0349 - acc: 0.48 - ETA: 22s - loss: 1.0347 - acc: 0.48 - ETA: 21s - loss: 1.0346 - acc: 0.48 - ETA: 20s - loss: 1.0350 - acc: 0.48 - ETA: 20s - loss: 1.0357 - acc: 0.48 - ETA: 19s - loss: 1.0353 - acc: 0.48 - ETA: 18s - loss: 1.0342 - acc: 0.48 - ETA: 17s - loss: 1.0350 - acc: 0.48 - ETA: 17s - loss: 1.0348 - acc: 0.48 - ETA: 16s - loss: 1.0343 - acc: 0.48 - ETA: 15s - loss: 1.0338 - acc: 0.48 - ETA: 14s - loss: 1.0338 - acc: 0.48 - ETA: 14s - loss: 1.0339 - acc: 0.48 - ETA: 13s - loss: 1.0335 - acc: 0.48 - ETA: 12s - loss: 1.0333 - acc: 0.48 - ETA: 11s - loss: 1.0332 - acc: 0.48 - ETA: 10s - loss: 1.0324 - acc: 0.48 - ETA: 10s - loss: 1.0329 - acc: 0.48 - ETA: 9s - loss: 1.0323 - acc: 0.4855 - ETA: 8s - loss: 1.0320 - acc: 0.485 - ETA: 7s - loss: 1.0317 - acc: 0.485 - ETA: 7s - loss: 1.0321 - acc: 0.485 - ETA: 6s - loss: 1.0320 - acc: 0.485 - ETA: 5s - loss: 1.0317 - acc: 0.485 - ETA: 4s - loss: 1.0317 - acc: 0.486 - ETA: 4s - loss: 1.0322 - acc: 0.485 - ETA: 3s - loss: 1.0318 - acc: 0.485 - ETA: 2s - loss: 1.0320 - acc: 0.485 - ETA: 1s - loss: 1.0319 - acc: 0.484 - ETA: 0s - loss: 1.0322 - acc: 0.484 - ETA: 0s - loss: 1.0319 - acc: 0.484 - 160s 27ms/step - loss: 1.0321 - acc: 0.4842 - val_loss: 1.0078 - val_acc: 0.5080\n",
      "\n",
      "Epoch 00001: val_loss improved from inf to 1.00784, saving model to C:\\Users\\syip\\Desktop\\DaSci\\Nanodegree\\ml_nanodegree\\capstone/saved_models/sentiment/cnn.weights.best.hdf5\n",
      "Epoch 2/5\n",
      "5993/5993 [==============================] - ETA: 2:07 - loss: 0.9519 - acc: 0.468 - ETA: 2:10 - loss: 0.9183 - acc: 0.562 - ETA: 2:11 - loss: 0.8883 - acc: 0.625 - ETA: 2:10 - loss: 0.8919 - acc: 0.617 - ETA: 2:10 - loss: 0.8930 - acc: 0.618 - ETA: 2:11 - loss: 0.8927 - acc: 0.614 - ETA: 2:11 - loss: 0.8899 - acc: 0.620 - ETA: 2:12 - loss: 0.8865 - acc: 0.628 - ETA: 2:11 - loss: 0.8904 - acc: 0.618 - ETA: 2:10 - loss: 0.8894 - acc: 0.615 - ETA: 2:10 - loss: 0.8791 - acc: 0.622 - ETA: 2:08 - loss: 0.8781 - acc: 0.606 - ETA: 2:07 - loss: 0.8722 - acc: 0.605 - ETA: 2:06 - loss: 0.8611 - acc: 0.611 - ETA: 2:05 - loss: 0.8659 - acc: 0.604 - ETA: 2:04 - loss: 0.8626 - acc: 0.601 - ETA: 2:03 - loss: 0.8552 - acc: 0.606 - ETA: 2:03 - loss: 0.8450 - acc: 0.618 - ETA: 2:02 - loss: 0.8456 - acc: 0.616 - ETA: 2:01 - loss: 0.8428 - acc: 0.615 - ETA: 2:00 - loss: 0.8419 - acc: 0.617 - ETA: 2:00 - loss: 0.8465 - acc: 0.613 - ETA: 2:00 - loss: 0.8477 - acc: 0.615 - ETA: 1:59 - loss: 0.8439 - acc: 0.617 - ETA: 1:59 - loss: 0.8419 - acc: 0.618 - ETA: 1:58 - loss: 0.8381 - acc: 0.622 - ETA: 1:58 - loss: 0.8328 - acc: 0.625 - ETA: 1:58 - loss: 0.8315 - acc: 0.625 - ETA: 1:57 - loss: 0.8296 - acc: 0.622 - ETA: 1:57 - loss: 0.8286 - acc: 0.622 - ETA: 1:56 - loss: 0.8275 - acc: 0.624 - ETA: 1:55 - loss: 0.8210 - acc: 0.628 - ETA: 1:54 - loss: 0.8229 - acc: 0.630 - ETA: 1:54 - loss: 0.8247 - acc: 0.632 - ETA: 1:53 - loss: 0.8221 - acc: 0.633 - ETA: 1:53 - loss: 0.8195 - acc: 0.634 - ETA: 1:52 - loss: 0.8250 - acc: 0.630 - ETA: 1:52 - loss: 0.8246 - acc: 0.631 - ETA: 1:51 - loss: 0.8296 - acc: 0.627 - ETA: 1:51 - loss: 0.8328 - acc: 0.624 - ETA: 1:50 - loss: 0.8326 - acc: 0.625 - ETA: 1:50 - loss: 0.8299 - acc: 0.630 - ETA: 1:49 - loss: 0.8318 - acc: 0.630 - ETA: 1:48 - loss: 0.8349 - acc: 0.625 - ETA: 1:47 - loss: 0.8381 - acc: 0.622 - ETA: 1:46 - loss: 0.8428 - acc: 0.618 - ETA: 1:46 - loss: 0.8458 - acc: 0.615 - ETA: 1:45 - loss: 0.8455 - acc: 0.617 - ETA: 1:44 - loss: 0.8460 - acc: 0.618 - ETA: 1:43 - loss: 0.8467 - acc: 0.615 - ETA: 1:43 - loss: 0.8472 - acc: 0.615 - ETA: 1:42 - loss: 0.8453 - acc: 0.617 - ETA: 1:41 - loss: 0.8445 - acc: 0.617 - ETA: 1:40 - loss: 0.8431 - acc: 0.618 - ETA: 1:40 - loss: 0.8414 - acc: 0.619 - ETA: 1:39 - loss: 0.8416 - acc: 0.618 - ETA: 1:38 - loss: 0.8415 - acc: 0.618 - ETA: 1:37 - loss: 0.8400 - acc: 0.620 - ETA: 1:37 - loss: 0.8413 - acc: 0.618 - ETA: 1:36 - loss: 0.8435 - acc: 0.618 - ETA: 1:35 - loss: 0.8412 - acc: 0.619 - ETA: 1:34 - loss: 0.8400 - acc: 0.620 - ETA: 1:33 - loss: 0.8378 - acc: 0.622 - ETA: 1:33 - loss: 0.8373 - acc: 0.621 - ETA: 1:32 - loss: 0.8344 - acc: 0.622 - ETA: 1:31 - loss: 0.8335 - acc: 0.623 - ETA: 1:30 - loss: 0.8327 - acc: 0.625 - ETA: 1:30 - loss: 0.8349 - acc: 0.624 - ETA: 1:29 - loss: 0.8360 - acc: 0.624 - ETA: 1:28 - loss: 0.8356 - acc: 0.624 - ETA: 1:27 - loss: 0.8354 - acc: 0.624 - ETA: 1:27 - loss: 0.8359 - acc: 0.624 - ETA: 1:26 - loss: 0.8340 - acc: 0.624 - ETA: 1:25 - loss: 0.8341 - acc: 0.623 - ETA: 1:24 - loss: 0.8328 - acc: 0.623 - ETA: 1:23 - loss: 0.8326 - acc: 0.623 - ETA: 1:23 - loss: 0.8304 - acc: 0.625 - ETA: 1:22 - loss: 0.8282 - acc: 0.626 - ETA: 1:21 - loss: 0.8260 - acc: 0.628 - ETA: 1:20 - loss: 0.8256 - acc: 0.628 - ETA: 1:19 - loss: 0.8275 - acc: 0.627 - ETA: 1:19 - loss: 0.8275 - acc: 0.628 - ETA: 1:18 - loss: 0.8305 - acc: 0.627 - ETA: 1:17 - loss: 0.8312 - acc: 0.627 - ETA: 1:17 - loss: 0.8335 - acc: 0.625 - ETA: 1:16 - loss: 0.8346 - acc: 0.623 - ETA: 1:15 - loss: 0.8340 - acc: 0.623 - ETA: 1:14 - loss: 0.8356 - acc: 0.621 - ETA: 1:14 - loss: 0.8378 - acc: 0.618 - ETA: 1:13 - loss: 0.8360 - acc: 0.620 - ETA: 1:12 - loss: 0.8359 - acc: 0.619 - ETA: 1:12 - loss: 0.8352 - acc: 0.619 - ETA: 1:11 - loss: 0.8344 - acc: 0.619 - ETA: 1:10 - loss: 0.8333 - acc: 0.619 - ETA: 1:09 - loss: 0.8323 - acc: 0.620 - ETA: 1:09 - loss: 0.8316 - acc: 0.620 - ETA: 1:08 - loss: 0.8308 - acc: 0.620 - ETA: 1:07 - loss: 0.8309 - acc: 0.620 - ETA: 1:06 - loss: 0.8317 - acc: 0.619 - ETA: 1:05 - loss: 0.8330 - acc: 0.618 - ETA: 1:05 - loss: 0.8341 - acc: 0.619 - ETA: 1:04 - loss: 0.8341 - acc: 0.619 - ETA: 1:03 - loss: 0.8356 - acc: 0.616 - ETA: 1:02 - loss: 0.8341 - acc: 0.618 - ETA: 1:02 - loss: 0.8336 - acc: 0.618 - ETA: 1:01 - loss: 0.8343 - acc: 0.618 - ETA: 1:00 - loss: 0.8354 - acc: 0.618 - ETA: 59s - loss: 0.8346 - acc: 0.619 - ETA: 59s - loss: 0.8354 - acc: 0.61 - ETA: 58s - loss: 0.8351 - acc: 0.61 - ETA: 57s - loss: 0.8340 - acc: 0.61 - ETA: 56s - loss: 0.8368 - acc: 0.61 - ETA: 56s - loss: 0.8382 - acc: 0.61 - ETA: 55s - loss: 0.8381 - acc: 0.61 - ETA: 54s - loss: 0.8374 - acc: 0.61 - ETA: 54s - loss: 0.8383 - acc: 0.61 - ETA: 53s - loss: 0.8387 - acc: 0.61 - ETA: 52s - loss: 0.8391 - acc: 0.61 - ETA: 52s - loss: 0.8400 - acc: 0.61 - ETA: 51s - loss: 0.8404 - acc: 0.61 - ETA: 50s - loss: 0.8401 - acc: 0.61 - ETA: 49s - loss: 0.8411 - acc: 0.61 - ETA: 49s - loss: 0.8406 - acc: 0.61 - ETA: 48s - loss: 0.8412 - acc: 0.61 - ETA: 47s - loss: 0.8409 - acc: 0.61 - ETA: 46s - loss: 0.8403 - acc: 0.61 - ETA: 46s - loss: 0.8394 - acc: 0.61 - ETA: 45s - loss: 0.8400 - acc: 0.61 - ETA: 44s - loss: 0.8391 - acc: 0.61 - ETA: 43s - loss: 0.8396 - acc: 0.61 - ETA: 42s - loss: 0.8401 - acc: 0.61 - ETA: 42s - loss: 0.8401 - acc: 0.61 - ETA: 41s - loss: 0.8405 - acc: 0.61 - ETA: 40s - loss: 0.8410 - acc: 0.61 - ETA: 39s - loss: 0.8402 - acc: 0.61 - ETA: 39s - loss: 0.8394 - acc: 0.61 - ETA: 38s - loss: 0.8385 - acc: 0.61 - ETA: 37s - loss: 0.8386 - acc: 0.61 - ETA: 36s - loss: 0.8381 - acc: 0.61 - ETA: 36s - loss: 0.8379 - acc: 0.61 - ETA: 35s - loss: 0.8373 - acc: 0.61 - ETA: 34s - loss: 0.8371 - acc: 0.61 - ETA: 33s - loss: 0.8380 - acc: 0.61 - ETA: 33s - loss: 0.8401 - acc: 0.61 - ETA: 32s - loss: 0.8404 - acc: 0.61 - ETA: 31s - loss: 0.8403 - acc: 0.61 - ETA: 30s - loss: 0.8400 - acc: 0.61 - ETA: 29s - loss: 0.8392 - acc: 0.61 - ETA: 29s - loss: 0.8403 - acc: 0.61 - ETA: 28s - loss: 0.8412 - acc: 0.61 - ETA: 27s - loss: 0.8415 - acc: 0.61 - ETA: 26s - loss: 0.8414 - acc: 0.61 - ETA: 26s - loss: 0.8425 - acc: 0.61 - ETA: 25s - loss: 0.8443 - acc: 0.60 - ETA: 24s - loss: 0.8437 - acc: 0.61 - ETA: 23s - loss: 0.8451 - acc: 0.60 - ETA: 23s - loss: 0.8462 - acc: 0.60 - ETA: 22s - loss: 0.8464 - acc: 0.60 - ETA: 21s - loss: 0.8457 - acc: 0.60 - ETA: 20s - loss: 0.8462 - acc: 0.60 - ETA: 20s - loss: 0.8460 - acc: 0.60 - ETA: 19s - loss: 0.8461 - acc: 0.60 - ETA: 18s - loss: 0.8459 - acc: 0.60 - ETA: 17s - loss: 0.8465 - acc: 0.60 - ETA: 17s - loss: 0.8472 - acc: 0.60 - ETA: 16s - loss: 0.8474 - acc: 0.60 - ETA: 15s - loss: 0.8476 - acc: 0.60 - ETA: 15s - loss: 0.8474 - acc: 0.60 - ETA: 14s - loss: 0.8476 - acc: 0.60 - ETA: 13s - loss: 0.8469 - acc: 0.60 - ETA: 12s - loss: 0.8471 - acc: 0.60 - ETA: 12s - loss: 0.8464 - acc: 0.60 - ETA: 11s - loss: 0.8461 - acc: 0.60 - ETA: 10s - loss: 0.8460 - acc: 0.60 - ETA: 9s - loss: 0.8459 - acc: 0.6066 - ETA: 8s - loss: 0.8468 - acc: 0.606 - ETA: 8s - loss: 0.8461 - acc: 0.606 - ETA: 7s - loss: 0.8468 - acc: 0.606 - ETA: 6s - loss: 0.8467 - acc: 0.605 - ETA: 5s - loss: 0.8477 - acc: 0.605 - ETA: 5s - loss: 0.8481 - acc: 0.604 - ETA: 4s - loss: 0.8474 - acc: 0.605 - ETA: 3s - loss: 0.8472 - acc: 0.605 - ETA: 2s - loss: 0.8470 - acc: 0.605 - ETA: 1s - loss: 0.8473 - acc: 0.605 - ETA: 1s - loss: 0.8472 - acc: 0.605 - ETA: 0s - loss: 0.8482 - acc: 0.605 - 175s 29ms/step - loss: 0.8485 - acc: 0.6050 - val_loss: 1.0572 - val_acc: 0.5055\n",
      "\n",
      "Epoch 00002: val_loss did not improve from 1.00784\n",
      "Epoch 3/5\n",
      "5993/5993 [==============================] - ETA: 2:19 - loss: 0.6897 - acc: 0.687 - ETA: 2:25 - loss: 0.5620 - acc: 0.750 - ETA: 2:22 - loss: 0.5606 - acc: 0.781 - ETA: 2:22 - loss: 0.6220 - acc: 0.750 - ETA: 2:20 - loss: 0.6003 - acc: 0.756 - ETA: 2:26 - loss: 0.6157 - acc: 0.750 - ETA: 2:25 - loss: 0.6062 - acc: 0.763 - ETA: 2:29 - loss: 0.6031 - acc: 0.761 - ETA: 2:34 - loss: 0.6081 - acc: 0.760 - ETA: 2:34 - loss: 0.5971 - acc: 0.765 - ETA: 2:36 - loss: 0.6036 - acc: 0.761 - ETA: 2:38 - loss: 0.6059 - acc: 0.755 - ETA: 2:39 - loss: 0.6106 - acc: 0.750 - ETA: 2:39 - loss: 0.6035 - acc: 0.758 - ETA: 2:38 - loss: 0.5989 - acc: 0.760 - ETA: 2:39 - loss: 0.5878 - acc: 0.767 - ETA: 2:40 - loss: 0.5839 - acc: 0.766 - ETA: 2:40 - loss: 0.5808 - acc: 0.772 - ETA: 2:40 - loss: 0.5881 - acc: 0.769 - ETA: 2:40 - loss: 0.5845 - acc: 0.773 - ETA: 2:40 - loss: 0.5862 - acc: 0.769 - ETA: 2:39 - loss: 0.5801 - acc: 0.771 - ETA: 2:39 - loss: 0.5825 - acc: 0.767 - ETA: 2:40 - loss: 0.5852 - acc: 0.764 - ETA: 2:39 - loss: 0.5974 - acc: 0.758 - ETA: 2:38 - loss: 0.6021 - acc: 0.757 - ETA: 2:37 - loss: 0.5949 - acc: 0.761 - ETA: 2:35 - loss: 0.5947 - acc: 0.761 - ETA: 2:35 - loss: 0.5942 - acc: 0.758 - ETA: 2:34 - loss: 0.5861 - acc: 0.763 - ETA: 2:33 - loss: 0.5811 - acc: 0.766 - ETA: 2:32 - loss: 0.5755 - acc: 0.769 - ETA: 2:31 - loss: 0.5714 - acc: 0.769 - ETA: 2:29 - loss: 0.5680 - acc: 0.771 - ETA: 2:28 - loss: 0.5686 - acc: 0.768 - ETA: 2:27 - loss: 0.5684 - acc: 0.769 - ETA: 2:26 - loss: 0.5705 - acc: 0.767 - ETA: 2:25 - loss: 0.5700 - acc: 0.768 - ETA: 2:23 - loss: 0.5637 - acc: 0.770 - ETA: 2:22 - loss: 0.5605 - acc: 0.769 - ETA: 2:21 - loss: 0.5625 - acc: 0.766 - ETA: 2:20 - loss: 0.5606 - acc: 0.768 - ETA: 2:19 - loss: 0.5606 - acc: 0.768 - ETA: 2:18 - loss: 0.5612 - acc: 0.769 - ETA: 2:16 - loss: 0.5613 - acc: 0.769 - ETA: 2:15 - loss: 0.5649 - acc: 0.769 - ETA: 2:14 - loss: 0.5633 - acc: 0.769 - ETA: 2:12 - loss: 0.5635 - acc: 0.769 - ETA: 2:11 - loss: 0.5680 - acc: 0.765 - ETA: 2:10 - loss: 0.5690 - acc: 0.767 - ETA: 2:08 - loss: 0.5676 - acc: 0.768 - ETA: 2:07 - loss: 0.5689 - acc: 0.766 - ETA: 2:06 - loss: 0.5701 - acc: 0.765 - ETA: 2:05 - loss: 0.5678 - acc: 0.765 - ETA: 2:04 - loss: 0.5648 - acc: 0.765 - ETA: 2:03 - loss: 0.5627 - acc: 0.765 - ETA: 2:02 - loss: 0.5676 - acc: 0.761 - ETA: 2:01 - loss: 0.5678 - acc: 0.760 - ETA: 2:00 - loss: 0.5664 - acc: 0.761 - ETA: 1:59 - loss: 0.5657 - acc: 0.762 - ETA: 1:57 - loss: 0.5649 - acc: 0.762 - ETA: 1:56 - loss: 0.5657 - acc: 0.761 - ETA: 1:55 - loss: 0.5643 - acc: 0.762 - ETA: 1:54 - loss: 0.5629 - acc: 0.762 - ETA: 1:53 - loss: 0.5615 - acc: 0.763 - ETA: 1:52 - loss: 0.5595 - acc: 0.763 - ETA: 1:51 - loss: 0.5598 - acc: 0.763 - ETA: 1:50 - loss: 0.5593 - acc: 0.763 - ETA: 1:49 - loss: 0.5576 - acc: 0.764 - ETA: 1:47 - loss: 0.5593 - acc: 0.763 - ETA: 1:46 - loss: 0.5602 - acc: 0.763 - ETA: 1:45 - loss: 0.5603 - acc: 0.763 - ETA: 1:44 - loss: 0.5594 - acc: 0.763 - ETA: 1:43 - loss: 0.5572 - acc: 0.765 - ETA: 1:42 - loss: 0.5578 - acc: 0.764 - ETA: 1:41 - loss: 0.5545 - acc: 0.766 - ETA: 1:39 - loss: 0.5585 - acc: 0.765 - ETA: 1:38 - loss: 0.5579 - acc: 0.765 - ETA: 1:37 - loss: 0.5595 - acc: 0.763 - ETA: 1:36 - loss: 0.5571 - acc: 0.764 - ETA: 1:35 - loss: 0.5582 - acc: 0.762 - ETA: 1:34 - loss: 0.5591 - acc: 0.762 - ETA: 1:33 - loss: 0.5580 - acc: 0.762 - ETA: 1:32 - loss: 0.5568 - acc: 0.763 - ETA: 1:31 - loss: 0.5563 - acc: 0.762 - ETA: 1:30 - loss: 0.5586 - acc: 0.763 - ETA: 1:29 - loss: 0.5585 - acc: 0.763 - ETA: 1:28 - loss: 0.5583 - acc: 0.763 - ETA: 1:27 - loss: 0.5578 - acc: 0.763 - ETA: 1:26 - loss: 0.5581 - acc: 0.764 - ETA: 1:25 - loss: 0.5567 - acc: 0.765 - ETA: 1:24 - loss: 0.5569 - acc: 0.767 - ETA: 1:23 - loss: 0.5584 - acc: 0.765 - ETA: 1:22 - loss: 0.5594 - acc: 0.765 - ETA: 1:21 - loss: 0.5593 - acc: 0.765 - ETA: 1:20 - loss: 0.5585 - acc: 0.765 - ETA: 1:19 - loss: 0.5588 - acc: 0.765 - ETA: 1:18 - loss: 0.5594 - acc: 0.764 - ETA: 1:17 - loss: 0.5587 - acc: 0.764 - ETA: 1:16 - loss: 0.5601 - acc: 0.763 - ETA: 1:15 - loss: 0.5618 - acc: 0.761 - ETA: 1:14 - loss: 0.5631 - acc: 0.761 - ETA: 1:13 - loss: 0.5610 - acc: 0.761 - ETA: 1:12 - loss: 0.5649 - acc: 0.760 - ETA: 1:11 - loss: 0.5650 - acc: 0.760 - ETA: 1:10 - loss: 0.5637 - acc: 0.760 - ETA: 1:09 - loss: 0.5646 - acc: 0.760 - ETA: 1:08 - loss: 0.5636 - acc: 0.760 - ETA: 1:07 - loss: 0.5643 - acc: 0.759 - ETA: 1:06 - loss: 0.5648 - acc: 0.759 - ETA: 1:05 - loss: 0.5662 - acc: 0.758 - ETA: 1:04 - loss: 0.5658 - acc: 0.757 - ETA: 1:03 - loss: 0.5669 - acc: 0.758 - ETA: 1:02 - loss: 0.5674 - acc: 0.757 - ETA: 1:02 - loss: 0.5687 - acc: 0.757 - ETA: 1:01 - loss: 0.5678 - acc: 0.758 - ETA: 1:00 - loss: 0.5678 - acc: 0.758 - ETA: 59s - loss: 0.5678 - acc: 0.759 - ETA: 58s - loss: 0.5685 - acc: 0.75 - ETA: 57s - loss: 0.5690 - acc: 0.75 - ETA: 56s - loss: 0.5687 - acc: 0.75 - ETA: 55s - loss: 0.5679 - acc: 0.75 - ETA: 54s - loss: 0.5683 - acc: 0.75 - ETA: 54s - loss: 0.5703 - acc: 0.75 - ETA: 53s - loss: 0.5704 - acc: 0.75 - ETA: 52s - loss: 0.5700 - acc: 0.75 - ETA: 51s - loss: 0.5688 - acc: 0.75 - ETA: 50s - loss: 0.5696 - acc: 0.75 - ETA: 49s - loss: 0.5696 - acc: 0.75 - ETA: 48s - loss: 0.5702 - acc: 0.75 - ETA: 47s - loss: 0.5706 - acc: 0.75 - ETA: 47s - loss: 0.5707 - acc: 0.75 - ETA: 46s - loss: 0.5702 - acc: 0.75 - ETA: 45s - loss: 0.5708 - acc: 0.75 - ETA: 44s - loss: 0.5706 - acc: 0.75 - ETA: 43s - loss: 0.5702 - acc: 0.75 - ETA: 42s - loss: 0.5710 - acc: 0.75 - ETA: 42s - loss: 0.5723 - acc: 0.75 - ETA: 41s - loss: 0.5713 - acc: 0.75 - ETA: 40s - loss: 0.5729 - acc: 0.75 - ETA: 39s - loss: 0.5745 - acc: 0.75 - ETA: 38s - loss: 0.5734 - acc: 0.75 - ETA: 37s - loss: 0.5745 - acc: 0.75 - ETA: 36s - loss: 0.5739 - acc: 0.75 - ETA: 35s - loss: 0.5732 - acc: 0.75 - ETA: 35s - loss: 0.5741 - acc: 0.75 - ETA: 34s - loss: 0.5752 - acc: 0.75 - ETA: 33s - loss: 0.5751 - acc: 0.75 - ETA: 32s - loss: 0.5750 - acc: 0.75 - ETA: 31s - loss: 0.5757 - acc: 0.75 - ETA: 30s - loss: 0.5758 - acc: 0.75 - ETA: 29s - loss: 0.5753 - acc: 0.75 - ETA: 28s - loss: 0.5751 - acc: 0.75 - ETA: 28s - loss: 0.5756 - acc: 0.75 - ETA: 27s - loss: 0.5763 - acc: 0.75 - ETA: 26s - loss: 0.5772 - acc: 0.75 - ETA: 25s - loss: 0.5777 - acc: 0.75 - ETA: 24s - loss: 0.5788 - acc: 0.75 - ETA: 23s - loss: 0.5797 - acc: 0.75 - ETA: 22s - loss: 0.5793 - acc: 0.75 - ETA: 22s - loss: 0.5801 - acc: 0.75 - ETA: 21s - loss: 0.5800 - acc: 0.75 - ETA: 20s - loss: 0.5802 - acc: 0.75 - ETA: 19s - loss: 0.5805 - acc: 0.75 - ETA: 18s - loss: 0.5795 - acc: 0.75 - ETA: 17s - loss: 0.5795 - acc: 0.75 - ETA: 16s - loss: 0.5794 - acc: 0.75 - ETA: 16s - loss: 0.5794 - acc: 0.75 - ETA: 15s - loss: 0.5793 - acc: 0.75 - ETA: 14s - loss: 0.5798 - acc: 0.75 - ETA: 13s - loss: 0.5813 - acc: 0.75 - ETA: 12s - loss: 0.5814 - acc: 0.75 - ETA: 11s - loss: 0.5818 - acc: 0.75 - ETA: 11s - loss: 0.5825 - acc: 0.75 - ETA: 10s - loss: 0.5825 - acc: 0.75 - ETA: 9s - loss: 0.5822 - acc: 0.7511 - ETA: 8s - loss: 0.5814 - acc: 0.751 - ETA: 7s - loss: 0.5810 - acc: 0.752 - ETA: 6s - loss: 0.5815 - acc: 0.752 - ETA: 6s - loss: 0.5826 - acc: 0.751 - ETA: 5s - loss: 0.5828 - acc: 0.751 - ETA: 4s - loss: 0.5828 - acc: 0.752 - ETA: 3s - loss: 0.5833 - acc: 0.751 - ETA: 2s - loss: 0.5834 - acc: 0.752 - ETA: 1s - loss: 0.5832 - acc: 0.752 - ETA: 1s - loss: 0.5829 - acc: 0.752 - ETA: 0s - loss: 0.5827 - acc: 0.752 - 174s 29ms/step - loss: 0.5825 - acc: 0.7527 - val_loss: 1.2357 - val_acc: 0.4910\n",
      "\n",
      "Epoch 00003: val_loss did not improve from 1.00784\n",
      "Epoch 4/5\n",
      "5993/5993 [==============================] - ETA: 2:27 - loss: 0.3017 - acc: 0.906 - ETA: 2:21 - loss: 0.3332 - acc: 0.906 - ETA: 2:17 - loss: 0.3287 - acc: 0.916 - ETA: 2:19 - loss: 0.3678 - acc: 0.882 - ETA: 2:25 - loss: 0.3684 - acc: 0.893 - ETA: 2:24 - loss: 0.3992 - acc: 0.864 - ETA: 2:25 - loss: 0.3887 - acc: 0.875 - ETA: 2:23 - loss: 0.3885 - acc: 0.875 - ETA: 2:21 - loss: 0.3889 - acc: 0.871 - ETA: 2:21 - loss: 0.3822 - acc: 0.871 - ETA: 2:19 - loss: 0.3742 - acc: 0.872 - ETA: 2:18 - loss: 0.3694 - acc: 0.880 - ETA: 2:17 - loss: 0.3708 - acc: 0.875 - ETA: 2:16 - loss: 0.3683 - acc: 0.877 - ETA: 2:15 - loss: 0.3736 - acc: 0.877 - ETA: 2:14 - loss: 0.3851 - acc: 0.869 - ETA: 2:13 - loss: 0.3842 - acc: 0.869 - ETA: 2:13 - loss: 0.3846 - acc: 0.868 - ETA: 2:13 - loss: 0.3781 - acc: 0.870 - ETA: 2:14 - loss: 0.3821 - acc: 0.870 - ETA: 2:14 - loss: 0.3895 - acc: 0.866 - ETA: 2:13 - loss: 0.3831 - acc: 0.866 - ETA: 2:14 - loss: 0.3714 - acc: 0.872 - ETA: 2:13 - loss: 0.3789 - acc: 0.869 - ETA: 2:12 - loss: 0.3750 - acc: 0.871 - ETA: 2:11 - loss: 0.3715 - acc: 0.871 - ETA: 2:10 - loss: 0.3677 - acc: 0.872 - ETA: 2:09 - loss: 0.3755 - acc: 0.868 - ETA: 2:08 - loss: 0.3791 - acc: 0.865 - ETA: 2:07 - loss: 0.3713 - acc: 0.869 - ETA: 2:06 - loss: 0.3734 - acc: 0.865 - ETA: 2:07 - loss: 0.3738 - acc: 0.866 - ETA: 2:06 - loss: 0.3719 - acc: 0.865 - ETA: 2:08 - loss: 0.3707 - acc: 0.867 - ETA: 2:10 - loss: 0.3706 - acc: 0.867 - ETA: 2:11 - loss: 0.3703 - acc: 0.866 - ETA: 2:10 - loss: 0.3690 - acc: 0.866 - ETA: 2:09 - loss: 0.3667 - acc: 0.866 - ETA: 2:10 - loss: 0.3689 - acc: 0.863 - ETA: 2:11 - loss: 0.3685 - acc: 0.861 - ETA: 2:10 - loss: 0.3657 - acc: 0.862 - ETA: 2:10 - loss: 0.3705 - acc: 0.860 - ETA: 2:09 - loss: 0.3713 - acc: 0.860 - ETA: 2:09 - loss: 0.3706 - acc: 0.861 - ETA: 2:07 - loss: 0.3673 - acc: 0.862 - ETA: 2:06 - loss: 0.3666 - acc: 0.862 - ETA: 2:06 - loss: 0.3657 - acc: 0.861 - ETA: 2:05 - loss: 0.3664 - acc: 0.860 - ETA: 2:05 - loss: 0.3657 - acc: 0.862 - ETA: 2:04 - loss: 0.3626 - acc: 0.863 - ETA: 2:03 - loss: 0.3601 - acc: 0.864 - ETA: 2:02 - loss: 0.3652 - acc: 0.863 - ETA: 2:01 - loss: 0.3629 - acc: 0.864 - ETA: 2:00 - loss: 0.3609 - acc: 0.865 - ETA: 1:59 - loss: 0.3620 - acc: 0.863 - ETA: 1:57 - loss: 0.3614 - acc: 0.864 - ETA: 1:56 - loss: 0.3600 - acc: 0.864 - ETA: 1:55 - loss: 0.3595 - acc: 0.864 - ETA: 1:55 - loss: 0.3605 - acc: 0.863 - ETA: 1:53 - loss: 0.3584 - acc: 0.865 - ETA: 1:52 - loss: 0.3601 - acc: 0.864 - ETA: 1:51 - loss: 0.3640 - acc: 0.862 - ETA: 1:50 - loss: 0.3647 - acc: 0.862 - ETA: 1:49 - loss: 0.3658 - acc: 0.861 - ETA: 1:48 - loss: 0.3632 - acc: 0.863 - ETA: 1:47 - loss: 0.3676 - acc: 0.862 - ETA: 1:46 - loss: 0.3652 - acc: 0.863 - ETA: 1:45 - loss: 0.3640 - acc: 0.864 - ETA: 1:44 - loss: 0.3613 - acc: 0.865 - ETA: 1:43 - loss: 0.3605 - acc: 0.865 - ETA: 1:42 - loss: 0.3605 - acc: 0.865 - ETA: 1:41 - loss: 0.3587 - acc: 0.865 - ETA: 1:40 - loss: 0.3577 - acc: 0.866 - ETA: 1:39 - loss: 0.3574 - acc: 0.867 - ETA: 1:38 - loss: 0.3594 - acc: 0.866 - ETA: 1:36 - loss: 0.3581 - acc: 0.867 - ETA: 1:35 - loss: 0.3583 - acc: 0.867 - ETA: 1:34 - loss: 0.3603 - acc: 0.865 - ETA: 1:33 - loss: 0.3606 - acc: 0.864 - ETA: 1:33 - loss: 0.3618 - acc: 0.864 - ETA: 1:32 - loss: 0.3626 - acc: 0.864 - ETA: 1:31 - loss: 0.3627 - acc: 0.863 - ETA: 1:30 - loss: 0.3624 - acc: 0.864 - ETA: 1:29 - loss: 0.3636 - acc: 0.863 - ETA: 1:28 - loss: 0.3621 - acc: 0.864 - ETA: 1:27 - loss: 0.3619 - acc: 0.865 - ETA: 1:26 - loss: 0.3617 - acc: 0.865 - ETA: 1:25 - loss: 0.3599 - acc: 0.866 - ETA: 1:24 - loss: 0.3594 - acc: 0.866 - ETA: 1:23 - loss: 0.3601 - acc: 0.864 - ETA: 1:22 - loss: 0.3599 - acc: 0.864 - ETA: 1:21 - loss: 0.3594 - acc: 0.864 - ETA: 1:20 - loss: 0.3612 - acc: 0.863 - ETA: 1:19 - loss: 0.3633 - acc: 0.862 - ETA: 1:19 - loss: 0.3623 - acc: 0.863 - ETA: 1:18 - loss: 0.3621 - acc: 0.863 - ETA: 1:17 - loss: 0.3603 - acc: 0.863 - ETA: 1:16 - loss: 0.3603 - acc: 0.863 - ETA: 1:15 - loss: 0.3605 - acc: 0.863 - ETA: 1:14 - loss: 0.3600 - acc: 0.862 - ETA: 1:13 - loss: 0.3605 - acc: 0.862 - ETA: 1:12 - loss: 0.3606 - acc: 0.862 - ETA: 1:11 - loss: 0.3602 - acc: 0.862 - ETA: 1:10 - loss: 0.3605 - acc: 0.861 - ETA: 1:09 - loss: 0.3618 - acc: 0.861 - ETA: 1:09 - loss: 0.3611 - acc: 0.861 - ETA: 1:08 - loss: 0.3611 - acc: 0.860 - ETA: 1:07 - loss: 0.3609 - acc: 0.860 - ETA: 1:06 - loss: 0.3618 - acc: 0.860 - ETA: 1:05 - loss: 0.3609 - acc: 0.860 - ETA: 1:05 - loss: 0.3611 - acc: 0.860 - ETA: 1:04 - loss: 0.3606 - acc: 0.860 - ETA: 1:03 - loss: 0.3613 - acc: 0.860 - ETA: 1:02 - loss: 0.3613 - acc: 0.860 - ETA: 1:01 - loss: 0.3617 - acc: 0.860 - ETA: 1:00 - loss: 0.3618 - acc: 0.859 - ETA: 59s - loss: 0.3608 - acc: 0.860 - ETA: 59s - loss: 0.3615 - acc: 0.85 - ETA: 58s - loss: 0.3640 - acc: 0.85 - ETA: 57s - loss: 0.3632 - acc: 0.85 - ETA: 56s - loss: 0.3628 - acc: 0.85 - ETA: 55s - loss: 0.3623 - acc: 0.85 - ETA: 54s - loss: 0.3652 - acc: 0.85 - ETA: 53s - loss: 0.3663 - acc: 0.85 - ETA: 52s - loss: 0.3671 - acc: 0.85 - ETA: 51s - loss: 0.3677 - acc: 0.85 - ETA: 50s - loss: 0.3668 - acc: 0.85 - ETA: 50s - loss: 0.3667 - acc: 0.85 - ETA: 49s - loss: 0.3676 - acc: 0.85 - ETA: 48s - loss: 0.3675 - acc: 0.85 - ETA: 47s - loss: 0.3673 - acc: 0.85 - ETA: 46s - loss: 0.3678 - acc: 0.85 - ETA: 45s - loss: 0.3688 - acc: 0.85 - ETA: 44s - loss: 0.3704 - acc: 0.85 - ETA: 44s - loss: 0.3716 - acc: 0.85 - ETA: 43s - loss: 0.3723 - acc: 0.85 - ETA: 42s - loss: 0.3731 - acc: 0.85 - ETA: 41s - loss: 0.3733 - acc: 0.85 - ETA: 40s - loss: 0.3728 - acc: 0.85 - ETA: 39s - loss: 0.3738 - acc: 0.85 - ETA: 38s - loss: 0.3744 - acc: 0.85 - ETA: 38s - loss: 0.3761 - acc: 0.85 - ETA: 37s - loss: 0.3758 - acc: 0.85 - ETA: 36s - loss: 0.3756 - acc: 0.85 - ETA: 35s - loss: 0.3757 - acc: 0.85 - ETA: 34s - loss: 0.3752 - acc: 0.85 - ETA: 33s - loss: 0.3756 - acc: 0.85 - ETA: 32s - loss: 0.3764 - acc: 0.85 - ETA: 32s - loss: 0.3758 - acc: 0.85 - ETA: 31s - loss: 0.3751 - acc: 0.85 - ETA: 30s - loss: 0.3749 - acc: 0.85 - ETA: 29s - loss: 0.3739 - acc: 0.85 - ETA: 28s - loss: 0.3735 - acc: 0.85 - ETA: 27s - loss: 0.3723 - acc: 0.85 - ETA: 27s - loss: 0.3718 - acc: 0.85 - ETA: 26s - loss: 0.3725 - acc: 0.85 - ETA: 25s - loss: 0.3730 - acc: 0.85 - ETA: 24s - loss: 0.3734 - acc: 0.85 - ETA: 23s - loss: 0.3729 - acc: 0.85 - ETA: 22s - loss: 0.3723 - acc: 0.85 - ETA: 22s - loss: 0.3725 - acc: 0.85 - ETA: 21s - loss: 0.3731 - acc: 0.85 - ETA: 20s - loss: 0.3722 - acc: 0.85 - ETA: 19s - loss: 0.3714 - acc: 0.85 - ETA: 18s - loss: 0.3714 - acc: 0.85 - ETA: 17s - loss: 0.3711 - acc: 0.85 - ETA: 17s - loss: 0.3725 - acc: 0.85 - ETA: 16s - loss: 0.3723 - acc: 0.85 - ETA: 15s - loss: 0.3730 - acc: 0.85 - ETA: 14s - loss: 0.3731 - acc: 0.85 - ETA: 13s - loss: 0.3741 - acc: 0.85 - ETA: 12s - loss: 0.3755 - acc: 0.85 - ETA: 11s - loss: 0.3766 - acc: 0.85 - ETA: 11s - loss: 0.3770 - acc: 0.85 - ETA: 10s - loss: 0.3769 - acc: 0.85 - ETA: 9s - loss: 0.3772 - acc: 0.8528 - ETA: 8s - loss: 0.3778 - acc: 0.852 - ETA: 7s - loss: 0.3790 - acc: 0.851 - ETA: 6s - loss: 0.3787 - acc: 0.851 - ETA: 6s - loss: 0.3786 - acc: 0.851 - ETA: 5s - loss: 0.3785 - acc: 0.852 - ETA: 4s - loss: 0.3787 - acc: 0.851 - ETA: 3s - loss: 0.3792 - acc: 0.851 - ETA: 2s - loss: 0.3810 - acc: 0.850 - ETA: 1s - loss: 0.3818 - acc: 0.850 - ETA: 1s - loss: 0.3823 - acc: 0.849 - ETA: 0s - loss: 0.3823 - acc: 0.849 - 176s 29ms/step - loss: 0.3821 - acc: 0.8493 - val_loss: 1.5040 - val_acc: 0.4842\n",
      "\n",
      "Epoch 00004: val_loss did not improve from 1.00784\n",
      "Epoch 5/5\n",
      "5993/5993 [==============================] - ETA: 2:17 - loss: 0.2071 - acc: 0.937 - ETA: 2:16 - loss: 0.2365 - acc: 0.937 - ETA: 2:15 - loss: 0.2448 - acc: 0.916 - ETA: 2:15 - loss: 0.2149 - acc: 0.929 - ETA: 2:14 - loss: 0.2059 - acc: 0.937 - ETA: 2:13 - loss: 0.2266 - acc: 0.937 - ETA: 2:13 - loss: 0.2279 - acc: 0.942 - ETA: 2:12 - loss: 0.2303 - acc: 0.937 - ETA: 2:13 - loss: 0.2238 - acc: 0.941 - ETA: 2:13 - loss: 0.2301 - acc: 0.931 - ETA: 2:13 - loss: 0.2309 - acc: 0.931 - ETA: 2:12 - loss: 0.2321 - acc: 0.932 - ETA: 2:12 - loss: 0.2274 - acc: 0.932 - ETA: 2:12 - loss: 0.2286 - acc: 0.935 - ETA: 2:11 - loss: 0.2343 - acc: 0.931 - ETA: 2:11 - loss: 0.2394 - acc: 0.927 - ETA: 2:10 - loss: 0.2371 - acc: 0.926 - ETA: 2:09 - loss: 0.2390 - acc: 0.923 - ETA: 2:09 - loss: 0.2322 - acc: 0.927 - ETA: 2:08 - loss: 0.2295 - acc: 0.925 - ETA: 2:07 - loss: 0.2216 - acc: 0.928 - ETA: 2:06 - loss: 0.2321 - acc: 0.920 - ETA: 2:05 - loss: 0.2354 - acc: 0.918 - ETA: 2:04 - loss: 0.2325 - acc: 0.918 - ETA: 2:04 - loss: 0.2313 - acc: 0.917 - ETA: 2:03 - loss: 0.2358 - acc: 0.914 - ETA: 2:02 - loss: 0.2309 - acc: 0.916 - ETA: 2:01 - loss: 0.2345 - acc: 0.915 - ETA: 2:01 - loss: 0.2310 - acc: 0.917 - ETA: 2:00 - loss: 0.2255 - acc: 0.918 - ETA: 2:00 - loss: 0.2263 - acc: 0.919 - ETA: 2:00 - loss: 0.2308 - acc: 0.918 - ETA: 1:59 - loss: 0.2268 - acc: 0.921 - ETA: 1:59 - loss: 0.2302 - acc: 0.920 - ETA: 1:59 - loss: 0.2285 - acc: 0.920 - ETA: 1:58 - loss: 0.2300 - acc: 0.920 - ETA: 1:57 - loss: 0.2308 - acc: 0.917 - ETA: 1:57 - loss: 0.2312 - acc: 0.916 - ETA: 1:56 - loss: 0.2318 - acc: 0.915 - ETA: 1:55 - loss: 0.2299 - acc: 0.916 - ETA: 1:54 - loss: 0.2320 - acc: 0.915 - ETA: 1:54 - loss: 0.2327 - acc: 0.915 - ETA: 1:53 - loss: 0.2316 - acc: 0.915 - ETA: 1:52 - loss: 0.2317 - acc: 0.915 - ETA: 1:51 - loss: 0.2317 - acc: 0.915 - ETA: 1:50 - loss: 0.2308 - acc: 0.914 - ETA: 1:50 - loss: 0.2337 - acc: 0.913 - ETA: 1:49 - loss: 0.2319 - acc: 0.914 - ETA: 1:48 - loss: 0.2314 - acc: 0.913 - ETA: 1:47 - loss: 0.2359 - acc: 0.911 - ETA: 1:46 - loss: 0.2359 - acc: 0.909 - ETA: 1:45 - loss: 0.2352 - acc: 0.910 - ETA: 1:45 - loss: 0.2369 - acc: 0.908 - ETA: 1:44 - loss: 0.2417 - acc: 0.906 - ETA: 1:43 - loss: 0.2424 - acc: 0.905 - ETA: 1:42 - loss: 0.2451 - acc: 0.903 - ETA: 1:41 - loss: 0.2467 - acc: 0.902 - ETA: 1:41 - loss: 0.2455 - acc: 0.903 - ETA: 1:40 - loss: 0.2466 - acc: 0.903 - ETA: 1:39 - loss: 0.2464 - acc: 0.903 - ETA: 1:38 - loss: 0.2441 - acc: 0.904 - ETA: 1:38 - loss: 0.2440 - acc: 0.903 - ETA: 1:37 - loss: 0.2468 - acc: 0.902 - ETA: 1:36 - loss: 0.2500 - acc: 0.899 - ETA: 1:36 - loss: 0.2488 - acc: 0.901 - ETA: 1:35 - loss: 0.2505 - acc: 0.900 - ETA: 1:34 - loss: 0.2490 - acc: 0.901 - ETA: 1:33 - loss: 0.2510 - acc: 0.900 - ETA: 1:32 - loss: 0.2534 - acc: 0.899 - ETA: 1:32 - loss: 0.2536 - acc: 0.898 - ETA: 1:31 - loss: 0.2512 - acc: 0.899 - ETA: 1:30 - loss: 0.2518 - acc: 0.900 - ETA: 1:29 - loss: 0.2534 - acc: 0.899 - ETA: 1:28 - loss: 0.2519 - acc: 0.899 - ETA: 1:28 - loss: 0.2515 - acc: 0.899 - ETA: 1:27 - loss: 0.2535 - acc: 0.898 - ETA: 1:26 - loss: 0.2579 - acc: 0.896 - ETA: 1:25 - loss: 0.2579 - acc: 0.896 - ETA: 1:25 - loss: 0.2574 - acc: 0.896 - ETA: 1:24 - loss: 0.2573 - acc: 0.896 - ETA: 1:23 - loss: 0.2581 - acc: 0.896 - ETA: 1:22 - loss: 0.2603 - acc: 0.895 - ETA: 1:21 - loss: 0.2604 - acc: 0.895 - ETA: 1:21 - loss: 0.2599 - acc: 0.895 - ETA: 1:20 - loss: 0.2592 - acc: 0.896 - ETA: 1:19 - loss: 0.2586 - acc: 0.895 - ETA: 1:18 - loss: 0.2602 - acc: 0.894 - ETA: 1:17 - loss: 0.2608 - acc: 0.894 - ETA: 1:17 - loss: 0.2590 - acc: 0.895 - ETA: 1:16 - loss: 0.2587 - acc: 0.895 - ETA: 1:15 - loss: 0.2581 - acc: 0.896 - ETA: 1:14 - loss: 0.2561 - acc: 0.897 - ETA: 1:13 - loss: 0.2569 - acc: 0.897 - ETA: 1:13 - loss: 0.2553 - acc: 0.897 - ETA: 1:12 - loss: 0.2570 - acc: 0.897 - ETA: 1:11 - loss: 0.2589 - acc: 0.896 - ETA: 1:10 - loss: 0.2591 - acc: 0.896 - ETA: 1:09 - loss: 0.2574 - acc: 0.898 - ETA: 1:09 - loss: 0.2570 - acc: 0.898 - ETA: 1:08 - loss: 0.2566 - acc: 0.898 - ETA: 1:07 - loss: 0.2570 - acc: 0.897 - ETA: 1:06 - loss: 0.2602 - acc: 0.896 - ETA: 1:05 - loss: 0.2603 - acc: 0.896 - ETA: 1:05 - loss: 0.2620 - acc: 0.895 - ETA: 1:04 - loss: 0.2626 - acc: 0.895 - ETA: 1:03 - loss: 0.2639 - acc: 0.894 - ETA: 1:02 - loss: 0.2633 - acc: 0.894 - ETA: 1:02 - loss: 0.2642 - acc: 0.894 - ETA: 1:01 - loss: 0.2652 - acc: 0.893 - ETA: 1:00 - loss: 0.2639 - acc: 0.894 - ETA: 59s - loss: 0.2641 - acc: 0.895 - ETA: 58s - loss: 0.2628 - acc: 0.89 - ETA: 58s - loss: 0.2627 - acc: 0.89 - ETA: 57s - loss: 0.2627 - acc: 0.89 - ETA: 56s - loss: 0.2643 - acc: 0.89 - ETA: 55s - loss: 0.2658 - acc: 0.89 - ETA: 55s - loss: 0.2662 - acc: 0.89 - ETA: 54s - loss: 0.2665 - acc: 0.89 - ETA: 53s - loss: 0.2663 - acc: 0.89 - ETA: 52s - loss: 0.2665 - acc: 0.89 - ETA: 51s - loss: 0.2684 - acc: 0.89 - ETA: 51s - loss: 0.2685 - acc: 0.89 - ETA: 50s - loss: 0.2714 - acc: 0.89 - ETA: 49s - loss: 0.2718 - acc: 0.89 - ETA: 48s - loss: 0.2707 - acc: 0.89 - ETA: 48s - loss: 0.2727 - acc: 0.89 - ETA: 47s - loss: 0.2728 - acc: 0.89 - ETA: 46s - loss: 0.2733 - acc: 0.89 - ETA: 45s - loss: 0.2744 - acc: 0.89 - ETA: 44s - loss: 0.2741 - acc: 0.89 - ETA: 44s - loss: 0.2751 - acc: 0.88 - ETA: 43s - loss: 0.2744 - acc: 0.88 - ETA: 42s - loss: 0.2743 - acc: 0.88 - ETA: 41s - loss: 0.2758 - acc: 0.88 - ETA: 41s - loss: 0.2767 - acc: 0.88 - ETA: 40s - loss: 0.2764 - acc: 0.88 - ETA: 39s - loss: 0.2768 - acc: 0.88 - ETA: 38s - loss: 0.2779 - acc: 0.88 - ETA: 37s - loss: 0.2775 - acc: 0.88 - ETA: 37s - loss: 0.2778 - acc: 0.88 - ETA: 36s - loss: 0.2780 - acc: 0.88 - ETA: 35s - loss: 0.2798 - acc: 0.88 - ETA: 34s - loss: 0.2790 - acc: 0.88 - ETA: 33s - loss: 0.2795 - acc: 0.88 - ETA: 33s - loss: 0.2794 - acc: 0.88 - ETA: 32s - loss: 0.2804 - acc: 0.88 - ETA: 31s - loss: 0.2795 - acc: 0.88 - ETA: 30s - loss: 0.2792 - acc: 0.88 - ETA: 30s - loss: 0.2794 - acc: 0.88 - ETA: 29s - loss: 0.2796 - acc: 0.88 - ETA: 28s - loss: 0.2801 - acc: 0.88 - ETA: 27s - loss: 0.2795 - acc: 0.88 - ETA: 26s - loss: 0.2796 - acc: 0.88 - ETA: 26s - loss: 0.2797 - acc: 0.88 - ETA: 25s - loss: 0.2802 - acc: 0.88 - ETA: 24s - loss: 0.2813 - acc: 0.88 - ETA: 23s - loss: 0.2821 - acc: 0.88 - ETA: 23s - loss: 0.2821 - acc: 0.88 - ETA: 22s - loss: 0.2830 - acc: 0.88 - ETA: 21s - loss: 0.2820 - acc: 0.88 - ETA: 20s - loss: 0.2817 - acc: 0.88 - ETA: 19s - loss: 0.2808 - acc: 0.88 - ETA: 19s - loss: 0.2807 - acc: 0.88 - ETA: 18s - loss: 0.2802 - acc: 0.88 - ETA: 17s - loss: 0.2801 - acc: 0.88 - ETA: 16s - loss: 0.2799 - acc: 0.88 - ETA: 16s - loss: 0.2800 - acc: 0.88 - ETA: 15s - loss: 0.2797 - acc: 0.88 - ETA: 14s - loss: 0.2788 - acc: 0.88 - ETA: 13s - loss: 0.2788 - acc: 0.88 - ETA: 12s - loss: 0.2792 - acc: 0.88 - ETA: 12s - loss: 0.2783 - acc: 0.88 - ETA: 11s - loss: 0.2782 - acc: 0.88 - ETA: 10s - loss: 0.2781 - acc: 0.88 - ETA: 9s - loss: 0.2787 - acc: 0.8859 - ETA: 8s - loss: 0.2789 - acc: 0.886 - ETA: 8s - loss: 0.2788 - acc: 0.886 - ETA: 7s - loss: 0.2788 - acc: 0.886 - ETA: 6s - loss: 0.2785 - acc: 0.886 - ETA: 5s - loss: 0.2783 - acc: 0.886 - ETA: 4s - loss: 0.2777 - acc: 0.886 - ETA: 4s - loss: 0.2777 - acc: 0.886 - ETA: 3s - loss: 0.2777 - acc: 0.886 - ETA: 2s - loss: 0.2779 - acc: 0.886 - ETA: 1s - loss: 0.2785 - acc: 0.886 - ETA: 1s - loss: 0.2780 - acc: 0.886 - ETA: 0s - loss: 0.2771 - acc: 0.886 - 168s 28ms/step - loss: 0.2772 - acc: 0.8867 - val_loss: 1.9140 - val_acc: 0.4837\n",
      "\n",
      "Epoch 00005: val_loss did not improve from 1.00784\n"
     ]
    },
    {
     "data": {
      "text/plain": [
       "<keras.callbacks.History at 0x235f8312518>"
      ]
     },
     "execution_count": 25,
     "metadata": {},
     "output_type": "execute_result"
    }
   ],
   "source": [
    "cnn_checkpts = ModelCheckpoint(filepath=os.path.join(os.getcwd() + '/saved_models/text/sentiment/cnn.weights.best.hdf5'), \n",
    "                               verbose=1, save_best_only=True)\n",
    "sen_cnn = build_CNN(num_polarities)\n",
    "sen_cnn.fit(x_train_reshaped, z_train, validation_split=0.4, epochs=5, callbacks=[cnn_checkpts], verbose=1)"
   ]
  },
  {
   "cell_type": "markdown",
   "metadata": {},
   "source": [
    "accuracy: 48%"
   ]
  },
  {
   "cell_type": "code",
   "execution_count": null,
   "metadata": {},
   "outputs": [],
   "source": []
  },
  {
   "cell_type": "code",
   "execution_count": null,
   "metadata": {},
   "outputs": [],
   "source": []
  },
  {
   "cell_type": "code",
   "execution_count": null,
   "metadata": {},
   "outputs": [],
   "source": []
  }
 ],
 "metadata": {
  "kernelspec": {
   "display_name": "Python 3",
   "language": "python",
   "name": "python3"
  },
  "language_info": {
   "codemirror_mode": {
    "name": "ipython",
    "version": 3
   },
   "file_extension": ".py",
   "mimetype": "text/x-python",
   "name": "python",
   "nbconvert_exporter": "python",
   "pygments_lexer": "ipython3",
   "version": "3.6.3"
  },
  "toc": {
   "base_numbering": 1,
   "nav_menu": {},
   "number_sections": true,
   "sideBar": true,
   "skip_h1_title": false,
   "title_cell": "Table of Contents",
   "title_sidebar": "Contents",
   "toc_cell": false,
   "toc_position": {
    "height": "calc(100% - 180px)",
    "left": "10px",
    "top": "150px",
    "width": "219px"
   },
   "toc_section_display": true,
   "toc_window_display": true
  }
 },
 "nbformat": 4,
 "nbformat_minor": 2
}
